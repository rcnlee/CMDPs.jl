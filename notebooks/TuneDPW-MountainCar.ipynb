{
 "cells": [
  {
   "cell_type": "code",
   "execution_count": 1,
   "metadata": {},
   "outputs": [
    {
     "data": {
      "text/plain": [
       "Plots.GRBackend()"
      ]
     },
     "execution_count": 1,
     "metadata": {},
     "output_type": "execute_result"
    }
   ],
   "source": [
    "#using Revise\n",
    "addprocs(10)\n",
    "using CMDPs\n",
    "using POMDPs, POMDPToolbox, POMDPModels, MCTS\n",
    "using DataFrames\n",
    "using Plots; gr()"
   ]
  },
  {
   "cell_type": "code",
   "execution_count": 2,
   "metadata": {},
   "outputs": [],
   "source": [
    "## Study"
   ]
  },
  {
   "cell_type": "code",
   "execution_count": 3,
   "metadata": {},
   "outputs": [
    {
     "data": {
      "text/plain": [
       "CMDPs.TuneDPW\n",
       "  mdp: POMDPModels.MountainCar\n",
       "  n_seeds: Int64 10\n",
       "  n_iters: Array{Int64}((1,)) [1000]\n",
       "  max_steps: Int64 20\n",
       "  k_actions: Array{Float64}((6,)) [0.1, 0.5, 1.0, 2.0, 5.0, 10.0]\n",
       "  alpha_actions: Array{Float64}((5,)) [0.1, 0.25, 0.5, 0.75, 0.9]\n",
       "  ecs: Array{Float64}((4,)) [0.25, 0.5, 0.75, 1.0]\n",
       "  k_states: Array{Float64}((6,)) [0.1, 0.5, 1.0, 2.0, 5.0, 10.0]\n",
       "  alpha_states: Array{Float64}((5,)) [0.1, 0.25, 0.5, 0.75, 0.9]\n"
      ]
     },
     "execution_count": 3,
     "metadata": {},
     "output_type": "execute_result"
    }
   ],
   "source": [
    "study = TuneDPW(MountainCar)"
   ]
  },
  {
   "cell_type": "code",
   "execution_count": 4,
   "metadata": {},
   "outputs": [
    {
     "data": {
      "text/plain": [
       "CMDPs.TuneDPWResult(\"Mountain Car\", 36000×10 DataFrames.DataFrame. Omitted printing of 4 columns\n",
       "│ Row   │ alg       │ seed │ n_iters │ max_steps │ k_action │ alpha_action │\n",
       "├───────┼───────────┼──────┼─────────┼───────────┼──────────┼──────────────┤\n",
       "│ 1     │ DPWBandit │ 1    │ 1000    │ 20        │ 0.1      │ 0.1          │\n",
       "│ 2     │ DPWBandit │ 1    │ 1000    │ 20        │ 0.1      │ 0.1          │\n",
       "│ 3     │ DPWBandit │ 1    │ 1000    │ 20        │ 0.1      │ 0.1          │\n",
       "│ 4     │ DPWBandit │ 1    │ 1000    │ 20        │ 0.1      │ 0.1          │\n",
       "│ 5     │ DPWBandit │ 1    │ 1000    │ 20        │ 0.1      │ 0.1          │\n",
       "│ 6     │ DPWBandit │ 1    │ 1000    │ 20        │ 0.1      │ 0.1          │\n",
       "│ 7     │ DPWBandit │ 1    │ 1000    │ 20        │ 0.1      │ 0.1          │\n",
       "│ 8     │ DPWBandit │ 1    │ 1000    │ 20        │ 0.1      │ 0.1          │\n",
       "│ 9     │ DPWBandit │ 1    │ 1000    │ 20        │ 0.1      │ 0.1          │\n",
       "│ 10    │ DPWBandit │ 1    │ 1000    │ 20        │ 0.1      │ 0.1          │\n",
       "│ 11    │ DPWBandit │ 1    │ 1000    │ 20        │ 0.1      │ 0.1          │\n",
       "⋮\n",
       "│ 35989 │ DPWBandit │ 10   │ 1000    │ 20        │ 10.0     │ 0.9          │\n",
       "│ 35990 │ DPWBandit │ 10   │ 1000    │ 20        │ 10.0     │ 0.9          │\n",
       "│ 35991 │ DPWBandit │ 10   │ 1000    │ 20        │ 10.0     │ 0.9          │\n",
       "│ 35992 │ DPWBandit │ 10   │ 1000    │ 20        │ 10.0     │ 0.9          │\n",
       "│ 35993 │ DPWBandit │ 10   │ 1000    │ 20        │ 10.0     │ 0.9          │\n",
       "│ 35994 │ DPWBandit │ 10   │ 1000    │ 20        │ 10.0     │ 0.9          │\n",
       "│ 35995 │ DPWBandit │ 10   │ 1000    │ 20        │ 10.0     │ 0.9          │\n",
       "│ 35996 │ DPWBandit │ 10   │ 1000    │ 20        │ 10.0     │ 0.9          │\n",
       "│ 35997 │ DPWBandit │ 10   │ 1000    │ 20        │ 10.0     │ 0.9          │\n",
       "│ 35998 │ DPWBandit │ 10   │ 1000    │ 20        │ 10.0     │ 0.9          │\n",
       "│ 35999 │ DPWBandit │ 10   │ 1000    │ 20        │ 10.0     │ 0.9          │\n",
       "│ 36000 │ DPWBandit │ 10   │ 1000    │ 20        │ 10.0     │ 0.9          │)"
      ]
     },
     "execution_count": 4,
     "metadata": {},
     "output_type": "execute_result"
    }
   ],
   "source": [
    "result = run_study(study)"
   ]
  },
  {
   "cell_type": "code",
   "execution_count": 5,
   "metadata": {},
   "outputs": [
    {
     "data": {
      "text/html": [
       "<table class=\"data-frame\"><thead><tr><th></th><th>alg</th><th>k_action</th><th>alpha_action</th><th>ec</th><th>k_state</th><th>alpha_state</th><th>r_total_mean</th><th>r_total_std</th></tr></thead><tbody><tr><th>1</th><td>DPWBandit</td><td>0.1</td><td>0.1</td><td>0.25</td><td>0.1</td><td>0.1</td><td>-20.0</td><td>0.0</td></tr><tr><th>2</th><td>DPWBandit</td><td>0.1</td><td>0.1</td><td>0.25</td><td>0.1</td><td>0.25</td><td>-20.0</td><td>0.0</td></tr><tr><th>3</th><td>DPWBandit</td><td>0.1</td><td>0.1</td><td>0.25</td><td>0.1</td><td>0.5</td><td>-20.0</td><td>0.0</td></tr><tr><th>4</th><td>DPWBandit</td><td>0.1</td><td>0.1</td><td>0.25</td><td>0.1</td><td>0.75</td><td>-20.0</td><td>0.0</td></tr><tr><th>5</th><td>DPWBandit</td><td>0.1</td><td>0.1</td><td>0.25</td><td>0.1</td><td>0.9</td><td>-20.0</td><td>0.0</td></tr><tr><th>6</th><td>DPWBandit</td><td>0.1</td><td>0.1</td><td>0.25</td><td>0.5</td><td>0.1</td><td>-20.0</td><td>0.0</td></tr><tr><th>7</th><td>DPWBandit</td><td>0.1</td><td>0.1</td><td>0.25</td><td>0.5</td><td>0.25</td><td>-20.0</td><td>0.0</td></tr><tr><th>8</th><td>DPWBandit</td><td>0.1</td><td>0.1</td><td>0.25</td><td>0.5</td><td>0.5</td><td>-20.0</td><td>0.0</td></tr><tr><th>9</th><td>DPWBandit</td><td>0.1</td><td>0.1</td><td>0.25</td><td>0.5</td><td>0.75</td><td>-20.0</td><td>0.0</td></tr><tr><th>10</th><td>DPWBandit</td><td>0.1</td><td>0.1</td><td>0.25</td><td>0.5</td><td>0.9</td><td>-20.0</td><td>0.0</td></tr><tr><th>11</th><td>DPWBandit</td><td>0.1</td><td>0.1</td><td>0.25</td><td>1.0</td><td>0.1</td><td>-20.0</td><td>0.0</td></tr><tr><th>12</th><td>DPWBandit</td><td>0.1</td><td>0.1</td><td>0.25</td><td>1.0</td><td>0.25</td><td>-20.0</td><td>0.0</td></tr><tr><th>13</th><td>DPWBandit</td><td>0.1</td><td>0.1</td><td>0.25</td><td>1.0</td><td>0.5</td><td>-20.0</td><td>0.0</td></tr><tr><th>14</th><td>DPWBandit</td><td>0.1</td><td>0.1</td><td>0.25</td><td>1.0</td><td>0.75</td><td>-20.0</td><td>0.0</td></tr><tr><th>15</th><td>DPWBandit</td><td>0.1</td><td>0.1</td><td>0.25</td><td>1.0</td><td>0.9</td><td>-20.0</td><td>0.0</td></tr><tr><th>16</th><td>DPWBandit</td><td>0.1</td><td>0.1</td><td>0.25</td><td>2.0</td><td>0.1</td><td>-20.0</td><td>0.0</td></tr><tr><th>17</th><td>DPWBandit</td><td>0.1</td><td>0.1</td><td>0.25</td><td>2.0</td><td>0.25</td><td>-20.0</td><td>0.0</td></tr><tr><th>18</th><td>DPWBandit</td><td>0.1</td><td>0.1</td><td>0.25</td><td>2.0</td><td>0.5</td><td>-20.0</td><td>0.0</td></tr><tr><th>19</th><td>DPWBandit</td><td>0.1</td><td>0.1</td><td>0.25</td><td>2.0</td><td>0.75</td><td>-20.0</td><td>0.0</td></tr><tr><th>20</th><td>DPWBandit</td><td>0.1</td><td>0.1</td><td>0.25</td><td>2.0</td><td>0.9</td><td>-20.0</td><td>0.0</td></tr><tr><th>21</th><td>DPWBandit</td><td>0.1</td><td>0.1</td><td>0.25</td><td>5.0</td><td>0.1</td><td>-20.0</td><td>0.0</td></tr><tr><th>22</th><td>DPWBandit</td><td>0.1</td><td>0.1</td><td>0.25</td><td>5.0</td><td>0.25</td><td>-20.0</td><td>0.0</td></tr><tr><th>23</th><td>DPWBandit</td><td>0.1</td><td>0.1</td><td>0.25</td><td>5.0</td><td>0.5</td><td>-20.0</td><td>0.0</td></tr><tr><th>24</th><td>DPWBandit</td><td>0.1</td><td>0.1</td><td>0.25</td><td>5.0</td><td>0.75</td><td>-20.0</td><td>0.0</td></tr><tr><th>25</th><td>DPWBandit</td><td>0.1</td><td>0.1</td><td>0.25</td><td>5.0</td><td>0.9</td><td>-20.0</td><td>0.0</td></tr><tr><th>26</th><td>DPWBandit</td><td>0.1</td><td>0.1</td><td>0.25</td><td>10.0</td><td>0.1</td><td>-20.0</td><td>0.0</td></tr><tr><th>27</th><td>DPWBandit</td><td>0.1</td><td>0.1</td><td>0.25</td><td>10.0</td><td>0.25</td><td>-20.0</td><td>0.0</td></tr><tr><th>28</th><td>DPWBandit</td><td>0.1</td><td>0.1</td><td>0.25</td><td>10.0</td><td>0.5</td><td>-20.0</td><td>0.0</td></tr><tr><th>29</th><td>DPWBandit</td><td>0.1</td><td>0.1</td><td>0.25</td><td>10.0</td><td>0.75</td><td>-20.0</td><td>0.0</td></tr><tr><th>30</th><td>DPWBandit</td><td>0.1</td><td>0.1</td><td>0.25</td><td>10.0</td><td>0.9</td><td>-20.0</td><td>0.0</td></tr><tr><th>&vellip;</th><td>&vellip;</td><td>&vellip;</td><td>&vellip;</td><td>&vellip;</td><td>&vellip;</td><td>&vellip;</td><td>&vellip;</td><td>&vellip;</td></tr></tbody></table>"
      ],
      "text/plain": [
       "3600×8 DataFrames.DataFrame. Omitted printing of 2 columns\n",
       "│ Row  │ alg       │ k_action │ alpha_action │ ec   │ k_state │ alpha_state │\n",
       "├──────┼───────────┼──────────┼──────────────┼──────┼─────────┼─────────────┤\n",
       "│ 1    │ DPWBandit │ 0.1      │ 0.1          │ 0.25 │ 0.1     │ 0.1         │\n",
       "│ 2    │ DPWBandit │ 0.1      │ 0.1          │ 0.25 │ 0.1     │ 0.25        │\n",
       "│ 3    │ DPWBandit │ 0.1      │ 0.1          │ 0.25 │ 0.1     │ 0.5         │\n",
       "│ 4    │ DPWBandit │ 0.1      │ 0.1          │ 0.25 │ 0.1     │ 0.75        │\n",
       "│ 5    │ DPWBandit │ 0.1      │ 0.1          │ 0.25 │ 0.1     │ 0.9         │\n",
       "│ 6    │ DPWBandit │ 0.1      │ 0.1          │ 0.25 │ 0.5     │ 0.1         │\n",
       "│ 7    │ DPWBandit │ 0.1      │ 0.1          │ 0.25 │ 0.5     │ 0.25        │\n",
       "│ 8    │ DPWBandit │ 0.1      │ 0.1          │ 0.25 │ 0.5     │ 0.5         │\n",
       "│ 9    │ DPWBandit │ 0.1      │ 0.1          │ 0.25 │ 0.5     │ 0.75        │\n",
       "│ 10   │ DPWBandit │ 0.1      │ 0.1          │ 0.25 │ 0.5     │ 0.9         │\n",
       "│ 11   │ DPWBandit │ 0.1      │ 0.1          │ 0.25 │ 1.0     │ 0.1         │\n",
       "⋮\n",
       "│ 3589 │ DPWBandit │ 10.0     │ 0.9          │ 1.0  │ 2.0     │ 0.75        │\n",
       "│ 3590 │ DPWBandit │ 10.0     │ 0.9          │ 1.0  │ 2.0     │ 0.9         │\n",
       "│ 3591 │ DPWBandit │ 10.0     │ 0.9          │ 1.0  │ 5.0     │ 0.1         │\n",
       "│ 3592 │ DPWBandit │ 10.0     │ 0.9          │ 1.0  │ 5.0     │ 0.25        │\n",
       "│ 3593 │ DPWBandit │ 10.0     │ 0.9          │ 1.0  │ 5.0     │ 0.5         │\n",
       "│ 3594 │ DPWBandit │ 10.0     │ 0.9          │ 1.0  │ 5.0     │ 0.75        │\n",
       "│ 3595 │ DPWBandit │ 10.0     │ 0.9          │ 1.0  │ 5.0     │ 0.9         │\n",
       "│ 3596 │ DPWBandit │ 10.0     │ 0.9          │ 1.0  │ 10.0    │ 0.1         │\n",
       "│ 3597 │ DPWBandit │ 10.0     │ 0.9          │ 1.0  │ 10.0    │ 0.25        │\n",
       "│ 3598 │ DPWBandit │ 10.0     │ 0.9          │ 1.0  │ 10.0    │ 0.5         │\n",
       "│ 3599 │ DPWBandit │ 10.0     │ 0.9          │ 1.0  │ 10.0    │ 0.75        │\n",
       "│ 3600 │ DPWBandit │ 10.0     │ 0.9          │ 1.0  │ 10.0    │ 0.9         │"
      ]
     },
     "execution_count": 5,
     "metadata": {},
     "output_type": "execute_result"
    }
   ],
   "source": [
    "report(result)"
   ]
  },
  {
   "cell_type": "code",
   "execution_count": 6,
   "metadata": {},
   "outputs": [],
   "source": [
    "using BSON\n",
    "bson(\"tunedpw-mountaincar.bson\", study=study,result=result)"
   ]
  },
  {
   "cell_type": "code",
   "execution_count": null,
   "metadata": {},
   "outputs": [],
   "source": []
  }
 ],
 "metadata": {
  "kernelspec": {
   "display_name": "Julia 0.6.2",
   "language": "julia",
   "name": "julia-0.6"
  },
  "language_info": {
   "file_extension": ".jl",
   "mimetype": "application/julia",
   "name": "julia",
   "version": "0.6.2"
  }
 },
 "nbformat": 4,
 "nbformat_minor": 2
}
