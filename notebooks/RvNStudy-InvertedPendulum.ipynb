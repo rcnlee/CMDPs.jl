{
 "cells": [
  {
   "cell_type": "code",
   "execution_count": 1,
   "metadata": {},
   "outputs": [
    {
     "data": {
      "text/plain": [
       "Plots.GRBackend()"
      ]
     },
     "execution_count": 1,
     "metadata": {},
     "output_type": "execute_result"
    }
   ],
   "source": [
    "#using Revise\n",
    "addprocs(4)\n",
    "using CMDPs\n",
    "using POMDPs, POMDPToolbox, POMDPModels, MCTS\n",
    "using DataFrames\n",
    "using Plots; gr()"
   ]
  },
  {
   "cell_type": "code",
   "execution_count": 2,
   "metadata": {},
   "outputs": [],
   "source": [
    "mdp = InvertedPendulum()\n",
    "b = DPWBandit(mdp)\n",
    "solver = ModularSolver(mdp, b, n_iterations=5)\n",
    "policy = solve(solver, mdp);"
   ]
  },
  {
   "cell_type": "raw",
   "metadata": {},
   "source": [
    "#s0 = initial_state(mdp, Base.GLOBAL_RNG)\n",
    "#a, info = action_info(policy, s0)\n",
    "#best_path = info[:best_path]\n",
    "#policy = BPTrackerPolicy(best_path)"
   ]
  },
  {
   "cell_type": "code",
   "execution_count": 3,
   "metadata": {},
   "outputs": [
    {
     "data": {
      "text/plain": [
       "(-0.00609348415883817, 0.023240135119208485)"
      ]
     },
     "execution_count": 3,
     "metadata": {},
     "output_type": "execute_result"
    }
   ],
   "source": [
    "s0 = initial_state(mdp, Base.GLOBAL_RNG)"
   ]
  },
  {
   "cell_type": "code",
   "execution_count": 4,
   "metadata": {},
   "outputs": [],
   "source": [
    "hr = HistoryRecorder(; max_steps=40, rng=Base.GLOBAL_RNG)\n",
    "h = simulate(hr, mdp, policy, s0);"
   ]
  },
  {
   "cell_type": "code",
   "execution_count": 5,
   "metadata": {},
   "outputs": [
    {
     "data": {
      "text/plain": [
       "11-element Array{Tuple{Float64,Float64},1}:\n",
       " (-0.00609348, 0.0232401)\n",
       " (-0.0392541, -0.686452) \n",
       " (-0.114001, -0.80849)   \n",
       " (-0.207332, -1.05814)   \n",
       " (-0.29072, -0.609605)   \n",
       " (-0.405277, -1.68154)   \n",
       " (-0.563379, -1.4805)    \n",
       " (-0.74658, -2.18351)    \n",
       " (-0.990407, -2.69303)   \n",
       " (-1.3403, -4.30487)     \n",
       " (-1.84711, -5.83122)    "
      ]
     },
     "execution_count": 5,
     "metadata": {},
     "output_type": "execute_result"
    }
   ],
   "source": [
    "h.state_hist"
   ]
  },
  {
   "cell_type": "code",
   "execution_count": 6,
   "metadata": {},
   "outputs": [
    {
     "data": {
      "text/plain": [
       "10-element Array{Float64,1}:\n",
       "  0.1\n",
       "  0.1\n",
       "  0.1\n",
       "  0.1\n",
       "  0.1\n",
       "  0.1\n",
       "  0.1\n",
       "  0.1\n",
       "  0.1\n",
       " -1.0"
      ]
     },
     "execution_count": 6,
     "metadata": {},
     "output_type": "execute_result"
    }
   ],
   "source": [
    "h.reward_hist"
   ]
  },
  {
   "cell_type": "raw",
   "metadata": {},
   "source": [
    "plot(mdp, h)"
   ]
  },
  {
   "cell_type": "raw",
   "metadata": {},
   "source": [
    "anim = @animate for i in 1:n_steps(h)\n",
    "    plot(mdp, view(h, 1:i))\n",
    "end\n",
    "gif(anim, \"./invertedpendulum.gif\"; fps=5)"
   ]
  },
  {
   "cell_type": "code",
   "execution_count": 7,
   "metadata": {},
   "outputs": [],
   "source": [
    "## Study"
   ]
  },
  {
   "cell_type": "code",
   "execution_count": 14,
   "metadata": {},
   "outputs": [
    {
     "data": {
      "text/plain": [
       "CMDPs.RewardvsN\n",
       "  mdp: POMDPModels.InvertedPendulum\n",
       "  bandits: Array{DataType}((1,))\n",
       "  n_seeds: Int64 50\n",
       "  n_iters: Array{Int64}((6,)) [5, 10, 20, 30, 40, 50]\n",
       "  max_steps: Int64 50\n"
      ]
     },
     "execution_count": 14,
     "metadata": {},
     "output_type": "execute_result"
    }
   ],
   "source": [
    "study = RewardvsN(; mdp=InvertedPendulum(), n_seeds=50, n_iters=[5, 10, 20, 30, 40, 50], max_steps=50)"
   ]
  },
  {
   "cell_type": "code",
   "execution_count": 15,
   "metadata": {},
   "outputs": [
    {
     "data": {
      "text/plain": [
       "CMDPs.RewardvsNResult(\"Inverted Pendulum\", 300×4 DataFrames.DataFrame\n",
       "│ Row │ alg            │ seed │ n_iters │ r_total │\n",
       "├─────┼────────────────┼──────┼─────────┼─────────┤\n",
       "│ 1   │ MCTS.DPWBandit │ 1    │ 5       │ 0.3     │\n",
       "│ 2   │ MCTS.DPWBandit │ 2    │ 5       │ 5.0     │\n",
       "│ 3   │ MCTS.DPWBandit │ 3    │ 5       │ 3.7     │\n",
       "│ 4   │ MCTS.DPWBandit │ 4    │ 5       │ 1.6     │\n",
       "│ 5   │ MCTS.DPWBandit │ 5    │ 5       │ 5.0     │\n",
       "│ 6   │ MCTS.DPWBandit │ 6    │ 5       │ 1.9     │\n",
       "│ 7   │ MCTS.DPWBandit │ 7    │ 5       │ -0.2    │\n",
       "│ 8   │ MCTS.DPWBandit │ 8    │ 5       │ 5.0     │\n",
       "│ 9   │ MCTS.DPWBandit │ 9    │ 5       │ 5.0     │\n",
       "│ 10  │ MCTS.DPWBandit │ 10   │ 5       │ 1.3     │\n",
       "│ 11  │ MCTS.DPWBandit │ 11   │ 5       │ 1.7     │\n",
       "⋮\n",
       "│ 289 │ MCTS.DPWBandit │ 39   │ 50      │ 5.0     │\n",
       "│ 290 │ MCTS.DPWBandit │ 40   │ 50      │ 5.0     │\n",
       "│ 291 │ MCTS.DPWBandit │ 41   │ 50      │ 5.0     │\n",
       "│ 292 │ MCTS.DPWBandit │ 42   │ 50      │ 5.0     │\n",
       "│ 293 │ MCTS.DPWBandit │ 43   │ 50      │ 5.0     │\n",
       "│ 294 │ MCTS.DPWBandit │ 44   │ 50      │ 5.0     │\n",
       "│ 295 │ MCTS.DPWBandit │ 45   │ 50      │ 5.0     │\n",
       "│ 296 │ MCTS.DPWBandit │ 46   │ 50      │ 5.0     │\n",
       "│ 297 │ MCTS.DPWBandit │ 47   │ 50      │ 5.0     │\n",
       "│ 298 │ MCTS.DPWBandit │ 48   │ 50      │ 5.0     │\n",
       "│ 299 │ MCTS.DPWBandit │ 49   │ 50      │ 5.0     │\n",
       "│ 300 │ MCTS.DPWBandit │ 50   │ 50      │ 5.0     │)"
      ]
     },
     "execution_count": 15,
     "metadata": {},
     "output_type": "execute_result"
    }
   ],
   "source": [
    "result = run_study(study)"
   ]
  },
  {
   "cell_type": "code",
   "execution_count": 16,
   "metadata": {},
   "outputs": [
    {
     "data": {
      "image/svg+xml": [
       "<?xml version=\"1.0\" encoding=\"utf-8\"?>\n",
       "<svg xmlns=\"http://www.w3.org/2000/svg\" xmlns:xlink=\"http://www.w3.org/1999/xlink\" width=\"600\" height=\"400\" viewBox=\"0 0 600 400\">\n",
       "<defs>\n",
       "  <clipPath id=\"clip6600\">\n",
       "    <rect x=\"0\" y=\"0\" width=\"600\" height=\"400\"/>\n",
       "  </clipPath>\n",
       "</defs>\n",
       "<polygon clip-path=\"url(#clip6600)\" points=\"\n",
       "0,400 600,400 600,0 0,0 \n",
       "  \" fill=\"#ffffff\" fill-opacity=\"1\"/>\n",
       "<defs>\n",
       "  <clipPath id=\"clip6601\">\n",
       "    <rect x=\"120\" y=\"0\" width=\"421\" height=\"400\"/>\n",
       "  </clipPath>\n",
       "</defs>\n",
       "<polygon clip-path=\"url(#clip6600)\" points=\"\n",
       "56.0965,360.121 580.315,360.121 580.315,31.4961 56.0965,31.4961 \n",
       "  \" fill=\"#ffffff\" fill-opacity=\"1\"/>\n",
       "<defs>\n",
       "  <clipPath id=\"clip6602\">\n",
       "    <rect x=\"56\" y=\"31\" width=\"525\" height=\"330\"/>\n",
       "  </clipPath>\n",
       "</defs>\n",
       "<polyline clip-path=\"url(#clip6602)\" style=\"stroke:#000000; stroke-width:0.5; stroke-opacity:0.1; fill:none\" points=\"\n",
       "  125.882,360.121 125.882,31.4961 \n",
       "  \"/>\n",
       "<polyline clip-path=\"url(#clip6602)\" style=\"stroke:#000000; stroke-width:0.5; stroke-opacity:0.1; fill:none\" points=\"\n",
       "  235.781,360.121 235.781,31.4961 \n",
       "  \"/>\n",
       "<polyline clip-path=\"url(#clip6602)\" style=\"stroke:#000000; stroke-width:0.5; stroke-opacity:0.1; fill:none\" points=\"\n",
       "  345.681,360.121 345.681,31.4961 \n",
       "  \"/>\n",
       "<polyline clip-path=\"url(#clip6602)\" style=\"stroke:#000000; stroke-width:0.5; stroke-opacity:0.1; fill:none\" points=\"\n",
       "  455.58,360.121 455.58,31.4961 \n",
       "  \"/>\n",
       "<polyline clip-path=\"url(#clip6602)\" style=\"stroke:#000000; stroke-width:0.5; stroke-opacity:0.1; fill:none\" points=\"\n",
       "  565.479,360.121 565.479,31.4961 \n",
       "  \"/>\n",
       "<polyline clip-path=\"url(#clip6602)\" style=\"stroke:#000000; stroke-width:0.5; stroke-opacity:0.1; fill:none\" points=\"\n",
       "  56.0965,301.891 580.315,301.891 \n",
       "  \"/>\n",
       "<polyline clip-path=\"url(#clip6602)\" style=\"stroke:#000000; stroke-width:0.5; stroke-opacity:0.1; fill:none\" points=\"\n",
       "  56.0965,236.617 580.315,236.617 \n",
       "  \"/>\n",
       "<polyline clip-path=\"url(#clip6602)\" style=\"stroke:#000000; stroke-width:0.5; stroke-opacity:0.1; fill:none\" points=\"\n",
       "  56.0965,171.344 580.315,171.344 \n",
       "  \"/>\n",
       "<polyline clip-path=\"url(#clip6602)\" style=\"stroke:#000000; stroke-width:0.5; stroke-opacity:0.1; fill:none\" points=\"\n",
       "  56.0965,106.07 580.315,106.07 \n",
       "  \"/>\n",
       "<polyline clip-path=\"url(#clip6602)\" style=\"stroke:#000000; stroke-width:0.5; stroke-opacity:0.1; fill:none\" points=\"\n",
       "  56.0965,40.7968 580.315,40.7968 \n",
       "  \"/>\n",
       "<polyline clip-path=\"url(#clip6600)\" style=\"stroke:#000000; stroke-width:1; stroke-opacity:1; fill:none\" points=\"\n",
       "  56.0965,360.121 580.315,360.121 \n",
       "  \"/>\n",
       "<polyline clip-path=\"url(#clip6600)\" style=\"stroke:#000000; stroke-width:1; stroke-opacity:1; fill:none\" points=\"\n",
       "  56.0965,360.121 56.0965,31.4961 \n",
       "  \"/>\n",
       "<polyline clip-path=\"url(#clip6600)\" style=\"stroke:#000000; stroke-width:1; stroke-opacity:1; fill:none\" points=\"\n",
       "  125.882,360.121 125.882,355.191 \n",
       "  \"/>\n",
       "<polyline clip-path=\"url(#clip6600)\" style=\"stroke:#000000; stroke-width:1; stroke-opacity:1; fill:none\" points=\"\n",
       "  235.781,360.121 235.781,355.191 \n",
       "  \"/>\n",
       "<polyline clip-path=\"url(#clip6600)\" style=\"stroke:#000000; stroke-width:1; stroke-opacity:1; fill:none\" points=\"\n",
       "  345.681,360.121 345.681,355.191 \n",
       "  \"/>\n",
       "<polyline clip-path=\"url(#clip6600)\" style=\"stroke:#000000; stroke-width:1; stroke-opacity:1; fill:none\" points=\"\n",
       "  455.58,360.121 455.58,355.191 \n",
       "  \"/>\n",
       "<polyline clip-path=\"url(#clip6600)\" style=\"stroke:#000000; stroke-width:1; stroke-opacity:1; fill:none\" points=\"\n",
       "  565.479,360.121 565.479,355.191 \n",
       "  \"/>\n",
       "<polyline clip-path=\"url(#clip6600)\" style=\"stroke:#000000; stroke-width:1; stroke-opacity:1; fill:none\" points=\"\n",
       "  56.0965,301.891 63.9598,301.891 \n",
       "  \"/>\n",
       "<polyline clip-path=\"url(#clip6600)\" style=\"stroke:#000000; stroke-width:1; stroke-opacity:1; fill:none\" points=\"\n",
       "  56.0965,236.617 63.9598,236.617 \n",
       "  \"/>\n",
       "<polyline clip-path=\"url(#clip6600)\" style=\"stroke:#000000; stroke-width:1; stroke-opacity:1; fill:none\" points=\"\n",
       "  56.0965,171.344 63.9598,171.344 \n",
       "  \"/>\n",
       "<polyline clip-path=\"url(#clip6600)\" style=\"stroke:#000000; stroke-width:1; stroke-opacity:1; fill:none\" points=\"\n",
       "  56.0965,106.07 63.9598,106.07 \n",
       "  \"/>\n",
       "<polyline clip-path=\"url(#clip6600)\" style=\"stroke:#000000; stroke-width:1; stroke-opacity:1; fill:none\" points=\"\n",
       "  56.0965,40.7968 63.9598,40.7968 \n",
       "  \"/>\n",
       "<g clip-path=\"url(#clip6600)\">\n",
       "<text style=\"fill:#000000; fill-opacity:1; font-family:Arial,Helvetica Neue,Helvetica,sans-serif; font-size:12; text-anchor:middle;\" transform=\"rotate(0, 125.882, 373.921)\" x=\"125.882\" y=\"373.921\">10</text>\n",
       "</g>\n",
       "<g clip-path=\"url(#clip6600)\">\n",
       "<text style=\"fill:#000000; fill-opacity:1; font-family:Arial,Helvetica Neue,Helvetica,sans-serif; font-size:12; text-anchor:middle;\" transform=\"rotate(0, 235.781, 373.921)\" x=\"235.781\" y=\"373.921\">20</text>\n",
       "</g>\n",
       "<g clip-path=\"url(#clip6600)\">\n",
       "<text style=\"fill:#000000; fill-opacity:1; font-family:Arial,Helvetica Neue,Helvetica,sans-serif; font-size:12; text-anchor:middle;\" transform=\"rotate(0, 345.681, 373.921)\" x=\"345.681\" y=\"373.921\">30</text>\n",
       "</g>\n",
       "<g clip-path=\"url(#clip6600)\">\n",
       "<text style=\"fill:#000000; fill-opacity:1; font-family:Arial,Helvetica Neue,Helvetica,sans-serif; font-size:12; text-anchor:middle;\" transform=\"rotate(0, 455.58, 373.921)\" x=\"455.58\" y=\"373.921\">40</text>\n",
       "</g>\n",
       "<g clip-path=\"url(#clip6600)\">\n",
       "<text style=\"fill:#000000; fill-opacity:1; font-family:Arial,Helvetica Neue,Helvetica,sans-serif; font-size:12; text-anchor:middle;\" transform=\"rotate(0, 565.479, 373.921)\" x=\"565.479\" y=\"373.921\">50</text>\n",
       "</g>\n",
       "<g clip-path=\"url(#clip6600)\">\n",
       "<text style=\"fill:#000000; fill-opacity:1; font-family:Arial,Helvetica Neue,Helvetica,sans-serif; font-size:12; text-anchor:end;\" transform=\"rotate(0, 50.0965, 306.391)\" x=\"50.0965\" y=\"306.391\">3.0</text>\n",
       "</g>\n",
       "<g clip-path=\"url(#clip6600)\">\n",
       "<text style=\"fill:#000000; fill-opacity:1; font-family:Arial,Helvetica Neue,Helvetica,sans-serif; font-size:12; text-anchor:end;\" transform=\"rotate(0, 50.0965, 241.117)\" x=\"50.0965\" y=\"241.117\">3.5</text>\n",
       "</g>\n",
       "<g clip-path=\"url(#clip6600)\">\n",
       "<text style=\"fill:#000000; fill-opacity:1; font-family:Arial,Helvetica Neue,Helvetica,sans-serif; font-size:12; text-anchor:end;\" transform=\"rotate(0, 50.0965, 175.844)\" x=\"50.0965\" y=\"175.844\">4.0</text>\n",
       "</g>\n",
       "<g clip-path=\"url(#clip6600)\">\n",
       "<text style=\"fill:#000000; fill-opacity:1; font-family:Arial,Helvetica Neue,Helvetica,sans-serif; font-size:12; text-anchor:end;\" transform=\"rotate(0, 50.0965, 110.57)\" x=\"50.0965\" y=\"110.57\">4.5</text>\n",
       "</g>\n",
       "<g clip-path=\"url(#clip6600)\">\n",
       "<text style=\"fill:#000000; fill-opacity:1; font-family:Arial,Helvetica Neue,Helvetica,sans-serif; font-size:12; text-anchor:end;\" transform=\"rotate(0, 50.0965, 45.2968)\" x=\"50.0965\" y=\"45.2968\">5.0</text>\n",
       "</g>\n",
       "<g clip-path=\"url(#clip6600)\">\n",
       "<text style=\"fill:#000000; fill-opacity:1; font-family:Arial,Helvetica Neue,Helvetica,sans-serif; font-size:21; text-anchor:middle;\" transform=\"rotate(0, 318.206, 18)\" x=\"318.206\" y=\"18\">Inverted Pendulum</text>\n",
       "</g>\n",
       "<g clip-path=\"url(#clip6600)\">\n",
       "<text style=\"fill:#000000; fill-opacity:1; font-family:Arial,Helvetica Neue,Helvetica,sans-serif; font-size:16; text-anchor:middle;\" transform=\"rotate(0, 318.206, 397.6)\" x=\"318.206\" y=\"397.6\">number of iterations</text>\n",
       "</g>\n",
       "<g clip-path=\"url(#clip6600)\">\n",
       "<text style=\"fill:#000000; fill-opacity:1; font-family:Arial,Helvetica Neue,Helvetica,sans-serif; font-size:16; text-anchor:middle;\" transform=\"rotate(-90, 14.4, 195.808)\" x=\"14.4\" y=\"195.808\">reward</text>\n",
       "</g>\n",
       "<polyline clip-path=\"url(#clip6602)\" style=\"stroke:#009af9; stroke-width:1; stroke-opacity:1; fill:none\" points=\"\n",
       "  70.9329,316.773 125.882,82.3107 235.781,40.7968 345.681,40.7968 455.58,40.7968 565.479,40.7968 \n",
       "  \"/>\n",
       "<polyline clip-path=\"url(#clip6602)\" style=\"stroke:#009af9; stroke-width:1; stroke-opacity:1; fill:none\" points=\"\n",
       "  70.9329,350.82 70.9329,282.727 \n",
       "  \"/>\n",
       "<polyline clip-path=\"url(#clip6602)\" style=\"stroke:#009af9; stroke-width:1; stroke-opacity:1; fill:none\" points=\"\n",
       "  125.882,101.579 125.882,63.0422 \n",
       "  \"/>\n",
       "<polyline clip-path=\"url(#clip6602)\" style=\"stroke:#009af9; stroke-width:1; stroke-opacity:1; fill:none\" points=\"\n",
       "  235.781,40.7968 235.781,40.7968 \n",
       "  \"/>\n",
       "<polyline clip-path=\"url(#clip6602)\" style=\"stroke:#009af9; stroke-width:1; stroke-opacity:1; fill:none\" points=\"\n",
       "  345.681,40.7968 345.681,40.7968 \n",
       "  \"/>\n",
       "<polyline clip-path=\"url(#clip6602)\" style=\"stroke:#009af9; stroke-width:1; stroke-opacity:1; fill:none\" points=\"\n",
       "  455.58,40.7968 455.58,40.7968 \n",
       "  \"/>\n",
       "<polyline clip-path=\"url(#clip6602)\" style=\"stroke:#009af9; stroke-width:1; stroke-opacity:1; fill:none\" points=\"\n",
       "  565.479,40.7968 565.479,40.7968 \n",
       "  \"/>\n",
       "<line clip-path=\"url(#clip6602)\" x1=\"75.9329\" y1=\"350.82\" x2=\"65.9329\" y2=\"350.82\" style=\"stroke:#000000; stroke-opacity:1\"/>\n",
       "<line clip-path=\"url(#clip6602)\" x1=\"75.9329\" y1=\"282.727\" x2=\"65.9329\" y2=\"282.727\" style=\"stroke:#000000; stroke-opacity:1\"/>\n",
       "<line clip-path=\"url(#clip6602)\" x1=\"130.882\" y1=\"101.579\" x2=\"120.882\" y2=\"101.579\" style=\"stroke:#000000; stroke-opacity:1\"/>\n",
       "<line clip-path=\"url(#clip6602)\" x1=\"130.882\" y1=\"63.0422\" x2=\"120.882\" y2=\"63.0422\" style=\"stroke:#000000; stroke-opacity:1\"/>\n",
       "<line clip-path=\"url(#clip6602)\" x1=\"240.781\" y1=\"40.7968\" x2=\"230.781\" y2=\"40.7968\" style=\"stroke:#000000; stroke-opacity:1\"/>\n",
       "<line clip-path=\"url(#clip6602)\" x1=\"240.781\" y1=\"40.7968\" x2=\"230.781\" y2=\"40.7968\" style=\"stroke:#000000; stroke-opacity:1\"/>\n",
       "<line clip-path=\"url(#clip6602)\" x1=\"350.681\" y1=\"40.7968\" x2=\"340.681\" y2=\"40.7968\" style=\"stroke:#000000; stroke-opacity:1\"/>\n",
       "<line clip-path=\"url(#clip6602)\" x1=\"350.681\" y1=\"40.7968\" x2=\"340.681\" y2=\"40.7968\" style=\"stroke:#000000; stroke-opacity:1\"/>\n",
       "<line clip-path=\"url(#clip6602)\" x1=\"460.58\" y1=\"40.7968\" x2=\"450.58\" y2=\"40.7968\" style=\"stroke:#000000; stroke-opacity:1\"/>\n",
       "<line clip-path=\"url(#clip6602)\" x1=\"460.58\" y1=\"40.7968\" x2=\"450.58\" y2=\"40.7968\" style=\"stroke:#000000; stroke-opacity:1\"/>\n",
       "<line clip-path=\"url(#clip6602)\" x1=\"570.479\" y1=\"40.7968\" x2=\"560.479\" y2=\"40.7968\" style=\"stroke:#000000; stroke-opacity:1\"/>\n",
       "<line clip-path=\"url(#clip6602)\" x1=\"570.479\" y1=\"40.7968\" x2=\"560.479\" y2=\"40.7968\" style=\"stroke:#000000; stroke-opacity:1\"/>\n",
       "<polygon clip-path=\"url(#clip6600)\" points=\"\n",
       "440.126,324.121 562.315,324.121 562.315,293.881 440.126,293.881 \n",
       "  \" fill=\"#ffffff\" fill-opacity=\"1\"/>\n",
       "<polyline clip-path=\"url(#clip6600)\" style=\"stroke:#000000; stroke-width:1; stroke-opacity:1; fill:none\" points=\"\n",
       "  440.126,324.121 562.315,324.121 562.315,293.881 440.126,293.881 440.126,324.121 \n",
       "  \"/>\n",
       "<polyline clip-path=\"url(#clip6600)\" style=\"stroke:#009af9; stroke-width:1; stroke-opacity:1; fill:none\" points=\"\n",
       "  446.126,309.001 482.126,309.001 \n",
       "  \"/>\n",
       "<g clip-path=\"url(#clip6600)\">\n",
       "<text style=\"fill:#000000; fill-opacity:1; font-family:Arial,Helvetica Neue,Helvetica,sans-serif; font-size:12; text-anchor:start;\" transform=\"rotate(0, 488.126, 313.501)\" x=\"488.126\" y=\"313.501\">DPWBandit</text>\n",
       "</g>\n",
       "</svg>\n"
      ]
     },
     "execution_count": 16,
     "metadata": {},
     "output_type": "execute_result"
    }
   ],
   "source": [
    "Plots.plot(result)"
   ]
  },
  {
   "cell_type": "code",
   "execution_count": null,
   "metadata": {},
   "outputs": [],
   "source": []
  },
  {
   "cell_type": "code",
   "execution_count": null,
   "metadata": {},
   "outputs": [],
   "source": []
  }
 ],
 "metadata": {
  "kernelspec": {
   "display_name": "Julia 0.6.2",
   "language": "julia",
   "name": "julia-0.6"
  },
  "language_info": {
   "file_extension": ".jl",
   "mimetype": "application/julia",
   "name": "julia",
   "version": "0.6.2"
  }
 },
 "nbformat": 4,
 "nbformat_minor": 2
}
