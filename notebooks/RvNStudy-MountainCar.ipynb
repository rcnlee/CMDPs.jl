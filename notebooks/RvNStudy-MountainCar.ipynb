{
 "cells": [
  {
   "cell_type": "code",
   "execution_count": 1,
   "metadata": {},
   "outputs": [
    {
     "data": {
      "text/plain": [
       "Plots.GRBackend()"
      ]
     },
     "execution_count": 1,
     "metadata": {},
     "output_type": "execute_result"
    }
   ],
   "source": [
    "#using Revise\n",
    "addprocs(4)\n",
    "using CMDPs\n",
    "using POMDPs, POMDPToolbox, POMDPModels, MCTS\n",
    "using DataFrames\n",
    "using Plots; gr()"
   ]
  },
  {
   "cell_type": "code",
   "execution_count": 2,
   "metadata": {},
   "outputs": [],
   "source": [
    "mdp = MountainCar()\n",
    "b = DPWBandit(mdp)\n",
    "solver = ModularSolver(mdp, b)\n",
    "policy = solve(solver, mdp);"
   ]
  },
  {
   "cell_type": "raw",
   "metadata": {},
   "source": [
    "#s0 = initial_state(mdp, Base.GLOBAL_RNG)\n",
    "#a, info = action_info(policy, s0)\n",
    "#best_path = info[:best_path]\n",
    "#policy = BPTrackerPolicy(best_path)"
   ]
  },
  {
   "cell_type": "code",
   "execution_count": 3,
   "metadata": {},
   "outputs": [
    {
     "data": {
      "text/plain": [
       "(-0.5, 0.0)"
      ]
     },
     "execution_count": 3,
     "metadata": {},
     "output_type": "execute_result"
    }
   ],
   "source": [
    "s0 = initial_state(mdp, Base.GLOBAL_RNG)"
   ]
  },
  {
   "cell_type": "code",
   "execution_count": 4,
   "metadata": {},
   "outputs": [],
   "source": [
    "hr = HistoryRecorder(; max_steps=10, rng=Base.GLOBAL_RNG)\n",
    "h = simulate(hr, mdp, policy, s0);"
   ]
  },
  {
   "cell_type": "code",
   "execution_count": 5,
   "metadata": {},
   "outputs": [
    {
     "data": {
      "text/plain": [
       "11-element Array{Tuple{Float64,Float64},1}:\n",
       " (-0.5, 0.0)             \n",
       " (-0.501177, -0.00117684)\n",
       " (-0.503522, -0.00234488)\n",
       " (-0.505017, -0.00149537)\n",
       " (-0.507652, -0.00263466)\n",
       " (-0.510406, -0.00275422)\n",
       " (-0.513259, -0.00285314)\n",
       " (-0.51719, -0.00393067) \n",
       " (-0.522169, -0.00497874)\n",
       " (-0.527158, -0.00498946)\n",
       " (-0.531121, -0.00396277)"
      ]
     },
     "execution_count": 5,
     "metadata": {},
     "output_type": "execute_result"
    }
   ],
   "source": [
    "h.state_hist"
   ]
  },
  {
   "cell_type": "code",
   "execution_count": 6,
   "metadata": {},
   "outputs": [
    {
     "data": {
      "text/plain": [
       "10-element Array{Float64,1}:\n",
       " -1.0\n",
       " -1.0\n",
       "  1.0\n",
       " -1.0\n",
       "  0.0\n",
       "  0.0\n",
       " -1.0\n",
       " -1.0\n",
       "  0.0\n",
       "  1.0"
      ]
     },
     "execution_count": 6,
     "metadata": {},
     "output_type": "execute_result"
    }
   ],
   "source": [
    "h.action_hist"
   ]
  },
  {
   "cell_type": "code",
   "execution_count": 7,
   "metadata": {},
   "outputs": [
    {
     "data": {
      "text/plain": [
       "10-element Array{Float64,1}:\n",
       " -1.0\n",
       " -1.0\n",
       " -1.0\n",
       " -1.0\n",
       " -1.0\n",
       " -1.0\n",
       " -1.0\n",
       " -1.0\n",
       " -1.0\n",
       " -1.0"
      ]
     },
     "execution_count": 7,
     "metadata": {},
     "output_type": "execute_result"
    }
   ],
   "source": [
    "h.reward_hist"
   ]
  },
  {
   "cell_type": "raw",
   "metadata": {},
   "source": [
    "plot(mdp, h)"
   ]
  },
  {
   "cell_type": "raw",
   "metadata": {},
   "source": [
    "anim = @animate for i in 1:n_steps(h)\n",
    "    plot(mdp, view(h, 1:i))\n",
    "end\n",
    "gif(anim, \"./mountaincar.gif\"; fps=5)"
   ]
  },
  {
   "cell_type": "code",
   "execution_count": 8,
   "metadata": {},
   "outputs": [],
   "source": [
    "## Study"
   ]
  },
  {
   "cell_type": "code",
   "execution_count": 12,
   "metadata": {},
   "outputs": [
    {
     "data": {
      "text/plain": [
       "CMDPs.RewardvsN\n",
       "  mdp: POMDPModels.MountainCar\n",
       "  bandits: Array{DataType}((1,))\n",
       "  n_seeds: Int64 20\n",
       "  n_iters: Array{Int64}((6,)) [100, 500, 1000, 2000, 5000, 10000]\n",
       "  max_steps: Int64 20\n"
      ]
     },
     "execution_count": 12,
     "metadata": {},
     "output_type": "execute_result"
    }
   ],
   "source": [
    "study = RewardvsN(MountainCar)"
   ]
  },
  {
   "cell_type": "code",
   "execution_count": 13,
   "metadata": {},
   "outputs": [
    {
     "data": {
      "text/plain": [
       "CMDPs.RewardvsNResult(\"Mountain Car\", 120×4 DataFrames.DataFrame\n",
       "│ Row │ alg            │ seed │ n_iters │ r_total │\n",
       "├─────┼────────────────┼──────┼─────────┼─────────┤\n",
       "│ 1   │ MCTS.DPWBandit │ 1    │ 100     │ -20.0   │\n",
       "│ 2   │ MCTS.DPWBandit │ 2    │ 100     │ -20.0   │\n",
       "│ 3   │ MCTS.DPWBandit │ 3    │ 100     │ -20.0   │\n",
       "│ 4   │ MCTS.DPWBandit │ 4    │ 100     │ -20.0   │\n",
       "│ 5   │ MCTS.DPWBandit │ 5    │ 100     │ -20.0   │\n",
       "│ 6   │ MCTS.DPWBandit │ 6    │ 100     │ -20.0   │\n",
       "│ 7   │ MCTS.DPWBandit │ 7    │ 100     │ -20.0   │\n",
       "│ 8   │ MCTS.DPWBandit │ 8    │ 100     │ -20.0   │\n",
       "│ 9   │ MCTS.DPWBandit │ 9    │ 100     │ -20.0   │\n",
       "│ 10  │ MCTS.DPWBandit │ 10   │ 100     │ -20.0   │\n",
       "│ 11  │ MCTS.DPWBandit │ 11   │ 100     │ -20.0   │\n",
       "⋮\n",
       "│ 109 │ MCTS.DPWBandit │ 9    │ 10000   │ -20.0   │\n",
       "│ 110 │ MCTS.DPWBandit │ 10   │ 10000   │ -20.0   │\n",
       "│ 111 │ MCTS.DPWBandit │ 11   │ 10000   │ -20.0   │\n",
       "│ 112 │ MCTS.DPWBandit │ 12   │ 10000   │ -20.0   │\n",
       "│ 113 │ MCTS.DPWBandit │ 13   │ 10000   │ -20.0   │\n",
       "│ 114 │ MCTS.DPWBandit │ 14   │ 10000   │ -20.0   │\n",
       "│ 115 │ MCTS.DPWBandit │ 15   │ 10000   │ -20.0   │\n",
       "│ 116 │ MCTS.DPWBandit │ 16   │ 10000   │ -20.0   │\n",
       "│ 117 │ MCTS.DPWBandit │ 17   │ 10000   │ -20.0   │\n",
       "│ 118 │ MCTS.DPWBandit │ 18   │ 10000   │ -20.0   │\n",
       "│ 119 │ MCTS.DPWBandit │ 19   │ 10000   │ -20.0   │\n",
       "│ 120 │ MCTS.DPWBandit │ 20   │ 10000   │ -20.0   │)"
      ]
     },
     "execution_count": 13,
     "metadata": {},
     "output_type": "execute_result"
    }
   ],
   "source": [
    "result = run_study(study)"
   ]
  },
  {
   "cell_type": "code",
   "execution_count": 14,
   "metadata": {},
   "outputs": [
    {
     "data": {
      "image/svg+xml": [
       "<?xml version=\"1.0\" encoding=\"utf-8\"?>\n",
       "<svg xmlns=\"http://www.w3.org/2000/svg\" xmlns:xlink=\"http://www.w3.org/1999/xlink\" width=\"600\" height=\"400\" viewBox=\"0 0 600 400\">\n",
       "<defs>\n",
       "  <clipPath id=\"clip5900\">\n",
       "    <rect x=\"0\" y=\"0\" width=\"600\" height=\"400\"/>\n",
       "  </clipPath>\n",
       "</defs>\n",
       "<polygon clip-path=\"url(#clip5900)\" points=\"\n",
       "0,400 600,400 600,0 0,0 \n",
       "  \" fill=\"#ffffff\" fill-opacity=\"1\"/>\n",
       "<defs>\n",
       "  <clipPath id=\"clip5901\">\n",
       "    <rect x=\"120\" y=\"0\" width=\"421\" height=\"400\"/>\n",
       "  </clipPath>\n",
       "</defs>\n",
       "<polygon clip-path=\"url(#clip5900)\" points=\"\n",
       "76.5052,360.121 580.315,360.121 580.315,31.4961 76.5052,31.4961 \n",
       "  \" fill=\"#ffffff\" fill-opacity=\"1\"/>\n",
       "<defs>\n",
       "  <clipPath id=\"clip5902\">\n",
       "    <rect x=\"76\" y=\"31\" width=\"505\" height=\"330\"/>\n",
       "  </clipPath>\n",
       "</defs>\n",
       "<polyline clip-path=\"url(#clip5902)\" style=\"stroke:#000000; stroke-width:0.5; stroke-opacity:0.1; fill:none\" points=\"\n",
       "  85.9631,360.121 85.9631,31.4961 \n",
       "  \"/>\n",
       "<polyline clip-path=\"url(#clip5902)\" style=\"stroke:#000000; stroke-width:0.5; stroke-opacity:0.1; fill:none\" points=\"\n",
       "  205.986,360.121 205.986,31.4961 \n",
       "  \"/>\n",
       "<polyline clip-path=\"url(#clip5902)\" style=\"stroke:#000000; stroke-width:0.5; stroke-opacity:0.1; fill:none\" points=\"\n",
       "  326.01,360.121 326.01,31.4961 \n",
       "  \"/>\n",
       "<polyline clip-path=\"url(#clip5902)\" style=\"stroke:#000000; stroke-width:0.5; stroke-opacity:0.1; fill:none\" points=\"\n",
       "  446.033,360.121 446.033,31.4961 \n",
       "  \"/>\n",
       "<polyline clip-path=\"url(#clip5902)\" style=\"stroke:#000000; stroke-width:0.5; stroke-opacity:0.1; fill:none\" points=\"\n",
       "  566.056,360.121 566.056,31.4961 \n",
       "  \"/>\n",
       "<polyline clip-path=\"url(#clip5902)\" style=\"stroke:#000000; stroke-width:0.5; stroke-opacity:0.1; fill:none\" points=\"\n",
       "  76.5052,350.82 580.315,350.82 \n",
       "  \"/>\n",
       "<polyline clip-path=\"url(#clip5902)\" style=\"stroke:#000000; stroke-width:0.5; stroke-opacity:0.1; fill:none\" points=\"\n",
       "  76.5052,273.314 580.315,273.314 \n",
       "  \"/>\n",
       "<polyline clip-path=\"url(#clip5902)\" style=\"stroke:#000000; stroke-width:0.5; stroke-opacity:0.1; fill:none\" points=\"\n",
       "  76.5052,195.808 580.315,195.808 \n",
       "  \"/>\n",
       "<polyline clip-path=\"url(#clip5902)\" style=\"stroke:#000000; stroke-width:0.5; stroke-opacity:0.1; fill:none\" points=\"\n",
       "  76.5052,118.303 580.315,118.303 \n",
       "  \"/>\n",
       "<polyline clip-path=\"url(#clip5902)\" style=\"stroke:#000000; stroke-width:0.5; stroke-opacity:0.1; fill:none\" points=\"\n",
       "  76.5052,40.7968 580.315,40.7968 \n",
       "  \"/>\n",
       "<polyline clip-path=\"url(#clip5900)\" style=\"stroke:#000000; stroke-width:1; stroke-opacity:1; fill:none\" points=\"\n",
       "  76.5052,360.121 580.315,360.121 \n",
       "  \"/>\n",
       "<polyline clip-path=\"url(#clip5900)\" style=\"stroke:#000000; stroke-width:1; stroke-opacity:1; fill:none\" points=\"\n",
       "  76.5052,360.121 76.5052,31.4961 \n",
       "  \"/>\n",
       "<polyline clip-path=\"url(#clip5900)\" style=\"stroke:#000000; stroke-width:1; stroke-opacity:1; fill:none\" points=\"\n",
       "  85.9631,360.121 85.9631,355.191 \n",
       "  \"/>\n",
       "<polyline clip-path=\"url(#clip5900)\" style=\"stroke:#000000; stroke-width:1; stroke-opacity:1; fill:none\" points=\"\n",
       "  205.986,360.121 205.986,355.191 \n",
       "  \"/>\n",
       "<polyline clip-path=\"url(#clip5900)\" style=\"stroke:#000000; stroke-width:1; stroke-opacity:1; fill:none\" points=\"\n",
       "  326.01,360.121 326.01,355.191 \n",
       "  \"/>\n",
       "<polyline clip-path=\"url(#clip5900)\" style=\"stroke:#000000; stroke-width:1; stroke-opacity:1; fill:none\" points=\"\n",
       "  446.033,360.121 446.033,355.191 \n",
       "  \"/>\n",
       "<polyline clip-path=\"url(#clip5900)\" style=\"stroke:#000000; stroke-width:1; stroke-opacity:1; fill:none\" points=\"\n",
       "  566.056,360.121 566.056,355.191 \n",
       "  \"/>\n",
       "<polyline clip-path=\"url(#clip5900)\" style=\"stroke:#000000; stroke-width:1; stroke-opacity:1; fill:none\" points=\"\n",
       "  76.5052,350.82 84.0624,350.82 \n",
       "  \"/>\n",
       "<polyline clip-path=\"url(#clip5900)\" style=\"stroke:#000000; stroke-width:1; stroke-opacity:1; fill:none\" points=\"\n",
       "  76.5052,273.314 84.0624,273.314 \n",
       "  \"/>\n",
       "<polyline clip-path=\"url(#clip5900)\" style=\"stroke:#000000; stroke-width:1; stroke-opacity:1; fill:none\" points=\"\n",
       "  76.5052,195.808 84.0624,195.808 \n",
       "  \"/>\n",
       "<polyline clip-path=\"url(#clip5900)\" style=\"stroke:#000000; stroke-width:1; stroke-opacity:1; fill:none\" points=\"\n",
       "  76.5052,118.303 84.0624,118.303 \n",
       "  \"/>\n",
       "<polyline clip-path=\"url(#clip5900)\" style=\"stroke:#000000; stroke-width:1; stroke-opacity:1; fill:none\" points=\"\n",
       "  76.5052,40.7968 84.0624,40.7968 \n",
       "  \"/>\n",
       "<g clip-path=\"url(#clip5900)\">\n",
       "<text style=\"fill:#000000; fill-opacity:1; font-family:Arial,Helvetica Neue,Helvetica,sans-serif; font-size:12; text-anchor:middle;\" transform=\"rotate(0, 85.9631, 373.921)\" x=\"85.9631\" y=\"373.921\">0</text>\n",
       "</g>\n",
       "<g clip-path=\"url(#clip5900)\">\n",
       "<text style=\"fill:#000000; fill-opacity:1; font-family:Arial,Helvetica Neue,Helvetica,sans-serif; font-size:12; text-anchor:middle;\" transform=\"rotate(0, 205.986, 373.921)\" x=\"205.986\" y=\"373.921\">2500</text>\n",
       "</g>\n",
       "<g clip-path=\"url(#clip5900)\">\n",
       "<text style=\"fill:#000000; fill-opacity:1; font-family:Arial,Helvetica Neue,Helvetica,sans-serif; font-size:12; text-anchor:middle;\" transform=\"rotate(0, 326.01, 373.921)\" x=\"326.01\" y=\"373.921\">5000</text>\n",
       "</g>\n",
       "<g clip-path=\"url(#clip5900)\">\n",
       "<text style=\"fill:#000000; fill-opacity:1; font-family:Arial,Helvetica Neue,Helvetica,sans-serif; font-size:12; text-anchor:middle;\" transform=\"rotate(0, 446.033, 373.921)\" x=\"446.033\" y=\"373.921\">7500</text>\n",
       "</g>\n",
       "<g clip-path=\"url(#clip5900)\">\n",
       "<text style=\"fill:#000000; fill-opacity:1; font-family:Arial,Helvetica Neue,Helvetica,sans-serif; font-size:12; text-anchor:middle;\" transform=\"rotate(0, 566.056, 373.921)\" x=\"566.056\" y=\"373.921\">10000</text>\n",
       "</g>\n",
       "<g clip-path=\"url(#clip5900)\">\n",
       "<text style=\"fill:#000000; fill-opacity:1; font-family:Arial,Helvetica Neue,Helvetica,sans-serif; font-size:12; text-anchor:end;\" transform=\"rotate(0, 70.5052, 355.32)\" x=\"70.5052\" y=\"355.32\">-20.00</text>\n",
       "</g>\n",
       "<g clip-path=\"url(#clip5900)\">\n",
       "<text style=\"fill:#000000; fill-opacity:1; font-family:Arial,Helvetica Neue,Helvetica,sans-serif; font-size:12; text-anchor:end;\" transform=\"rotate(0, 70.5052, 277.814)\" x=\"70.5052\" y=\"277.814\">-19.75</text>\n",
       "</g>\n",
       "<g clip-path=\"url(#clip5900)\">\n",
       "<text style=\"fill:#000000; fill-opacity:1; font-family:Arial,Helvetica Neue,Helvetica,sans-serif; font-size:12; text-anchor:end;\" transform=\"rotate(0, 70.5052, 200.308)\" x=\"70.5052\" y=\"200.308\">-19.50</text>\n",
       "</g>\n",
       "<g clip-path=\"url(#clip5900)\">\n",
       "<text style=\"fill:#000000; fill-opacity:1; font-family:Arial,Helvetica Neue,Helvetica,sans-serif; font-size:12; text-anchor:end;\" transform=\"rotate(0, 70.5052, 122.803)\" x=\"70.5052\" y=\"122.803\">-19.25</text>\n",
       "</g>\n",
       "<g clip-path=\"url(#clip5900)\">\n",
       "<text style=\"fill:#000000; fill-opacity:1; font-family:Arial,Helvetica Neue,Helvetica,sans-serif; font-size:12; text-anchor:end;\" transform=\"rotate(0, 70.5052, 45.2968)\" x=\"70.5052\" y=\"45.2968\">-19.00</text>\n",
       "</g>\n",
       "<g clip-path=\"url(#clip5900)\">\n",
       "<text style=\"fill:#000000; fill-opacity:1; font-family:Arial,Helvetica Neue,Helvetica,sans-serif; font-size:21; text-anchor:middle;\" transform=\"rotate(0, 328.41, 18)\" x=\"328.41\" y=\"18\">Mountain Car</text>\n",
       "</g>\n",
       "<g clip-path=\"url(#clip5900)\">\n",
       "<text style=\"fill:#000000; fill-opacity:1; font-family:Arial,Helvetica Neue,Helvetica,sans-serif; font-size:16; text-anchor:middle;\" transform=\"rotate(0, 328.41, 397.6)\" x=\"328.41\" y=\"397.6\">number of iterations</text>\n",
       "</g>\n",
       "<g clip-path=\"url(#clip5900)\">\n",
       "<text style=\"fill:#000000; fill-opacity:1; font-family:Arial,Helvetica Neue,Helvetica,sans-serif; font-size:16; text-anchor:middle;\" transform=\"rotate(-90, 14.4, 195.808)\" x=\"14.4\" y=\"195.808\">reward</text>\n",
       "</g>\n",
       "<polyline clip-path=\"url(#clip5902)\" style=\"stroke:#009af9; stroke-width:1; stroke-opacity:1; fill:none\" points=\"\n",
       "  90.764,350.82 109.968,350.82 133.972,350.82 181.982,350.82 326.01,350.82 566.056,350.82 \n",
       "  \"/>\n",
       "<polyline clip-path=\"url(#clip5902)\" style=\"stroke:#009af9; stroke-width:1; stroke-opacity:1; fill:none\" points=\"\n",
       "  90.764,350.82 90.764,350.82 \n",
       "  \"/>\n",
       "<polyline clip-path=\"url(#clip5902)\" style=\"stroke:#009af9; stroke-width:1; stroke-opacity:1; fill:none\" points=\"\n",
       "  109.968,350.82 109.968,350.82 \n",
       "  \"/>\n",
       "<polyline clip-path=\"url(#clip5902)\" style=\"stroke:#009af9; stroke-width:1; stroke-opacity:1; fill:none\" points=\"\n",
       "  133.972,350.82 133.972,350.82 \n",
       "  \"/>\n",
       "<polyline clip-path=\"url(#clip5902)\" style=\"stroke:#009af9; stroke-width:1; stroke-opacity:1; fill:none\" points=\"\n",
       "  181.982,350.82 181.982,350.82 \n",
       "  \"/>\n",
       "<polyline clip-path=\"url(#clip5902)\" style=\"stroke:#009af9; stroke-width:1; stroke-opacity:1; fill:none\" points=\"\n",
       "  326.01,350.82 326.01,350.82 \n",
       "  \"/>\n",
       "<polyline clip-path=\"url(#clip5902)\" style=\"stroke:#009af9; stroke-width:1; stroke-opacity:1; fill:none\" points=\"\n",
       "  566.056,350.82 566.056,350.82 \n",
       "  \"/>\n",
       "<line clip-path=\"url(#clip5902)\" x1=\"95.764\" y1=\"350.82\" x2=\"85.764\" y2=\"350.82\" style=\"stroke:#000000; stroke-opacity:1\"/>\n",
       "<line clip-path=\"url(#clip5902)\" x1=\"95.764\" y1=\"350.82\" x2=\"85.764\" y2=\"350.82\" style=\"stroke:#000000; stroke-opacity:1\"/>\n",
       "<line clip-path=\"url(#clip5902)\" x1=\"114.968\" y1=\"350.82\" x2=\"104.968\" y2=\"350.82\" style=\"stroke:#000000; stroke-opacity:1\"/>\n",
       "<line clip-path=\"url(#clip5902)\" x1=\"114.968\" y1=\"350.82\" x2=\"104.968\" y2=\"350.82\" style=\"stroke:#000000; stroke-opacity:1\"/>\n",
       "<line clip-path=\"url(#clip5902)\" x1=\"138.972\" y1=\"350.82\" x2=\"128.972\" y2=\"350.82\" style=\"stroke:#000000; stroke-opacity:1\"/>\n",
       "<line clip-path=\"url(#clip5902)\" x1=\"138.972\" y1=\"350.82\" x2=\"128.972\" y2=\"350.82\" style=\"stroke:#000000; stroke-opacity:1\"/>\n",
       "<line clip-path=\"url(#clip5902)\" x1=\"186.982\" y1=\"350.82\" x2=\"176.982\" y2=\"350.82\" style=\"stroke:#000000; stroke-opacity:1\"/>\n",
       "<line clip-path=\"url(#clip5902)\" x1=\"186.982\" y1=\"350.82\" x2=\"176.982\" y2=\"350.82\" style=\"stroke:#000000; stroke-opacity:1\"/>\n",
       "<line clip-path=\"url(#clip5902)\" x1=\"331.01\" y1=\"350.82\" x2=\"321.01\" y2=\"350.82\" style=\"stroke:#000000; stroke-opacity:1\"/>\n",
       "<line clip-path=\"url(#clip5902)\" x1=\"331.01\" y1=\"350.82\" x2=\"321.01\" y2=\"350.82\" style=\"stroke:#000000; stroke-opacity:1\"/>\n",
       "<line clip-path=\"url(#clip5902)\" x1=\"571.056\" y1=\"350.82\" x2=\"561.056\" y2=\"350.82\" style=\"stroke:#000000; stroke-opacity:1\"/>\n",
       "<line clip-path=\"url(#clip5902)\" x1=\"571.056\" y1=\"350.82\" x2=\"561.056\" y2=\"350.82\" style=\"stroke:#000000; stroke-opacity:1\"/>\n",
       "<polygon clip-path=\"url(#clip5900)\" points=\"\n",
       "440.126,324.121 562.315,324.121 562.315,293.881 440.126,293.881 \n",
       "  \" fill=\"#ffffff\" fill-opacity=\"1\"/>\n",
       "<polyline clip-path=\"url(#clip5900)\" style=\"stroke:#000000; stroke-width:1; stroke-opacity:1; fill:none\" points=\"\n",
       "  440.126,324.121 562.315,324.121 562.315,293.881 440.126,293.881 440.126,324.121 \n",
       "  \"/>\n",
       "<polyline clip-path=\"url(#clip5900)\" style=\"stroke:#009af9; stroke-width:1; stroke-opacity:1; fill:none\" points=\"\n",
       "  446.126,309.001 482.126,309.001 \n",
       "  \"/>\n",
       "<g clip-path=\"url(#clip5900)\">\n",
       "<text style=\"fill:#000000; fill-opacity:1; font-family:Arial,Helvetica Neue,Helvetica,sans-serif; font-size:12; text-anchor:start;\" transform=\"rotate(0, 488.126, 313.501)\" x=\"488.126\" y=\"313.501\">DPWBandit</text>\n",
       "</g>\n",
       "</svg>\n"
      ]
     },
     "execution_count": 14,
     "metadata": {},
     "output_type": "execute_result"
    }
   ],
   "source": [
    "Plots.plot(result)"
   ]
  },
  {
   "cell_type": "code",
   "execution_count": null,
   "metadata": {},
   "outputs": [],
   "source": []
  }
 ],
 "metadata": {
  "kernelspec": {
   "display_name": "Julia 0.6.2",
   "language": "julia",
   "name": "julia-0.6"
  },
  "language_info": {
   "file_extension": ".jl",
   "mimetype": "application/julia",
   "name": "julia",
   "version": "0.6.2"
  }
 },
 "nbformat": 4,
 "nbformat_minor": 2
}
