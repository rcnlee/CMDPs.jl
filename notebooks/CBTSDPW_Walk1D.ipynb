{
 "cells": [
  {
   "cell_type": "code",
   "execution_count": 1,
   "metadata": {},
   "outputs": [
    {
     "data": {
      "text/plain": [
       "Plots.GRBackend()"
      ]
     },
     "execution_count": 1,
     "metadata": {},
     "output_type": "execute_result"
    }
   ],
   "source": [
    "using Revise\n",
    "#addprocs(4)\n",
    "using Walk1DMDP, CMDPs\n",
    "using POMDPs, POMDPToolbox, MCTS\n",
    "using DataFrames\n",
    "using Plots; gr()"
   ]
  },
  {
   "cell_type": "code",
   "execution_count": 127,
   "metadata": {},
   "outputs": [],
   "source": [
    "mdp = Walk1D()\n",
    "b = CBTSDPWBandit(mdp; k_action=1.0, alpha_action=0.5, fit_qs=true)\n",
    "solver = ModularSolver(mdp, b; n_iterations=200)\n",
    "policy = solve(solver, mdp);"
   ]
  },
  {
   "cell_type": "raw",
   "metadata": {},
   "source": [
    "#s0 = initial_state(mdp, Base.GLOBAL_RNG)\n",
    "#a, info = action_info(policy, s0)\n",
    "#best_path = info[:best_path]\n",
    "#policy = BPTrackerPolicy(best_path)"
   ]
  },
  {
   "cell_type": "code",
   "execution_count": 128,
   "metadata": {},
   "outputs": [
    {
     "data": {
      "text/plain": [
       "Walk1DMDP.Walk1DState(0, 1.0)"
      ]
     },
     "execution_count": 128,
     "metadata": {},
     "output_type": "execute_result"
    }
   ],
   "source": [
    "s0 = initial_state(mdp, Base.GLOBAL_RNG)"
   ]
  },
  {
   "cell_type": "code",
   "execution_count": 129,
   "metadata": {},
   "outputs": [],
   "source": [
    "hr = HistoryRecorder(; rng=Base.GLOBAL_RNG)\n",
    "h = simulate(hr, mdp, policy, s0);"
   ]
  },
  {
   "cell_type": "code",
   "execution_count": 130,
   "metadata": {},
   "outputs": [
    {
     "data": {
      "image/svg+xml": [
       "<?xml version=\"1.0\" encoding=\"utf-8\"?>\n",
       "<svg xmlns=\"http://www.w3.org/2000/svg\" xmlns:xlink=\"http://www.w3.org/1999/xlink\" width=\"600\" height=\"400\" viewBox=\"0 0 600 400\">\n",
       "<defs>\n",
       "  <clipPath id=\"clip9300\">\n",
       "    <rect x=\"0\" y=\"0\" width=\"600\" height=\"400\"/>\n",
       "  </clipPath>\n",
       "</defs>\n",
       "<polygon clip-path=\"url(#clip9300)\" points=\"\n",
       "0,400 600,400 600,0 0,0 \n",
       "  \" fill=\"#ffffff\" fill-opacity=\"1\"/>\n",
       "<defs>\n",
       "  <clipPath id=\"clip9301\">\n",
       "    <rect x=\"120\" y=\"0\" width=\"421\" height=\"400\"/>\n",
       "  </clipPath>\n",
       "</defs>\n",
       "<polygon clip-path=\"url(#clip9300)\" points=\"\n",
       "44.0307,375.869 580.315,375.869 580.315,11.811 44.0307,11.811 \n",
       "  \" fill=\"#ffffff\" fill-opacity=\"1\"/>\n",
       "<defs>\n",
       "  <clipPath id=\"clip9302\">\n",
       "    <rect x=\"44\" y=\"11\" width=\"537\" height=\"365\"/>\n",
       "  </clipPath>\n",
       "</defs>\n",
       "<polyline clip-path=\"url(#clip9302)\" style=\"stroke:#000000; stroke-width:0.5; stroke-opacity:0.1; fill:none\" points=\"\n",
       "  69.5681,375.869 69.5681,11.811 \n",
       "  \"/>\n",
       "<polyline clip-path=\"url(#clip9302)\" style=\"stroke:#000000; stroke-width:0.5; stroke-opacity:0.1; fill:none\" points=\"\n",
       "  197.255,375.869 197.255,11.811 \n",
       "  \"/>\n",
       "<polyline clip-path=\"url(#clip9302)\" style=\"stroke:#000000; stroke-width:0.5; stroke-opacity:0.1; fill:none\" points=\"\n",
       "  324.942,375.869 324.942,11.811 \n",
       "  \"/>\n",
       "<polyline clip-path=\"url(#clip9302)\" style=\"stroke:#000000; stroke-width:0.5; stroke-opacity:0.1; fill:none\" points=\"\n",
       "  452.628,375.869 452.628,11.811 \n",
       "  \"/>\n",
       "<polyline clip-path=\"url(#clip9302)\" style=\"stroke:#000000; stroke-width:0.5; stroke-opacity:0.1; fill:none\" points=\"\n",
       "  580.315,375.869 580.315,11.811 \n",
       "  \"/>\n",
       "<polyline clip-path=\"url(#clip9302)\" style=\"stroke:#000000; stroke-width:0.5; stroke-opacity:0.1; fill:none\" points=\"\n",
       "  44.0307,359.321 580.315,359.321 \n",
       "  \"/>\n",
       "<polyline clip-path=\"url(#clip9302)\" style=\"stroke:#000000; stroke-width:0.5; stroke-opacity:0.1; fill:none\" points=\"\n",
       "  44.0307,276.58 580.315,276.58 \n",
       "  \"/>\n",
       "<polyline clip-path=\"url(#clip9302)\" style=\"stroke:#000000; stroke-width:0.5; stroke-opacity:0.1; fill:none\" points=\"\n",
       "  44.0307,193.84 580.315,193.84 \n",
       "  \"/>\n",
       "<polyline clip-path=\"url(#clip9302)\" style=\"stroke:#000000; stroke-width:0.5; stroke-opacity:0.1; fill:none\" points=\"\n",
       "  44.0307,111.099 580.315,111.099 \n",
       "  \"/>\n",
       "<polyline clip-path=\"url(#clip9302)\" style=\"stroke:#000000; stroke-width:0.5; stroke-opacity:0.1; fill:none\" points=\"\n",
       "  44.0307,28.3591 580.315,28.3591 \n",
       "  \"/>\n",
       "<polyline clip-path=\"url(#clip9300)\" style=\"stroke:#000000; stroke-width:1; stroke-opacity:1; fill:none\" points=\"\n",
       "  44.0307,375.869 580.315,375.869 \n",
       "  \"/>\n",
       "<polyline clip-path=\"url(#clip9300)\" style=\"stroke:#000000; stroke-width:1; stroke-opacity:1; fill:none\" points=\"\n",
       "  44.0307,375.869 44.0307,11.811 \n",
       "  \"/>\n",
       "<polyline clip-path=\"url(#clip9300)\" style=\"stroke:#000000; stroke-width:1; stroke-opacity:1; fill:none\" points=\"\n",
       "  69.5681,375.869 69.5681,370.408 \n",
       "  \"/>\n",
       "<polyline clip-path=\"url(#clip9300)\" style=\"stroke:#000000; stroke-width:1; stroke-opacity:1; fill:none\" points=\"\n",
       "  197.255,375.869 197.255,370.408 \n",
       "  \"/>\n",
       "<polyline clip-path=\"url(#clip9300)\" style=\"stroke:#000000; stroke-width:1; stroke-opacity:1; fill:none\" points=\"\n",
       "  324.942,375.869 324.942,370.408 \n",
       "  \"/>\n",
       "<polyline clip-path=\"url(#clip9300)\" style=\"stroke:#000000; stroke-width:1; stroke-opacity:1; fill:none\" points=\"\n",
       "  452.628,375.869 452.628,370.408 \n",
       "  \"/>\n",
       "<polyline clip-path=\"url(#clip9300)\" style=\"stroke:#000000; stroke-width:1; stroke-opacity:1; fill:none\" points=\"\n",
       "  580.315,375.869 580.315,370.408 \n",
       "  \"/>\n",
       "<polyline clip-path=\"url(#clip9300)\" style=\"stroke:#000000; stroke-width:1; stroke-opacity:1; fill:none\" points=\"\n",
       "  44.0307,359.321 52.075,359.321 \n",
       "  \"/>\n",
       "<polyline clip-path=\"url(#clip9300)\" style=\"stroke:#000000; stroke-width:1; stroke-opacity:1; fill:none\" points=\"\n",
       "  44.0307,276.58 52.075,276.58 \n",
       "  \"/>\n",
       "<polyline clip-path=\"url(#clip9300)\" style=\"stroke:#000000; stroke-width:1; stroke-opacity:1; fill:none\" points=\"\n",
       "  44.0307,193.84 52.075,193.84 \n",
       "  \"/>\n",
       "<polyline clip-path=\"url(#clip9300)\" style=\"stroke:#000000; stroke-width:1; stroke-opacity:1; fill:none\" points=\"\n",
       "  44.0307,111.099 52.075,111.099 \n",
       "  \"/>\n",
       "<polyline clip-path=\"url(#clip9300)\" style=\"stroke:#000000; stroke-width:1; stroke-opacity:1; fill:none\" points=\"\n",
       "  44.0307,28.3591 52.075,28.3591 \n",
       "  \"/>\n",
       "<g clip-path=\"url(#clip9300)\">\n",
       "<text style=\"fill:#000000; fill-opacity:1; font-family:Arial,Helvetica Neue,Helvetica,sans-serif; font-size:12; text-anchor:middle;\" transform=\"rotate(0, 69.5681, 389.669)\" x=\"69.5681\" y=\"389.669\">0</text>\n",
       "</g>\n",
       "<g clip-path=\"url(#clip9300)\">\n",
       "<text style=\"fill:#000000; fill-opacity:1; font-family:Arial,Helvetica Neue,Helvetica,sans-serif; font-size:12; text-anchor:middle;\" transform=\"rotate(0, 197.255, 389.669)\" x=\"197.255\" y=\"389.669\">5</text>\n",
       "</g>\n",
       "<g clip-path=\"url(#clip9300)\">\n",
       "<text style=\"fill:#000000; fill-opacity:1; font-family:Arial,Helvetica Neue,Helvetica,sans-serif; font-size:12; text-anchor:middle;\" transform=\"rotate(0, 324.942, 389.669)\" x=\"324.942\" y=\"389.669\">10</text>\n",
       "</g>\n",
       "<g clip-path=\"url(#clip9300)\">\n",
       "<text style=\"fill:#000000; fill-opacity:1; font-family:Arial,Helvetica Neue,Helvetica,sans-serif; font-size:12; text-anchor:middle;\" transform=\"rotate(0, 452.628, 389.669)\" x=\"452.628\" y=\"389.669\">15</text>\n",
       "</g>\n",
       "<g clip-path=\"url(#clip9300)\">\n",
       "<text style=\"fill:#000000; fill-opacity:1; font-family:Arial,Helvetica Neue,Helvetica,sans-serif; font-size:12; text-anchor:middle;\" transform=\"rotate(0, 580.315, 389.669)\" x=\"580.315\" y=\"389.669\">20</text>\n",
       "</g>\n",
       "<g clip-path=\"url(#clip9300)\">\n",
       "<text style=\"fill:#000000; fill-opacity:1; font-family:Arial,Helvetica Neue,Helvetica,sans-serif; font-size:12; text-anchor:end;\" transform=\"rotate(0, 38.0307, 363.821)\" x=\"38.0307\" y=\"363.821\">-10</text>\n",
       "</g>\n",
       "<g clip-path=\"url(#clip9300)\">\n",
       "<text style=\"fill:#000000; fill-opacity:1; font-family:Arial,Helvetica Neue,Helvetica,sans-serif; font-size:12; text-anchor:end;\" transform=\"rotate(0, 38.0307, 281.08)\" x=\"38.0307\" y=\"281.08\">-5</text>\n",
       "</g>\n",
       "<g clip-path=\"url(#clip9300)\">\n",
       "<text style=\"fill:#000000; fill-opacity:1; font-family:Arial,Helvetica Neue,Helvetica,sans-serif; font-size:12; text-anchor:end;\" transform=\"rotate(0, 38.0307, 198.34)\" x=\"38.0307\" y=\"198.34\">0</text>\n",
       "</g>\n",
       "<g clip-path=\"url(#clip9300)\">\n",
       "<text style=\"fill:#000000; fill-opacity:1; font-family:Arial,Helvetica Neue,Helvetica,sans-serif; font-size:12; text-anchor:end;\" transform=\"rotate(0, 38.0307, 115.599)\" x=\"38.0307\" y=\"115.599\">5</text>\n",
       "</g>\n",
       "<g clip-path=\"url(#clip9300)\">\n",
       "<text style=\"fill:#000000; fill-opacity:1; font-family:Arial,Helvetica Neue,Helvetica,sans-serif; font-size:12; text-anchor:end;\" transform=\"rotate(0, 38.0307, 32.8591)\" x=\"38.0307\" y=\"32.8591\">10</text>\n",
       "</g>\n",
       "<polyline clip-path=\"url(#clip9302)\" style=\"stroke:#000000; stroke-width:1; stroke-opacity:1; fill:none\" points=\"\n",
       "  69.5681,28.3591 580.315,28.3591 \n",
       "  \"/>\n",
       "<polyline clip-path=\"url(#clip9302)\" style=\"stroke:#000000; stroke-width:1; stroke-opacity:1; fill:none\" points=\"\n",
       "  69.5681,359.321 580.315,359.321 \n",
       "  \"/>\n",
       "<polyline clip-path=\"url(#clip9302)\" style=\"stroke:#0000ff; stroke-width:1; stroke-opacity:1; fill:none\" points=\"\n",
       "  69.5681,177.292 95.1054,153.495 120.643,135.863 146.18,113.509 171.717,64.069 \n",
       "  \"/>\n",
       "<circle clip-path=\"url(#clip9302)\" style=\"fill:#000000; stroke:none; fill-opacity:1\" cx=\"171.717\" cy=\"64.069\" r=\"4\"/>\n",
       "<circle clip-path=\"url(#clip9302)\" style=\"fill:#0000ff; stroke:none; fill-opacity:1\" cx=\"171.717\" cy=\"64.069\" r=\"3\"/>\n",
       "<polygon clip-path=\"url(#clip9300)\" points=\"\n",
       "420.054,108.291 562.315,108.291 562.315,32.691 420.054,32.691 \n",
       "  \" fill=\"#ffffff\" fill-opacity=\"1\"/>\n",
       "<polyline clip-path=\"url(#clip9300)\" style=\"stroke:#000000; stroke-width:1; stroke-opacity:1; fill:none\" points=\"\n",
       "  420.054,108.291 562.315,108.291 562.315,32.691 420.054,32.691 420.054,108.291 \n",
       "  \"/>\n",
       "<polyline clip-path=\"url(#clip9300)\" style=\"stroke:#000000; stroke-width:1; stroke-opacity:1; fill:none\" points=\"\n",
       "  426.054,47.811 462.054,47.811 \n",
       "  \"/>\n",
       "<g clip-path=\"url(#clip9300)\">\n",
       "<text style=\"fill:#000000; fill-opacity:1; font-family:Arial,Helvetica Neue,Helvetica,sans-serif; font-size:12; text-anchor:start;\" transform=\"rotate(0, 468.054, 52.311)\" x=\"468.054\" y=\"52.311\">thresh+</text>\n",
       "</g>\n",
       "<polyline clip-path=\"url(#clip9300)\" style=\"stroke:#000000; stroke-width:1; stroke-opacity:1; fill:none\" points=\"\n",
       "  426.054,62.931 462.054,62.931 \n",
       "  \"/>\n",
       "<g clip-path=\"url(#clip9300)\">\n",
       "<text style=\"fill:#000000; fill-opacity:1; font-family:Arial,Helvetica Neue,Helvetica,sans-serif; font-size:12; text-anchor:start;\" transform=\"rotate(0, 468.054, 67.431)\" x=\"468.054\" y=\"67.431\">thresh-</text>\n",
       "</g>\n",
       "<polyline clip-path=\"url(#clip9300)\" style=\"stroke:#0000ff; stroke-width:1; stroke-opacity:1; fill:none\" points=\"\n",
       "  426.054,78.051 462.054,78.051 \n",
       "  \"/>\n",
       "<g clip-path=\"url(#clip9300)\">\n",
       "<text style=\"fill:#000000; fill-opacity:1; font-family:Arial,Helvetica Neue,Helvetica,sans-serif; font-size:12; text-anchor:start;\" transform=\"rotate(0, 468.054, 82.551)\" x=\"468.054\" y=\"82.551\">path</text>\n",
       "</g>\n",
       "<circle clip-path=\"url(#clip9300)\" style=\"fill:#000000; stroke:none; fill-opacity:1\" cx=\"447.054\" cy=\"93.171\" r=\"6\"/>\n",
       "<circle clip-path=\"url(#clip9300)\" style=\"fill:#0000ff; stroke:none; fill-opacity:1\" cx=\"447.054\" cy=\"93.171\" r=\"5\"/>\n",
       "<g clip-path=\"url(#clip9300)\">\n",
       "<text style=\"fill:#000000; fill-opacity:1; font-family:Arial,Helvetica Neue,Helvetica,sans-serif; font-size:12; text-anchor:start;\" transform=\"rotate(0, 468.054, 97.671)\" x=\"468.054\" y=\"97.671\">current position</text>\n",
       "</g>\n",
       "</svg>\n"
      ]
     },
     "execution_count": 130,
     "metadata": {},
     "output_type": "execute_result"
    }
   ],
   "source": [
    "plot(mdp, h)"
   ]
  },
  {
   "cell_type": "code",
   "execution_count": 126,
   "metadata": {},
   "outputs": [
    {
     "data": {
      "text/plain": [
       "-13.93185787193715"
      ]
     },
     "execution_count": 126,
     "metadata": {},
     "output_type": "execute_result"
    }
   ],
   "source": [
    "sum(h.reward_hist)"
   ]
  },
  {
   "cell_type": "markdown",
   "metadata": {},
   "source": [
    "## CBTSObserver"
   ]
  },
  {
   "cell_type": "code",
   "execution_count": 61,
   "metadata": {},
   "outputs": [],
   "source": [
    "mdp = Walk1D()\n",
    "observer = AQObserver(1)\n",
    "b = CBTSDPWBandit(mdp; k_action=1.0, alpha_action=0.5, fit_qs=true, observer=observer)\n",
    "solver = ModularSolver(mdp, b; n_iterations=50)\n",
    "policy = solve(solver, mdp);"
   ]
  },
  {
   "cell_type": "code",
   "execution_count": 62,
   "metadata": {},
   "outputs": [
    {
     "data": {
      "text/plain": [
       "(0.6791074260357777, Dict{Symbol,Any}(Pair{Symbol,Any}(:tree_queries, 50),Pair{Symbol,Any}(:search_time_us, 0x0000000000004273),Pair{Symbol,Any}(:best_path, MCTS.BestPathTracker(Any[Walk1DMDP.Walk1DState(1, 0.829287)], Any[0.0187308], -0.919114, Any[], Any[], 0.0, 1.0, 1.0))))"
      ]
     },
     "execution_count": 62,
     "metadata": {},
     "output_type": "execute_result"
    }
   ],
   "source": [
    "s0 = initial_state(mdp, Base.GLOBAL_RNG)\n",
    "a, info = action_info(policy, s0)"
   ]
  },
  {
   "cell_type": "code",
   "execution_count": 63,
   "metadata": {},
   "outputs": [
    {
     "data": {
      "image/svg+xml": [
       "<?xml version=\"1.0\" encoding=\"utf-8\"?>\n",
       "<svg xmlns=\"http://www.w3.org/2000/svg\" xmlns:xlink=\"http://www.w3.org/1999/xlink\" width=\"600\" height=\"400\" viewBox=\"0 0 600 400\">\n",
       "<defs>\n",
       "  <clipPath id=\"clip1700\">\n",
       "    <rect x=\"0\" y=\"0\" width=\"600\" height=\"400\"/>\n",
       "  </clipPath>\n",
       "</defs>\n",
       "<polygon clip-path=\"url(#clip1700)\" points=\"\n",
       "0,400 600,400 600,0 0,0 \n",
       "  \" fill=\"#ffffff\" fill-opacity=\"1\"/>\n",
       "<defs>\n",
       "  <clipPath id=\"clip1701\">\n",
       "    <rect x=\"120\" y=\"0\" width=\"421\" height=\"400\"/>\n",
       "  </clipPath>\n",
       "</defs>\n",
       "<polygon clip-path=\"url(#clip1700)\" points=\"\n",
       "59.7788,360.121 580.315,360.121 580.315,31.4961 59.7788,31.4961 \n",
       "  \" fill=\"#ffffff\" fill-opacity=\"1\"/>\n",
       "<defs>\n",
       "  <clipPath id=\"clip1702\">\n",
       "    <rect x=\"59\" y=\"31\" width=\"522\" height=\"330\"/>\n",
       "  </clipPath>\n",
       "</defs>\n",
       "<polyline clip-path=\"url(#clip1702)\" style=\"stroke:#000000; stroke-width:0.5; stroke-opacity:0.1; fill:none\" points=\"\n",
       "  113.475,360.121 113.475,31.4961 \n",
       "  \"/>\n",
       "<polyline clip-path=\"url(#clip1702)\" style=\"stroke:#000000; stroke-width:0.5; stroke-opacity:0.1; fill:none\" points=\"\n",
       "  196.844,360.121 196.844,31.4961 \n",
       "  \"/>\n",
       "<polyline clip-path=\"url(#clip1702)\" style=\"stroke:#000000; stroke-width:0.5; stroke-opacity:0.1; fill:none\" points=\"\n",
       "  280.212,360.121 280.212,31.4961 \n",
       "  \"/>\n",
       "<polyline clip-path=\"url(#clip1702)\" style=\"stroke:#000000; stroke-width:0.5; stroke-opacity:0.1; fill:none\" points=\"\n",
       "  363.581,360.121 363.581,31.4961 \n",
       "  \"/>\n",
       "<polyline clip-path=\"url(#clip1702)\" style=\"stroke:#000000; stroke-width:0.5; stroke-opacity:0.1; fill:none\" points=\"\n",
       "  446.95,360.121 446.95,31.4961 \n",
       "  \"/>\n",
       "<polyline clip-path=\"url(#clip1702)\" style=\"stroke:#000000; stroke-width:0.5; stroke-opacity:0.1; fill:none\" points=\"\n",
       "  530.319,360.121 530.319,31.4961 \n",
       "  \"/>\n",
       "<polyline clip-path=\"url(#clip1702)\" style=\"stroke:#000000; stroke-width:0.5; stroke-opacity:0.1; fill:none\" points=\"\n",
       "  59.7788,330.862 580.315,330.862 \n",
       "  \"/>\n",
       "<polyline clip-path=\"url(#clip1702)\" style=\"stroke:#000000; stroke-width:0.5; stroke-opacity:0.1; fill:none\" points=\"\n",
       "  59.7788,268.747 580.315,268.747 \n",
       "  \"/>\n",
       "<polyline clip-path=\"url(#clip1702)\" style=\"stroke:#000000; stroke-width:0.5; stroke-opacity:0.1; fill:none\" points=\"\n",
       "  59.7788,206.631 580.315,206.631 \n",
       "  \"/>\n",
       "<polyline clip-path=\"url(#clip1702)\" style=\"stroke:#000000; stroke-width:0.5; stroke-opacity:0.1; fill:none\" points=\"\n",
       "  59.7788,144.516 580.315,144.516 \n",
       "  \"/>\n",
       "<polyline clip-path=\"url(#clip1702)\" style=\"stroke:#000000; stroke-width:0.5; stroke-opacity:0.1; fill:none\" points=\"\n",
       "  59.7788,82.4004 580.315,82.4004 \n",
       "  \"/>\n",
       "<polyline clip-path=\"url(#clip1700)\" style=\"stroke:#000000; stroke-width:1; stroke-opacity:1; fill:none\" points=\"\n",
       "  59.7788,360.121 580.315,360.121 \n",
       "  \"/>\n",
       "<polyline clip-path=\"url(#clip1700)\" style=\"stroke:#000000; stroke-width:1; stroke-opacity:1; fill:none\" points=\"\n",
       "  59.7788,360.121 59.7788,31.4961 \n",
       "  \"/>\n",
       "<polyline clip-path=\"url(#clip1700)\" style=\"stroke:#000000; stroke-width:1; stroke-opacity:1; fill:none\" points=\"\n",
       "  113.475,360.121 113.475,355.191 \n",
       "  \"/>\n",
       "<polyline clip-path=\"url(#clip1700)\" style=\"stroke:#000000; stroke-width:1; stroke-opacity:1; fill:none\" points=\"\n",
       "  196.844,360.121 196.844,355.191 \n",
       "  \"/>\n",
       "<polyline clip-path=\"url(#clip1700)\" style=\"stroke:#000000; stroke-width:1; stroke-opacity:1; fill:none\" points=\"\n",
       "  280.212,360.121 280.212,355.191 \n",
       "  \"/>\n",
       "<polyline clip-path=\"url(#clip1700)\" style=\"stroke:#000000; stroke-width:1; stroke-opacity:1; fill:none\" points=\"\n",
       "  363.581,360.121 363.581,355.191 \n",
       "  \"/>\n",
       "<polyline clip-path=\"url(#clip1700)\" style=\"stroke:#000000; stroke-width:1; stroke-opacity:1; fill:none\" points=\"\n",
       "  446.95,360.121 446.95,355.191 \n",
       "  \"/>\n",
       "<polyline clip-path=\"url(#clip1700)\" style=\"stroke:#000000; stroke-width:1; stroke-opacity:1; fill:none\" points=\"\n",
       "  530.319,360.121 530.319,355.191 \n",
       "  \"/>\n",
       "<polyline clip-path=\"url(#clip1700)\" style=\"stroke:#000000; stroke-width:1; stroke-opacity:1; fill:none\" points=\"\n",
       "  59.7788,330.862 67.5868,330.862 \n",
       "  \"/>\n",
       "<polyline clip-path=\"url(#clip1700)\" style=\"stroke:#000000; stroke-width:1; stroke-opacity:1; fill:none\" points=\"\n",
       "  59.7788,268.747 67.5868,268.747 \n",
       "  \"/>\n",
       "<polyline clip-path=\"url(#clip1700)\" style=\"stroke:#000000; stroke-width:1; stroke-opacity:1; fill:none\" points=\"\n",
       "  59.7788,206.631 67.5868,206.631 \n",
       "  \"/>\n",
       "<polyline clip-path=\"url(#clip1700)\" style=\"stroke:#000000; stroke-width:1; stroke-opacity:1; fill:none\" points=\"\n",
       "  59.7788,144.516 67.5868,144.516 \n",
       "  \"/>\n",
       "<polyline clip-path=\"url(#clip1700)\" style=\"stroke:#000000; stroke-width:1; stroke-opacity:1; fill:none\" points=\"\n",
       "  59.7788,82.4004 67.5868,82.4004 \n",
       "  \"/>\n",
       "<g clip-path=\"url(#clip1700)\">\n",
       "<text style=\"fill:#000000; fill-opacity:1; font-family:Arial,Helvetica Neue,Helvetica,sans-serif; font-size:12; text-anchor:middle;\" transform=\"rotate(0, 113.475, 373.921)\" x=\"113.475\" y=\"373.921\">-3</text>\n",
       "</g>\n",
       "<g clip-path=\"url(#clip1700)\">\n",
       "<text style=\"fill:#000000; fill-opacity:1; font-family:Arial,Helvetica Neue,Helvetica,sans-serif; font-size:12; text-anchor:middle;\" transform=\"rotate(0, 196.844, 373.921)\" x=\"196.844\" y=\"373.921\">-2</text>\n",
       "</g>\n",
       "<g clip-path=\"url(#clip1700)\">\n",
       "<text style=\"fill:#000000; fill-opacity:1; font-family:Arial,Helvetica Neue,Helvetica,sans-serif; font-size:12; text-anchor:middle;\" transform=\"rotate(0, 280.212, 373.921)\" x=\"280.212\" y=\"373.921\">-1</text>\n",
       "</g>\n",
       "<g clip-path=\"url(#clip1700)\">\n",
       "<text style=\"fill:#000000; fill-opacity:1; font-family:Arial,Helvetica Neue,Helvetica,sans-serif; font-size:12; text-anchor:middle;\" transform=\"rotate(0, 363.581, 373.921)\" x=\"363.581\" y=\"373.921\">0</text>\n",
       "</g>\n",
       "<g clip-path=\"url(#clip1700)\">\n",
       "<text style=\"fill:#000000; fill-opacity:1; font-family:Arial,Helvetica Neue,Helvetica,sans-serif; font-size:12; text-anchor:middle;\" transform=\"rotate(0, 446.95, 373.921)\" x=\"446.95\" y=\"373.921\">1</text>\n",
       "</g>\n",
       "<g clip-path=\"url(#clip1700)\">\n",
       "<text style=\"fill:#000000; fill-opacity:1; font-family:Arial,Helvetica Neue,Helvetica,sans-serif; font-size:12; text-anchor:middle;\" transform=\"rotate(0, 530.319, 373.921)\" x=\"530.319\" y=\"373.921\">2</text>\n",
       "</g>\n",
       "<g clip-path=\"url(#clip1700)\">\n",
       "<text style=\"fill:#000000; fill-opacity:1; font-family:Arial,Helvetica Neue,Helvetica,sans-serif; font-size:12; text-anchor:end;\" transform=\"rotate(0, 53.7788, 335.362)\" x=\"53.7788\" y=\"335.362\">-40</text>\n",
       "</g>\n",
       "<g clip-path=\"url(#clip1700)\">\n",
       "<text style=\"fill:#000000; fill-opacity:1; font-family:Arial,Helvetica Neue,Helvetica,sans-serif; font-size:12; text-anchor:end;\" transform=\"rotate(0, 53.7788, 273.247)\" x=\"53.7788\" y=\"273.247\">-39</text>\n",
       "</g>\n",
       "<g clip-path=\"url(#clip1700)\">\n",
       "<text style=\"fill:#000000; fill-opacity:1; font-family:Arial,Helvetica Neue,Helvetica,sans-serif; font-size:12; text-anchor:end;\" transform=\"rotate(0, 53.7788, 211.131)\" x=\"53.7788\" y=\"211.131\">-38</text>\n",
       "</g>\n",
       "<g clip-path=\"url(#clip1700)\">\n",
       "<text style=\"fill:#000000; fill-opacity:1; font-family:Arial,Helvetica Neue,Helvetica,sans-serif; font-size:12; text-anchor:end;\" transform=\"rotate(0, 53.7788, 149.016)\" x=\"53.7788\" y=\"149.016\">-37</text>\n",
       "</g>\n",
       "<g clip-path=\"url(#clip1700)\">\n",
       "<text style=\"fill:#000000; fill-opacity:1; font-family:Arial,Helvetica Neue,Helvetica,sans-serif; font-size:12; text-anchor:end;\" transform=\"rotate(0, 53.7788, 86.9004)\" x=\"53.7788\" y=\"86.9004\">-36</text>\n",
       "</g>\n",
       "<g clip-path=\"url(#clip1700)\">\n",
       "<text style=\"fill:#000000; fill-opacity:1; font-family:Arial,Helvetica Neue,Helvetica,sans-serif; font-size:21; text-anchor:middle;\" transform=\"rotate(0, 320.047, 18)\" x=\"320.047\" y=\"18\">n=50</text>\n",
       "</g>\n",
       "<g clip-path=\"url(#clip1700)\">\n",
       "<text style=\"fill:#000000; fill-opacity:1; font-family:Arial,Helvetica Neue,Helvetica,sans-serif; font-size:16; text-anchor:middle;\" transform=\"rotate(0, 320.047, 397.6)\" x=\"320.047\" y=\"397.6\">action</text>\n",
       "</g>\n",
       "<g clip-path=\"url(#clip1700)\">\n",
       "<text style=\"fill:#000000; fill-opacity:1; font-family:Arial,Helvetica Neue,Helvetica,sans-serif; font-size:16; text-anchor:middle;\" transform=\"rotate(-90, 14.4, 195.808)\" x=\"14.4\" y=\"195.808\">q</text>\n",
       "</g>\n",
       "<circle clip-path=\"url(#clip1702)\" style=\"fill:#000000; stroke:none; fill-opacity:1\" cx=\"420.197\" cy=\"40.7968\" r=\"4\"/>\n",
       "<circle clip-path=\"url(#clip1702)\" style=\"fill:#009af9; stroke:none; fill-opacity:1\" cx=\"420.197\" cy=\"40.7968\" r=\"3\"/>\n",
       "<circle clip-path=\"url(#clip1702)\" style=\"fill:#000000; stroke:none; fill-opacity:1\" cx=\"74.5109\" cy=\"208.25\" r=\"4\"/>\n",
       "<circle clip-path=\"url(#clip1702)\" style=\"fill:#009af9; stroke:none; fill-opacity:1\" cx=\"74.5109\" cy=\"208.25\" r=\"3\"/>\n",
       "<circle clip-path=\"url(#clip1702)\" style=\"fill:#000000; stroke:none; fill-opacity:1\" cx=\"565.583\" cy=\"350.82\" r=\"4\"/>\n",
       "<circle clip-path=\"url(#clip1702)\" style=\"fill:#009af9; stroke:none; fill-opacity:1\" cx=\"565.583\" cy=\"350.82\" r=\"3\"/>\n",
       "<circle clip-path=\"url(#clip1702)\" style=\"fill:#000000; stroke:none; fill-opacity:1\" cx=\"252.491\" cy=\"202.282\" r=\"4\"/>\n",
       "<circle clip-path=\"url(#clip1702)\" style=\"fill:#009af9; stroke:none; fill-opacity:1\" cx=\"252.491\" cy=\"202.282\" r=\"3\"/>\n",
       "<circle clip-path=\"url(#clip1702)\" style=\"fill:#000000; stroke:none; fill-opacity:1\" cx=\"349.349\" cy=\"158.004\" r=\"4\"/>\n",
       "<circle clip-path=\"url(#clip1702)\" style=\"fill:#009af9; stroke:none; fill-opacity:1\" cx=\"349.349\" cy=\"158.004\" r=\"3\"/>\n",
       "<circle clip-path=\"url(#clip1702)\" style=\"fill:#000000; stroke:none; fill-opacity:1\" cx=\"185.561\" cy=\"287.336\" r=\"4\"/>\n",
       "<circle clip-path=\"url(#clip1702)\" style=\"fill:#009af9; stroke:none; fill-opacity:1\" cx=\"185.561\" cy=\"287.336\" r=\"3\"/>\n",
       "<circle clip-path=\"url(#clip1702)\" style=\"fill:#000000; stroke:none; fill-opacity:1\" cx=\"442.714\" cy=\"193.058\" r=\"4\"/>\n",
       "<circle clip-path=\"url(#clip1702)\" style=\"fill:#009af9; stroke:none; fill-opacity:1\" cx=\"442.714\" cy=\"193.058\" r=\"3\"/>\n",
       "<circle clip-path=\"url(#clip1702)\" style=\"fill:#000000; stroke:none; fill-opacity:1\" cx=\"369.883\" cy=\"241.579\" r=\"4\"/>\n",
       "<circle clip-path=\"url(#clip1702)\" style=\"fill:#009af9; stroke:none; fill-opacity:1\" cx=\"369.883\" cy=\"241.579\" r=\"3\"/>\n",
       "<polygon clip-path=\"url(#clip1700)\" points=\"\n",
       "489.608,82.6161 562.315,82.6161 562.315,52.3761 489.608,52.3761 \n",
       "  \" fill=\"#ffffff\" fill-opacity=\"1\"/>\n",
       "<polyline clip-path=\"url(#clip1700)\" style=\"stroke:#000000; stroke-width:1; stroke-opacity:1; fill:none\" points=\"\n",
       "  489.608,82.6161 562.315,82.6161 562.315,52.3761 489.608,52.3761 489.608,82.6161 \n",
       "  \"/>\n",
       "<circle clip-path=\"url(#clip1700)\" style=\"fill:#000000; stroke:none; fill-opacity:1\" cx=\"516.608\" cy=\"67.4961\" r=\"6\"/>\n",
       "<circle clip-path=\"url(#clip1700)\" style=\"fill:#009af9; stroke:none; fill-opacity:1\" cx=\"516.608\" cy=\"67.4961\" r=\"5\"/>\n",
       "<g clip-path=\"url(#clip1700)\">\n",
       "<text style=\"fill:#000000; fill-opacity:1; font-family:Arial,Helvetica Neue,Helvetica,sans-serif; font-size:12; text-anchor:start;\" transform=\"rotate(0, 537.608, 71.9961)\" x=\"537.608\" y=\"71.9961\">y1</text>\n",
       "</g>\n",
       "</svg>\n"
      ]
     },
     "execution_count": 63,
     "metadata": {},
     "output_type": "execute_result"
    }
   ],
   "source": [
    "plot(observer, 50)"
   ]
  },
  {
   "cell_type": "code",
   "execution_count": 64,
   "metadata": {},
   "outputs": [
    {
     "name": "stderr",
     "output_type": "stream",
     "text": [
      "\u001b[1m\u001b[36mINFO: \u001b[39m\u001b[22m\u001b[36mSaved animation to /Users/rlee18/.julia/v0.6/CMDPs/notebooks/aqobserver.gif\n",
      "\u001b[39m"
     ]
    },
    {
     "data": {
      "text/html": [
       "<img src=\"aqobserver.gif?0.315851304959339>\" />"
      ],
      "text/plain": [
       "Plots.AnimatedGif(\"/Users/rlee18/.julia/v0.6/CMDPs/notebooks/aqobserver.gif\")"
      ]
     },
     "execution_count": 64,
     "metadata": {},
     "output_type": "execute_result"
    }
   ],
   "source": [
    "animate(observer; fps=4)"
   ]
  },
  {
   "cell_type": "code",
   "execution_count": 65,
   "metadata": {},
   "outputs": [
    {
     "data": {
      "text/plain": [
       "4-element Array{Float64,1}:\n",
       "  0.679107\n",
       " -3.46737 \n",
       "  2.42299 \n",
       " -1.33252 "
      ]
     },
     "execution_count": 65,
     "metadata": {},
     "output_type": "execute_result"
    }
   ],
   "source": [
    "observer.Xs[10]"
   ]
  },
  {
   "cell_type": "code",
   "execution_count": 66,
   "metadata": {},
   "outputs": [
    {
     "data": {
      "text/plain": [
       "3-element Array{Float64,1}:\n",
       " -27.8906\n",
       " -37.169 \n",
       " -40.3213"
      ]
     },
     "execution_count": 66,
     "metadata": {},
     "output_type": "execute_result"
    }
   ],
   "source": [
    "observer.ys[5]"
   ]
  },
  {
   "cell_type": "code",
   "execution_count": null,
   "metadata": {},
   "outputs": [],
   "source": []
  },
  {
   "cell_type": "code",
   "execution_count": null,
   "metadata": {},
   "outputs": [],
   "source": []
  }
 ],
 "metadata": {
  "kernelspec": {
   "display_name": "Julia 0.6.2",
   "language": "julia",
   "name": "julia-0.6"
  },
  "language_info": {
   "file_extension": ".jl",
   "mimetype": "application/julia",
   "name": "julia",
   "version": "0.6.2"
  }
 },
 "nbformat": 4,
 "nbformat_minor": 2
}
