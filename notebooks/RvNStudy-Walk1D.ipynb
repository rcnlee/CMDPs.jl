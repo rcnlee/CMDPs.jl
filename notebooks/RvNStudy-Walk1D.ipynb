{
 "cells": [
  {
   "cell_type": "code",
   "execution_count": 1,
   "metadata": {},
   "outputs": [
    {
     "data": {
      "text/plain": [
       "Plots.GRBackend()"
      ]
     },
     "execution_count": 1,
     "metadata": {},
     "output_type": "execute_result"
    }
   ],
   "source": [
    "#using Revise\n",
    "addprocs(4)\n",
    "using Walk1DMDP, CMDPs\n",
    "using POMDPs, POMDPToolbox, MCTS\n",
    "using DataFrames\n",
    "using Plots; gr()"
   ]
  },
  {
   "cell_type": "raw",
   "metadata": {},
   "source": [
    "mdp = Walk1D()\n",
    "b = DPWBandit(mdp)\n",
    "solver = ModularSolver(mdp, b)\n",
    "policy = solve(solver, mdp);"
   ]
  },
  {
   "cell_type": "raw",
   "metadata": {},
   "source": [
    "#s0 = initial_state(mdp, Base.GLOBAL_RNG)\n",
    "#a, info = action_info(policy, s0)\n",
    "#best_path = info[:best_path]\n",
    "#policy = BPTrackerPolicy(best_path)"
   ]
  },
  {
   "cell_type": "raw",
   "metadata": {},
   "source": [
    "s0 = initial_state(mdp, Base.GLOBAL_RNG)"
   ]
  },
  {
   "cell_type": "raw",
   "metadata": {},
   "source": [
    "hr = HistoryRecorder(; rng=Base.GLOBAL_RNG)\n",
    "h = simulate(hr, mdp, policy, s0);"
   ]
  },
  {
   "cell_type": "raw",
   "metadata": {},
   "source": [
    "plot(mdp, h)"
   ]
  },
  {
   "cell_type": "code",
   "execution_count": 2,
   "metadata": {},
   "outputs": [],
   "source": [
    "## Study"
   ]
  },
  {
   "cell_type": "code",
   "execution_count": 3,
   "metadata": {},
   "outputs": [
    {
     "data": {
      "text/plain": [
       "CMDPs.RewardvsN\n",
       "  mdp: Walk1DMDP.Walk1D\n",
       "  bandits: Array{DataType}((3,))\n",
       "  n_seeds: Int64 200\n",
       "  n_iters: Array{Int64}((9,)) [10, 20, 50, 100, 200, 400, 700, 1000, 1250]\n",
       "  max_steps: Int64 20\n"
      ]
     },
     "execution_count": 3,
     "metadata": {},
     "output_type": "execute_result"
    }
   ],
   "source": [
    "study = RewardvsN(Walk1D)"
   ]
  },
  {
   "cell_type": "code",
   "execution_count": null,
   "metadata": {},
   "outputs": [],
   "source": [
    "result = run_study(study)"
   ]
  },
  {
   "cell_type": "code",
   "execution_count": null,
   "metadata": {},
   "outputs": [],
   "source": [
    "p=plot(result)"
   ]
  },
  {
   "cell_type": "code",
   "execution_count": null,
   "metadata": {},
   "outputs": [],
   "source": [
    "savefig(p, \"./RvN_Walk1d.pdf\")"
   ]
  },
  {
   "cell_type": "code",
   "execution_count": null,
   "metadata": {},
   "outputs": [],
   "source": []
  },
  {
   "cell_type": "code",
   "execution_count": null,
   "metadata": {},
   "outputs": [],
   "source": []
  }
 ],
 "metadata": {
  "kernelspec": {
   "display_name": "Julia 0.6.2",
   "language": "julia",
   "name": "julia-0.6"
  },
  "language_info": {
   "file_extension": ".jl",
   "mimetype": "application/julia",
   "name": "julia",
   "version": "0.6.2"
  }
 },
 "nbformat": 4,
 "nbformat_minor": 2
}
