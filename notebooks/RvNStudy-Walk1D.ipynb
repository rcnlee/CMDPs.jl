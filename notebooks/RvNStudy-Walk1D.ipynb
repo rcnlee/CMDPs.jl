{
 "cells": [
  {
   "cell_type": "code",
   "execution_count": 1,
   "metadata": {},
   "outputs": [
    {
     "data": {
      "text/plain": [
       "Plots.GRBackend()"
      ]
     },
     "execution_count": 1,
     "metadata": {},
     "output_type": "execute_result"
    }
   ],
   "source": [
    "#using Revise\n",
    "addprocs(4)\n",
    "using Walk1DMDP, CMDPs\n",
    "using POMDPs, POMDPToolbox, MCTS\n",
    "using DataFrames\n",
    "using Plots; gr()"
   ]
  },
  {
   "cell_type": "code",
   "execution_count": 2,
   "metadata": {},
   "outputs": [],
   "source": [
    "mdp = Walk1D()\n",
    "b = DPWBandit(mdp)\n",
    "solver = ModularSolver(mdp, b)\n",
    "policy = solve(solver, mdp);"
   ]
  },
  {
   "cell_type": "raw",
   "metadata": {},
   "source": [
    "#s0 = initial_state(mdp, Base.GLOBAL_RNG)\n",
    "#a, info = action_info(policy, s0)\n",
    "#best_path = info[:best_path]\n",
    "#policy = BPTrackerPolicy(best_path)"
   ]
  },
  {
   "cell_type": "code",
   "execution_count": 3,
   "metadata": {},
   "outputs": [
    {
     "data": {
      "text/plain": [
       "Walk1DMDP.Walk1DState(0, 1.0)"
      ]
     },
     "execution_count": 3,
     "metadata": {},
     "output_type": "execute_result"
    }
   ],
   "source": [
    "s0 = initial_state(mdp, Base.GLOBAL_RNG)"
   ]
  },
  {
   "cell_type": "raw",
   "metadata": {},
   "source": [
    "hr = HistoryRecorder(; rng=Base.GLOBAL_RNG)\n",
    "h = simulate(hr, mdp, policy, s0);"
   ]
  },
  {
   "cell_type": "raw",
   "metadata": {},
   "source": [
    "plot(mdp, h)"
   ]
  },
  {
   "cell_type": "code",
   "execution_count": 4,
   "metadata": {},
   "outputs": [],
   "source": [
    "## Study"
   ]
  },
  {
   "cell_type": "code",
   "execution_count": 5,
   "metadata": {},
   "outputs": [
    {
     "data": {
      "text/plain": [
       "CMDPs.RewardvsN\n",
       "  mdp: Walk1DMDP.Walk1D\n",
       "  bandits: Array{DataType}((1,))\n",
       "  n_seeds: Int64 200\n",
       "  n_iters: Array{Int64}((9,)) [10, 20, 50, 100, 200, 400, 700, 1000, 1250]\n",
       "  max_steps: Int64 20\n"
      ]
     },
     "execution_count": 5,
     "metadata": {},
     "output_type": "execute_result"
    }
   ],
   "source": [
    "study = RewardvsN(Walk1D)"
   ]
  },
  {
   "cell_type": "code",
   "execution_count": 6,
   "metadata": {},
   "outputs": [
    {
     "data": {
      "text/plain": [
       "CMDPs.RewardvsNResult(\"Walk1D\", 1800×4 DataFrames.DataFrame\n",
       "│ Row  │ alg            │ seed │ n_iters │ r_total  │\n",
       "├──────┼────────────────┼──────┼─────────┼──────────┤\n",
       "│ 1    │ MCTS.DPWBandit │ 1    │ 10      │ -27.6585 │\n",
       "│ 2    │ MCTS.DPWBandit │ 2    │ 10      │ -29.8957 │\n",
       "│ 3    │ MCTS.DPWBandit │ 3    │ 10      │ -23.9022 │\n",
       "│ 4    │ MCTS.DPWBandit │ 4    │ 10      │ -27.3773 │\n",
       "│ 5    │ MCTS.DPWBandit │ 5    │ 10      │ -25.6775 │\n",
       "│ 6    │ MCTS.DPWBandit │ 6    │ 10      │ -29.0863 │\n",
       "│ 7    │ MCTS.DPWBandit │ 7    │ 10      │ -26.9676 │\n",
       "│ 8    │ MCTS.DPWBandit │ 8    │ 10      │ -22.4653 │\n",
       "│ 9    │ MCTS.DPWBandit │ 9    │ 10      │ -25.9422 │\n",
       "│ 10   │ MCTS.DPWBandit │ 10   │ 10      │ -19.9712 │\n",
       "│ 11   │ MCTS.DPWBandit │ 11   │ 10      │ -19.3869 │\n",
       "⋮\n",
       "│ 1789 │ MCTS.DPWBandit │ 189  │ 1250    │ -14.1886 │\n",
       "│ 1790 │ MCTS.DPWBandit │ 190  │ 1250    │ -13.0173 │\n",
       "│ 1791 │ MCTS.DPWBandit │ 191  │ 1250    │ -14.5116 │\n",
       "│ 1792 │ MCTS.DPWBandit │ 192  │ 1250    │ -12.8721 │\n",
       "│ 1793 │ MCTS.DPWBandit │ 193  │ 1250    │ -14.9031 │\n",
       "│ 1794 │ MCTS.DPWBandit │ 194  │ 1250    │ -18.113  │\n",
       "│ 1795 │ MCTS.DPWBandit │ 195  │ 1250    │ -13.8186 │\n",
       "│ 1796 │ MCTS.DPWBandit │ 196  │ 1250    │ -13.8832 │\n",
       "│ 1797 │ MCTS.DPWBandit │ 197  │ 1250    │ -13.6859 │\n",
       "│ 1798 │ MCTS.DPWBandit │ 198  │ 1250    │ -17.3664 │\n",
       "│ 1799 │ MCTS.DPWBandit │ 199  │ 1250    │ -14.626  │\n",
       "│ 1800 │ MCTS.DPWBandit │ 200  │ 1250    │ -13.8356 │)"
      ]
     },
     "execution_count": 6,
     "metadata": {},
     "output_type": "execute_result"
    }
   ],
   "source": [
    "result = run_study(study)"
   ]
  },
  {
   "cell_type": "code",
   "execution_count": 7,
   "metadata": {},
   "outputs": [
    {
     "data": {
      "image/svg+xml": [
       "<?xml version=\"1.0\" encoding=\"utf-8\"?>\n",
       "<svg xmlns=\"http://www.w3.org/2000/svg\" xmlns:xlink=\"http://www.w3.org/1999/xlink\" width=\"600\" height=\"400\" viewBox=\"0 0 600 400\">\n",
       "<defs>\n",
       "  <clipPath id=\"clip1000\">\n",
       "    <rect x=\"0\" y=\"0\" width=\"600\" height=\"400\"/>\n",
       "  </clipPath>\n",
       "</defs>\n",
       "<polygon clip-path=\"url(#clip1000)\" points=\"\n",
       "0,400 600,400 600,0 0,0 \n",
       "  \" fill=\"#ffffff\" fill-opacity=\"1\"/>\n",
       "<defs>\n",
       "  <clipPath id=\"clip1001\">\n",
       "    <rect x=\"120\" y=\"0\" width=\"421\" height=\"400\"/>\n",
       "  </clipPath>\n",
       "</defs>\n",
       "<polygon clip-path=\"url(#clip1000)\" points=\"\n",
       "59.7788,360.121 580.315,360.121 580.315,31.4961 59.7788,31.4961 \n",
       "  \" fill=\"#ffffff\" fill-opacity=\"1\"/>\n",
       "<defs>\n",
       "  <clipPath id=\"clip1002\">\n",
       "    <rect x=\"59\" y=\"31\" width=\"522\" height=\"330\"/>\n",
       "  </clipPath>\n",
       "</defs>\n",
       "<polyline clip-path=\"url(#clip1002)\" style=\"stroke:#000000; stroke-width:0.5; stroke-opacity:0.1; fill:none\" points=\"\n",
       "  70.5507,360.121 70.5507,31.4961 \n",
       "  \"/>\n",
       "<polyline clip-path=\"url(#clip1002)\" style=\"stroke:#000000; stroke-width:0.5; stroke-opacity:0.1; fill:none\" points=\"\n",
       "  149.756,360.121 149.756,31.4961 \n",
       "  \"/>\n",
       "<polyline clip-path=\"url(#clip1002)\" style=\"stroke:#000000; stroke-width:0.5; stroke-opacity:0.1; fill:none\" points=\"\n",
       "  228.961,360.121 228.961,31.4961 \n",
       "  \"/>\n",
       "<polyline clip-path=\"url(#clip1002)\" style=\"stroke:#000000; stroke-width:0.5; stroke-opacity:0.1; fill:none\" points=\"\n",
       "  308.166,360.121 308.166,31.4961 \n",
       "  \"/>\n",
       "<polyline clip-path=\"url(#clip1002)\" style=\"stroke:#000000; stroke-width:0.5; stroke-opacity:0.1; fill:none\" points=\"\n",
       "  387.371,360.121 387.371,31.4961 \n",
       "  \"/>\n",
       "<polyline clip-path=\"url(#clip1002)\" style=\"stroke:#000000; stroke-width:0.5; stroke-opacity:0.1; fill:none\" points=\"\n",
       "  466.576,360.121 466.576,31.4961 \n",
       "  \"/>\n",
       "<polyline clip-path=\"url(#clip1002)\" style=\"stroke:#000000; stroke-width:0.5; stroke-opacity:0.1; fill:none\" points=\"\n",
       "  545.782,360.121 545.782,31.4961 \n",
       "  \"/>\n",
       "<polyline clip-path=\"url(#clip1002)\" style=\"stroke:#000000; stroke-width:0.5; stroke-opacity:0.1; fill:none\" points=\"\n",
       "  59.7788,310.928 580.315,310.928 \n",
       "  \"/>\n",
       "<polyline clip-path=\"url(#clip1002)\" style=\"stroke:#000000; stroke-width:0.5; stroke-opacity:0.1; fill:none\" points=\"\n",
       "  59.7788,249.05 580.315,249.05 \n",
       "  \"/>\n",
       "<polyline clip-path=\"url(#clip1002)\" style=\"stroke:#000000; stroke-width:0.5; stroke-opacity:0.1; fill:none\" points=\"\n",
       "  59.7788,187.172 580.315,187.172 \n",
       "  \"/>\n",
       "<polyline clip-path=\"url(#clip1002)\" style=\"stroke:#000000; stroke-width:0.5; stroke-opacity:0.1; fill:none\" points=\"\n",
       "  59.7788,125.293 580.315,125.293 \n",
       "  \"/>\n",
       "<polyline clip-path=\"url(#clip1002)\" style=\"stroke:#000000; stroke-width:0.5; stroke-opacity:0.1; fill:none\" points=\"\n",
       "  59.7788,63.4147 580.315,63.4147 \n",
       "  \"/>\n",
       "<polyline clip-path=\"url(#clip1000)\" style=\"stroke:#000000; stroke-width:1; stroke-opacity:1; fill:none\" points=\"\n",
       "  59.7788,360.121 580.315,360.121 \n",
       "  \"/>\n",
       "<polyline clip-path=\"url(#clip1000)\" style=\"stroke:#000000; stroke-width:1; stroke-opacity:1; fill:none\" points=\"\n",
       "  59.7788,360.121 59.7788,31.4961 \n",
       "  \"/>\n",
       "<polyline clip-path=\"url(#clip1000)\" style=\"stroke:#000000; stroke-width:1; stroke-opacity:1; fill:none\" points=\"\n",
       "  70.5507,360.121 70.5507,355.191 \n",
       "  \"/>\n",
       "<polyline clip-path=\"url(#clip1000)\" style=\"stroke:#000000; stroke-width:1; stroke-opacity:1; fill:none\" points=\"\n",
       "  149.756,360.121 149.756,355.191 \n",
       "  \"/>\n",
       "<polyline clip-path=\"url(#clip1000)\" style=\"stroke:#000000; stroke-width:1; stroke-opacity:1; fill:none\" points=\"\n",
       "  228.961,360.121 228.961,355.191 \n",
       "  \"/>\n",
       "<polyline clip-path=\"url(#clip1000)\" style=\"stroke:#000000; stroke-width:1; stroke-opacity:1; fill:none\" points=\"\n",
       "  308.166,360.121 308.166,355.191 \n",
       "  \"/>\n",
       "<polyline clip-path=\"url(#clip1000)\" style=\"stroke:#000000; stroke-width:1; stroke-opacity:1; fill:none\" points=\"\n",
       "  387.371,360.121 387.371,355.191 \n",
       "  \"/>\n",
       "<polyline clip-path=\"url(#clip1000)\" style=\"stroke:#000000; stroke-width:1; stroke-opacity:1; fill:none\" points=\"\n",
       "  466.576,360.121 466.576,355.191 \n",
       "  \"/>\n",
       "<polyline clip-path=\"url(#clip1000)\" style=\"stroke:#000000; stroke-width:1; stroke-opacity:1; fill:none\" points=\"\n",
       "  545.782,360.121 545.782,355.191 \n",
       "  \"/>\n",
       "<polyline clip-path=\"url(#clip1000)\" style=\"stroke:#000000; stroke-width:1; stroke-opacity:1; fill:none\" points=\"\n",
       "  59.7788,310.928 67.5868,310.928 \n",
       "  \"/>\n",
       "<polyline clip-path=\"url(#clip1000)\" style=\"stroke:#000000; stroke-width:1; stroke-opacity:1; fill:none\" points=\"\n",
       "  59.7788,249.05 67.5868,249.05 \n",
       "  \"/>\n",
       "<polyline clip-path=\"url(#clip1000)\" style=\"stroke:#000000; stroke-width:1; stroke-opacity:1; fill:none\" points=\"\n",
       "  59.7788,187.172 67.5868,187.172 \n",
       "  \"/>\n",
       "<polyline clip-path=\"url(#clip1000)\" style=\"stroke:#000000; stroke-width:1; stroke-opacity:1; fill:none\" points=\"\n",
       "  59.7788,125.293 67.5868,125.293 \n",
       "  \"/>\n",
       "<polyline clip-path=\"url(#clip1000)\" style=\"stroke:#000000; stroke-width:1; stroke-opacity:1; fill:none\" points=\"\n",
       "  59.7788,63.4147 67.5868,63.4147 \n",
       "  \"/>\n",
       "<g clip-path=\"url(#clip1000)\">\n",
       "<text style=\"fill:#000000; fill-opacity:1; font-family:Arial,Helvetica Neue,Helvetica,sans-serif; font-size:12; text-anchor:middle;\" transform=\"rotate(0, 70.5507, 373.921)\" x=\"70.5507\" y=\"373.921\">0</text>\n",
       "</g>\n",
       "<g clip-path=\"url(#clip1000)\">\n",
       "<text style=\"fill:#000000; fill-opacity:1; font-family:Arial,Helvetica Neue,Helvetica,sans-serif; font-size:12; text-anchor:middle;\" transform=\"rotate(0, 149.756, 373.921)\" x=\"149.756\" y=\"373.921\">200</text>\n",
       "</g>\n",
       "<g clip-path=\"url(#clip1000)\">\n",
       "<text style=\"fill:#000000; fill-opacity:1; font-family:Arial,Helvetica Neue,Helvetica,sans-serif; font-size:12; text-anchor:middle;\" transform=\"rotate(0, 228.961, 373.921)\" x=\"228.961\" y=\"373.921\">400</text>\n",
       "</g>\n",
       "<g clip-path=\"url(#clip1000)\">\n",
       "<text style=\"fill:#000000; fill-opacity:1; font-family:Arial,Helvetica Neue,Helvetica,sans-serif; font-size:12; text-anchor:middle;\" transform=\"rotate(0, 308.166, 373.921)\" x=\"308.166\" y=\"373.921\">600</text>\n",
       "</g>\n",
       "<g clip-path=\"url(#clip1000)\">\n",
       "<text style=\"fill:#000000; fill-opacity:1; font-family:Arial,Helvetica Neue,Helvetica,sans-serif; font-size:12; text-anchor:middle;\" transform=\"rotate(0, 387.371, 373.921)\" x=\"387.371\" y=\"373.921\">800</text>\n",
       "</g>\n",
       "<g clip-path=\"url(#clip1000)\">\n",
       "<text style=\"fill:#000000; fill-opacity:1; font-family:Arial,Helvetica Neue,Helvetica,sans-serif; font-size:12; text-anchor:middle;\" transform=\"rotate(0, 466.576, 373.921)\" x=\"466.576\" y=\"373.921\">1000</text>\n",
       "</g>\n",
       "<g clip-path=\"url(#clip1000)\">\n",
       "<text style=\"fill:#000000; fill-opacity:1; font-family:Arial,Helvetica Neue,Helvetica,sans-serif; font-size:12; text-anchor:middle;\" transform=\"rotate(0, 545.782, 373.921)\" x=\"545.782\" y=\"373.921\">1200</text>\n",
       "</g>\n",
       "<g clip-path=\"url(#clip1000)\">\n",
       "<text style=\"fill:#000000; fill-opacity:1; font-family:Arial,Helvetica Neue,Helvetica,sans-serif; font-size:12; text-anchor:end;\" transform=\"rotate(0, 53.7788, 315.428)\" x=\"53.7788\" y=\"315.428\">-24</text>\n",
       "</g>\n",
       "<g clip-path=\"url(#clip1000)\">\n",
       "<text style=\"fill:#000000; fill-opacity:1; font-family:Arial,Helvetica Neue,Helvetica,sans-serif; font-size:12; text-anchor:end;\" transform=\"rotate(0, 53.7788, 253.55)\" x=\"53.7788\" y=\"253.55\">-22</text>\n",
       "</g>\n",
       "<g clip-path=\"url(#clip1000)\">\n",
       "<text style=\"fill:#000000; fill-opacity:1; font-family:Arial,Helvetica Neue,Helvetica,sans-serif; font-size:12; text-anchor:end;\" transform=\"rotate(0, 53.7788, 191.672)\" x=\"53.7788\" y=\"191.672\">-20</text>\n",
       "</g>\n",
       "<g clip-path=\"url(#clip1000)\">\n",
       "<text style=\"fill:#000000; fill-opacity:1; font-family:Arial,Helvetica Neue,Helvetica,sans-serif; font-size:12; text-anchor:end;\" transform=\"rotate(0, 53.7788, 129.793)\" x=\"53.7788\" y=\"129.793\">-18</text>\n",
       "</g>\n",
       "<g clip-path=\"url(#clip1000)\">\n",
       "<text style=\"fill:#000000; fill-opacity:1; font-family:Arial,Helvetica Neue,Helvetica,sans-serif; font-size:12; text-anchor:end;\" transform=\"rotate(0, 53.7788, 67.9147)\" x=\"53.7788\" y=\"67.9147\">-16</text>\n",
       "</g>\n",
       "<g clip-path=\"url(#clip1000)\">\n",
       "<text style=\"fill:#000000; fill-opacity:1; font-family:Arial,Helvetica Neue,Helvetica,sans-serif; font-size:21; text-anchor:middle;\" transform=\"rotate(0, 320.047, 18)\" x=\"320.047\" y=\"18\">Walk1D</text>\n",
       "</g>\n",
       "<g clip-path=\"url(#clip1000)\">\n",
       "<text style=\"fill:#000000; fill-opacity:1; font-family:Arial,Helvetica Neue,Helvetica,sans-serif; font-size:16; text-anchor:middle;\" transform=\"rotate(0, 320.047, 397.6)\" x=\"320.047\" y=\"397.6\">number of iterations</text>\n",
       "</g>\n",
       "<g clip-path=\"url(#clip1000)\">\n",
       "<text style=\"fill:#000000; fill-opacity:1; font-family:Arial,Helvetica Neue,Helvetica,sans-serif; font-size:16; text-anchor:middle;\" transform=\"rotate(-90, 14.4, 195.808)\" x=\"14.4\" y=\"195.808\">reward</text>\n",
       "</g>\n",
       "<polyline clip-path=\"url(#clip1002)\" style=\"stroke:#009af9; stroke-width:1; stroke-opacity:1; fill:none\" points=\"\n",
       "  74.5109,341.532 78.4712,261.416 90.352,172.296 110.153,139.605 149.756,82.9142 228.961,88.4539 347.769,56.1164 466.576,50.1021 565.583,45.6034 \n",
       "  \"/>\n",
       "<polyline clip-path=\"url(#clip1002)\" style=\"stroke:#009af9; stroke-width:1; stroke-opacity:1; fill:none\" points=\"\n",
       "  74.5109,350.82 74.5109,332.244 \n",
       "  \"/>\n",
       "<polyline clip-path=\"url(#clip1002)\" style=\"stroke:#009af9; stroke-width:1; stroke-opacity:1; fill:none\" points=\"\n",
       "  78.4712,271.333 78.4712,251.5 \n",
       "  \"/>\n",
       "<polyline clip-path=\"url(#clip1002)\" style=\"stroke:#009af9; stroke-width:1; stroke-opacity:1; fill:none\" points=\"\n",
       "  90.352,181.879 90.352,162.712 \n",
       "  \"/>\n",
       "<polyline clip-path=\"url(#clip1002)\" style=\"stroke:#009af9; stroke-width:1; stroke-opacity:1; fill:none\" points=\"\n",
       "  110.153,148.674 110.153,130.535 \n",
       "  \"/>\n",
       "<polyline clip-path=\"url(#clip1002)\" style=\"stroke:#009af9; stroke-width:1; stroke-opacity:1; fill:none\" points=\"\n",
       "  149.756,89.9647 149.756,75.8638 \n",
       "  \"/>\n",
       "<polyline clip-path=\"url(#clip1002)\" style=\"stroke:#009af9; stroke-width:1; stroke-opacity:1; fill:none\" points=\"\n",
       "  228.961,96.0066 228.961,80.9012 \n",
       "  \"/>\n",
       "<polyline clip-path=\"url(#clip1002)\" style=\"stroke:#009af9; stroke-width:1; stroke-opacity:1; fill:none\" points=\"\n",
       "  347.769,61.4591 347.769,50.7736 \n",
       "  \"/>\n",
       "<polyline clip-path=\"url(#clip1002)\" style=\"stroke:#009af9; stroke-width:1; stroke-opacity:1; fill:none\" points=\"\n",
       "  466.576,55.319 466.576,44.8852 \n",
       "  \"/>\n",
       "<polyline clip-path=\"url(#clip1002)\" style=\"stroke:#009af9; stroke-width:1; stroke-opacity:1; fill:none\" points=\"\n",
       "  565.583,50.41 565.583,40.7968 \n",
       "  \"/>\n",
       "<line clip-path=\"url(#clip1002)\" x1=\"79.5109\" y1=\"350.82\" x2=\"69.5109\" y2=\"350.82\" style=\"stroke:#000000; stroke-opacity:1\"/>\n",
       "<line clip-path=\"url(#clip1002)\" x1=\"79.5109\" y1=\"332.244\" x2=\"69.5109\" y2=\"332.244\" style=\"stroke:#000000; stroke-opacity:1\"/>\n",
       "<line clip-path=\"url(#clip1002)\" x1=\"83.4712\" y1=\"271.333\" x2=\"73.4712\" y2=\"271.333\" style=\"stroke:#000000; stroke-opacity:1\"/>\n",
       "<line clip-path=\"url(#clip1002)\" x1=\"83.4712\" y1=\"251.5\" x2=\"73.4712\" y2=\"251.5\" style=\"stroke:#000000; stroke-opacity:1\"/>\n",
       "<line clip-path=\"url(#clip1002)\" x1=\"95.352\" y1=\"181.879\" x2=\"85.352\" y2=\"181.879\" style=\"stroke:#000000; stroke-opacity:1\"/>\n",
       "<line clip-path=\"url(#clip1002)\" x1=\"95.352\" y1=\"162.712\" x2=\"85.352\" y2=\"162.712\" style=\"stroke:#000000; stroke-opacity:1\"/>\n",
       "<line clip-path=\"url(#clip1002)\" x1=\"115.153\" y1=\"148.674\" x2=\"105.153\" y2=\"148.674\" style=\"stroke:#000000; stroke-opacity:1\"/>\n",
       "<line clip-path=\"url(#clip1002)\" x1=\"115.153\" y1=\"130.535\" x2=\"105.153\" y2=\"130.535\" style=\"stroke:#000000; stroke-opacity:1\"/>\n",
       "<line clip-path=\"url(#clip1002)\" x1=\"154.756\" y1=\"89.9647\" x2=\"144.756\" y2=\"89.9647\" style=\"stroke:#000000; stroke-opacity:1\"/>\n",
       "<line clip-path=\"url(#clip1002)\" x1=\"154.756\" y1=\"75.8638\" x2=\"144.756\" y2=\"75.8638\" style=\"stroke:#000000; stroke-opacity:1\"/>\n",
       "<line clip-path=\"url(#clip1002)\" x1=\"233.961\" y1=\"96.0066\" x2=\"223.961\" y2=\"96.0066\" style=\"stroke:#000000; stroke-opacity:1\"/>\n",
       "<line clip-path=\"url(#clip1002)\" x1=\"233.961\" y1=\"80.9012\" x2=\"223.961\" y2=\"80.9012\" style=\"stroke:#000000; stroke-opacity:1\"/>\n",
       "<line clip-path=\"url(#clip1002)\" x1=\"352.769\" y1=\"61.4591\" x2=\"342.769\" y2=\"61.4591\" style=\"stroke:#000000; stroke-opacity:1\"/>\n",
       "<line clip-path=\"url(#clip1002)\" x1=\"352.769\" y1=\"50.7736\" x2=\"342.769\" y2=\"50.7736\" style=\"stroke:#000000; stroke-opacity:1\"/>\n",
       "<line clip-path=\"url(#clip1002)\" x1=\"471.576\" y1=\"55.319\" x2=\"461.576\" y2=\"55.319\" style=\"stroke:#000000; stroke-opacity:1\"/>\n",
       "<line clip-path=\"url(#clip1002)\" x1=\"471.576\" y1=\"44.8852\" x2=\"461.576\" y2=\"44.8852\" style=\"stroke:#000000; stroke-opacity:1\"/>\n",
       "<line clip-path=\"url(#clip1002)\" x1=\"570.583\" y1=\"50.41\" x2=\"560.583\" y2=\"50.41\" style=\"stroke:#000000; stroke-opacity:1\"/>\n",
       "<line clip-path=\"url(#clip1002)\" x1=\"570.583\" y1=\"40.7968\" x2=\"560.583\" y2=\"40.7968\" style=\"stroke:#000000; stroke-opacity:1\"/>\n",
       "<polygon clip-path=\"url(#clip1000)\" points=\"\n",
       "440.126,324.121 562.315,324.121 562.315,293.881 440.126,293.881 \n",
       "  \" fill=\"#ffffff\" fill-opacity=\"1\"/>\n",
       "<polyline clip-path=\"url(#clip1000)\" style=\"stroke:#000000; stroke-width:1; stroke-opacity:1; fill:none\" points=\"\n",
       "  440.126,324.121 562.315,324.121 562.315,293.881 440.126,293.881 440.126,324.121 \n",
       "  \"/>\n",
       "<polyline clip-path=\"url(#clip1000)\" style=\"stroke:#009af9; stroke-width:1; stroke-opacity:1; fill:none\" points=\"\n",
       "  446.126,309.001 482.126,309.001 \n",
       "  \"/>\n",
       "<g clip-path=\"url(#clip1000)\">\n",
       "<text style=\"fill:#000000; fill-opacity:1; font-family:Arial,Helvetica Neue,Helvetica,sans-serif; font-size:12; text-anchor:start;\" transform=\"rotate(0, 488.126, 313.501)\" x=\"488.126\" y=\"313.501\">DPWBandit</text>\n",
       "</g>\n",
       "</svg>\n"
      ]
     },
     "execution_count": 7,
     "metadata": {},
     "output_type": "execute_result"
    }
   ],
   "source": [
    "plot(result)"
   ]
  },
  {
   "cell_type": "code",
   "execution_count": 8,
   "metadata": {},
   "outputs": [
    {
     "data": {
      "text/plain": [
       "\"Walk1D\""
      ]
     },
     "execution_count": 8,
     "metadata": {},
     "output_type": "execute_result"
    }
   ],
   "source": [
    "result.title"
   ]
  },
  {
   "cell_type": "code",
   "execution_count": null,
   "metadata": {},
   "outputs": [],
   "source": []
  }
 ],
 "metadata": {
  "kernelspec": {
   "display_name": "Julia 0.6.2",
   "language": "julia",
   "name": "julia-0.6"
  },
  "language_info": {
   "file_extension": ".jl",
   "mimetype": "application/julia",
   "name": "julia",
   "version": "0.6.2"
  }
 },
 "nbformat": 4,
 "nbformat_minor": 2
}
