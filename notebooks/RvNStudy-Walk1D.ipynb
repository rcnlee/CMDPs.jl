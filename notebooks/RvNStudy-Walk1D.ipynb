{
 "cells": [
  {
   "cell_type": "code",
   "execution_count": 1,
   "metadata": {},
   "outputs": [
    {
     "data": {
      "text/plain": [
       "Plots.GRBackend()"
      ]
     },
     "execution_count": 1,
     "metadata": {},
     "output_type": "execute_result"
    }
   ],
   "source": [
    "#using Revise\n",
    "addprocs(4)\n",
    "using Walk1DMDP, CMDPs\n",
    "using POMDPs, POMDPToolbox, MCTS\n",
    "using DataFrames\n",
    "using Plots; gr()"
   ]
  },
  {
   "cell_type": "code",
   "execution_count": 2,
   "metadata": {},
   "outputs": [],
   "source": [
    "mdp = Walk1D()\n",
    "b = DPWBandit(mdp)\n",
    "solver = ModularSolver(mdp, b)\n",
    "policy = solve(solver, mdp);"
   ]
  },
  {
   "cell_type": "raw",
   "metadata": {},
   "source": [
    "#s0 = initial_state(mdp, Base.GLOBAL_RNG)\n",
    "#a, info = action_info(policy, s0)\n",
    "#best_path = info[:best_path]\n",
    "#policy = BPTrackerPolicy(best_path)"
   ]
  },
  {
   "cell_type": "code",
   "execution_count": 3,
   "metadata": {},
   "outputs": [
    {
     "data": {
      "text/plain": [
       "Walk1DMDP.Walk1DState(0, 1.0)"
      ]
     },
     "execution_count": 3,
     "metadata": {},
     "output_type": "execute_result"
    }
   ],
   "source": [
    "s0 = initial_state(mdp, Base.GLOBAL_RNG)"
   ]
  },
  {
   "cell_type": "raw",
   "metadata": {},
   "source": [
    "hr = HistoryRecorder(; rng=Base.GLOBAL_RNG)\n",
    "h = simulate(hr, mdp, policy, s0);"
   ]
  },
  {
   "cell_type": "raw",
   "metadata": {},
   "source": [
    "plot(mdp, h)"
   ]
  },
  {
   "cell_type": "code",
   "execution_count": 4,
   "metadata": {},
   "outputs": [],
   "source": [
    "## Study"
   ]
  },
  {
   "cell_type": "code",
   "execution_count": 5,
   "metadata": {},
   "outputs": [
    {
     "data": {
      "text/plain": [
       "CMDPs.RewardvsN\n",
       "  mdp: Walk1DMDP.Walk1D\n",
       "  bandits: Array{DataType}((2,))\n",
       "  n_seeds: Int64 200\n",
       "  n_iters: Array{Int64}((9,)) [10, 20, 50, 100, 200, 400, 700, 1000, 1250]\n",
       "  max_steps: Int64 20\n"
      ]
     },
     "execution_count": 5,
     "metadata": {},
     "output_type": "execute_result"
    }
   ],
   "source": [
    "study = RewardvsN(Walk1D)"
   ]
  },
  {
   "cell_type": "code",
   "execution_count": 6,
   "metadata": {},
   "outputs": [
    {
     "data": {
      "text/plain": [
       "CMDPs.RewardvsNResult(\"Walk1D\", 3600×4 DataFrames.DataFrame\n",
       "│ Row  │ alg          │ seed │ n_iters │ r_total  │\n",
       "├──────┼──────────────┼──────┼─────────┼──────────┤\n",
       "│ 1    │ DPWBandit    │ 1    │ 10      │ -27.8698 │\n",
       "│ 2    │ DPWBandit    │ 2    │ 10      │ -13.8677 │\n",
       "│ 3    │ DPWBandit    │ 3    │ 10      │ -30.889  │\n",
       "│ 4    │ DPWBandit    │ 4    │ 10      │ -26.6742 │\n",
       "│ 5    │ DPWBandit    │ 5    │ 10      │ -26.9654 │\n",
       "│ 6    │ DPWBandit    │ 6    │ 10      │ -27.4496 │\n",
       "│ 7    │ DPWBandit    │ 7    │ 10      │ -28.9221 │\n",
       "│ 8    │ DPWBandit    │ 8    │ 10      │ -26.3596 │\n",
       "│ 9    │ DPWBandit    │ 9    │ 10      │ -27.7939 │\n",
       "│ 10   │ DPWBandit    │ 10   │ 10      │ -23.5331 │\n",
       "│ 11   │ DPWBandit    │ 11   │ 10      │ -26.9117 │\n",
       "⋮\n",
       "│ 3589 │ RandomBandit │ 189  │ 1250    │ -15.8837 │\n",
       "│ 3590 │ RandomBandit │ 190  │ 1250    │ -12.7325 │\n",
       "│ 3591 │ RandomBandit │ 191  │ 1250    │ -13.7353 │\n",
       "│ 3592 │ RandomBandit │ 192  │ 1250    │ -12.6683 │\n",
       "│ 3593 │ RandomBandit │ 193  │ 1250    │ -13.7199 │\n",
       "│ 3594 │ RandomBandit │ 194  │ 1250    │ -13.6592 │\n",
       "│ 3595 │ RandomBandit │ 195  │ 1250    │ -12.8812 │\n",
       "│ 3596 │ RandomBandit │ 196  │ 1250    │ -12.6686 │\n",
       "│ 3597 │ RandomBandit │ 197  │ 1250    │ -13.2783 │\n",
       "│ 3598 │ RandomBandit │ 198  │ 1250    │ -14.6389 │\n",
       "│ 3599 │ RandomBandit │ 199  │ 1250    │ -12.5815 │\n",
       "│ 3600 │ RandomBandit │ 200  │ 1250    │ -13.7066 │)"
      ]
     },
     "execution_count": 6,
     "metadata": {},
     "output_type": "execute_result"
    }
   ],
   "source": [
    "result = run_study(study)"
   ]
  },
  {
   "cell_type": "code",
   "execution_count": 7,
   "metadata": {},
   "outputs": [
    {
     "data": {
      "image/svg+xml": [
       "<?xml version=\"1.0\" encoding=\"utf-8\"?>\n",
       "<svg xmlns=\"http://www.w3.org/2000/svg\" xmlns:xlink=\"http://www.w3.org/1999/xlink\" width=\"600\" height=\"400\" viewBox=\"0 0 600 400\">\n",
       "<defs>\n",
       "  <clipPath id=\"clip4100\">\n",
       "    <rect x=\"0\" y=\"0\" width=\"600\" height=\"400\"/>\n",
       "  </clipPath>\n",
       "</defs>\n",
       "<polygon clip-path=\"url(#clip4100)\" points=\"\n",
       "0,400 600,400 600,0 0,0 \n",
       "  \" fill=\"#ffffff\" fill-opacity=\"1\"/>\n",
       "<defs>\n",
       "  <clipPath id=\"clip4101\">\n",
       "    <rect x=\"120\" y=\"0\" width=\"421\" height=\"400\"/>\n",
       "  </clipPath>\n",
       "</defs>\n",
       "<polygon clip-path=\"url(#clip4100)\" points=\"\n",
       "69.8146,360.121 580.315,360.121 580.315,31.4961 69.8146,31.4961 \n",
       "  \" fill=\"#ffffff\" fill-opacity=\"1\"/>\n",
       "<defs>\n",
       "  <clipPath id=\"clip4102\">\n",
       "    <rect x=\"69\" y=\"31\" width=\"512\" height=\"330\"/>\n",
       "  </clipPath>\n",
       "</defs>\n",
       "<polyline clip-path=\"url(#clip4102)\" style=\"stroke:#000000; stroke-width:0.5; stroke-opacity:0.1; fill:none\" points=\"\n",
       "  80.3789,360.121 80.3789,31.4961 \n",
       "  \"/>\n",
       "<polyline clip-path=\"url(#clip4102)\" style=\"stroke:#000000; stroke-width:0.5; stroke-opacity:0.1; fill:none\" points=\"\n",
       "  158.057,360.121 158.057,31.4961 \n",
       "  \"/>\n",
       "<polyline clip-path=\"url(#clip4102)\" style=\"stroke:#000000; stroke-width:0.5; stroke-opacity:0.1; fill:none\" points=\"\n",
       "  235.735,360.121 235.735,31.4961 \n",
       "  \"/>\n",
       "<polyline clip-path=\"url(#clip4102)\" style=\"stroke:#000000; stroke-width:0.5; stroke-opacity:0.1; fill:none\" points=\"\n",
       "  313.413,360.121 313.413,31.4961 \n",
       "  \"/>\n",
       "<polyline clip-path=\"url(#clip4102)\" style=\"stroke:#000000; stroke-width:0.5; stroke-opacity:0.1; fill:none\" points=\"\n",
       "  391.091,360.121 391.091,31.4961 \n",
       "  \"/>\n",
       "<polyline clip-path=\"url(#clip4102)\" style=\"stroke:#000000; stroke-width:0.5; stroke-opacity:0.1; fill:none\" points=\"\n",
       "  468.769,360.121 468.769,31.4961 \n",
       "  \"/>\n",
       "<polyline clip-path=\"url(#clip4102)\" style=\"stroke:#000000; stroke-width:0.5; stroke-opacity:0.1; fill:none\" points=\"\n",
       "  546.447,360.121 546.447,31.4961 \n",
       "  \"/>\n",
       "<polyline clip-path=\"url(#clip4102)\" style=\"stroke:#000000; stroke-width:0.5; stroke-opacity:0.1; fill:none\" points=\"\n",
       "  69.8146,340.252 580.315,340.252 \n",
       "  \"/>\n",
       "<polyline clip-path=\"url(#clip4102)\" style=\"stroke:#000000; stroke-width:0.5; stroke-opacity:0.1; fill:none\" points=\"\n",
       "  69.8146,276.11 580.315,276.11 \n",
       "  \"/>\n",
       "<polyline clip-path=\"url(#clip4102)\" style=\"stroke:#000000; stroke-width:0.5; stroke-opacity:0.1; fill:none\" points=\"\n",
       "  69.8146,211.969 580.315,211.969 \n",
       "  \"/>\n",
       "<polyline clip-path=\"url(#clip4102)\" style=\"stroke:#000000; stroke-width:0.5; stroke-opacity:0.1; fill:none\" points=\"\n",
       "  69.8146,147.827 580.315,147.827 \n",
       "  \"/>\n",
       "<polyline clip-path=\"url(#clip4102)\" style=\"stroke:#000000; stroke-width:0.5; stroke-opacity:0.1; fill:none\" points=\"\n",
       "  69.8146,83.6852 580.315,83.6852 \n",
       "  \"/>\n",
       "<polyline clip-path=\"url(#clip4100)\" style=\"stroke:#000000; stroke-width:1; stroke-opacity:1; fill:none\" points=\"\n",
       "  69.8146,360.121 580.315,360.121 \n",
       "  \"/>\n",
       "<polyline clip-path=\"url(#clip4100)\" style=\"stroke:#000000; stroke-width:1; stroke-opacity:1; fill:none\" points=\"\n",
       "  69.8146,360.121 69.8146,31.4961 \n",
       "  \"/>\n",
       "<polyline clip-path=\"url(#clip4100)\" style=\"stroke:#000000; stroke-width:1; stroke-opacity:1; fill:none\" points=\"\n",
       "  80.3789,360.121 80.3789,355.191 \n",
       "  \"/>\n",
       "<polyline clip-path=\"url(#clip4100)\" style=\"stroke:#000000; stroke-width:1; stroke-opacity:1; fill:none\" points=\"\n",
       "  158.057,360.121 158.057,355.191 \n",
       "  \"/>\n",
       "<polyline clip-path=\"url(#clip4100)\" style=\"stroke:#000000; stroke-width:1; stroke-opacity:1; fill:none\" points=\"\n",
       "  235.735,360.121 235.735,355.191 \n",
       "  \"/>\n",
       "<polyline clip-path=\"url(#clip4100)\" style=\"stroke:#000000; stroke-width:1; stroke-opacity:1; fill:none\" points=\"\n",
       "  313.413,360.121 313.413,355.191 \n",
       "  \"/>\n",
       "<polyline clip-path=\"url(#clip4100)\" style=\"stroke:#000000; stroke-width:1; stroke-opacity:1; fill:none\" points=\"\n",
       "  391.091,360.121 391.091,355.191 \n",
       "  \"/>\n",
       "<polyline clip-path=\"url(#clip4100)\" style=\"stroke:#000000; stroke-width:1; stroke-opacity:1; fill:none\" points=\"\n",
       "  468.769,360.121 468.769,355.191 \n",
       "  \"/>\n",
       "<polyline clip-path=\"url(#clip4100)\" style=\"stroke:#000000; stroke-width:1; stroke-opacity:1; fill:none\" points=\"\n",
       "  546.447,360.121 546.447,355.191 \n",
       "  \"/>\n",
       "<polyline clip-path=\"url(#clip4100)\" style=\"stroke:#000000; stroke-width:1; stroke-opacity:1; fill:none\" points=\"\n",
       "  69.8146,340.252 77.4722,340.252 \n",
       "  \"/>\n",
       "<polyline clip-path=\"url(#clip4100)\" style=\"stroke:#000000; stroke-width:1; stroke-opacity:1; fill:none\" points=\"\n",
       "  69.8146,276.11 77.4722,276.11 \n",
       "  \"/>\n",
       "<polyline clip-path=\"url(#clip4100)\" style=\"stroke:#000000; stroke-width:1; stroke-opacity:1; fill:none\" points=\"\n",
       "  69.8146,211.969 77.4722,211.969 \n",
       "  \"/>\n",
       "<polyline clip-path=\"url(#clip4100)\" style=\"stroke:#000000; stroke-width:1; stroke-opacity:1; fill:none\" points=\"\n",
       "  69.8146,147.827 77.4722,147.827 \n",
       "  \"/>\n",
       "<polyline clip-path=\"url(#clip4100)\" style=\"stroke:#000000; stroke-width:1; stroke-opacity:1; fill:none\" points=\"\n",
       "  69.8146,83.6852 77.4722,83.6852 \n",
       "  \"/>\n",
       "<g clip-path=\"url(#clip4100)\">\n",
       "<text style=\"fill:#000000; fill-opacity:1; font-family:Arial,Helvetica Neue,Helvetica,sans-serif; font-size:12; text-anchor:middle;\" transform=\"rotate(0, 80.3789, 373.921)\" x=\"80.3789\" y=\"373.921\">0</text>\n",
       "</g>\n",
       "<g clip-path=\"url(#clip4100)\">\n",
       "<text style=\"fill:#000000; fill-opacity:1; font-family:Arial,Helvetica Neue,Helvetica,sans-serif; font-size:12; text-anchor:middle;\" transform=\"rotate(0, 158.057, 373.921)\" x=\"158.057\" y=\"373.921\">200</text>\n",
       "</g>\n",
       "<g clip-path=\"url(#clip4100)\">\n",
       "<text style=\"fill:#000000; fill-opacity:1; font-family:Arial,Helvetica Neue,Helvetica,sans-serif; font-size:12; text-anchor:middle;\" transform=\"rotate(0, 235.735, 373.921)\" x=\"235.735\" y=\"373.921\">400</text>\n",
       "</g>\n",
       "<g clip-path=\"url(#clip4100)\">\n",
       "<text style=\"fill:#000000; fill-opacity:1; font-family:Arial,Helvetica Neue,Helvetica,sans-serif; font-size:12; text-anchor:middle;\" transform=\"rotate(0, 313.413, 373.921)\" x=\"313.413\" y=\"373.921\">600</text>\n",
       "</g>\n",
       "<g clip-path=\"url(#clip4100)\">\n",
       "<text style=\"fill:#000000; fill-opacity:1; font-family:Arial,Helvetica Neue,Helvetica,sans-serif; font-size:12; text-anchor:middle;\" transform=\"rotate(0, 391.091, 373.921)\" x=\"391.091\" y=\"373.921\">800</text>\n",
       "</g>\n",
       "<g clip-path=\"url(#clip4100)\">\n",
       "<text style=\"fill:#000000; fill-opacity:1; font-family:Arial,Helvetica Neue,Helvetica,sans-serif; font-size:12; text-anchor:middle;\" transform=\"rotate(0, 468.769, 373.921)\" x=\"468.769\" y=\"373.921\">1000</text>\n",
       "</g>\n",
       "<g clip-path=\"url(#clip4100)\">\n",
       "<text style=\"fill:#000000; fill-opacity:1; font-family:Arial,Helvetica Neue,Helvetica,sans-serif; font-size:12; text-anchor:middle;\" transform=\"rotate(0, 546.447, 373.921)\" x=\"546.447\" y=\"373.921\">1200</text>\n",
       "</g>\n",
       "<g clip-path=\"url(#clip4100)\">\n",
       "<text style=\"fill:#000000; fill-opacity:1; font-family:Arial,Helvetica Neue,Helvetica,sans-serif; font-size:12; text-anchor:end;\" transform=\"rotate(0, 63.8146, 344.752)\" x=\"63.8146\" y=\"344.752\">-25.0</text>\n",
       "</g>\n",
       "<g clip-path=\"url(#clip4100)\">\n",
       "<text style=\"fill:#000000; fill-opacity:1; font-family:Arial,Helvetica Neue,Helvetica,sans-serif; font-size:12; text-anchor:end;\" transform=\"rotate(0, 63.8146, 280.61)\" x=\"63.8146\" y=\"280.61\">-22.5</text>\n",
       "</g>\n",
       "<g clip-path=\"url(#clip4100)\">\n",
       "<text style=\"fill:#000000; fill-opacity:1; font-family:Arial,Helvetica Neue,Helvetica,sans-serif; font-size:12; text-anchor:end;\" transform=\"rotate(0, 63.8146, 216.469)\" x=\"63.8146\" y=\"216.469\">-20.0</text>\n",
       "</g>\n",
       "<g clip-path=\"url(#clip4100)\">\n",
       "<text style=\"fill:#000000; fill-opacity:1; font-family:Arial,Helvetica Neue,Helvetica,sans-serif; font-size:12; text-anchor:end;\" transform=\"rotate(0, 63.8146, 152.327)\" x=\"63.8146\" y=\"152.327\">-17.5</text>\n",
       "</g>\n",
       "<g clip-path=\"url(#clip4100)\">\n",
       "<text style=\"fill:#000000; fill-opacity:1; font-family:Arial,Helvetica Neue,Helvetica,sans-serif; font-size:12; text-anchor:end;\" transform=\"rotate(0, 63.8146, 88.1852)\" x=\"63.8146\" y=\"88.1852\">-15.0</text>\n",
       "</g>\n",
       "<g clip-path=\"url(#clip4100)\">\n",
       "<text style=\"fill:#000000; fill-opacity:1; font-family:Arial,Helvetica Neue,Helvetica,sans-serif; font-size:21; text-anchor:middle;\" transform=\"rotate(0, 325.065, 18)\" x=\"325.065\" y=\"18\">Walk1D</text>\n",
       "</g>\n",
       "<g clip-path=\"url(#clip4100)\">\n",
       "<text style=\"fill:#000000; fill-opacity:1; font-family:Arial,Helvetica Neue,Helvetica,sans-serif; font-size:16; text-anchor:middle;\" transform=\"rotate(0, 325.065, 397.6)\" x=\"325.065\" y=\"397.6\">number of iterations</text>\n",
       "</g>\n",
       "<g clip-path=\"url(#clip4100)\">\n",
       "<text style=\"fill:#000000; fill-opacity:1; font-family:Arial,Helvetica Neue,Helvetica,sans-serif; font-size:16; text-anchor:middle;\" transform=\"rotate(-90, 14.4, 195.808)\" x=\"14.4\" y=\"195.808\">reward</text>\n",
       "</g>\n",
       "<polyline clip-path=\"url(#clip4102)\" style=\"stroke:#009af9; stroke-width:1; stroke-opacity:1; fill:none\" points=\"\n",
       "  84.2628,343.081 88.1467,287.114 99.7984,223.654 119.218,173.161 158.057,156.296 235.735,102.922 352.252,88.9486 468.769,78.8407 565.867,73.2192 \n",
       "  \"/>\n",
       "<polyline clip-path=\"url(#clip4102)\" style=\"stroke:#009af9; stroke-width:1; stroke-opacity:1; fill:none\" points=\"\n",
       "  84.2628,350.82 84.2628,335.341 \n",
       "  \"/>\n",
       "<polyline clip-path=\"url(#clip4102)\" style=\"stroke:#009af9; stroke-width:1; stroke-opacity:1; fill:none\" points=\"\n",
       "  88.1467,295.389 88.1467,278.839 \n",
       "  \"/>\n",
       "<polyline clip-path=\"url(#clip4102)\" style=\"stroke:#009af9; stroke-width:1; stroke-opacity:1; fill:none\" points=\"\n",
       "  99.7984,232.402 99.7984,214.905 \n",
       "  \"/>\n",
       "<polyline clip-path=\"url(#clip4102)\" style=\"stroke:#009af9; stroke-width:1; stroke-opacity:1; fill:none\" points=\"\n",
       "  119.218,180.828 119.218,165.494 \n",
       "  \"/>\n",
       "<polyline clip-path=\"url(#clip4102)\" style=\"stroke:#009af9; stroke-width:1; stroke-opacity:1; fill:none\" points=\"\n",
       "  158.057,163.772 158.057,148.82 \n",
       "  \"/>\n",
       "<polyline clip-path=\"url(#clip4102)\" style=\"stroke:#009af9; stroke-width:1; stroke-opacity:1; fill:none\" points=\"\n",
       "  235.735,108.238 235.735,97.6053 \n",
       "  \"/>\n",
       "<polyline clip-path=\"url(#clip4102)\" style=\"stroke:#009af9; stroke-width:1; stroke-opacity:1; fill:none\" points=\"\n",
       "  352.252,92.8757 352.252,85.0216 \n",
       "  \"/>\n",
       "<polyline clip-path=\"url(#clip4102)\" style=\"stroke:#009af9; stroke-width:1; stroke-opacity:1; fill:none\" points=\"\n",
       "  468.769,81.8299 468.769,75.8514 \n",
       "  \"/>\n",
       "<polyline clip-path=\"url(#clip4102)\" style=\"stroke:#009af9; stroke-width:1; stroke-opacity:1; fill:none\" points=\"\n",
       "  565.867,75.5175 565.867,70.9209 \n",
       "  \"/>\n",
       "<line clip-path=\"url(#clip4102)\" x1=\"89.2628\" y1=\"350.82\" x2=\"79.2628\" y2=\"350.82\" style=\"stroke:#000000; stroke-opacity:1\"/>\n",
       "<line clip-path=\"url(#clip4102)\" x1=\"89.2628\" y1=\"335.341\" x2=\"79.2628\" y2=\"335.341\" style=\"stroke:#000000; stroke-opacity:1\"/>\n",
       "<line clip-path=\"url(#clip4102)\" x1=\"93.1467\" y1=\"295.389\" x2=\"83.1467\" y2=\"295.389\" style=\"stroke:#000000; stroke-opacity:1\"/>\n",
       "<line clip-path=\"url(#clip4102)\" x1=\"93.1467\" y1=\"278.839\" x2=\"83.1467\" y2=\"278.839\" style=\"stroke:#000000; stroke-opacity:1\"/>\n",
       "<line clip-path=\"url(#clip4102)\" x1=\"104.798\" y1=\"232.402\" x2=\"94.7984\" y2=\"232.402\" style=\"stroke:#000000; stroke-opacity:1\"/>\n",
       "<line clip-path=\"url(#clip4102)\" x1=\"104.798\" y1=\"214.905\" x2=\"94.7984\" y2=\"214.905\" style=\"stroke:#000000; stroke-opacity:1\"/>\n",
       "<line clip-path=\"url(#clip4102)\" x1=\"124.218\" y1=\"180.828\" x2=\"114.218\" y2=\"180.828\" style=\"stroke:#000000; stroke-opacity:1\"/>\n",
       "<line clip-path=\"url(#clip4102)\" x1=\"124.218\" y1=\"165.494\" x2=\"114.218\" y2=\"165.494\" style=\"stroke:#000000; stroke-opacity:1\"/>\n",
       "<line clip-path=\"url(#clip4102)\" x1=\"163.057\" y1=\"163.772\" x2=\"153.057\" y2=\"163.772\" style=\"stroke:#000000; stroke-opacity:1\"/>\n",
       "<line clip-path=\"url(#clip4102)\" x1=\"163.057\" y1=\"148.82\" x2=\"153.057\" y2=\"148.82\" style=\"stroke:#000000; stroke-opacity:1\"/>\n",
       "<line clip-path=\"url(#clip4102)\" x1=\"240.735\" y1=\"108.238\" x2=\"230.735\" y2=\"108.238\" style=\"stroke:#000000; stroke-opacity:1\"/>\n",
       "<line clip-path=\"url(#clip4102)\" x1=\"240.735\" y1=\"97.6053\" x2=\"230.735\" y2=\"97.6053\" style=\"stroke:#000000; stroke-opacity:1\"/>\n",
       "<line clip-path=\"url(#clip4102)\" x1=\"357.252\" y1=\"92.8757\" x2=\"347.252\" y2=\"92.8757\" style=\"stroke:#000000; stroke-opacity:1\"/>\n",
       "<line clip-path=\"url(#clip4102)\" x1=\"357.252\" y1=\"85.0216\" x2=\"347.252\" y2=\"85.0216\" style=\"stroke:#000000; stroke-opacity:1\"/>\n",
       "<line clip-path=\"url(#clip4102)\" x1=\"473.769\" y1=\"81.8299\" x2=\"463.769\" y2=\"81.8299\" style=\"stroke:#000000; stroke-opacity:1\"/>\n",
       "<line clip-path=\"url(#clip4102)\" x1=\"473.769\" y1=\"75.8514\" x2=\"463.769\" y2=\"75.8514\" style=\"stroke:#000000; stroke-opacity:1\"/>\n",
       "<line clip-path=\"url(#clip4102)\" x1=\"570.867\" y1=\"75.5175\" x2=\"560.867\" y2=\"75.5175\" style=\"stroke:#000000; stroke-opacity:1\"/>\n",
       "<line clip-path=\"url(#clip4102)\" x1=\"570.867\" y1=\"70.9209\" x2=\"560.867\" y2=\"70.9209\" style=\"stroke:#000000; stroke-opacity:1\"/>\n",
       "<polyline clip-path=\"url(#clip4102)\" style=\"stroke:#e26f46; stroke-width:1; stroke-opacity:1; fill:none\" points=\"\n",
       "  84.2628,318.178 88.1467,240.088 99.7984,155.895 119.218,108.465 158.057,74.5865 235.735,61.0836 352.252,50.6515 468.769,44.1977 565.867,42.447 \n",
       "  \"/>\n",
       "<polyline clip-path=\"url(#clip4102)\" style=\"stroke:#e26f46; stroke-width:1; stroke-opacity:1; fill:none\" points=\"\n",
       "  84.2628,326.767 84.2628,309.588 \n",
       "  \"/>\n",
       "<polyline clip-path=\"url(#clip4102)\" style=\"stroke:#e26f46; stroke-width:1; stroke-opacity:1; fill:none\" points=\"\n",
       "  88.1467,248.804 88.1467,231.372 \n",
       "  \"/>\n",
       "<polyline clip-path=\"url(#clip4102)\" style=\"stroke:#e26f46; stroke-width:1; stroke-opacity:1; fill:none\" points=\"\n",
       "  99.7984,163.279 99.7984,148.511 \n",
       "  \"/>\n",
       "<polyline clip-path=\"url(#clip4102)\" style=\"stroke:#e26f46; stroke-width:1; stroke-opacity:1; fill:none\" points=\"\n",
       "  119.218,113.897 119.218,103.033 \n",
       "  \"/>\n",
       "<polyline clip-path=\"url(#clip4102)\" style=\"stroke:#e26f46; stroke-width:1; stroke-opacity:1; fill:none\" points=\"\n",
       "  158.057,78.1628 158.057,71.0102 \n",
       "  \"/>\n",
       "<polyline clip-path=\"url(#clip4102)\" style=\"stroke:#e26f46; stroke-width:1; stroke-opacity:1; fill:none\" points=\"\n",
       "  235.735,63.8035 235.735,58.3637 \n",
       "  \"/>\n",
       "<polyline clip-path=\"url(#clip4102)\" style=\"stroke:#e26f46; stroke-width:1; stroke-opacity:1; fill:none\" points=\"\n",
       "  352.252,52.9352 352.252,48.3678 \n",
       "  \"/>\n",
       "<polyline clip-path=\"url(#clip4102)\" style=\"stroke:#e26f46; stroke-width:1; stroke-opacity:1; fill:none\" points=\"\n",
       "  468.769,46.0426 468.769,42.3527 \n",
       "  \"/>\n",
       "<polyline clip-path=\"url(#clip4102)\" style=\"stroke:#e26f46; stroke-width:1; stroke-opacity:1; fill:none\" points=\"\n",
       "  565.867,44.0972 565.867,40.7968 \n",
       "  \"/>\n",
       "<line clip-path=\"url(#clip4102)\" x1=\"89.2628\" y1=\"326.767\" x2=\"79.2628\" y2=\"326.767\" style=\"stroke:#000000; stroke-opacity:1\"/>\n",
       "<line clip-path=\"url(#clip4102)\" x1=\"89.2628\" y1=\"309.588\" x2=\"79.2628\" y2=\"309.588\" style=\"stroke:#000000; stroke-opacity:1\"/>\n",
       "<line clip-path=\"url(#clip4102)\" x1=\"93.1467\" y1=\"248.804\" x2=\"83.1467\" y2=\"248.804\" style=\"stroke:#000000; stroke-opacity:1\"/>\n",
       "<line clip-path=\"url(#clip4102)\" x1=\"93.1467\" y1=\"231.372\" x2=\"83.1467\" y2=\"231.372\" style=\"stroke:#000000; stroke-opacity:1\"/>\n",
       "<line clip-path=\"url(#clip4102)\" x1=\"104.798\" y1=\"163.279\" x2=\"94.7984\" y2=\"163.279\" style=\"stroke:#000000; stroke-opacity:1\"/>\n",
       "<line clip-path=\"url(#clip4102)\" x1=\"104.798\" y1=\"148.511\" x2=\"94.7984\" y2=\"148.511\" style=\"stroke:#000000; stroke-opacity:1\"/>\n",
       "<line clip-path=\"url(#clip4102)\" x1=\"124.218\" y1=\"113.897\" x2=\"114.218\" y2=\"113.897\" style=\"stroke:#000000; stroke-opacity:1\"/>\n",
       "<line clip-path=\"url(#clip4102)\" x1=\"124.218\" y1=\"103.033\" x2=\"114.218\" y2=\"103.033\" style=\"stroke:#000000; stroke-opacity:1\"/>\n",
       "<line clip-path=\"url(#clip4102)\" x1=\"163.057\" y1=\"78.1628\" x2=\"153.057\" y2=\"78.1628\" style=\"stroke:#000000; stroke-opacity:1\"/>\n",
       "<line clip-path=\"url(#clip4102)\" x1=\"163.057\" y1=\"71.0102\" x2=\"153.057\" y2=\"71.0102\" style=\"stroke:#000000; stroke-opacity:1\"/>\n",
       "<line clip-path=\"url(#clip4102)\" x1=\"240.735\" y1=\"63.8035\" x2=\"230.735\" y2=\"63.8035\" style=\"stroke:#000000; stroke-opacity:1\"/>\n",
       "<line clip-path=\"url(#clip4102)\" x1=\"240.735\" y1=\"58.3637\" x2=\"230.735\" y2=\"58.3637\" style=\"stroke:#000000; stroke-opacity:1\"/>\n",
       "<line clip-path=\"url(#clip4102)\" x1=\"357.252\" y1=\"52.9352\" x2=\"347.252\" y2=\"52.9352\" style=\"stroke:#000000; stroke-opacity:1\"/>\n",
       "<line clip-path=\"url(#clip4102)\" x1=\"357.252\" y1=\"48.3678\" x2=\"347.252\" y2=\"48.3678\" style=\"stroke:#000000; stroke-opacity:1\"/>\n",
       "<line clip-path=\"url(#clip4102)\" x1=\"473.769\" y1=\"46.0426\" x2=\"463.769\" y2=\"46.0426\" style=\"stroke:#000000; stroke-opacity:1\"/>\n",
       "<line clip-path=\"url(#clip4102)\" x1=\"473.769\" y1=\"42.3527\" x2=\"463.769\" y2=\"42.3527\" style=\"stroke:#000000; stroke-opacity:1\"/>\n",
       "<line clip-path=\"url(#clip4102)\" x1=\"570.867\" y1=\"44.0972\" x2=\"560.867\" y2=\"44.0972\" style=\"stroke:#000000; stroke-opacity:1\"/>\n",
       "<line clip-path=\"url(#clip4102)\" x1=\"570.867\" y1=\"40.7968\" x2=\"560.867\" y2=\"40.7968\" style=\"stroke:#000000; stroke-opacity:1\"/>\n",
       "<polygon clip-path=\"url(#clip4100)\" points=\"\n",
       "422.726,324.121 562.315,324.121 562.315,278.761 422.726,278.761 \n",
       "  \" fill=\"#ffffff\" fill-opacity=\"1\"/>\n",
       "<polyline clip-path=\"url(#clip4100)\" style=\"stroke:#000000; stroke-width:1; stroke-opacity:1; fill:none\" points=\"\n",
       "  422.726,324.121 562.315,324.121 562.315,278.761 422.726,278.761 422.726,324.121 \n",
       "  \"/>\n",
       "<polyline clip-path=\"url(#clip4100)\" style=\"stroke:#009af9; stroke-width:1; stroke-opacity:1; fill:none\" points=\"\n",
       "  428.726,293.881 464.726,293.881 \n",
       "  \"/>\n",
       "<g clip-path=\"url(#clip4100)\">\n",
       "<text style=\"fill:#000000; fill-opacity:1; font-family:Arial,Helvetica Neue,Helvetica,sans-serif; font-size:12; text-anchor:start;\" transform=\"rotate(0, 470.726, 298.381)\" x=\"470.726\" y=\"298.381\">DPWBandit</text>\n",
       "</g>\n",
       "<polyline clip-path=\"url(#clip4100)\" style=\"stroke:#e26f46; stroke-width:1; stroke-opacity:1; fill:none\" points=\"\n",
       "  428.726,309.001 464.726,309.001 \n",
       "  \"/>\n",
       "<g clip-path=\"url(#clip4100)\">\n",
       "<text style=\"fill:#000000; fill-opacity:1; font-family:Arial,Helvetica Neue,Helvetica,sans-serif; font-size:12; text-anchor:start;\" transform=\"rotate(0, 470.726, 313.501)\" x=\"470.726\" y=\"313.501\">RandomBandit</text>\n",
       "</g>\n",
       "</svg>\n"
      ]
     },
     "execution_count": 7,
     "metadata": {},
     "output_type": "execute_result"
    }
   ],
   "source": [
    "plot(result)"
   ]
  },
  {
   "cell_type": "code",
   "execution_count": 8,
   "metadata": {},
   "outputs": [
    {
     "data": {
      "text/plain": [
       "\"Walk1D\""
      ]
     },
     "execution_count": 8,
     "metadata": {},
     "output_type": "execute_result"
    }
   ],
   "source": [
    "result.title"
   ]
  },
  {
   "cell_type": "code",
   "execution_count": 9,
   "metadata": {},
   "outputs": [
    {
     "data": {
      "text/plain": [
       "20"
      ]
     },
     "execution_count": 9,
     "metadata": {},
     "output_type": "execute_result"
    }
   ],
   "source": []
  },
  {
   "cell_type": "code",
   "execution_count": null,
   "metadata": {},
   "outputs": [],
   "source": []
  }
 ],
 "metadata": {
  "kernelspec": {
   "display_name": "Julia 0.6.2",
   "language": "julia",
   "name": "julia-0.6"
  },
  "language_info": {
   "file_extension": ".jl",
   "mimetype": "application/julia",
   "name": "julia",
   "version": "0.6.2"
  }
 },
 "nbformat": 4,
 "nbformat_minor": 2
}
