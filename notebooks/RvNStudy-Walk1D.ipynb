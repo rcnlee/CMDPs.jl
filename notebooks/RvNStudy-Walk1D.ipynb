{
 "cells": [
  {
   "cell_type": "code",
   "execution_count": 1,
   "metadata": {},
   "outputs": [
    {
     "data": {
      "text/plain": [
       "Plots.GRBackend()"
      ]
     },
     "execution_count": 1,
     "metadata": {},
     "output_type": "execute_result"
    }
   ],
   "source": [
    "#using Revise\n",
    "addprocs(4)\n",
    "using Walk1DMDP, CMDPs\n",
    "using POMDPs, POMDPToolbox, MCTS\n",
    "using DataFrames\n",
    "using Plots; gr()"
   ]
  },
  {
   "cell_type": "raw",
   "metadata": {},
   "source": [
    "mdp = Walk1D()\n",
    "b = DPWBandit(mdp)\n",
    "solver = ModularSolver(mdp, b)\n",
    "policy = solve(solver, mdp);"
   ]
  },
  {
   "cell_type": "raw",
   "metadata": {},
   "source": [
    "#s0 = initial_state(mdp, Base.GLOBAL_RNG)\n",
    "#a, info = action_info(policy, s0)\n",
    "#best_path = info[:best_path]\n",
    "#policy = BPTrackerPolicy(best_path)"
   ]
  },
  {
   "cell_type": "raw",
   "metadata": {},
   "source": [
    "s0 = initial_state(mdp, Base.GLOBAL_RNG)"
   ]
  },
  {
   "cell_type": "raw",
   "metadata": {},
   "source": [
    "hr = HistoryRecorder(; rng=Base.GLOBAL_RNG)\n",
    "h = simulate(hr, mdp, policy, s0);"
   ]
  },
  {
   "cell_type": "raw",
   "metadata": {},
   "source": [
    "plot(mdp, h)"
   ]
  },
  {
   "cell_type": "code",
   "execution_count": 2,
   "metadata": {},
   "outputs": [],
   "source": [
    "## Study"
   ]
  },
  {
   "cell_type": "code",
   "execution_count": 3,
   "metadata": {},
   "outputs": [
    {
     "data": {
      "text/plain": [
       "2-element Array{DataType,1}:\n",
       " MCTS.DPWBandit   \n",
       " MCTS.RandomBandit"
      ]
     },
     "execution_count": 3,
     "metadata": {},
     "output_type": "execute_result"
    }
   ],
   "source": [
    "study0 = RewardvsN(Walk1D)\n",
    "study0.bandits=[DPWBandit,RandomBandit]"
   ]
  },
  {
   "cell_type": "code",
   "execution_count": 4,
   "metadata": {},
   "outputs": [
    {
     "data": {
      "text/plain": [
       "CMDPs.RewardvsNResult(\"Walk1D\", 3600×4 DataFrames.DataFrame\n",
       "│ Row  │ alg          │ seed │ n_iters │ r_total  │\n",
       "├──────┼──────────────┼──────┼─────────┼──────────┤\n",
       "│ 1    │ DPWBandit    │ 1    │ 10      │ -17.6095 │\n",
       "│ 2    │ DPWBandit    │ 2    │ 10      │ -14.0272 │\n",
       "│ 3    │ DPWBandit    │ 3    │ 10      │ -28.9227 │\n",
       "│ 4    │ DPWBandit    │ 4    │ 10      │ -25.8502 │\n",
       "│ 5    │ DPWBandit    │ 5    │ 10      │ -25.7996 │\n",
       "│ 6    │ DPWBandit    │ 6    │ 10      │ -23.7794 │\n",
       "│ 7    │ DPWBandit    │ 7    │ 10      │ -28.7964 │\n",
       "│ 8    │ DPWBandit    │ 8    │ 10      │ -14.996  │\n",
       "│ 9    │ DPWBandit    │ 9    │ 10      │ -22.8466 │\n",
       "│ 10   │ DPWBandit    │ 10   │ 10      │ -25.3505 │\n",
       "│ 11   │ DPWBandit    │ 11   │ 10      │ -29.6515 │\n",
       "⋮\n",
       "│ 3589 │ RandomBandit │ 189  │ 1250    │ -15.8837 │\n",
       "│ 3590 │ RandomBandit │ 190  │ 1250    │ -12.7325 │\n",
       "│ 3591 │ RandomBandit │ 191  │ 1250    │ -13.7353 │\n",
       "│ 3592 │ RandomBandit │ 192  │ 1250    │ -12.6683 │\n",
       "│ 3593 │ RandomBandit │ 193  │ 1250    │ -13.7199 │\n",
       "│ 3594 │ RandomBandit │ 194  │ 1250    │ -13.6592 │\n",
       "│ 3595 │ RandomBandit │ 195  │ 1250    │ -12.8812 │\n",
       "│ 3596 │ RandomBandit │ 196  │ 1250    │ -12.6686 │\n",
       "│ 3597 │ RandomBandit │ 197  │ 1250    │ -13.2783 │\n",
       "│ 3598 │ RandomBandit │ 198  │ 1250    │ -14.6389 │\n",
       "│ 3599 │ RandomBandit │ 199  │ 1250    │ -12.5815 │\n",
       "│ 3600 │ RandomBandit │ 200  │ 1250    │ -13.7066 │)"
      ]
     },
     "execution_count": 4,
     "metadata": {},
     "output_type": "execute_result"
    }
   ],
   "source": [
    "result0 = run_study(study0)"
   ]
  },
  {
   "cell_type": "code",
   "execution_count": 5,
   "metadata": {},
   "outputs": [
    {
     "data": {
      "text/plain": [
       "1-element Array{DataType,1}:\n",
       " MCTS.CBTSDPWBandit"
      ]
     },
     "execution_count": 5,
     "metadata": {},
     "output_type": "execute_result"
    }
   ],
   "source": [
    "study1 = RewardvsN(Walk1D)\n",
    "study1.bandits=[CBTSDPWBandit]"
   ]
  },
  {
   "cell_type": "code",
   "execution_count": 14,
   "metadata": {},
   "outputs": [
    {
     "data": {
      "text/plain": [
       "CMDPs.RewardvsNSim(Walk1DMDP.Walk1D(Walk1DMDP.Walk1DParams(1.0, 10.0, 20), Distributions.Normal{Float64}(μ=0.0, σ=1.0)), MCTS.RandomBandit, 1250, 199, 20, Dict{Symbol,Any}(Pair{Symbol,Any}(:sim_max_steps, 20),Pair{Symbol,Any}(:sim_mdp, \"Walk1D\"),Pair{Symbol,Any}(:sim_n_ters, 1250),Pair{Symbol,Any}(:sim_algorithm, \"RandomBandit\"),Pair{Symbol,Any}(:sim_seed, 199)))"
      ]
     },
     "execution_count": 14,
     "metadata": {},
     "output_type": "execute_result"
    }
   ],
   "source": [
    "result1 = run_study(study1)"
   ]
  },
  {
   "cell_type": "code",
   "execution_count": 7,
   "metadata": {},
   "outputs": [
    {
     "data": {
      "image/svg+xml": [
       "<?xml version=\"1.0\" encoding=\"utf-8\"?>\n",
       "<svg xmlns=\"http://www.w3.org/2000/svg\" xmlns:xlink=\"http://www.w3.org/1999/xlink\" width=\"600\" height=\"400\" viewBox=\"0 0 600 400\">\n",
       "<defs>\n",
       "  <clipPath id=\"clip9100\">\n",
       "    <rect x=\"0\" y=\"0\" width=\"600\" height=\"400\"/>\n",
       "  </clipPath>\n",
       "</defs>\n",
       "<polygon clip-path=\"url(#clip9100)\" points=\"\n",
       "0,400 600,400 600,0 0,0 \n",
       "  \" fill=\"#ffffff\" fill-opacity=\"1\"/>\n",
       "<defs>\n",
       "  <clipPath id=\"clip9101\">\n",
       "    <rect x=\"120\" y=\"0\" width=\"421\" height=\"400\"/>\n",
       "  </clipPath>\n",
       "</defs>\n",
       "<polygon clip-path=\"url(#clip9100)\" points=\"\n",
       "69.8146,360.121 580.315,360.121 580.315,31.4961 69.8146,31.4961 \n",
       "  \" fill=\"#ffffff\" fill-opacity=\"1\"/>\n",
       "<defs>\n",
       "  <clipPath id=\"clip9102\">\n",
       "    <rect x=\"69\" y=\"31\" width=\"512\" height=\"330\"/>\n",
       "  </clipPath>\n",
       "</defs>\n",
       "<polyline clip-path=\"url(#clip9102)\" style=\"stroke:#000000; stroke-width:0.5; stroke-opacity:0.1; fill:none\" points=\"\n",
       "  80.3789,360.121 80.3789,31.4961 \n",
       "  \"/>\n",
       "<polyline clip-path=\"url(#clip9102)\" style=\"stroke:#000000; stroke-width:0.5; stroke-opacity:0.1; fill:none\" points=\"\n",
       "  158.057,360.121 158.057,31.4961 \n",
       "  \"/>\n",
       "<polyline clip-path=\"url(#clip9102)\" style=\"stroke:#000000; stroke-width:0.5; stroke-opacity:0.1; fill:none\" points=\"\n",
       "  235.735,360.121 235.735,31.4961 \n",
       "  \"/>\n",
       "<polyline clip-path=\"url(#clip9102)\" style=\"stroke:#000000; stroke-width:0.5; stroke-opacity:0.1; fill:none\" points=\"\n",
       "  313.413,360.121 313.413,31.4961 \n",
       "  \"/>\n",
       "<polyline clip-path=\"url(#clip9102)\" style=\"stroke:#000000; stroke-width:0.5; stroke-opacity:0.1; fill:none\" points=\"\n",
       "  391.091,360.121 391.091,31.4961 \n",
       "  \"/>\n",
       "<polyline clip-path=\"url(#clip9102)\" style=\"stroke:#000000; stroke-width:0.5; stroke-opacity:0.1; fill:none\" points=\"\n",
       "  468.769,360.121 468.769,31.4961 \n",
       "  \"/>\n",
       "<polyline clip-path=\"url(#clip9102)\" style=\"stroke:#000000; stroke-width:0.5; stroke-opacity:0.1; fill:none\" points=\"\n",
       "  546.447,360.121 546.447,31.4961 \n",
       "  \"/>\n",
       "<polyline clip-path=\"url(#clip9102)\" style=\"stroke:#000000; stroke-width:0.5; stroke-opacity:0.1; fill:none\" points=\"\n",
       "  69.8146,295.902 580.315,295.902 \n",
       "  \"/>\n",
       "<polyline clip-path=\"url(#clip9102)\" style=\"stroke:#000000; stroke-width:0.5; stroke-opacity:0.1; fill:none\" points=\"\n",
       "  69.8146,226.365 580.315,226.365 \n",
       "  \"/>\n",
       "<polyline clip-path=\"url(#clip9102)\" style=\"stroke:#000000; stroke-width:0.5; stroke-opacity:0.1; fill:none\" points=\"\n",
       "  69.8146,156.829 580.315,156.829 \n",
       "  \"/>\n",
       "<polyline clip-path=\"url(#clip9102)\" style=\"stroke:#000000; stroke-width:0.5; stroke-opacity:0.1; fill:none\" points=\"\n",
       "  69.8146,87.2924 580.315,87.2924 \n",
       "  \"/>\n",
       "<polyline clip-path=\"url(#clip9100)\" style=\"stroke:#000000; stroke-width:1; stroke-opacity:1; fill:none\" points=\"\n",
       "  69.8146,360.121 580.315,360.121 \n",
       "  \"/>\n",
       "<polyline clip-path=\"url(#clip9100)\" style=\"stroke:#000000; stroke-width:1; stroke-opacity:1; fill:none\" points=\"\n",
       "  69.8146,360.121 69.8146,31.4961 \n",
       "  \"/>\n",
       "<polyline clip-path=\"url(#clip9100)\" style=\"stroke:#000000; stroke-width:1; stroke-opacity:1; fill:none\" points=\"\n",
       "  80.3789,360.121 80.3789,355.191 \n",
       "  \"/>\n",
       "<polyline clip-path=\"url(#clip9100)\" style=\"stroke:#000000; stroke-width:1; stroke-opacity:1; fill:none\" points=\"\n",
       "  158.057,360.121 158.057,355.191 \n",
       "  \"/>\n",
       "<polyline clip-path=\"url(#clip9100)\" style=\"stroke:#000000; stroke-width:1; stroke-opacity:1; fill:none\" points=\"\n",
       "  235.735,360.121 235.735,355.191 \n",
       "  \"/>\n",
       "<polyline clip-path=\"url(#clip9100)\" style=\"stroke:#000000; stroke-width:1; stroke-opacity:1; fill:none\" points=\"\n",
       "  313.413,360.121 313.413,355.191 \n",
       "  \"/>\n",
       "<polyline clip-path=\"url(#clip9100)\" style=\"stroke:#000000; stroke-width:1; stroke-opacity:1; fill:none\" points=\"\n",
       "  391.091,360.121 391.091,355.191 \n",
       "  \"/>\n",
       "<polyline clip-path=\"url(#clip9100)\" style=\"stroke:#000000; stroke-width:1; stroke-opacity:1; fill:none\" points=\"\n",
       "  468.769,360.121 468.769,355.191 \n",
       "  \"/>\n",
       "<polyline clip-path=\"url(#clip9100)\" style=\"stroke:#000000; stroke-width:1; stroke-opacity:1; fill:none\" points=\"\n",
       "  546.447,360.121 546.447,355.191 \n",
       "  \"/>\n",
       "<polyline clip-path=\"url(#clip9100)\" style=\"stroke:#000000; stroke-width:1; stroke-opacity:1; fill:none\" points=\"\n",
       "  69.8146,295.902 77.4722,295.902 \n",
       "  \"/>\n",
       "<polyline clip-path=\"url(#clip9100)\" style=\"stroke:#000000; stroke-width:1; stroke-opacity:1; fill:none\" points=\"\n",
       "  69.8146,226.365 77.4722,226.365 \n",
       "  \"/>\n",
       "<polyline clip-path=\"url(#clip9100)\" style=\"stroke:#000000; stroke-width:1; stroke-opacity:1; fill:none\" points=\"\n",
       "  69.8146,156.829 77.4722,156.829 \n",
       "  \"/>\n",
       "<polyline clip-path=\"url(#clip9100)\" style=\"stroke:#000000; stroke-width:1; stroke-opacity:1; fill:none\" points=\"\n",
       "  69.8146,87.2924 77.4722,87.2924 \n",
       "  \"/>\n",
       "<g clip-path=\"url(#clip9100)\">\n",
       "<text style=\"fill:#000000; fill-opacity:1; font-family:Arial,Helvetica Neue,Helvetica,sans-serif; font-size:12; text-anchor:middle;\" transform=\"rotate(0, 80.3789, 373.921)\" x=\"80.3789\" y=\"373.921\">0</text>\n",
       "</g>\n",
       "<g clip-path=\"url(#clip9100)\">\n",
       "<text style=\"fill:#000000; fill-opacity:1; font-family:Arial,Helvetica Neue,Helvetica,sans-serif; font-size:12; text-anchor:middle;\" transform=\"rotate(0, 158.057, 373.921)\" x=\"158.057\" y=\"373.921\">200</text>\n",
       "</g>\n",
       "<g clip-path=\"url(#clip9100)\">\n",
       "<text style=\"fill:#000000; fill-opacity:1; font-family:Arial,Helvetica Neue,Helvetica,sans-serif; font-size:12; text-anchor:middle;\" transform=\"rotate(0, 235.735, 373.921)\" x=\"235.735\" y=\"373.921\">400</text>\n",
       "</g>\n",
       "<g clip-path=\"url(#clip9100)\">\n",
       "<text style=\"fill:#000000; fill-opacity:1; font-family:Arial,Helvetica Neue,Helvetica,sans-serif; font-size:12; text-anchor:middle;\" transform=\"rotate(0, 313.413, 373.921)\" x=\"313.413\" y=\"373.921\">600</text>\n",
       "</g>\n",
       "<g clip-path=\"url(#clip9100)\">\n",
       "<text style=\"fill:#000000; fill-opacity:1; font-family:Arial,Helvetica Neue,Helvetica,sans-serif; font-size:12; text-anchor:middle;\" transform=\"rotate(0, 391.091, 373.921)\" x=\"391.091\" y=\"373.921\">800</text>\n",
       "</g>\n",
       "<g clip-path=\"url(#clip9100)\">\n",
       "<text style=\"fill:#000000; fill-opacity:1; font-family:Arial,Helvetica Neue,Helvetica,sans-serif; font-size:12; text-anchor:middle;\" transform=\"rotate(0, 468.769, 373.921)\" x=\"468.769\" y=\"373.921\">1000</text>\n",
       "</g>\n",
       "<g clip-path=\"url(#clip9100)\">\n",
       "<text style=\"fill:#000000; fill-opacity:1; font-family:Arial,Helvetica Neue,Helvetica,sans-serif; font-size:12; text-anchor:middle;\" transform=\"rotate(0, 546.447, 373.921)\" x=\"546.447\" y=\"373.921\">1200</text>\n",
       "</g>\n",
       "<g clip-path=\"url(#clip9100)\">\n",
       "<text style=\"fill:#000000; fill-opacity:1; font-family:Arial,Helvetica Neue,Helvetica,sans-serif; font-size:12; text-anchor:end;\" transform=\"rotate(0, 63.8146, 300.402)\" x=\"63.8146\" y=\"300.402\">-22.5</text>\n",
       "</g>\n",
       "<g clip-path=\"url(#clip9100)\">\n",
       "<text style=\"fill:#000000; fill-opacity:1; font-family:Arial,Helvetica Neue,Helvetica,sans-serif; font-size:12; text-anchor:end;\" transform=\"rotate(0, 63.8146, 230.865)\" x=\"63.8146\" y=\"230.865\">-20.0</text>\n",
       "</g>\n",
       "<g clip-path=\"url(#clip9100)\">\n",
       "<text style=\"fill:#000000; fill-opacity:1; font-family:Arial,Helvetica Neue,Helvetica,sans-serif; font-size:12; text-anchor:end;\" transform=\"rotate(0, 63.8146, 161.329)\" x=\"63.8146\" y=\"161.329\">-17.5</text>\n",
       "</g>\n",
       "<g clip-path=\"url(#clip9100)\">\n",
       "<text style=\"fill:#000000; fill-opacity:1; font-family:Arial,Helvetica Neue,Helvetica,sans-serif; font-size:12; text-anchor:end;\" transform=\"rotate(0, 63.8146, 91.7924)\" x=\"63.8146\" y=\"91.7924\">-15.0</text>\n",
       "</g>\n",
       "<g clip-path=\"url(#clip9100)\">\n",
       "<text style=\"fill:#000000; fill-opacity:1; font-family:Arial,Helvetica Neue,Helvetica,sans-serif; font-size:21; text-anchor:middle;\" transform=\"rotate(0, 325.065, 18)\" x=\"325.065\" y=\"18\">Walk1D</text>\n",
       "</g>\n",
       "<g clip-path=\"url(#clip9100)\">\n",
       "<text style=\"fill:#000000; fill-opacity:1; font-family:Arial,Helvetica Neue,Helvetica,sans-serif; font-size:16; text-anchor:middle;\" transform=\"rotate(0, 325.065, 397.6)\" x=\"325.065\" y=\"397.6\">number of iterations</text>\n",
       "</g>\n",
       "<g clip-path=\"url(#clip9100)\">\n",
       "<text style=\"fill:#000000; fill-opacity:1; font-family:Arial,Helvetica Neue,Helvetica,sans-serif; font-size:16; text-anchor:middle;\" transform=\"rotate(-90, 14.4, 195.808)\" x=\"14.4\" y=\"195.808\">reward</text>\n",
       "</g>\n",
       "<polyline clip-path=\"url(#clip9102)\" style=\"stroke:#009af9; stroke-width:1; stroke-opacity:1; fill:none\" points=\"\n",
       "  84.2628,341.508 88.1467,256.85 99.7984,165.576 119.218,114.156 158.057,77.4285 235.735,62.7899 352.252,51.4803 468.769,44.4837 565.867,140.996 \n",
       "  \"/>\n",
       "<polyline clip-path=\"url(#clip9102)\" style=\"stroke:#009af9; stroke-width:1; stroke-opacity:1; fill:none\" points=\"\n",
       "  84.2628,350.82 84.2628,332.195 \n",
       "  \"/>\n",
       "<polyline clip-path=\"url(#clip9102)\" style=\"stroke:#009af9; stroke-width:1; stroke-opacity:1; fill:none\" points=\"\n",
       "  88.1467,266.299 88.1467,247.4 \n",
       "  \"/>\n",
       "<polyline clip-path=\"url(#clip9102)\" style=\"stroke:#009af9; stroke-width:1; stroke-opacity:1; fill:none\" points=\"\n",
       "  99.7984,173.58 99.7984,157.571 \n",
       "  \"/>\n",
       "<polyline clip-path=\"url(#clip9102)\" style=\"stroke:#009af9; stroke-width:1; stroke-opacity:1; fill:none\" points=\"\n",
       "  119.218,120.045 119.218,108.268 \n",
       "  \"/>\n",
       "<polyline clip-path=\"url(#clip9102)\" style=\"stroke:#009af9; stroke-width:1; stroke-opacity:1; fill:none\" points=\"\n",
       "  158.057,81.3056 158.057,73.5514 \n",
       "  \"/>\n",
       "<polyline clip-path=\"url(#clip9102)\" style=\"stroke:#009af9; stroke-width:1; stroke-opacity:1; fill:none\" points=\"\n",
       "  235.735,65.7385 235.735,59.8412 \n",
       "  \"/>\n",
       "<polyline clip-path=\"url(#clip9102)\" style=\"stroke:#009af9; stroke-width:1; stroke-opacity:1; fill:none\" points=\"\n",
       "  352.252,53.9561 352.252,49.0045 \n",
       "  \"/>\n",
       "<polyline clip-path=\"url(#clip9102)\" style=\"stroke:#009af9; stroke-width:1; stroke-opacity:1; fill:none\" points=\"\n",
       "  468.769,46.4839 468.769,42.4836 \n",
       "  \"/>\n",
       "<polyline clip-path=\"url(#clip9102)\" style=\"stroke:#009af9; stroke-width:1; stroke-opacity:1; fill:none\" points=\"\n",
       "  565.867,147.674 565.867,134.319 \n",
       "  \"/>\n",
       "<line clip-path=\"url(#clip9102)\" x1=\"89.2628\" y1=\"350.82\" x2=\"79.2628\" y2=\"350.82\" style=\"stroke:#000000; stroke-opacity:1\"/>\n",
       "<line clip-path=\"url(#clip9102)\" x1=\"89.2628\" y1=\"332.195\" x2=\"79.2628\" y2=\"332.195\" style=\"stroke:#000000; stroke-opacity:1\"/>\n",
       "<line clip-path=\"url(#clip9102)\" x1=\"93.1467\" y1=\"266.299\" x2=\"83.1467\" y2=\"266.299\" style=\"stroke:#000000; stroke-opacity:1\"/>\n",
       "<line clip-path=\"url(#clip9102)\" x1=\"93.1467\" y1=\"247.4\" x2=\"83.1467\" y2=\"247.4\" style=\"stroke:#000000; stroke-opacity:1\"/>\n",
       "<line clip-path=\"url(#clip9102)\" x1=\"104.798\" y1=\"173.58\" x2=\"94.7984\" y2=\"173.58\" style=\"stroke:#000000; stroke-opacity:1\"/>\n",
       "<line clip-path=\"url(#clip9102)\" x1=\"104.798\" y1=\"157.571\" x2=\"94.7984\" y2=\"157.571\" style=\"stroke:#000000; stroke-opacity:1\"/>\n",
       "<line clip-path=\"url(#clip9102)\" x1=\"124.218\" y1=\"120.045\" x2=\"114.218\" y2=\"120.045\" style=\"stroke:#000000; stroke-opacity:1\"/>\n",
       "<line clip-path=\"url(#clip9102)\" x1=\"124.218\" y1=\"108.268\" x2=\"114.218\" y2=\"108.268\" style=\"stroke:#000000; stroke-opacity:1\"/>\n",
       "<line clip-path=\"url(#clip9102)\" x1=\"163.057\" y1=\"81.3056\" x2=\"153.057\" y2=\"81.3056\" style=\"stroke:#000000; stroke-opacity:1\"/>\n",
       "<line clip-path=\"url(#clip9102)\" x1=\"163.057\" y1=\"73.5514\" x2=\"153.057\" y2=\"73.5514\" style=\"stroke:#000000; stroke-opacity:1\"/>\n",
       "<line clip-path=\"url(#clip9102)\" x1=\"240.735\" y1=\"65.7385\" x2=\"230.735\" y2=\"65.7385\" style=\"stroke:#000000; stroke-opacity:1\"/>\n",
       "<line clip-path=\"url(#clip9102)\" x1=\"240.735\" y1=\"59.8412\" x2=\"230.735\" y2=\"59.8412\" style=\"stroke:#000000; stroke-opacity:1\"/>\n",
       "<line clip-path=\"url(#clip9102)\" x1=\"357.252\" y1=\"53.9561\" x2=\"347.252\" y2=\"53.9561\" style=\"stroke:#000000; stroke-opacity:1\"/>\n",
       "<line clip-path=\"url(#clip9102)\" x1=\"357.252\" y1=\"49.0045\" x2=\"347.252\" y2=\"49.0045\" style=\"stroke:#000000; stroke-opacity:1\"/>\n",
       "<line clip-path=\"url(#clip9102)\" x1=\"473.769\" y1=\"46.4839\" x2=\"463.769\" y2=\"46.4839\" style=\"stroke:#000000; stroke-opacity:1\"/>\n",
       "<line clip-path=\"url(#clip9102)\" x1=\"473.769\" y1=\"42.4836\" x2=\"463.769\" y2=\"42.4836\" style=\"stroke:#000000; stroke-opacity:1\"/>\n",
       "<line clip-path=\"url(#clip9102)\" x1=\"570.867\" y1=\"147.674\" x2=\"560.867\" y2=\"147.674\" style=\"stroke:#000000; stroke-opacity:1\"/>\n",
       "<line clip-path=\"url(#clip9102)\" x1=\"570.867\" y1=\"134.319\" x2=\"560.867\" y2=\"134.319\" style=\"stroke:#000000; stroke-opacity:1\"/>\n",
       "<polyline clip-path=\"url(#clip9102)\" style=\"stroke:#e26f46; stroke-width:1; stroke-opacity:1; fill:none\" points=\"\n",
       "  84.2628,341.508 88.1467,256.85 99.7984,165.576 119.218,114.156 158.057,77.4285 235.735,62.7899 352.252,51.4803 468.769,44.4837 565.867,42.5858 \n",
       "  \"/>\n",
       "<polyline clip-path=\"url(#clip9102)\" style=\"stroke:#e26f46; stroke-width:1; stroke-opacity:1; fill:none\" points=\"\n",
       "  84.2628,350.82 84.2628,332.195 \n",
       "  \"/>\n",
       "<polyline clip-path=\"url(#clip9102)\" style=\"stroke:#e26f46; stroke-width:1; stroke-opacity:1; fill:none\" points=\"\n",
       "  88.1467,266.299 88.1467,247.4 \n",
       "  \"/>\n",
       "<polyline clip-path=\"url(#clip9102)\" style=\"stroke:#e26f46; stroke-width:1; stroke-opacity:1; fill:none\" points=\"\n",
       "  99.7984,173.58 99.7984,157.571 \n",
       "  \"/>\n",
       "<polyline clip-path=\"url(#clip9102)\" style=\"stroke:#e26f46; stroke-width:1; stroke-opacity:1; fill:none\" points=\"\n",
       "  119.218,120.045 119.218,108.268 \n",
       "  \"/>\n",
       "<polyline clip-path=\"url(#clip9102)\" style=\"stroke:#e26f46; stroke-width:1; stroke-opacity:1; fill:none\" points=\"\n",
       "  158.057,81.3056 158.057,73.5514 \n",
       "  \"/>\n",
       "<polyline clip-path=\"url(#clip9102)\" style=\"stroke:#e26f46; stroke-width:1; stroke-opacity:1; fill:none\" points=\"\n",
       "  235.735,65.7385 235.735,59.8412 \n",
       "  \"/>\n",
       "<polyline clip-path=\"url(#clip9102)\" style=\"stroke:#e26f46; stroke-width:1; stroke-opacity:1; fill:none\" points=\"\n",
       "  352.252,53.9561 352.252,49.0045 \n",
       "  \"/>\n",
       "<polyline clip-path=\"url(#clip9102)\" style=\"stroke:#e26f46; stroke-width:1; stroke-opacity:1; fill:none\" points=\"\n",
       "  468.769,46.4839 468.769,42.4836 \n",
       "  \"/>\n",
       "<polyline clip-path=\"url(#clip9102)\" style=\"stroke:#e26f46; stroke-width:1; stroke-opacity:1; fill:none\" points=\"\n",
       "  565.867,44.3748 565.867,40.7968 \n",
       "  \"/>\n",
       "<line clip-path=\"url(#clip9102)\" x1=\"89.2628\" y1=\"350.82\" x2=\"79.2628\" y2=\"350.82\" style=\"stroke:#000000; stroke-opacity:1\"/>\n",
       "<line clip-path=\"url(#clip9102)\" x1=\"89.2628\" y1=\"332.195\" x2=\"79.2628\" y2=\"332.195\" style=\"stroke:#000000; stroke-opacity:1\"/>\n",
       "<line clip-path=\"url(#clip9102)\" x1=\"93.1467\" y1=\"266.299\" x2=\"83.1467\" y2=\"266.299\" style=\"stroke:#000000; stroke-opacity:1\"/>\n",
       "<line clip-path=\"url(#clip9102)\" x1=\"93.1467\" y1=\"247.4\" x2=\"83.1467\" y2=\"247.4\" style=\"stroke:#000000; stroke-opacity:1\"/>\n",
       "<line clip-path=\"url(#clip9102)\" x1=\"104.798\" y1=\"173.58\" x2=\"94.7984\" y2=\"173.58\" style=\"stroke:#000000; stroke-opacity:1\"/>\n",
       "<line clip-path=\"url(#clip9102)\" x1=\"104.798\" y1=\"157.571\" x2=\"94.7984\" y2=\"157.571\" style=\"stroke:#000000; stroke-opacity:1\"/>\n",
       "<line clip-path=\"url(#clip9102)\" x1=\"124.218\" y1=\"120.045\" x2=\"114.218\" y2=\"120.045\" style=\"stroke:#000000; stroke-opacity:1\"/>\n",
       "<line clip-path=\"url(#clip9102)\" x1=\"124.218\" y1=\"108.268\" x2=\"114.218\" y2=\"108.268\" style=\"stroke:#000000; stroke-opacity:1\"/>\n",
       "<line clip-path=\"url(#clip9102)\" x1=\"163.057\" y1=\"81.3056\" x2=\"153.057\" y2=\"81.3056\" style=\"stroke:#000000; stroke-opacity:1\"/>\n",
       "<line clip-path=\"url(#clip9102)\" x1=\"163.057\" y1=\"73.5514\" x2=\"153.057\" y2=\"73.5514\" style=\"stroke:#000000; stroke-opacity:1\"/>\n",
       "<line clip-path=\"url(#clip9102)\" x1=\"240.735\" y1=\"65.7385\" x2=\"230.735\" y2=\"65.7385\" style=\"stroke:#000000; stroke-opacity:1\"/>\n",
       "<line clip-path=\"url(#clip9102)\" x1=\"240.735\" y1=\"59.8412\" x2=\"230.735\" y2=\"59.8412\" style=\"stroke:#000000; stroke-opacity:1\"/>\n",
       "<line clip-path=\"url(#clip9102)\" x1=\"357.252\" y1=\"53.9561\" x2=\"347.252\" y2=\"53.9561\" style=\"stroke:#000000; stroke-opacity:1\"/>\n",
       "<line clip-path=\"url(#clip9102)\" x1=\"357.252\" y1=\"49.0045\" x2=\"347.252\" y2=\"49.0045\" style=\"stroke:#000000; stroke-opacity:1\"/>\n",
       "<line clip-path=\"url(#clip9102)\" x1=\"473.769\" y1=\"46.4839\" x2=\"463.769\" y2=\"46.4839\" style=\"stroke:#000000; stroke-opacity:1\"/>\n",
       "<line clip-path=\"url(#clip9102)\" x1=\"473.769\" y1=\"42.4836\" x2=\"463.769\" y2=\"42.4836\" style=\"stroke:#000000; stroke-opacity:1\"/>\n",
       "<line clip-path=\"url(#clip9102)\" x1=\"570.867\" y1=\"44.3748\" x2=\"560.867\" y2=\"44.3748\" style=\"stroke:#000000; stroke-opacity:1\"/>\n",
       "<line clip-path=\"url(#clip9102)\" x1=\"570.867\" y1=\"40.7968\" x2=\"560.867\" y2=\"40.7968\" style=\"stroke:#000000; stroke-opacity:1\"/>\n",
       "<polyline clip-path=\"url(#clip9102)\" style=\"stroke:#3da44d; stroke-width:1; stroke-opacity:1; fill:none\" points=\"\n",
       "  84.2628,286.518 88.1467,244.216 99.7984,183.485 119.218,135.229 158.057,118.508 235.735,114.103 352.252,113.007 468.769,111.155 565.867,110.64 \n",
       "  \"/>\n",
       "<polyline clip-path=\"url(#clip9102)\" style=\"stroke:#3da44d; stroke-width:1; stroke-opacity:1; fill:none\" points=\"\n",
       "  84.2628,300.22 84.2628,272.816 \n",
       "  \"/>\n",
       "<polyline clip-path=\"url(#clip9102)\" style=\"stroke:#3da44d; stroke-width:1; stroke-opacity:1; fill:none\" points=\"\n",
       "  88.1467,256.012 88.1467,232.42 \n",
       "  \"/>\n",
       "<polyline clip-path=\"url(#clip9102)\" style=\"stroke:#3da44d; stroke-width:1; stroke-opacity:1; fill:none\" points=\"\n",
       "  99.7984,192.487 99.7984,174.482 \n",
       "  \"/>\n",
       "<polyline clip-path=\"url(#clip9102)\" style=\"stroke:#3da44d; stroke-width:1; stroke-opacity:1; fill:none\" points=\"\n",
       "  119.218,140.178 119.218,130.28 \n",
       "  \"/>\n",
       "<polyline clip-path=\"url(#clip9102)\" style=\"stroke:#3da44d; stroke-width:1; stroke-opacity:1; fill:none\" points=\"\n",
       "  158.057,122.385 158.057,114.632 \n",
       "  \"/>\n",
       "<polyline clip-path=\"url(#clip9102)\" style=\"stroke:#3da44d; stroke-width:1; stroke-opacity:1; fill:none\" points=\"\n",
       "  235.735,117.355 235.735,110.851 \n",
       "  \"/>\n",
       "<polyline clip-path=\"url(#clip9102)\" style=\"stroke:#3da44d; stroke-width:1; stroke-opacity:1; fill:none\" points=\"\n",
       "  352.252,116.218 352.252,109.796 \n",
       "  \"/>\n",
       "<polyline clip-path=\"url(#clip9102)\" style=\"stroke:#3da44d; stroke-width:1; stroke-opacity:1; fill:none\" points=\"\n",
       "  468.769,114.308 468.769,108.002 \n",
       "  \"/>\n",
       "<polyline clip-path=\"url(#clip9102)\" style=\"stroke:#3da44d; stroke-width:1; stroke-opacity:1; fill:none\" points=\"\n",
       "  565.867,113.705 565.867,107.575 \n",
       "  \"/>\n",
       "<line clip-path=\"url(#clip9102)\" x1=\"89.2628\" y1=\"300.22\" x2=\"79.2628\" y2=\"300.22\" style=\"stroke:#000000; stroke-opacity:1\"/>\n",
       "<line clip-path=\"url(#clip9102)\" x1=\"89.2628\" y1=\"272.816\" x2=\"79.2628\" y2=\"272.816\" style=\"stroke:#000000; stroke-opacity:1\"/>\n",
       "<line clip-path=\"url(#clip9102)\" x1=\"93.1467\" y1=\"256.012\" x2=\"83.1467\" y2=\"256.012\" style=\"stroke:#000000; stroke-opacity:1\"/>\n",
       "<line clip-path=\"url(#clip9102)\" x1=\"93.1467\" y1=\"232.42\" x2=\"83.1467\" y2=\"232.42\" style=\"stroke:#000000; stroke-opacity:1\"/>\n",
       "<line clip-path=\"url(#clip9102)\" x1=\"104.798\" y1=\"192.487\" x2=\"94.7984\" y2=\"192.487\" style=\"stroke:#000000; stroke-opacity:1\"/>\n",
       "<line clip-path=\"url(#clip9102)\" x1=\"104.798\" y1=\"174.482\" x2=\"94.7984\" y2=\"174.482\" style=\"stroke:#000000; stroke-opacity:1\"/>\n",
       "<line clip-path=\"url(#clip9102)\" x1=\"124.218\" y1=\"140.178\" x2=\"114.218\" y2=\"140.178\" style=\"stroke:#000000; stroke-opacity:1\"/>\n",
       "<line clip-path=\"url(#clip9102)\" x1=\"124.218\" y1=\"130.28\" x2=\"114.218\" y2=\"130.28\" style=\"stroke:#000000; stroke-opacity:1\"/>\n",
       "<line clip-path=\"url(#clip9102)\" x1=\"163.057\" y1=\"122.385\" x2=\"153.057\" y2=\"122.385\" style=\"stroke:#000000; stroke-opacity:1\"/>\n",
       "<line clip-path=\"url(#clip9102)\" x1=\"163.057\" y1=\"114.632\" x2=\"153.057\" y2=\"114.632\" style=\"stroke:#000000; stroke-opacity:1\"/>\n",
       "<line clip-path=\"url(#clip9102)\" x1=\"240.735\" y1=\"117.355\" x2=\"230.735\" y2=\"117.355\" style=\"stroke:#000000; stroke-opacity:1\"/>\n",
       "<line clip-path=\"url(#clip9102)\" x1=\"240.735\" y1=\"110.851\" x2=\"230.735\" y2=\"110.851\" style=\"stroke:#000000; stroke-opacity:1\"/>\n",
       "<line clip-path=\"url(#clip9102)\" x1=\"357.252\" y1=\"116.218\" x2=\"347.252\" y2=\"116.218\" style=\"stroke:#000000; stroke-opacity:1\"/>\n",
       "<line clip-path=\"url(#clip9102)\" x1=\"357.252\" y1=\"109.796\" x2=\"347.252\" y2=\"109.796\" style=\"stroke:#000000; stroke-opacity:1\"/>\n",
       "<line clip-path=\"url(#clip9102)\" x1=\"473.769\" y1=\"114.308\" x2=\"463.769\" y2=\"114.308\" style=\"stroke:#000000; stroke-opacity:1\"/>\n",
       "<line clip-path=\"url(#clip9102)\" x1=\"473.769\" y1=\"108.002\" x2=\"463.769\" y2=\"108.002\" style=\"stroke:#000000; stroke-opacity:1\"/>\n",
       "<line clip-path=\"url(#clip9102)\" x1=\"570.867\" y1=\"113.705\" x2=\"560.867\" y2=\"113.705\" style=\"stroke:#000000; stroke-opacity:1\"/>\n",
       "<line clip-path=\"url(#clip9102)\" x1=\"570.867\" y1=\"107.575\" x2=\"560.867\" y2=\"107.575\" style=\"stroke:#000000; stroke-opacity:1\"/>\n",
       "<polygon clip-path=\"url(#clip9100)\" points=\"\n",
       "408.033,324.121 562.315,324.121 562.315,263.641 408.033,263.641 \n",
       "  \" fill=\"#ffffff\" fill-opacity=\"1\"/>\n",
       "<polyline clip-path=\"url(#clip9100)\" style=\"stroke:#000000; stroke-width:1; stroke-opacity:1; fill:none\" points=\"\n",
       "  408.033,324.121 562.315,324.121 562.315,263.641 408.033,263.641 408.033,324.121 \n",
       "  \"/>\n",
       "<polyline clip-path=\"url(#clip9100)\" style=\"stroke:#009af9; stroke-width:1; stroke-opacity:1; fill:none\" points=\"\n",
       "  414.033,278.761 450.033,278.761 \n",
       "  \"/>\n",
       "<g clip-path=\"url(#clip9100)\">\n",
       "<text style=\"fill:#000000; fill-opacity:1; font-family:Arial,Helvetica Neue,Helvetica,sans-serif; font-size:12; text-anchor:start;\" transform=\"rotate(0, 456.033, 283.261)\" x=\"456.033\" y=\"283.261\">DPWBandit</text>\n",
       "</g>\n",
       "<polyline clip-path=\"url(#clip9100)\" style=\"stroke:#e26f46; stroke-width:1; stroke-opacity:1; fill:none\" points=\"\n",
       "  414.033,293.881 450.033,293.881 \n",
       "  \"/>\n",
       "<g clip-path=\"url(#clip9100)\">\n",
       "<text style=\"fill:#000000; fill-opacity:1; font-family:Arial,Helvetica Neue,Helvetica,sans-serif; font-size:12; text-anchor:start;\" transform=\"rotate(0, 456.033, 298.381)\" x=\"456.033\" y=\"298.381\">RandomBandit</text>\n",
       "</g>\n",
       "<polyline clip-path=\"url(#clip9100)\" style=\"stroke:#3da44d; stroke-width:1; stroke-opacity:1; fill:none\" points=\"\n",
       "  414.033,309.001 450.033,309.001 \n",
       "  \"/>\n",
       "<g clip-path=\"url(#clip9100)\">\n",
       "<text style=\"fill:#000000; fill-opacity:1; font-family:Arial,Helvetica Neue,Helvetica,sans-serif; font-size:12; text-anchor:start;\" transform=\"rotate(0, 456.033, 313.501)\" x=\"456.033\" y=\"313.501\">CBTSDPWBandit</text>\n",
       "</g>\n",
       "</svg>\n"
      ]
     },
     "execution_count": 7,
     "metadata": {},
     "output_type": "execute_result"
    }
   ],
   "source": [
    "p=plot(result0,result1)"
   ]
  },
  {
   "cell_type": "code",
   "execution_count": 8,
   "metadata": {},
   "outputs": [],
   "source": [
    "savefig(p, \"./RvN_Walk1d.pdf\")"
   ]
  },
  {
   "cell_type": "code",
   "execution_count": 19,
   "metadata": {},
   "outputs": [
    {
     "name": "stderr",
     "output_type": "stream",
     "text": [
      "WARNING: imported binding for sim overwritten in module Main\n"
     ]
    },
    {
     "data": {
      "text/plain": [
       "CMDPs.RewardvsNSim(Walk1DMDP.Walk1D(Walk1DMDP.Walk1DParams(1.0, 10.0, 20), Distributions.Normal{Float64}(μ=0.0, σ=1.0)), MCTS.RandomBandit, 1250, 199, 20, Dict{Symbol,Any}(Pair{Symbol,Any}(:sim_max_steps, 20),Pair{Symbol,Any}(:sim_mdp, \"Walk1D\"),Pair{Symbol,Any}(:sim_n_ters, 1250),Pair{Symbol,Any}(:sim_algorithm, \"RandomBandit\"),Pair{Symbol,Any}(:sim_seed, 199)))"
      ]
     },
     "execution_count": 19,
     "metadata": {},
     "output_type": "execute_result"
    }
   ],
   "source": [
    "sim=generate_sim_q(study0)[end-1]"
   ]
  },
  {
   "cell_type": "code",
   "execution_count": 22,
   "metadata": {},
   "outputs": [
    {
     "data": {
      "text/plain": [
       "POMDPToolbox.MDPHistory{Walk1DMDP.Walk1DState,Float64}(Walk1DMDP.Walk1DState[Walk1DMDP.Walk1DState(0, 1.0), Walk1DMDP.Walk1DState(1, 2.47749), Walk1DMDP.Walk1DState(2, 3.63496), Walk1DMDP.Walk1DState(3, 5.52992), Walk1DMDP.Walk1DState(4, 6.63599), Walk1DMDP.Walk1DState(5, 8.55252), Walk1DMDP.Walk1DState(6, 10.0105)], [1.47749, 1.15747, 1.89497, 1.10607, 1.91653, 1.45793], [-2.01042, -1.5888, -2.71439, -1.53063, -2.75548, -1.98172], Any[nothing, nothing, nothing, nothing, nothing, nothing], Any[Dict{Symbol,Any}(Pair{Symbol,Any}(:tree_queries, 1250),Pair{Symbol,Any}(:search_time_us, 0x000000000000d0ff),Pair{Symbol,Any}(:best_path, MCTS.BestPathTracker(Any[Walk1DMDP.Walk1DState(0, 1.0)], Any[-0.000565997], -0.918939, Any[], Any[], 0.0, 1.0, 1.0))), Dict{Symbol,Any}(Pair{Symbol,Any}(:tree_queries, 1250),Pair{Symbol,Any}(:search_time_us, 0x000000000000ca0d),Pair{Symbol,Any}(:best_path, MCTS.BestPathTracker(Any[Walk1DMDP.Walk1DState(1, 2.47749)], Any[0.000116105], -0.918939, Any[], Any[], 0.0, 1.0, 1.0))), Dict{Symbol,Any}(Pair{Symbol,Any}(:tree_queries, 1250),Pair{Symbol,Any}(:search_time_us, 0x00000000000099d4),Pair{Symbol,Any}(:best_path, MCTS.BestPathTracker(Any[Walk1DMDP.Walk1DState(2, 3.63496)], Any[-0.00169954], -0.91894, Any[], Any[], 0.0, 1.0, 1.0))), Dict{Symbol,Any}(Pair{Symbol,Any}(:tree_queries, 1250),Pair{Symbol,Any}(:search_time_us, 0x0000000000009665),Pair{Symbol,Any}(:best_path, MCTS.BestPathTracker(Any[Walk1DMDP.Walk1DState(3, 5.52992)], Any[0.000166756], -0.918939, Any[], Any[], 0.0, 1.0, 1.0))), Dict{Symbol,Any}(Pair{Symbol,Any}(:tree_queries, 1250),Pair{Symbol,Any}(:search_time_us, 0x0000000000008fb1),Pair{Symbol,Any}(:best_path, MCTS.BestPathTracker(Any[Walk1DMDP.Walk1DState(4, 6.63599)], Any[0.00016199], -0.918939, Any[], Any[], 0.0, 1.0, 1.0))), Dict{Symbol,Any}(Pair{Symbol,Any}(:tree_queries, 1250),Pair{Symbol,Any}(:search_time_us, 0x000000000000645a),Pair{Symbol,Any}(:best_path, MCTS.BestPathTracker(Any[Walk1DMDP.Walk1DState(5, 8.55252)], Any[-0.00028709], -0.918939, Any[], Any[], 0.0, 1.0, 1.0)))], 1.0, Nullable{Exception}(), Nullable{Any}())"
      ]
     },
     "execution_count": 22,
     "metadata": {},
     "output_type": "execute_result"
    }
   ],
   "source": [
    "rng=MersenneTwister(sim.seed)\n",
    "mdp=sim.mdp\n",
    "b=sim.bandit_t(mdp)\n",
    "solver=ModularSolver(mdp, b, sim.seed; n_iterations=sim.n_iters)\n",
    "policy=solve(solver, mdp)\n",
    "s0=initial_state(mdp, rng)\n",
    "hr=HistoryRecorder(; max_steps=sim.max_steps, rng=rng)\n",
    "h=simulate(hr, mdp, policy, s0)"
   ]
  },
  {
   "cell_type": "code",
   "execution_count": 24,
   "metadata": {},
   "outputs": [
    {
     "data": {
      "text/plain": [
       "7-element Array{Walk1DMDP.Walk1DState,1}:\n",
       " Walk1DMDP.Walk1DState(0, 1.0)    \n",
       " Walk1DMDP.Walk1DState(1, 2.47749)\n",
       " Walk1DMDP.Walk1DState(2, 3.63496)\n",
       " Walk1DMDP.Walk1DState(3, 5.52992)\n",
       " Walk1DMDP.Walk1DState(4, 6.63599)\n",
       " Walk1DMDP.Walk1DState(5, 8.55252)\n",
       " Walk1DMDP.Walk1DState(6, 10.0105)"
      ]
     },
     "execution_count": 24,
     "metadata": {},
     "output_type": "execute_result"
    }
   ],
   "source": [
    "h.state_hist"
   ]
  },
  {
   "cell_type": "code",
   "execution_count": 25,
   "metadata": {},
   "outputs": [
    {
     "data": {
      "text/plain": [
       "6-element Array{Float64,1}:\n",
       " 1.47749\n",
       " 1.15747\n",
       " 1.89497\n",
       " 1.10607\n",
       " 1.91653\n",
       " 1.45793"
      ]
     },
     "execution_count": 25,
     "metadata": {},
     "output_type": "execute_result"
    }
   ],
   "source": [
    "h.action_hist"
   ]
  },
  {
   "cell_type": "code",
   "execution_count": 70,
   "metadata": {},
   "outputs": [
    {
     "data": {
      "text/plain": [
       "Walk1DMDP.Walk1DState(0, 1.0)"
      ]
     },
     "execution_count": 70,
     "metadata": {},
     "output_type": "execute_result"
    }
   ],
   "source": [
    "mdp=Walk1D()\n",
    "s=initial_state(mdp,Base.GLOBAL_RNG)"
   ]
  },
  {
   "cell_type": "code",
   "execution_count": 76,
   "metadata": {},
   "outputs": [
    {
     "data": {
      "text/plain": [
       "(Walk1DMDP.Walk1DState(6, 10.0), -2.0439385332046727)"
      ]
     },
     "execution_count": 76,
     "metadata": {},
     "output_type": "execute_result"
    }
   ],
   "source": [
    "sp=generate_s(mdp, s, 1.5, Base.GLOBAL_RNG)\n",
    "r=reward(mdp, s, 1.5, sp)\n",
    "s=sp\n",
    "s,r"
   ]
  },
  {
   "cell_type": "code",
   "execution_count": 77,
   "metadata": {},
   "outputs": [
    {
     "data": {
      "text/plain": [
       "-12.264"
      ]
     },
     "execution_count": 77,
     "metadata": {},
     "output_type": "execute_result"
    }
   ],
   "source": [
    "6*-2.044"
   ]
  },
  {
   "cell_type": "code",
   "execution_count": 79,
   "metadata": {},
   "outputs": [
    {
     "data": {
      "text/html": [
       "<table class=\"data-frame\"><thead><tr><th></th><th>alg</th><th>seed</th><th>n_iters</th><th>r_total</th></tr></thead><tbody><tr><th>1</th><td>RandomBandit</td><td>112</td><td>1250</td><td>-12.3213</td></tr><tr><th>2</th><td>DPWBandit</td><td>138</td><td>1000</td><td>-12.3304</td></tr><tr><th>3</th><td>RandomBandit</td><td>138</td><td>1000</td><td>-12.3304</td></tr><tr><th>4</th><td>RandomBandit</td><td>35</td><td>1250</td><td>-12.348</td></tr><tr><th>5</th><td>DPWBandit</td><td>119</td><td>1000</td><td>-12.3696</td></tr><tr><th>6</th><td>RandomBandit</td><td>119</td><td>1000</td><td>-12.3696</td></tr><tr><th>7</th><td>RandomBandit</td><td>92</td><td>1250</td><td>-12.3816</td></tr><tr><th>8</th><td>DPWBandit</td><td>18</td><td>1000</td><td>-12.3884</td></tr><tr><th>9</th><td>RandomBandit</td><td>18</td><td>1000</td><td>-12.3884</td></tr><tr><th>10</th><td>RandomBandit</td><td>118</td><td>1250</td><td>-12.3884</td></tr><tr><th>11</th><td>RandomBandit</td><td>151</td><td>1250</td><td>-12.3916</td></tr><tr><th>12</th><td>DPWBandit</td><td>91</td><td>1000</td><td>-12.4031</td></tr><tr><th>13</th><td>RandomBandit</td><td>91</td><td>1000</td><td>-12.4031</td></tr><tr><th>14</th><td>DPWBandit</td><td>92</td><td>700</td><td>-12.4089</td></tr><tr><th>15</th><td>RandomBandit</td><td>92</td><td>700</td><td>-12.4089</td></tr><tr><th>16</th><td>DPWBandit</td><td>151</td><td>700</td><td>-12.4109</td></tr><tr><th>17</th><td>RandomBandit</td><td>151</td><td>700</td><td>-12.4109</td></tr><tr><th>18</th><td>DPWBandit</td><td>151</td><td>1000</td><td>-12.4123</td></tr><tr><th>19</th><td>RandomBandit</td><td>151</td><td>1000</td><td>-12.4123</td></tr><tr><th>20</th><td>DPWBandit</td><td>87</td><td>200</td><td>-12.42</td></tr><tr><th>21</th><td>RandomBandit</td><td>87</td><td>200</td><td>-12.42</td></tr><tr><th>22</th><td>DPWBandit</td><td>37</td><td>700</td><td>-12.4291</td></tr><tr><th>23</th><td>RandomBandit</td><td>37</td><td>700</td><td>-12.4291</td></tr><tr><th>24</th><td>RandomBandit</td><td>2</td><td>1250</td><td>-12.4321</td></tr><tr><th>25</th><td>RandomBandit</td><td>131</td><td>1250</td><td>-12.4355</td></tr><tr><th>26</th><td>DPWBandit</td><td>104</td><td>700</td><td>-12.4422</td></tr><tr><th>27</th><td>RandomBandit</td><td>104</td><td>700</td><td>-12.4422</td></tr><tr><th>28</th><td>DPWBandit</td><td>102</td><td>1000</td><td>-12.4564</td></tr><tr><th>29</th><td>RandomBandit</td><td>102</td><td>1000</td><td>-12.4564</td></tr><tr><th>30</th><td>DPWBandit</td><td>79</td><td>100</td><td>-12.4612</td></tr><tr><th>&vellip;</th><td>&vellip;</td><td>&vellip;</td><td>&vellip;</td><td>&vellip;</td></tr></tbody></table>"
      ],
      "text/plain": [
       "3600×4 DataFrames.DataFrame\n",
       "│ Row  │ alg          │ seed │ n_iters │ r_total  │\n",
       "├──────┼──────────────┼──────┼─────────┼──────────┤\n",
       "│ 1    │ RandomBandit │ 112  │ 1250    │ -12.3213 │\n",
       "│ 2    │ DPWBandit    │ 138  │ 1000    │ -12.3304 │\n",
       "│ 3    │ RandomBandit │ 138  │ 1000    │ -12.3304 │\n",
       "│ 4    │ RandomBandit │ 35   │ 1250    │ -12.348  │\n",
       "│ 5    │ DPWBandit    │ 119  │ 1000    │ -12.3696 │\n",
       "│ 6    │ RandomBandit │ 119  │ 1000    │ -12.3696 │\n",
       "│ 7    │ RandomBandit │ 92   │ 1250    │ -12.3816 │\n",
       "│ 8    │ DPWBandit    │ 18   │ 1000    │ -12.3884 │\n",
       "│ 9    │ RandomBandit │ 18   │ 1000    │ -12.3884 │\n",
       "│ 10   │ RandomBandit │ 118  │ 1250    │ -12.3884 │\n",
       "│ 11   │ RandomBandit │ 151  │ 1250    │ -12.3916 │\n",
       "⋮\n",
       "│ 3589 │ DPWBandit    │ 143  │ 10      │ -32.085  │\n",
       "│ 3590 │ RandomBandit │ 143  │ 10      │ -32.085  │\n",
       "│ 3591 │ DPWBandit    │ 122  │ 10      │ -32.2143 │\n",
       "│ 3592 │ RandomBandit │ 122  │ 10      │ -32.2143 │\n",
       "│ 3593 │ DPWBandit    │ 22   │ 10      │ -32.3577 │\n",
       "│ 3594 │ RandomBandit │ 22   │ 10      │ -32.3577 │\n",
       "│ 3595 │ DPWBandit    │ 158  │ 10      │ -32.5541 │\n",
       "│ 3596 │ RandomBandit │ 158  │ 10      │ -32.5541 │\n",
       "│ 3597 │ DPWBandit    │ 10   │ 20      │ -32.8271 │\n",
       "│ 3598 │ RandomBandit │ 10   │ 20      │ -32.8271 │\n",
       "│ 3599 │ DPWBandit    │ 93   │ 10      │ -34.1717 │\n",
       "│ 3600 │ RandomBandit │ 93   │ 10      │ -34.1717 │"
      ]
     },
     "execution_count": 79,
     "metadata": {},
     "output_type": "execute_result"
    }
   ],
   "source": [
    "sort!(result0.data,:r_total,rev=true)"
   ]
  },
  {
   "cell_type": "code",
   "execution_count": null,
   "metadata": {},
   "outputs": [],
   "source": []
  }
 ],
 "metadata": {
  "kernelspec": {
   "display_name": "Julia 0.6.2",
   "language": "julia",
   "name": "julia-0.6"
  },
  "language_info": {
   "file_extension": ".jl",
   "mimetype": "application/julia",
   "name": "julia",
   "version": "0.6.2"
  }
 },
 "nbformat": 4,
 "nbformat_minor": 2
}
