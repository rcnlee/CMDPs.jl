{
 "cells": [
  {
   "cell_type": "code",
   "execution_count": 1,
   "metadata": {},
   "outputs": [
    {
     "data": {
      "text/plain": [
       "Plots.GRBackend()"
      ]
     },
     "execution_count": 1,
     "metadata": {},
     "output_type": "execute_result"
    }
   ],
   "source": [
    "#using Revise\n",
    "addprocs(4)\n",
    "using CMDPs\n",
    "using POMDPs, POMDPToolbox, Walk1DMDP, MCTS\n",
    "using DataFrames\n",
    "using Plots; gr()"
   ]
  },
  {
   "cell_type": "code",
   "execution_count": 2,
   "metadata": {},
   "outputs": [],
   "source": [
    "## Study"
   ]
  },
  {
   "cell_type": "code",
   "execution_count": 3,
   "metadata": {},
   "outputs": [
    {
     "data": {
      "text/plain": [
       "CMDPs.TuneDPW\n",
       "  mdp: Walk1DMDP.Walk1D\n",
       "  n_seeds: Int64 200\n",
       "  n_iters: Array{Int64}((1,)) [300]\n",
       "  max_steps: Int64 20\n",
       "  k_actions: Array{Float64}((7,)) [0.1, 0.5, 1.0, 2.0, 5.0, 10.0, 20.0]\n",
       "  alpha_actions: Array{Float64}((5,)) [0.1, 0.25, 0.5, 0.75, 0.9]\n",
       "  ecs: Array{Float64}((4,)) [0.25, 0.5, 0.75, 1.0]\n",
       "  k_states: Array{Float64}((7,)) [0.1, 0.5, 1.0, 2.0, 5.0, 10.0, 20.0]\n",
       "  alpha_states: Array{Float64}((6,)) [0.0, 0.1, 0.25, 0.5, 0.75, 0.9]\n"
      ]
     },
     "execution_count": 3,
     "metadata": {},
     "output_type": "execute_result"
    }
   ],
   "source": [
    "study = TuneCBTS(Walk1D)"
   ]
  },
  {
   "cell_type": "code",
   "execution_count": 4,
   "metadata": {},
   "outputs": [
    {
     "data": {
      "text/plain": [
       "CMDPs.TuneDPWResult(\"Walk1D\", 1176000×10 DataFrames.DataFrame. Omitted printing of 4 columns\n",
       "│ Row     │ alg       │ seed │ n_iters │ max_steps │ k_action │ alpha_action │\n",
       "├─────────┼───────────┼──────┼─────────┼───────────┼──────────┼──────────────┤\n",
       "│ 1       │ DPWBandit │ 1    │ 300     │ 20        │ 0.1      │ 0.1          │\n",
       "│ 2       │ DPWBandit │ 1    │ 300     │ 20        │ 0.1      │ 0.1          │\n",
       "│ 3       │ DPWBandit │ 1    │ 300     │ 20        │ 0.1      │ 0.1          │\n",
       "│ 4       │ DPWBandit │ 1    │ 300     │ 20        │ 0.1      │ 0.1          │\n",
       "│ 5       │ DPWBandit │ 1    │ 300     │ 20        │ 0.1      │ 0.1          │\n",
       "│ 6       │ DPWBandit │ 1    │ 300     │ 20        │ 0.1      │ 0.1          │\n",
       "│ 7       │ DPWBandit │ 1    │ 300     │ 20        │ 0.1      │ 0.1          │\n",
       "│ 8       │ DPWBandit │ 1    │ 300     │ 20        │ 0.1      │ 0.1          │\n",
       "│ 9       │ DPWBandit │ 1    │ 300     │ 20        │ 0.1      │ 0.1          │\n",
       "│ 10      │ DPWBandit │ 1    │ 300     │ 20        │ 0.1      │ 0.1          │\n",
       "│ 11      │ DPWBandit │ 1    │ 300     │ 20        │ 0.1      │ 0.1          │\n",
       "⋮\n",
       "│ 1175989 │ DPWBandit │ 200  │ 300     │ 20        │ 20.0     │ 0.9          │\n",
       "│ 1175990 │ DPWBandit │ 200  │ 300     │ 20        │ 20.0     │ 0.9          │\n",
       "│ 1175991 │ DPWBandit │ 200  │ 300     │ 20        │ 20.0     │ 0.9          │\n",
       "│ 1175992 │ DPWBandit │ 200  │ 300     │ 20        │ 20.0     │ 0.9          │\n",
       "│ 1175993 │ DPWBandit │ 200  │ 300     │ 20        │ 20.0     │ 0.9          │\n",
       "│ 1175994 │ DPWBandit │ 200  │ 300     │ 20        │ 20.0     │ 0.9          │\n",
       "│ 1175995 │ DPWBandit │ 200  │ 300     │ 20        │ 20.0     │ 0.9          │\n",
       "│ 1175996 │ DPWBandit │ 200  │ 300     │ 20        │ 20.0     │ 0.9          │\n",
       "│ 1175997 │ DPWBandit │ 200  │ 300     │ 20        │ 20.0     │ 0.9          │\n",
       "│ 1175998 │ DPWBandit │ 200  │ 300     │ 20        │ 20.0     │ 0.9          │\n",
       "│ 1175999 │ DPWBandit │ 200  │ 300     │ 20        │ 20.0     │ 0.9          │\n",
       "│ 1176000 │ DPWBandit │ 200  │ 300     │ 20        │ 20.0     │ 0.9          │)"
      ]
     },
     "execution_count": 4,
     "metadata": {},
     "output_type": "execute_result"
    }
   ],
   "source": [
    "result = run_study(study)"
   ]
  },
  {
   "cell_type": "code",
   "execution_count": 5,
   "metadata": {},
   "outputs": [
    {
     "data": {
      "text/html": [
       "<table class=\"data-frame\"><thead><tr><th></th><th>alg</th><th>k_action</th><th>alpha_action</th><th>ec</th><th>k_state</th><th>alpha_state</th><th>r_total_mean</th><th>r_total_std</th></tr></thead><tbody><tr><th>1</th><td>DPWBandit</td><td>2.0</td><td>0.9</td><td>0.25</td><td>0.1</td><td>0.0</td><td>-14.428</td><td>1.95508</td></tr><tr><th>2</th><td>DPWBandit</td><td>2.0</td><td>0.9</td><td>0.25</td><td>0.1</td><td>0.1</td><td>-14.428</td><td>1.95508</td></tr><tr><th>3</th><td>DPWBandit</td><td>2.0</td><td>0.9</td><td>0.25</td><td>0.1</td><td>0.25</td><td>-14.428</td><td>1.95508</td></tr><tr><th>4</th><td>DPWBandit</td><td>2.0</td><td>0.9</td><td>0.25</td><td>0.1</td><td>0.5</td><td>-14.428</td><td>1.95508</td></tr><tr><th>5</th><td>DPWBandit</td><td>2.0</td><td>0.9</td><td>0.25</td><td>0.1</td><td>0.75</td><td>-14.428</td><td>1.95508</td></tr><tr><th>6</th><td>DPWBandit</td><td>2.0</td><td>0.9</td><td>0.25</td><td>0.1</td><td>0.9</td><td>-14.428</td><td>1.95508</td></tr><tr><th>7</th><td>DPWBandit</td><td>2.0</td><td>0.9</td><td>0.25</td><td>0.5</td><td>0.0</td><td>-14.428</td><td>1.95508</td></tr><tr><th>8</th><td>DPWBandit</td><td>2.0</td><td>0.9</td><td>0.25</td><td>0.5</td><td>0.1</td><td>-14.428</td><td>1.95508</td></tr><tr><th>9</th><td>DPWBandit</td><td>2.0</td><td>0.9</td><td>0.25</td><td>0.5</td><td>0.25</td><td>-14.428</td><td>1.95508</td></tr><tr><th>10</th><td>DPWBandit</td><td>2.0</td><td>0.9</td><td>0.25</td><td>0.5</td><td>0.5</td><td>-14.428</td><td>1.95508</td></tr><tr><th>11</th><td>DPWBandit</td><td>2.0</td><td>0.9</td><td>0.25</td><td>0.5</td><td>0.75</td><td>-14.428</td><td>1.95508</td></tr><tr><th>12</th><td>DPWBandit</td><td>2.0</td><td>0.9</td><td>0.25</td><td>0.5</td><td>0.9</td><td>-14.428</td><td>1.95508</td></tr><tr><th>13</th><td>DPWBandit</td><td>2.0</td><td>0.9</td><td>0.25</td><td>1.0</td><td>0.0</td><td>-14.428</td><td>1.95508</td></tr><tr><th>14</th><td>DPWBandit</td><td>2.0</td><td>0.9</td><td>0.25</td><td>1.0</td><td>0.1</td><td>-14.428</td><td>1.95508</td></tr><tr><th>15</th><td>DPWBandit</td><td>2.0</td><td>0.9</td><td>0.25</td><td>1.0</td><td>0.25</td><td>-14.428</td><td>1.95508</td></tr><tr><th>16</th><td>DPWBandit</td><td>2.0</td><td>0.9</td><td>0.25</td><td>1.0</td><td>0.5</td><td>-14.428</td><td>1.95508</td></tr><tr><th>17</th><td>DPWBandit</td><td>2.0</td><td>0.9</td><td>0.25</td><td>1.0</td><td>0.75</td><td>-14.428</td><td>1.95508</td></tr><tr><th>18</th><td>DPWBandit</td><td>2.0</td><td>0.9</td><td>0.25</td><td>1.0</td><td>0.9</td><td>-14.428</td><td>1.95508</td></tr><tr><th>19</th><td>DPWBandit</td><td>2.0</td><td>0.9</td><td>0.25</td><td>2.0</td><td>0.0</td><td>-14.428</td><td>1.95508</td></tr><tr><th>20</th><td>DPWBandit</td><td>2.0</td><td>0.9</td><td>0.25</td><td>2.0</td><td>0.1</td><td>-14.428</td><td>1.95508</td></tr><tr><th>21</th><td>DPWBandit</td><td>2.0</td><td>0.9</td><td>0.25</td><td>2.0</td><td>0.25</td><td>-14.428</td><td>1.95508</td></tr><tr><th>22</th><td>DPWBandit</td><td>2.0</td><td>0.9</td><td>0.25</td><td>2.0</td><td>0.5</td><td>-14.428</td><td>1.95508</td></tr><tr><th>23</th><td>DPWBandit</td><td>2.0</td><td>0.9</td><td>0.25</td><td>2.0</td><td>0.75</td><td>-14.428</td><td>1.95508</td></tr><tr><th>24</th><td>DPWBandit</td><td>2.0</td><td>0.9</td><td>0.25</td><td>2.0</td><td>0.9</td><td>-14.428</td><td>1.95508</td></tr><tr><th>25</th><td>DPWBandit</td><td>2.0</td><td>0.9</td><td>0.25</td><td>5.0</td><td>0.0</td><td>-14.428</td><td>1.95508</td></tr><tr><th>26</th><td>DPWBandit</td><td>2.0</td><td>0.9</td><td>0.25</td><td>5.0</td><td>0.1</td><td>-14.428</td><td>1.95508</td></tr><tr><th>27</th><td>DPWBandit</td><td>2.0</td><td>0.9</td><td>0.25</td><td>5.0</td><td>0.25</td><td>-14.428</td><td>1.95508</td></tr><tr><th>28</th><td>DPWBandit</td><td>2.0</td><td>0.9</td><td>0.25</td><td>5.0</td><td>0.5</td><td>-14.428</td><td>1.95508</td></tr><tr><th>29</th><td>DPWBandit</td><td>2.0</td><td>0.9</td><td>0.25</td><td>5.0</td><td>0.75</td><td>-14.428</td><td>1.95508</td></tr><tr><th>30</th><td>DPWBandit</td><td>2.0</td><td>0.9</td><td>0.25</td><td>5.0</td><td>0.9</td><td>-14.428</td><td>1.95508</td></tr><tr><th>&vellip;</th><td>&vellip;</td><td>&vellip;</td><td>&vellip;</td><td>&vellip;</td><td>&vellip;</td><td>&vellip;</td><td>&vellip;</td><td>&vellip;</td></tr></tbody></table>"
      ],
      "text/plain": [
       "5880×8 DataFrames.DataFrame. Omitted printing of 2 columns\n",
       "│ Row  │ alg       │ k_action │ alpha_action │ ec   │ k_state │ alpha_state │\n",
       "├──────┼───────────┼──────────┼──────────────┼──────┼─────────┼─────────────┤\n",
       "│ 1    │ DPWBandit │ 2.0      │ 0.9          │ 0.25 │ 0.1     │ 0.0         │\n",
       "│ 2    │ DPWBandit │ 2.0      │ 0.9          │ 0.25 │ 0.1     │ 0.1         │\n",
       "│ 3    │ DPWBandit │ 2.0      │ 0.9          │ 0.25 │ 0.1     │ 0.25        │\n",
       "│ 4    │ DPWBandit │ 2.0      │ 0.9          │ 0.25 │ 0.1     │ 0.5         │\n",
       "│ 5    │ DPWBandit │ 2.0      │ 0.9          │ 0.25 │ 0.1     │ 0.75        │\n",
       "│ 6    │ DPWBandit │ 2.0      │ 0.9          │ 0.25 │ 0.1     │ 0.9         │\n",
       "│ 7    │ DPWBandit │ 2.0      │ 0.9          │ 0.25 │ 0.5     │ 0.0         │\n",
       "│ 8    │ DPWBandit │ 2.0      │ 0.9          │ 0.25 │ 0.5     │ 0.1         │\n",
       "│ 9    │ DPWBandit │ 2.0      │ 0.9          │ 0.25 │ 0.5     │ 0.25        │\n",
       "│ 10   │ DPWBandit │ 2.0      │ 0.9          │ 0.25 │ 0.5     │ 0.5         │\n",
       "│ 11   │ DPWBandit │ 2.0      │ 0.9          │ 0.25 │ 0.5     │ 0.75        │\n",
       "⋮\n",
       "│ 5869 │ DPWBandit │ 0.1      │ 0.1          │ 0.75 │ 0.5     │ 0.75        │\n",
       "│ 5870 │ DPWBandit │ 0.1      │ 0.1          │ 0.75 │ 0.5     │ 0.9         │\n",
       "│ 5871 │ DPWBandit │ 0.1      │ 0.1          │ 1.0  │ 0.5     │ 0.75        │\n",
       "│ 5872 │ DPWBandit │ 0.1      │ 0.1          │ 1.0  │ 0.5     │ 0.9         │\n",
       "│ 5873 │ DPWBandit │ 0.1      │ 0.25         │ 0.25 │ 0.5     │ 0.75        │\n",
       "│ 5874 │ DPWBandit │ 0.1      │ 0.25         │ 0.25 │ 0.5     │ 0.9         │\n",
       "│ 5875 │ DPWBandit │ 0.1      │ 0.25         │ 0.5  │ 0.5     │ 0.75        │\n",
       "│ 5876 │ DPWBandit │ 0.1      │ 0.25         │ 0.5  │ 0.5     │ 0.9         │\n",
       "│ 5877 │ DPWBandit │ 0.1      │ 0.25         │ 0.75 │ 0.5     │ 0.75        │\n",
       "│ 5878 │ DPWBandit │ 0.1      │ 0.25         │ 0.75 │ 0.5     │ 0.9         │\n",
       "│ 5879 │ DPWBandit │ 0.1      │ 0.25         │ 1.0  │ 0.5     │ 0.75        │\n",
       "│ 5880 │ DPWBandit │ 0.1      │ 0.25         │ 1.0  │ 0.5     │ 0.9         │"
      ]
     },
     "execution_count": 5,
     "metadata": {},
     "output_type": "execute_result"
    }
   ],
   "source": [
    "report(result)"
   ]
  },
  {
   "cell_type": "code",
   "execution_count": 6,
   "metadata": {},
   "outputs": [],
   "source": [
    "using BSON\n",
    "bson(\"tunecbts-walk1d.bson\", study=study,result=result)"
   ]
  },
  {
   "cell_type": "code",
   "execution_count": null,
   "metadata": {},
   "outputs": [],
   "source": []
  }
 ],
 "metadata": {
  "kernelspec": {
   "display_name": "Julia 0.6.2",
   "language": "julia",
   "name": "julia-0.6"
  },
  "language_info": {
   "file_extension": ".jl",
   "mimetype": "application/julia",
   "name": "julia",
   "version": "0.6.2"
  }
 },
 "nbformat": 4,
 "nbformat_minor": 2
}
