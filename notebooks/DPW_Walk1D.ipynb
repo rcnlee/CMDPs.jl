{
 "cells": [
  {
   "cell_type": "code",
   "execution_count": 1,
   "metadata": {},
   "outputs": [
    {
     "data": {
      "text/plain": [
       "Plots.GRBackend()"
      ]
     },
     "execution_count": 1,
     "metadata": {},
     "output_type": "execute_result"
    }
   ],
   "source": [
    "using Revise\n",
    "#addprocs(4)\n",
    "using Walk1DMDP, CMDPs\n",
    "using POMDPs, POMDPToolbox, MCTS\n",
    "using DataFrames\n",
    "using Plots; gr()"
   ]
  },
  {
   "cell_type": "code",
   "execution_count": 2,
   "metadata": {},
   "outputs": [],
   "source": [
    "mdp = Walk1D()\n",
    "b = DPWBandit(mdp)\n",
    "solver = ModularSolver(mdp, b; n_iterations=1200)\n",
    "policy = solve(solver, mdp);"
   ]
  },
  {
   "cell_type": "raw",
   "metadata": {},
   "source": [
    "#s0 = initial_state(mdp, Base.GLOBAL_RNG)\n",
    "#a, info = action_info(policy, s0)\n",
    "#best_path = info[:best_path]\n",
    "#policy = BPTrackerPolicy(best_path)"
   ]
  },
  {
   "cell_type": "code",
   "execution_count": 3,
   "metadata": {},
   "outputs": [
    {
     "data": {
      "text/plain": [
       "Walk1DMDP.Walk1DState(0, 1.0)"
      ]
     },
     "execution_count": 3,
     "metadata": {},
     "output_type": "execute_result"
    }
   ],
   "source": [
    "s0 = initial_state(mdp, Base.GLOBAL_RNG)"
   ]
  },
  {
   "cell_type": "code",
   "execution_count": 4,
   "metadata": {},
   "outputs": [],
   "source": [
    "hr = HistoryRecorder(; rng=Base.GLOBAL_RNG)\n",
    "h = simulate(hr, mdp, policy, s0);"
   ]
  },
  {
   "cell_type": "code",
   "execution_count": 5,
   "metadata": {},
   "outputs": [
    {
     "data": {
      "image/svg+xml": [
       "<?xml version=\"1.0\" encoding=\"utf-8\"?>\n",
       "<svg xmlns=\"http://www.w3.org/2000/svg\" xmlns:xlink=\"http://www.w3.org/1999/xlink\" width=\"600\" height=\"400\" viewBox=\"0 0 600 400\">\n",
       "<defs>\n",
       "  <clipPath id=\"clip2700\">\n",
       "    <rect x=\"0\" y=\"0\" width=\"600\" height=\"400\"/>\n",
       "  </clipPath>\n",
       "</defs>\n",
       "<polygon clip-path=\"url(#clip2700)\" points=\"\n",
       "0,400 600,400 600,0 0,0 \n",
       "  \" fill=\"#ffffff\" fill-opacity=\"1\"/>\n",
       "<defs>\n",
       "  <clipPath id=\"clip2701\">\n",
       "    <rect x=\"120\" y=\"0\" width=\"421\" height=\"400\"/>\n",
       "  </clipPath>\n",
       "</defs>\n",
       "<polygon clip-path=\"url(#clip2700)\" points=\"\n",
       "44.0307,375.869 580.315,375.869 580.315,11.811 44.0307,11.811 \n",
       "  \" fill=\"#ffffff\" fill-opacity=\"1\"/>\n",
       "<defs>\n",
       "  <clipPath id=\"clip2702\">\n",
       "    <rect x=\"44\" y=\"11\" width=\"537\" height=\"365\"/>\n",
       "  </clipPath>\n",
       "</defs>\n",
       "<polyline clip-path=\"url(#clip2702)\" style=\"stroke:#000000; stroke-width:0.5; stroke-opacity:0.1; fill:none\" points=\"\n",
       "  69.5681,375.869 69.5681,11.811 \n",
       "  \"/>\n",
       "<polyline clip-path=\"url(#clip2702)\" style=\"stroke:#000000; stroke-width:0.5; stroke-opacity:0.1; fill:none\" points=\"\n",
       "  197.255,375.869 197.255,11.811 \n",
       "  \"/>\n",
       "<polyline clip-path=\"url(#clip2702)\" style=\"stroke:#000000; stroke-width:0.5; stroke-opacity:0.1; fill:none\" points=\"\n",
       "  324.942,375.869 324.942,11.811 \n",
       "  \"/>\n",
       "<polyline clip-path=\"url(#clip2702)\" style=\"stroke:#000000; stroke-width:0.5; stroke-opacity:0.1; fill:none\" points=\"\n",
       "  452.628,375.869 452.628,11.811 \n",
       "  \"/>\n",
       "<polyline clip-path=\"url(#clip2702)\" style=\"stroke:#000000; stroke-width:0.5; stroke-opacity:0.1; fill:none\" points=\"\n",
       "  580.315,375.869 580.315,11.811 \n",
       "  \"/>\n",
       "<polyline clip-path=\"url(#clip2702)\" style=\"stroke:#000000; stroke-width:0.5; stroke-opacity:0.1; fill:none\" points=\"\n",
       "  44.0307,359.321 580.315,359.321 \n",
       "  \"/>\n",
       "<polyline clip-path=\"url(#clip2702)\" style=\"stroke:#000000; stroke-width:0.5; stroke-opacity:0.1; fill:none\" points=\"\n",
       "  44.0307,276.58 580.315,276.58 \n",
       "  \"/>\n",
       "<polyline clip-path=\"url(#clip2702)\" style=\"stroke:#000000; stroke-width:0.5; stroke-opacity:0.1; fill:none\" points=\"\n",
       "  44.0307,193.84 580.315,193.84 \n",
       "  \"/>\n",
       "<polyline clip-path=\"url(#clip2702)\" style=\"stroke:#000000; stroke-width:0.5; stroke-opacity:0.1; fill:none\" points=\"\n",
       "  44.0307,111.099 580.315,111.099 \n",
       "  \"/>\n",
       "<polyline clip-path=\"url(#clip2702)\" style=\"stroke:#000000; stroke-width:0.5; stroke-opacity:0.1; fill:none\" points=\"\n",
       "  44.0307,28.3591 580.315,28.3591 \n",
       "  \"/>\n",
       "<polyline clip-path=\"url(#clip2700)\" style=\"stroke:#000000; stroke-width:1; stroke-opacity:1; fill:none\" points=\"\n",
       "  44.0307,375.869 580.315,375.869 \n",
       "  \"/>\n",
       "<polyline clip-path=\"url(#clip2700)\" style=\"stroke:#000000; stroke-width:1; stroke-opacity:1; fill:none\" points=\"\n",
       "  44.0307,375.869 44.0307,11.811 \n",
       "  \"/>\n",
       "<polyline clip-path=\"url(#clip2700)\" style=\"stroke:#000000; stroke-width:1; stroke-opacity:1; fill:none\" points=\"\n",
       "  69.5681,375.869 69.5681,370.408 \n",
       "  \"/>\n",
       "<polyline clip-path=\"url(#clip2700)\" style=\"stroke:#000000; stroke-width:1; stroke-opacity:1; fill:none\" points=\"\n",
       "  197.255,375.869 197.255,370.408 \n",
       "  \"/>\n",
       "<polyline clip-path=\"url(#clip2700)\" style=\"stroke:#000000; stroke-width:1; stroke-opacity:1; fill:none\" points=\"\n",
       "  324.942,375.869 324.942,370.408 \n",
       "  \"/>\n",
       "<polyline clip-path=\"url(#clip2700)\" style=\"stroke:#000000; stroke-width:1; stroke-opacity:1; fill:none\" points=\"\n",
       "  452.628,375.869 452.628,370.408 \n",
       "  \"/>\n",
       "<polyline clip-path=\"url(#clip2700)\" style=\"stroke:#000000; stroke-width:1; stroke-opacity:1; fill:none\" points=\"\n",
       "  580.315,375.869 580.315,370.408 \n",
       "  \"/>\n",
       "<polyline clip-path=\"url(#clip2700)\" style=\"stroke:#000000; stroke-width:1; stroke-opacity:1; fill:none\" points=\"\n",
       "  44.0307,359.321 52.075,359.321 \n",
       "  \"/>\n",
       "<polyline clip-path=\"url(#clip2700)\" style=\"stroke:#000000; stroke-width:1; stroke-opacity:1; fill:none\" points=\"\n",
       "  44.0307,276.58 52.075,276.58 \n",
       "  \"/>\n",
       "<polyline clip-path=\"url(#clip2700)\" style=\"stroke:#000000; stroke-width:1; stroke-opacity:1; fill:none\" points=\"\n",
       "  44.0307,193.84 52.075,193.84 \n",
       "  \"/>\n",
       "<polyline clip-path=\"url(#clip2700)\" style=\"stroke:#000000; stroke-width:1; stroke-opacity:1; fill:none\" points=\"\n",
       "  44.0307,111.099 52.075,111.099 \n",
       "  \"/>\n",
       "<polyline clip-path=\"url(#clip2700)\" style=\"stroke:#000000; stroke-width:1; stroke-opacity:1; fill:none\" points=\"\n",
       "  44.0307,28.3591 52.075,28.3591 \n",
       "  \"/>\n",
       "<g clip-path=\"url(#clip2700)\">\n",
       "<text style=\"fill:#000000; fill-opacity:1; font-family:Arial,Helvetica Neue,Helvetica,sans-serif; font-size:12; text-anchor:middle;\" transform=\"rotate(0, 69.5681, 389.669)\" x=\"69.5681\" y=\"389.669\">0</text>\n",
       "</g>\n",
       "<g clip-path=\"url(#clip2700)\">\n",
       "<text style=\"fill:#000000; fill-opacity:1; font-family:Arial,Helvetica Neue,Helvetica,sans-serif; font-size:12; text-anchor:middle;\" transform=\"rotate(0, 197.255, 389.669)\" x=\"197.255\" y=\"389.669\">5</text>\n",
       "</g>\n",
       "<g clip-path=\"url(#clip2700)\">\n",
       "<text style=\"fill:#000000; fill-opacity:1; font-family:Arial,Helvetica Neue,Helvetica,sans-serif; font-size:12; text-anchor:middle;\" transform=\"rotate(0, 324.942, 389.669)\" x=\"324.942\" y=\"389.669\">10</text>\n",
       "</g>\n",
       "<g clip-path=\"url(#clip2700)\">\n",
       "<text style=\"fill:#000000; fill-opacity:1; font-family:Arial,Helvetica Neue,Helvetica,sans-serif; font-size:12; text-anchor:middle;\" transform=\"rotate(0, 452.628, 389.669)\" x=\"452.628\" y=\"389.669\">15</text>\n",
       "</g>\n",
       "<g clip-path=\"url(#clip2700)\">\n",
       "<text style=\"fill:#000000; fill-opacity:1; font-family:Arial,Helvetica Neue,Helvetica,sans-serif; font-size:12; text-anchor:middle;\" transform=\"rotate(0, 580.315, 389.669)\" x=\"580.315\" y=\"389.669\">20</text>\n",
       "</g>\n",
       "<g clip-path=\"url(#clip2700)\">\n",
       "<text style=\"fill:#000000; fill-opacity:1; font-family:Arial,Helvetica Neue,Helvetica,sans-serif; font-size:12; text-anchor:end;\" transform=\"rotate(0, 38.0307, 363.821)\" x=\"38.0307\" y=\"363.821\">-10</text>\n",
       "</g>\n",
       "<g clip-path=\"url(#clip2700)\">\n",
       "<text style=\"fill:#000000; fill-opacity:1; font-family:Arial,Helvetica Neue,Helvetica,sans-serif; font-size:12; text-anchor:end;\" transform=\"rotate(0, 38.0307, 281.08)\" x=\"38.0307\" y=\"281.08\">-5</text>\n",
       "</g>\n",
       "<g clip-path=\"url(#clip2700)\">\n",
       "<text style=\"fill:#000000; fill-opacity:1; font-family:Arial,Helvetica Neue,Helvetica,sans-serif; font-size:12; text-anchor:end;\" transform=\"rotate(0, 38.0307, 198.34)\" x=\"38.0307\" y=\"198.34\">0</text>\n",
       "</g>\n",
       "<g clip-path=\"url(#clip2700)\">\n",
       "<text style=\"fill:#000000; fill-opacity:1; font-family:Arial,Helvetica Neue,Helvetica,sans-serif; font-size:12; text-anchor:end;\" transform=\"rotate(0, 38.0307, 115.599)\" x=\"38.0307\" y=\"115.599\">5</text>\n",
       "</g>\n",
       "<g clip-path=\"url(#clip2700)\">\n",
       "<text style=\"fill:#000000; fill-opacity:1; font-family:Arial,Helvetica Neue,Helvetica,sans-serif; font-size:12; text-anchor:end;\" transform=\"rotate(0, 38.0307, 32.8591)\" x=\"38.0307\" y=\"32.8591\">10</text>\n",
       "</g>\n",
       "<polyline clip-path=\"url(#clip2702)\" style=\"stroke:#000000; stroke-width:1; stroke-opacity:1; fill:none\" points=\"\n",
       "  69.5681,28.3591 580.315,28.3591 \n",
       "  \"/>\n",
       "<polyline clip-path=\"url(#clip2702)\" style=\"stroke:#000000; stroke-width:1; stroke-opacity:1; fill:none\" points=\"\n",
       "  69.5681,359.321 580.315,359.321 \n",
       "  \"/>\n",
       "<polyline clip-path=\"url(#clip2702)\" style=\"stroke:#0000ff; stroke-width:1; stroke-opacity:1; fill:none\" points=\"\n",
       "  69.5681,177.292 95.1054,163.715 120.643,147.938 146.18,141.501 171.717,136.313 197.255,129.642 222.792,135.307 248.329,133.597 273.867,120.37 299.404,96.5419 \n",
       "  324.942,70.9751 350.479,46.4771 \n",
       "  \"/>\n",
       "<circle clip-path=\"url(#clip2702)\" style=\"fill:#000000; stroke:none; fill-opacity:1\" cx=\"350.479\" cy=\"46.4771\" r=\"4\"/>\n",
       "<circle clip-path=\"url(#clip2702)\" style=\"fill:#0000ff; stroke:none; fill-opacity:1\" cx=\"350.479\" cy=\"46.4771\" r=\"3\"/>\n",
       "<polygon clip-path=\"url(#clip2700)\" points=\"\n",
       "420.054,108.291 562.315,108.291 562.315,32.691 420.054,32.691 \n",
       "  \" fill=\"#ffffff\" fill-opacity=\"1\"/>\n",
       "<polyline clip-path=\"url(#clip2700)\" style=\"stroke:#000000; stroke-width:1; stroke-opacity:1; fill:none\" points=\"\n",
       "  420.054,108.291 562.315,108.291 562.315,32.691 420.054,32.691 420.054,108.291 \n",
       "  \"/>\n",
       "<polyline clip-path=\"url(#clip2700)\" style=\"stroke:#000000; stroke-width:1; stroke-opacity:1; fill:none\" points=\"\n",
       "  426.054,47.811 462.054,47.811 \n",
       "  \"/>\n",
       "<g clip-path=\"url(#clip2700)\">\n",
       "<text style=\"fill:#000000; fill-opacity:1; font-family:Arial,Helvetica Neue,Helvetica,sans-serif; font-size:12; text-anchor:start;\" transform=\"rotate(0, 468.054, 52.311)\" x=\"468.054\" y=\"52.311\">thresh+</text>\n",
       "</g>\n",
       "<polyline clip-path=\"url(#clip2700)\" style=\"stroke:#000000; stroke-width:1; stroke-opacity:1; fill:none\" points=\"\n",
       "  426.054,62.931 462.054,62.931 \n",
       "  \"/>\n",
       "<g clip-path=\"url(#clip2700)\">\n",
       "<text style=\"fill:#000000; fill-opacity:1; font-family:Arial,Helvetica Neue,Helvetica,sans-serif; font-size:12; text-anchor:start;\" transform=\"rotate(0, 468.054, 67.431)\" x=\"468.054\" y=\"67.431\">thresh-</text>\n",
       "</g>\n",
       "<polyline clip-path=\"url(#clip2700)\" style=\"stroke:#0000ff; stroke-width:1; stroke-opacity:1; fill:none\" points=\"\n",
       "  426.054,78.051 462.054,78.051 \n",
       "  \"/>\n",
       "<g clip-path=\"url(#clip2700)\">\n",
       "<text style=\"fill:#000000; fill-opacity:1; font-family:Arial,Helvetica Neue,Helvetica,sans-serif; font-size:12; text-anchor:start;\" transform=\"rotate(0, 468.054, 82.551)\" x=\"468.054\" y=\"82.551\">path</text>\n",
       "</g>\n",
       "<circle clip-path=\"url(#clip2700)\" style=\"fill:#000000; stroke:none; fill-opacity:1\" cx=\"447.054\" cy=\"93.171\" r=\"6\"/>\n",
       "<circle clip-path=\"url(#clip2700)\" style=\"fill:#0000ff; stroke:none; fill-opacity:1\" cx=\"447.054\" cy=\"93.171\" r=\"5\"/>\n",
       "<g clip-path=\"url(#clip2700)\">\n",
       "<text style=\"fill:#000000; fill-opacity:1; font-family:Arial,Helvetica Neue,Helvetica,sans-serif; font-size:12; text-anchor:start;\" transform=\"rotate(0, 468.054, 97.671)\" x=\"468.054\" y=\"97.671\">current position</text>\n",
       "</g>\n",
       "</svg>\n"
      ]
     },
     "execution_count": 5,
     "metadata": {},
     "output_type": "execute_result"
    }
   ],
   "source": [
    "plot(mdp, h)"
   ]
  },
  {
   "cell_type": "code",
   "execution_count": 6,
   "metadata": {},
   "outputs": [
    {
     "data": {
      "text/plain": [
       "-16.336679890117992"
      ]
     },
     "execution_count": 6,
     "metadata": {},
     "output_type": "execute_result"
    }
   ],
   "source": [
    "sum(h.reward_hist)"
   ]
  },
  {
   "cell_type": "markdown",
   "metadata": {},
   "source": [
    "## Observer"
   ]
  },
  {
   "cell_type": "code",
   "execution_count": 7,
   "metadata": {},
   "outputs": [],
   "source": [
    "mdp = Walk1D()\n",
    "observer = AQObserver(1)\n",
    "b = DPWBandit(mdp; exploration_constant=20.0, k_action=0.5, alpha_action=0.5, observer=observer)\n",
    "solver = ModularSolver(mdp, b; n_iterations=1200)\n",
    "policy = solve(solver, mdp);"
   ]
  },
  {
   "cell_type": "code",
   "execution_count": 8,
   "metadata": {},
   "outputs": [
    {
     "data": {
      "text/plain": [
       "(0.6161015080848357, Dict{Symbol,Any}(Pair{Symbol,Any}(:tree_queries, 1200),Pair{Symbol,Any}(:search_time_us, 0x0000000000031664),Pair{Symbol,Any}(:best_path, MCTS.BestPathTracker(Any[Walk1DMDP.Walk1DState(6, 3.28272)], Any[0.000225132], -0.918939, Any[], Any[], 0.0, 1.0, 1.0))))"
      ]
     },
     "execution_count": 8,
     "metadata": {},
     "output_type": "execute_result"
    }
   ],
   "source": [
    "s0 = initial_state(mdp, Base.GLOBAL_RNG)\n",
    "a, info = action_info(policy, s0)"
   ]
  },
  {
   "cell_type": "code",
   "execution_count": 9,
   "metadata": {},
   "outputs": [
    {
     "data": {
      "image/svg+xml": [
       "<?xml version=\"1.0\" encoding=\"utf-8\"?>\n",
       "<svg xmlns=\"http://www.w3.org/2000/svg\" xmlns:xlink=\"http://www.w3.org/1999/xlink\" width=\"600\" height=\"400\" viewBox=\"0 0 600 400\">\n",
       "<defs>\n",
       "  <clipPath id=\"clip2900\">\n",
       "    <rect x=\"0\" y=\"0\" width=\"600\" height=\"400\"/>\n",
       "  </clipPath>\n",
       "</defs>\n",
       "<polygon clip-path=\"url(#clip2900)\" points=\"\n",
       "0,400 600,400 600,0 0,0 \n",
       "  \" fill=\"#ffffff\" fill-opacity=\"1\"/>\n",
       "<defs>\n",
       "  <clipPath id=\"clip2901\">\n",
       "    <rect x=\"120\" y=\"0\" width=\"421\" height=\"400\"/>\n",
       "  </clipPath>\n",
       "</defs>\n",
       "<polygon clip-path=\"url(#clip2900)\" points=\"\n",
       "59.7788,360.121 580.315,360.121 580.315,31.4961 59.7788,31.4961 \n",
       "  \" fill=\"#ffffff\" fill-opacity=\"1\"/>\n",
       "<defs>\n",
       "  <clipPath id=\"clip2902\">\n",
       "    <rect x=\"59\" y=\"31\" width=\"522\" height=\"330\"/>\n",
       "  </clipPath>\n",
       "</defs>\n",
       "<polyline clip-path=\"url(#clip2902)\" style=\"stroke:#000000; stroke-width:0.5; stroke-opacity:0.1; fill:none\" points=\"\n",
       "  117.532,360.121 117.532,31.4961 \n",
       "  \"/>\n",
       "<polyline clip-path=\"url(#clip2902)\" style=\"stroke:#000000; stroke-width:0.5; stroke-opacity:0.1; fill:none\" points=\"\n",
       "  192.265,360.121 192.265,31.4961 \n",
       "  \"/>\n",
       "<polyline clip-path=\"url(#clip2902)\" style=\"stroke:#000000; stroke-width:0.5; stroke-opacity:0.1; fill:none\" points=\"\n",
       "  266.999,360.121 266.999,31.4961 \n",
       "  \"/>\n",
       "<polyline clip-path=\"url(#clip2902)\" style=\"stroke:#000000; stroke-width:0.5; stroke-opacity:0.1; fill:none\" points=\"\n",
       "  341.732,360.121 341.732,31.4961 \n",
       "  \"/>\n",
       "<polyline clip-path=\"url(#clip2902)\" style=\"stroke:#000000; stroke-width:0.5; stroke-opacity:0.1; fill:none\" points=\"\n",
       "  416.466,360.121 416.466,31.4961 \n",
       "  \"/>\n",
       "<polyline clip-path=\"url(#clip2902)\" style=\"stroke:#000000; stroke-width:0.5; stroke-opacity:0.1; fill:none\" points=\"\n",
       "  491.2,360.121 491.2,31.4961 \n",
       "  \"/>\n",
       "<polyline clip-path=\"url(#clip2902)\" style=\"stroke:#000000; stroke-width:0.5; stroke-opacity:0.1; fill:none\" points=\"\n",
       "  565.933,360.121 565.933,31.4961 \n",
       "  \"/>\n",
       "<polyline clip-path=\"url(#clip2902)\" style=\"stroke:#000000; stroke-width:0.5; stroke-opacity:0.1; fill:none\" points=\"\n",
       "  59.7788,324.34 580.315,324.34 \n",
       "  \"/>\n",
       "<polyline clip-path=\"url(#clip2902)\" style=\"stroke:#000000; stroke-width:0.5; stroke-opacity:0.1; fill:none\" points=\"\n",
       "  59.7788,244.835 580.315,244.835 \n",
       "  \"/>\n",
       "<polyline clip-path=\"url(#clip2902)\" style=\"stroke:#000000; stroke-width:0.5; stroke-opacity:0.1; fill:none\" points=\"\n",
       "  59.7788,165.331 580.315,165.331 \n",
       "  \"/>\n",
       "<polyline clip-path=\"url(#clip2902)\" style=\"stroke:#000000; stroke-width:0.5; stroke-opacity:0.1; fill:none\" points=\"\n",
       "  59.7788,85.8258 580.315,85.8258 \n",
       "  \"/>\n",
       "<polyline clip-path=\"url(#clip2900)\" style=\"stroke:#000000; stroke-width:1; stroke-opacity:1; fill:none\" points=\"\n",
       "  59.7788,360.121 580.315,360.121 \n",
       "  \"/>\n",
       "<polyline clip-path=\"url(#clip2900)\" style=\"stroke:#000000; stroke-width:1; stroke-opacity:1; fill:none\" points=\"\n",
       "  59.7788,360.121 59.7788,31.4961 \n",
       "  \"/>\n",
       "<polyline clip-path=\"url(#clip2900)\" style=\"stroke:#000000; stroke-width:1; stroke-opacity:1; fill:none\" points=\"\n",
       "  117.532,360.121 117.532,355.191 \n",
       "  \"/>\n",
       "<polyline clip-path=\"url(#clip2900)\" style=\"stroke:#000000; stroke-width:1; stroke-opacity:1; fill:none\" points=\"\n",
       "  192.265,360.121 192.265,355.191 \n",
       "  \"/>\n",
       "<polyline clip-path=\"url(#clip2900)\" style=\"stroke:#000000; stroke-width:1; stroke-opacity:1; fill:none\" points=\"\n",
       "  266.999,360.121 266.999,355.191 \n",
       "  \"/>\n",
       "<polyline clip-path=\"url(#clip2900)\" style=\"stroke:#000000; stroke-width:1; stroke-opacity:1; fill:none\" points=\"\n",
       "  341.732,360.121 341.732,355.191 \n",
       "  \"/>\n",
       "<polyline clip-path=\"url(#clip2900)\" style=\"stroke:#000000; stroke-width:1; stroke-opacity:1; fill:none\" points=\"\n",
       "  416.466,360.121 416.466,355.191 \n",
       "  \"/>\n",
       "<polyline clip-path=\"url(#clip2900)\" style=\"stroke:#000000; stroke-width:1; stroke-opacity:1; fill:none\" points=\"\n",
       "  491.2,360.121 491.2,355.191 \n",
       "  \"/>\n",
       "<polyline clip-path=\"url(#clip2900)\" style=\"stroke:#000000; stroke-width:1; stroke-opacity:1; fill:none\" points=\"\n",
       "  565.933,360.121 565.933,355.191 \n",
       "  \"/>\n",
       "<polyline clip-path=\"url(#clip2900)\" style=\"stroke:#000000; stroke-width:1; stroke-opacity:1; fill:none\" points=\"\n",
       "  59.7788,324.34 67.5868,324.34 \n",
       "  \"/>\n",
       "<polyline clip-path=\"url(#clip2900)\" style=\"stroke:#000000; stroke-width:1; stroke-opacity:1; fill:none\" points=\"\n",
       "  59.7788,244.835 67.5868,244.835 \n",
       "  \"/>\n",
       "<polyline clip-path=\"url(#clip2900)\" style=\"stroke:#000000; stroke-width:1; stroke-opacity:1; fill:none\" points=\"\n",
       "  59.7788,165.331 67.5868,165.331 \n",
       "  \"/>\n",
       "<polyline clip-path=\"url(#clip2900)\" style=\"stroke:#000000; stroke-width:1; stroke-opacity:1; fill:none\" points=\"\n",
       "  59.7788,85.8258 67.5868,85.8258 \n",
       "  \"/>\n",
       "<g clip-path=\"url(#clip2900)\">\n",
       "<text style=\"fill:#000000; fill-opacity:1; font-family:Arial,Helvetica Neue,Helvetica,sans-serif; font-size:12; text-anchor:middle;\" transform=\"rotate(0, 117.532, 373.921)\" x=\"117.532\" y=\"373.921\">-1.5</text>\n",
       "</g>\n",
       "<g clip-path=\"url(#clip2900)\">\n",
       "<text style=\"fill:#000000; fill-opacity:1; font-family:Arial,Helvetica Neue,Helvetica,sans-serif; font-size:12; text-anchor:middle;\" transform=\"rotate(0, 192.265, 373.921)\" x=\"192.265\" y=\"373.921\">-1.0</text>\n",
       "</g>\n",
       "<g clip-path=\"url(#clip2900)\">\n",
       "<text style=\"fill:#000000; fill-opacity:1; font-family:Arial,Helvetica Neue,Helvetica,sans-serif; font-size:12; text-anchor:middle;\" transform=\"rotate(0, 266.999, 373.921)\" x=\"266.999\" y=\"373.921\">-0.5</text>\n",
       "</g>\n",
       "<g clip-path=\"url(#clip2900)\">\n",
       "<text style=\"fill:#000000; fill-opacity:1; font-family:Arial,Helvetica Neue,Helvetica,sans-serif; font-size:12; text-anchor:middle;\" transform=\"rotate(0, 341.732, 373.921)\" x=\"341.732\" y=\"373.921\">0.0</text>\n",
       "</g>\n",
       "<g clip-path=\"url(#clip2900)\">\n",
       "<text style=\"fill:#000000; fill-opacity:1; font-family:Arial,Helvetica Neue,Helvetica,sans-serif; font-size:12; text-anchor:middle;\" transform=\"rotate(0, 416.466, 373.921)\" x=\"416.466\" y=\"373.921\">0.5</text>\n",
       "</g>\n",
       "<g clip-path=\"url(#clip2900)\">\n",
       "<text style=\"fill:#000000; fill-opacity:1; font-family:Arial,Helvetica Neue,Helvetica,sans-serif; font-size:12; text-anchor:middle;\" transform=\"rotate(0, 491.2, 373.921)\" x=\"491.2\" y=\"373.921\">1.0</text>\n",
       "</g>\n",
       "<g clip-path=\"url(#clip2900)\">\n",
       "<text style=\"fill:#000000; fill-opacity:1; font-family:Arial,Helvetica Neue,Helvetica,sans-serif; font-size:12; text-anchor:middle;\" transform=\"rotate(0, 565.933, 373.921)\" x=\"565.933\" y=\"373.921\">1.5</text>\n",
       "</g>\n",
       "<g clip-path=\"url(#clip2900)\">\n",
       "<text style=\"fill:#000000; fill-opacity:1; font-family:Arial,Helvetica Neue,Helvetica,sans-serif; font-size:12; text-anchor:end;\" transform=\"rotate(0, 53.7788, 328.84)\" x=\"53.7788\" y=\"328.84\">-37</text>\n",
       "</g>\n",
       "<g clip-path=\"url(#clip2900)\">\n",
       "<text style=\"fill:#000000; fill-opacity:1; font-family:Arial,Helvetica Neue,Helvetica,sans-serif; font-size:12; text-anchor:end;\" transform=\"rotate(0, 53.7788, 249.335)\" x=\"53.7788\" y=\"249.335\">-36</text>\n",
       "</g>\n",
       "<g clip-path=\"url(#clip2900)\">\n",
       "<text style=\"fill:#000000; fill-opacity:1; font-family:Arial,Helvetica Neue,Helvetica,sans-serif; font-size:12; text-anchor:end;\" transform=\"rotate(0, 53.7788, 169.831)\" x=\"53.7788\" y=\"169.831\">-35</text>\n",
       "</g>\n",
       "<g clip-path=\"url(#clip2900)\">\n",
       "<text style=\"fill:#000000; fill-opacity:1; font-family:Arial,Helvetica Neue,Helvetica,sans-serif; font-size:12; text-anchor:end;\" transform=\"rotate(0, 53.7788, 90.3258)\" x=\"53.7788\" y=\"90.3258\">-34</text>\n",
       "</g>\n",
       "<g clip-path=\"url(#clip2900)\">\n",
       "<text style=\"fill:#000000; fill-opacity:1; font-family:Arial,Helvetica Neue,Helvetica,sans-serif; font-size:21; text-anchor:middle;\" transform=\"rotate(0, 320.047, 18)\" x=\"320.047\" y=\"18\">n=1200</text>\n",
       "</g>\n",
       "<g clip-path=\"url(#clip2900)\">\n",
       "<text style=\"fill:#000000; fill-opacity:1; font-family:Arial,Helvetica Neue,Helvetica,sans-serif; font-size:16; text-anchor:middle;\" transform=\"rotate(0, 320.047, 397.6)\" x=\"320.047\" y=\"397.6\">action</text>\n",
       "</g>\n",
       "<g clip-path=\"url(#clip2900)\">\n",
       "<text style=\"fill:#000000; fill-opacity:1; font-family:Arial,Helvetica Neue,Helvetica,sans-serif; font-size:16; text-anchor:middle;\" transform=\"rotate(-90, 14.4, 195.808)\" x=\"14.4\" y=\"195.808\">q</text>\n",
       "</g>\n",
       "<circle clip-path=\"url(#clip2902)\" style=\"fill:#000000; stroke:none; fill-opacity:1\" cx=\"443.237\" cy=\"130.974\" r=\"4\"/>\n",
       "<circle clip-path=\"url(#clip2902)\" style=\"fill:#009af9; stroke:none; fill-opacity:1\" cx=\"443.237\" cy=\"130.974\" r=\"3\"/>\n",
       "<circle clip-path=\"url(#clip2902)\" style=\"fill:#000000; stroke:none; fill-opacity:1\" cx=\"262.749\" cy=\"108.887\" r=\"4\"/>\n",
       "<circle clip-path=\"url(#clip2902)\" style=\"fill:#009af9; stroke:none; fill-opacity:1\" cx=\"262.749\" cy=\"108.887\" r=\"3\"/>\n",
       "<circle clip-path=\"url(#clip2902)\" style=\"fill:#000000; stroke:none; fill-opacity:1\" cx=\"454.452\" cy=\"202.233\" r=\"4\"/>\n",
       "<circle clip-path=\"url(#clip2902)\" style=\"fill:#009af9; stroke:none; fill-opacity:1\" cx=\"454.452\" cy=\"202.233\" r=\"3\"/>\n",
       "<circle clip-path=\"url(#clip2902)\" style=\"fill:#000000; stroke:none; fill-opacity:1\" cx=\"105.456\" cy=\"174.736\" r=\"4\"/>\n",
       "<circle clip-path=\"url(#clip2902)\" style=\"fill:#009af9; stroke:none; fill-opacity:1\" cx=\"105.456\" cy=\"174.736\" r=\"3\"/>\n",
       "<circle clip-path=\"url(#clip2902)\" style=\"fill:#000000; stroke:none; fill-opacity:1\" cx=\"448.722\" cy=\"69.2694\" r=\"4\"/>\n",
       "<circle clip-path=\"url(#clip2902)\" style=\"fill:#009af9; stroke:none; fill-opacity:1\" cx=\"448.722\" cy=\"69.2694\" r=\"3\"/>\n",
       "<circle clip-path=\"url(#clip2902)\" style=\"fill:#000000; stroke:none; fill-opacity:1\" cx=\"401.357\" cy=\"120.151\" r=\"4\"/>\n",
       "<circle clip-path=\"url(#clip2902)\" style=\"fill:#009af9; stroke:none; fill-opacity:1\" cx=\"401.357\" cy=\"120.151\" r=\"3\"/>\n",
       "<circle clip-path=\"url(#clip2902)\" style=\"fill:#000000; stroke:none; fill-opacity:1\" cx=\"436.392\" cy=\"51.4961\" r=\"4\"/>\n",
       "<circle clip-path=\"url(#clip2902)\" style=\"fill:#009af9; stroke:none; fill-opacity:1\" cx=\"436.392\" cy=\"51.4961\" r=\"3\"/>\n",
       "<circle clip-path=\"url(#clip2902)\" style=\"fill:#000000; stroke:none; fill-opacity:1\" cx=\"326.611\" cy=\"91.2946\" r=\"4\"/>\n",
       "<circle clip-path=\"url(#clip2902)\" style=\"fill:#009af9; stroke:none; fill-opacity:1\" cx=\"326.611\" cy=\"91.2946\" r=\"3\"/>\n",
       "<circle clip-path=\"url(#clip2902)\" style=\"fill:#000000; stroke:none; fill-opacity:1\" cx=\"440.964\" cy=\"75.9309\" r=\"4\"/>\n",
       "<circle clip-path=\"url(#clip2902)\" style=\"fill:#009af9; stroke:none; fill-opacity:1\" cx=\"440.964\" cy=\"75.9309\" r=\"3\"/>\n",
       "<circle clip-path=\"url(#clip2902)\" style=\"fill:#000000; stroke:none; fill-opacity:1\" cx=\"523.321\" cy=\"109.241\" r=\"4\"/>\n",
       "<circle clip-path=\"url(#clip2902)\" style=\"fill:#009af9; stroke:none; fill-opacity:1\" cx=\"523.321\" cy=\"109.241\" r=\"3\"/>\n",
       "<circle clip-path=\"url(#clip2902)\" style=\"fill:#000000; stroke:none; fill-opacity:1\" cx=\"427.317\" cy=\"205.602\" r=\"4\"/>\n",
       "<circle clip-path=\"url(#clip2902)\" style=\"fill:#009af9; stroke:none; fill-opacity:1\" cx=\"427.317\" cy=\"205.602\" r=\"3\"/>\n",
       "<circle clip-path=\"url(#clip2902)\" style=\"fill:#000000; stroke:none; fill-opacity:1\" cx=\"292.585\" cy=\"69.5345\" r=\"4\"/>\n",
       "<circle clip-path=\"url(#clip2902)\" style=\"fill:#009af9; stroke:none; fill-opacity:1\" cx=\"292.585\" cy=\"69.5345\" r=\"3\"/>\n",
       "<circle clip-path=\"url(#clip2902)\" style=\"fill:#000000; stroke:none; fill-opacity:1\" cx=\"555.668\" cy=\"136.142\" r=\"4\"/>\n",
       "<circle clip-path=\"url(#clip2902)\" style=\"fill:#009af9; stroke:none; fill-opacity:1\" cx=\"555.668\" cy=\"136.142\" r=\"3\"/>\n",
       "<circle clip-path=\"url(#clip2902)\" style=\"fill:#000000; stroke:none; fill-opacity:1\" cx=\"433.819\" cy=\"40.7968\" r=\"4\"/>\n",
       "<circle clip-path=\"url(#clip2902)\" style=\"fill:#009af9; stroke:none; fill-opacity:1\" cx=\"433.819\" cy=\"40.7968\" r=\"3\"/>\n",
       "<circle clip-path=\"url(#clip2902)\" style=\"fill:#000000; stroke:none; fill-opacity:1\" cx=\"387.243\" cy=\"108.487\" r=\"4\"/>\n",
       "<circle clip-path=\"url(#clip2902)\" style=\"fill:#009af9; stroke:none; fill-opacity:1\" cx=\"387.243\" cy=\"108.487\" r=\"3\"/>\n",
       "<circle clip-path=\"url(#clip2902)\" style=\"fill:#000000; stroke:none; fill-opacity:1\" cx=\"413.264\" cy=\"106.241\" r=\"4\"/>\n",
       "<circle clip-path=\"url(#clip2902)\" style=\"fill:#009af9; stroke:none; fill-opacity:1\" cx=\"413.264\" cy=\"106.241\" r=\"3\"/>\n",
       "<circle clip-path=\"url(#clip2902)\" style=\"fill:#000000; stroke:none; fill-opacity:1\" cx=\"74.5109\" cy=\"350.82\" r=\"4\"/>\n",
       "<circle clip-path=\"url(#clip2902)\" style=\"fill:#009af9; stroke:none; fill-opacity:1\" cx=\"74.5109\" cy=\"350.82\" r=\"3\"/>\n",
       "<circle clip-path=\"url(#clip2902)\" style=\"fill:#000000; stroke:none; fill-opacity:1\" cx=\"565.583\" cy=\"145.011\" r=\"4\"/>\n",
       "<circle clip-path=\"url(#clip2902)\" style=\"fill:#009af9; stroke:none; fill-opacity:1\" cx=\"565.583\" cy=\"145.011\" r=\"3\"/>\n",
       "<polygon clip-path=\"url(#clip2900)\" points=\"\n",
       "489.608,82.6161 562.315,82.6161 562.315,52.3761 489.608,52.3761 \n",
       "  \" fill=\"#ffffff\" fill-opacity=\"1\"/>\n",
       "<polyline clip-path=\"url(#clip2900)\" style=\"stroke:#000000; stroke-width:1; stroke-opacity:1; fill:none\" points=\"\n",
       "  489.608,82.6161 562.315,82.6161 562.315,52.3761 489.608,52.3761 489.608,82.6161 \n",
       "  \"/>\n",
       "<circle clip-path=\"url(#clip2900)\" style=\"fill:#000000; stroke:none; fill-opacity:1\" cx=\"516.608\" cy=\"67.4961\" r=\"6\"/>\n",
       "<circle clip-path=\"url(#clip2900)\" style=\"fill:#009af9; stroke:none; fill-opacity:1\" cx=\"516.608\" cy=\"67.4961\" r=\"5\"/>\n",
       "<g clip-path=\"url(#clip2900)\">\n",
       "<text style=\"fill:#000000; fill-opacity:1; font-family:Arial,Helvetica Neue,Helvetica,sans-serif; font-size:12; text-anchor:start;\" transform=\"rotate(0, 537.608, 71.9961)\" x=\"537.608\" y=\"71.9961\">y1</text>\n",
       "</g>\n",
       "</svg>\n"
      ]
     },
     "execution_count": 9,
     "metadata": {},
     "output_type": "execute_result"
    }
   ],
   "source": [
    "plot(observer, 1200)"
   ]
  },
  {
   "cell_type": "code",
   "execution_count": 10,
   "metadata": {},
   "outputs": [
    {
     "name": "stderr",
     "output_type": "stream",
     "text": [
      "\u001b[1m\u001b[36mINFO: \u001b[39m\u001b[22m\u001b[36mSaved animation to /Users/rlee18/.julia/v0.6/CMDPs/notebooks/aqobserver.gif\n",
      "\u001b[39m"
     ]
    },
    {
     "data": {
      "text/html": [
       "<img src=\"aqobserver.gif?0.4199823883798328>\" />"
      ],
      "text/plain": [
       "Plots.AnimatedGif(\"/Users/rlee18/.julia/v0.6/CMDPs/notebooks/aqobserver.gif\")"
      ]
     },
     "execution_count": 10,
     "metadata": {},
     "output_type": "execute_result"
    }
   ],
   "source": [
    "animate(observer; fps=4, ylim=(-45.0,-12.0))"
   ]
  },
  {
   "cell_type": "code",
   "execution_count": 11,
   "metadata": {},
   "outputs": [
    {
     "data": {
      "text/plain": [
       "2-element Array{Float64,1}:\n",
       "  0.679107\n",
       " -0.528431"
      ]
     },
     "execution_count": 11,
     "metadata": {},
     "output_type": "execute_result"
    }
   ],
   "source": [
    "observer.Xs[10]"
   ]
  },
  {
   "cell_type": "code",
   "execution_count": 17,
   "metadata": {},
   "outputs": [
    {
     "data": {
      "text/plain": [
       "12-element Array{Float64,1}:\n",
       " -34.2955\n",
       " -34.4473\n",
       " -35.8976\n",
       " -35.2352\n",
       " -33.7895\n",
       " -34.6586\n",
       " -33.4538\n",
       " -33.775 \n",
       " -33.823 \n",
       " -34.079 \n",
       " -35.654 \n",
       " -34.5128"
      ]
     },
     "execution_count": 17,
     "metadata": {},
     "output_type": "execute_result"
    }
   ],
   "source": [
    "observer.ys[502]"
   ]
  },
  {
   "cell_type": "code",
   "execution_count": 16,
   "metadata": {},
   "outputs": [
    {
     "data": {
      "text/plain": [
       "12-element Array{Float64,1}:\n",
       " -34.2955\n",
       " -34.4473\n",
       " -35.8976\n",
       " -35.2352\n",
       " -33.7895\n",
       " -34.6586\n",
       " -33.4538\n",
       " -33.775 \n",
       " -33.823 \n",
       " -34.079 \n",
       " -35.654 \n",
       " -34.3516"
      ]
     },
     "execution_count": 16,
     "metadata": {},
     "output_type": "execute_result"
    }
   ],
   "source": [
    "observer.ys[501]"
   ]
  },
  {
   "cell_type": "code",
   "execution_count": 15,
   "metadata": {},
   "outputs": [
    {
     "data": {
      "text/plain": [
       "12-element Array{Int64,1}:\n",
       " 45\n",
       " 43\n",
       " 31\n",
       " 36\n",
       " 51\n",
       " 40\n",
       " 57\n",
       " 51\n",
       " 50\n",
       " 47\n",
       " 33\n",
       " 18"
      ]
     },
     "execution_count": 15,
     "metadata": {},
     "output_type": "execute_result"
    }
   ],
   "source": [
    "observer.ns[502]"
   ]
  },
  {
   "cell_type": "code",
   "execution_count": null,
   "metadata": {},
   "outputs": [],
   "source": []
  }
 ],
 "metadata": {
  "kernelspec": {
   "display_name": "Julia 0.6.2",
   "language": "julia",
   "name": "julia-0.6"
  },
  "language_info": {
   "file_extension": ".jl",
   "mimetype": "application/julia",
   "name": "julia",
   "version": "0.6.2"
  }
 },
 "nbformat": 4,
 "nbformat_minor": 2
}
