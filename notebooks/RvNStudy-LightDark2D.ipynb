{
 "cells": [
  {
   "cell_type": "code",
   "execution_count": 1,
   "metadata": {},
   "outputs": [
    {
     "data": {
      "text/plain": [
       "Plots.GRBackend()"
      ]
     },
     "execution_count": 1,
     "metadata": {},
     "output_type": "execute_result"
    }
   ],
   "source": [
    "#using Revise\n",
    "addprocs(15)\n",
    "using LightDarkPOMDPs, CMDPs\n",
    "using POMDPs, POMDPToolbox, MCTS\n",
    "using DataFrames\n",
    "using Plots; gr()"
   ]
  },
  {
   "cell_type": "code",
   "execution_count": 2,
   "metadata": {},
   "outputs": [],
   "source": [
    "mdp = LightDark2D()\n",
    "b = CBTSDPWBandit(mdp)\n",
    "solver = ModularSolver(mdp, b)\n",
    "policy = solve(solver, mdp);"
   ]
  },
  {
   "cell_type": "raw",
   "metadata": {},
   "source": [
    "#s0 = initial_state(mdp, Base.GLOBAL_RNG)\n",
    "#a, info = action_info(policy, s0)\n",
    "#best_path = info[:best_path]\n",
    "#policy = BPTrackerPolicy(best_path)"
   ]
  },
  {
   "cell_type": "code",
   "execution_count": 3,
   "metadata": {},
   "outputs": [
    {
     "data": {
      "text/plain": [
       "2-element StaticArrays.SArray{Tuple{2},Float64,1,2}:\n",
       " 2.0\n",
       " 2.0"
      ]
     },
     "execution_count": 3,
     "metadata": {},
     "output_type": "execute_result"
    }
   ],
   "source": [
    "s0 = initial_state(mdp, Base.GLOBAL_RNG)"
   ]
  },
  {
   "cell_type": "code",
   "execution_count": 4,
   "metadata": {},
   "outputs": [],
   "source": [
    "hr = HistoryRecorder(; max_steps=10, rng=Base.GLOBAL_RNG)\n",
    "h = simulate(hr, mdp, policy, s0);"
   ]
  },
  {
   "cell_type": "code",
   "execution_count": 5,
   "metadata": {},
   "outputs": [
    {
     "data": {
      "text/plain": [
       "11-element Array{StaticArrays.SArray{Tuple{2},Float64,1,2},1}:\n",
       " [2.0, 2.0]             \n",
       " [0.956335, 1.26158]    \n",
       " [0.110118, 0.836555]   \n",
       " [-0.0321038, 0.279826] \n",
       " [0.590089, 0.327654]   \n",
       " [0.209984, 0.0645976]  \n",
       " [-0.131615, 0.267686]  \n",
       " [-0.0113196, -0.592005]\n",
       " [0.465562, 1.01867]    \n",
       " [-1.26983, 0.275967]   \n",
       " [0.342456, -0.0484902] "
      ]
     },
     "execution_count": 5,
     "metadata": {},
     "output_type": "execute_result"
    }
   ],
   "source": [
    "h.state_hist"
   ]
  },
  {
   "cell_type": "code",
   "execution_count": 6,
   "metadata": {},
   "outputs": [
    {
     "data": {
      "text/plain": [
       "10-element Array{StaticArrays.SArray{Tuple{2},Float64,1,2},1}:\n",
       " [-1.04366, -0.738425] \n",
       " [-0.846218, -0.42502] \n",
       " [-0.142221, -0.556729]\n",
       " [0.622193, 0.0478286] \n",
       " [-0.380104, -0.263057]\n",
       " [-0.3416, 0.203089]   \n",
       " [0.120295, -0.859691] \n",
       " [0.476882, 1.61067]   \n",
       " [-1.73539, -0.742704] \n",
       " [1.61229, -0.324457]  "
      ]
     },
     "execution_count": 6,
     "metadata": {},
     "output_type": "execute_result"
    }
   ],
   "source": [
    "h.action_hist"
   ]
  },
  {
   "cell_type": "code",
   "execution_count": 7,
   "metadata": {},
   "outputs": [
    {
     "data": {
      "text/plain": [
       "10-element Array{Float64,1}:\n",
       " -4.81725 \n",
       " -1.70144 \n",
       " -0.521062\n",
       " -0.234372\n",
       " -0.33462 \n",
       " -0.103101\n",
       " -0.421259\n",
       " -1.58614 \n",
       " -2.40882 \n",
       " -2.19668 "
      ]
     },
     "execution_count": 7,
     "metadata": {},
     "output_type": "execute_result"
    }
   ],
   "source": [
    "h.reward_hist"
   ]
  },
  {
   "cell_type": "raw",
   "metadata": {},
   "source": [
    "plot(mdp, h)"
   ]
  },
  {
   "cell_type": "code",
   "execution_count": 8,
   "metadata": {},
   "outputs": [],
   "source": [
    "## Study"
   ]
  },
  {
   "cell_type": "code",
   "execution_count": 9,
   "metadata": {},
   "outputs": [
    {
     "data": {
      "text/plain": [
       "CMDPs.RewardvsN\n",
       "  mdp: LightDarkPOMDPs.LightDark2D\n",
       "  bandits: Array{DataType}((3,))\n",
       "  n_seeds: Int64 200\n",
       "  n_iters: Array{Int64}((7,)) [50, 100, 200, 500, 1000, 1500, 2000]\n",
       "  max_steps: Int64 10\n"
      ]
     },
     "execution_count": 9,
     "metadata": {},
     "output_type": "execute_result"
    }
   ],
   "source": [
    "study = RewardvsN(LightDark2D)"
   ]
  },
  {
   "cell_type": "code",
   "execution_count": 10,
   "metadata": {},
   "outputs": [
    {
     "name": "stdout",
     "output_type": "stream",
     "text": [
      "Elapsed time: 3286.223999977112\n"
     ]
    },
    {
     "data": {
      "text/plain": [
       "CMDPs.RewardvsNResult(\"LightDark2D\", 4200×4 DataFrames.DataFrame\n",
       "│ Row  │ alg           │ seed │ n_iters │ r_total  │\n",
       "├──────┼───────────────┼──────┼─────────┼──────────┤\n",
       "│ 1    │ DPWBandit     │ 1    │ 50      │ -11.2386 │\n",
       "│ 2    │ DPWBandit     │ 2    │ 50      │ -12.0235 │\n",
       "│ 3    │ DPWBandit     │ 3    │ 50      │ -8.65549 │\n",
       "│ 4    │ DPWBandit     │ 4    │ 50      │ -12.5248 │\n",
       "│ 5    │ DPWBandit     │ 5    │ 50      │ -11.9667 │\n",
       "│ 6    │ DPWBandit     │ 6    │ 50      │ -12.5598 │\n",
       "│ 7    │ DPWBandit     │ 7    │ 50      │ -9.29834 │\n",
       "│ 8    │ DPWBandit     │ 8    │ 50      │ -12.2591 │\n",
       "│ 9    │ DPWBandit     │ 9    │ 50      │ -13.8315 │\n",
       "│ 10   │ DPWBandit     │ 10   │ 50      │ -11.9884 │\n",
       "│ 11   │ DPWBandit     │ 11   │ 50      │ -10.0749 │\n",
       "⋮\n",
       "│ 4189 │ CBTSDPWBandit │ 189  │ 2000    │ -7.60693 │\n",
       "│ 4190 │ CBTSDPWBandit │ 190  │ 2000    │ -7.39734 │\n",
       "│ 4191 │ CBTSDPWBandit │ 191  │ 2000    │ -8.22763 │\n",
       "│ 4192 │ CBTSDPWBandit │ 192  │ 2000    │ -7.57663 │\n",
       "│ 4193 │ CBTSDPWBandit │ 193  │ 2000    │ -7.84999 │\n",
       "│ 4194 │ CBTSDPWBandit │ 194  │ 2000    │ -7.18397 │\n",
       "│ 4195 │ CBTSDPWBandit │ 195  │ 2000    │ -7.10506 │\n",
       "│ 4196 │ CBTSDPWBandit │ 196  │ 2000    │ -7.61547 │\n",
       "│ 4197 │ CBTSDPWBandit │ 197  │ 2000    │ -7.72549 │\n",
       "│ 4198 │ CBTSDPWBandit │ 198  │ 2000    │ -7.5702  │\n",
       "│ 4199 │ CBTSDPWBandit │ 199  │ 2000    │ -7.86285 │\n",
       "│ 4200 │ CBTSDPWBandit │ 200  │ 2000    │ -7.83526 │)"
      ]
     },
     "execution_count": 10,
     "metadata": {},
     "output_type": "execute_result"
    }
   ],
   "source": [
    "result = run_study(study)"
   ]
  },
  {
   "cell_type": "code",
   "execution_count": 11,
   "metadata": {},
   "outputs": [
    {
     "data": {
      "image/svg+xml": [
       "<?xml version=\"1.0\" encoding=\"utf-8\"?>\n",
       "<svg xmlns=\"http://www.w3.org/2000/svg\" xmlns:xlink=\"http://www.w3.org/1999/xlink\" width=\"600\" height=\"400\" viewBox=\"0 0 600 400\">\n",
       "<defs>\n",
       "  <clipPath id=\"clip9900\">\n",
       "    <rect x=\"0\" y=\"0\" width=\"600\" height=\"400\"/>\n",
       "  </clipPath>\n",
       "</defs>\n",
       "<polygon clip-path=\"url(#clip9900)\" points=\"\n",
       "0,400 600,400 600,0 0,0 \n",
       "  \" fill=\"#ffffff\" fill-opacity=\"1\"/>\n",
       "<defs>\n",
       "  <clipPath id=\"clip9901\">\n",
       "    <rect x=\"120\" y=\"0\" width=\"421\" height=\"400\"/>\n",
       "  </clipPath>\n",
       "</defs>\n",
       "<polygon clip-path=\"url(#clip9900)\" points=\"\n",
       "59.7788,360.121 580.315,360.121 580.315,31.4961 59.7788,31.4961 \n",
       "  \" fill=\"#ffffff\" fill-opacity=\"1\"/>\n",
       "<defs>\n",
       "  <clipPath id=\"clip9902\">\n",
       "    <rect x=\"59\" y=\"31\" width=\"522\" height=\"330\"/>\n",
       "  </clipPath>\n",
       "</defs>\n",
       "<polyline clip-path=\"url(#clip9902)\" style=\"stroke:#000000; stroke-width:0.5; stroke-opacity:0.1; fill:none\" points=\"\n",
       "  61.9193,360.121 61.9193,31.4961 \n",
       "  \"/>\n",
       "<polyline clip-path=\"url(#clip9902)\" style=\"stroke:#000000; stroke-width:0.5; stroke-opacity:0.1; fill:none\" points=\"\n",
       "  187.835,360.121 187.835,31.4961 \n",
       "  \"/>\n",
       "<polyline clip-path=\"url(#clip9902)\" style=\"stroke:#000000; stroke-width:0.5; stroke-opacity:0.1; fill:none\" points=\"\n",
       "  313.751,360.121 313.751,31.4961 \n",
       "  \"/>\n",
       "<polyline clip-path=\"url(#clip9902)\" style=\"stroke:#000000; stroke-width:0.5; stroke-opacity:0.1; fill:none\" points=\"\n",
       "  439.667,360.121 439.667,31.4961 \n",
       "  \"/>\n",
       "<polyline clip-path=\"url(#clip9902)\" style=\"stroke:#000000; stroke-width:0.5; stroke-opacity:0.1; fill:none\" points=\"\n",
       "  565.583,360.121 565.583,31.4961 \n",
       "  \"/>\n",
       "<polyline clip-path=\"url(#clip9902)\" style=\"stroke:#000000; stroke-width:0.5; stroke-opacity:0.1; fill:none\" points=\"\n",
       "  59.7788,343.033 580.315,343.033 \n",
       "  \"/>\n",
       "<polyline clip-path=\"url(#clip9902)\" style=\"stroke:#000000; stroke-width:0.5; stroke-opacity:0.1; fill:none\" points=\"\n",
       "  59.7788,283.919 580.315,283.919 \n",
       "  \"/>\n",
       "<polyline clip-path=\"url(#clip9902)\" style=\"stroke:#000000; stroke-width:0.5; stroke-opacity:0.1; fill:none\" points=\"\n",
       "  59.7788,224.806 580.315,224.806 \n",
       "  \"/>\n",
       "<polyline clip-path=\"url(#clip9902)\" style=\"stroke:#000000; stroke-width:0.5; stroke-opacity:0.1; fill:none\" points=\"\n",
       "  59.7788,165.692 580.315,165.692 \n",
       "  \"/>\n",
       "<polyline clip-path=\"url(#clip9902)\" style=\"stroke:#000000; stroke-width:0.5; stroke-opacity:0.1; fill:none\" points=\"\n",
       "  59.7788,106.579 580.315,106.579 \n",
       "  \"/>\n",
       "<polyline clip-path=\"url(#clip9902)\" style=\"stroke:#000000; stroke-width:0.5; stroke-opacity:0.1; fill:none\" points=\"\n",
       "  59.7788,47.4655 580.315,47.4655 \n",
       "  \"/>\n",
       "<polyline clip-path=\"url(#clip9900)\" style=\"stroke:#000000; stroke-width:1; stroke-opacity:1; fill:none\" points=\"\n",
       "  59.7788,360.121 580.315,360.121 \n",
       "  \"/>\n",
       "<polyline clip-path=\"url(#clip9900)\" style=\"stroke:#000000; stroke-width:1; stroke-opacity:1; fill:none\" points=\"\n",
       "  59.7788,360.121 59.7788,31.4961 \n",
       "  \"/>\n",
       "<polyline clip-path=\"url(#clip9900)\" style=\"stroke:#000000; stroke-width:1; stroke-opacity:1; fill:none\" points=\"\n",
       "  61.9193,360.121 61.9193,355.191 \n",
       "  \"/>\n",
       "<polyline clip-path=\"url(#clip9900)\" style=\"stroke:#000000; stroke-width:1; stroke-opacity:1; fill:none\" points=\"\n",
       "  187.835,360.121 187.835,355.191 \n",
       "  \"/>\n",
       "<polyline clip-path=\"url(#clip9900)\" style=\"stroke:#000000; stroke-width:1; stroke-opacity:1; fill:none\" points=\"\n",
       "  313.751,360.121 313.751,355.191 \n",
       "  \"/>\n",
       "<polyline clip-path=\"url(#clip9900)\" style=\"stroke:#000000; stroke-width:1; stroke-opacity:1; fill:none\" points=\"\n",
       "  439.667,360.121 439.667,355.191 \n",
       "  \"/>\n",
       "<polyline clip-path=\"url(#clip9900)\" style=\"stroke:#000000; stroke-width:1; stroke-opacity:1; fill:none\" points=\"\n",
       "  565.583,360.121 565.583,355.191 \n",
       "  \"/>\n",
       "<polyline clip-path=\"url(#clip9900)\" style=\"stroke:#000000; stroke-width:1; stroke-opacity:1; fill:none\" points=\"\n",
       "  59.7788,343.033 67.5868,343.033 \n",
       "  \"/>\n",
       "<polyline clip-path=\"url(#clip9900)\" style=\"stroke:#000000; stroke-width:1; stroke-opacity:1; fill:none\" points=\"\n",
       "  59.7788,283.919 67.5868,283.919 \n",
       "  \"/>\n",
       "<polyline clip-path=\"url(#clip9900)\" style=\"stroke:#000000; stroke-width:1; stroke-opacity:1; fill:none\" points=\"\n",
       "  59.7788,224.806 67.5868,224.806 \n",
       "  \"/>\n",
       "<polyline clip-path=\"url(#clip9900)\" style=\"stroke:#000000; stroke-width:1; stroke-opacity:1; fill:none\" points=\"\n",
       "  59.7788,165.692 67.5868,165.692 \n",
       "  \"/>\n",
       "<polyline clip-path=\"url(#clip9900)\" style=\"stroke:#000000; stroke-width:1; stroke-opacity:1; fill:none\" points=\"\n",
       "  59.7788,106.579 67.5868,106.579 \n",
       "  \"/>\n",
       "<polyline clip-path=\"url(#clip9900)\" style=\"stroke:#000000; stroke-width:1; stroke-opacity:1; fill:none\" points=\"\n",
       "  59.7788,47.4655 67.5868,47.4655 \n",
       "  \"/>\n",
       "<g clip-path=\"url(#clip9900)\">\n",
       "<text style=\"fill:#000000; fill-opacity:1; font-family:Arial,Helvetica Neue,Helvetica,sans-serif; font-size:12; text-anchor:middle;\" transform=\"rotate(0, 61.9193, 373.921)\" x=\"61.9193\" y=\"373.921\">0</text>\n",
       "</g>\n",
       "<g clip-path=\"url(#clip9900)\">\n",
       "<text style=\"fill:#000000; fill-opacity:1; font-family:Arial,Helvetica Neue,Helvetica,sans-serif; font-size:12; text-anchor:middle;\" transform=\"rotate(0, 187.835, 373.921)\" x=\"187.835\" y=\"373.921\">500</text>\n",
       "</g>\n",
       "<g clip-path=\"url(#clip9900)\">\n",
       "<text style=\"fill:#000000; fill-opacity:1; font-family:Arial,Helvetica Neue,Helvetica,sans-serif; font-size:12; text-anchor:middle;\" transform=\"rotate(0, 313.751, 373.921)\" x=\"313.751\" y=\"373.921\">1000</text>\n",
       "</g>\n",
       "<g clip-path=\"url(#clip9900)\">\n",
       "<text style=\"fill:#000000; fill-opacity:1; font-family:Arial,Helvetica Neue,Helvetica,sans-serif; font-size:12; text-anchor:middle;\" transform=\"rotate(0, 439.667, 373.921)\" x=\"439.667\" y=\"373.921\">1500</text>\n",
       "</g>\n",
       "<g clip-path=\"url(#clip9900)\">\n",
       "<text style=\"fill:#000000; fill-opacity:1; font-family:Arial,Helvetica Neue,Helvetica,sans-serif; font-size:12; text-anchor:middle;\" transform=\"rotate(0, 565.583, 373.921)\" x=\"565.583\" y=\"373.921\">2000</text>\n",
       "</g>\n",
       "<g clip-path=\"url(#clip9900)\">\n",
       "<text style=\"fill:#000000; fill-opacity:1; font-family:Arial,Helvetica Neue,Helvetica,sans-serif; font-size:12; text-anchor:end;\" transform=\"rotate(0, 53.7788, 347.533)\" x=\"53.7788\" y=\"347.533\">-13</text>\n",
       "</g>\n",
       "<g clip-path=\"url(#clip9900)\">\n",
       "<text style=\"fill:#000000; fill-opacity:1; font-family:Arial,Helvetica Neue,Helvetica,sans-serif; font-size:12; text-anchor:end;\" transform=\"rotate(0, 53.7788, 288.419)\" x=\"53.7788\" y=\"288.419\">-12</text>\n",
       "</g>\n",
       "<g clip-path=\"url(#clip9900)\">\n",
       "<text style=\"fill:#000000; fill-opacity:1; font-family:Arial,Helvetica Neue,Helvetica,sans-serif; font-size:12; text-anchor:end;\" transform=\"rotate(0, 53.7788, 229.306)\" x=\"53.7788\" y=\"229.306\">-11</text>\n",
       "</g>\n",
       "<g clip-path=\"url(#clip9900)\">\n",
       "<text style=\"fill:#000000; fill-opacity:1; font-family:Arial,Helvetica Neue,Helvetica,sans-serif; font-size:12; text-anchor:end;\" transform=\"rotate(0, 53.7788, 170.192)\" x=\"53.7788\" y=\"170.192\">-10</text>\n",
       "</g>\n",
       "<g clip-path=\"url(#clip9900)\">\n",
       "<text style=\"fill:#000000; fill-opacity:1; font-family:Arial,Helvetica Neue,Helvetica,sans-serif; font-size:12; text-anchor:end;\" transform=\"rotate(0, 53.7788, 111.079)\" x=\"53.7788\" y=\"111.079\">-9</text>\n",
       "</g>\n",
       "<g clip-path=\"url(#clip9900)\">\n",
       "<text style=\"fill:#000000; fill-opacity:1; font-family:Arial,Helvetica Neue,Helvetica,sans-serif; font-size:12; text-anchor:end;\" transform=\"rotate(0, 53.7788, 51.9655)\" x=\"53.7788\" y=\"51.9655\">-8</text>\n",
       "</g>\n",
       "<g clip-path=\"url(#clip9900)\">\n",
       "<text style=\"fill:#000000; fill-opacity:1; font-family:Arial,Helvetica Neue,Helvetica,sans-serif; font-size:21; text-anchor:middle;\" transform=\"rotate(0, 320.047, 18)\" x=\"320.047\" y=\"18\">LightDark2D</text>\n",
       "</g>\n",
       "<g clip-path=\"url(#clip9900)\">\n",
       "<text style=\"fill:#000000; fill-opacity:1; font-family:Arial,Helvetica Neue,Helvetica,sans-serif; font-size:16; text-anchor:middle;\" transform=\"rotate(0, 320.047, 397.6)\" x=\"320.047\" y=\"397.6\">number of iterations</text>\n",
       "</g>\n",
       "<g clip-path=\"url(#clip9900)\">\n",
       "<text style=\"fill:#000000; fill-opacity:1; font-family:Arial,Helvetica Neue,Helvetica,sans-serif; font-size:16; text-anchor:middle;\" transform=\"rotate(-90, 14.4, 195.808)\" x=\"14.4\" y=\"195.808\">reward</text>\n",
       "</g>\n",
       "<polyline clip-path=\"url(#clip9902)\" style=\"stroke:#009af9; stroke-width:1; stroke-opacity:1; fill:none\" points=\"\n",
       "  74.5109,280.629 87.1025,182.863 112.286,133.254 187.835,102.766 313.751,85.2931 439.667,83.0947 565.583,82.2351 \n",
       "  \"/>\n",
       "<polyline clip-path=\"url(#clip9902)\" style=\"stroke:#009af9; stroke-width:1; stroke-opacity:1; fill:none\" points=\"\n",
       "  74.5109,291.286 74.5109,269.971 \n",
       "  \"/>\n",
       "<polyline clip-path=\"url(#clip9902)\" style=\"stroke:#009af9; stroke-width:1; stroke-opacity:1; fill:none\" points=\"\n",
       "  87.1025,188.997 87.1025,176.73 \n",
       "  \"/>\n",
       "<polyline clip-path=\"url(#clip9902)\" style=\"stroke:#009af9; stroke-width:1; stroke-opacity:1; fill:none\" points=\"\n",
       "  112.286,137.378 112.286,129.129 \n",
       "  \"/>\n",
       "<polyline clip-path=\"url(#clip9902)\" style=\"stroke:#009af9; stroke-width:1; stroke-opacity:1; fill:none\" points=\"\n",
       "  187.835,106.406 187.835,99.1262 \n",
       "  \"/>\n",
       "<polyline clip-path=\"url(#clip9902)\" style=\"stroke:#009af9; stroke-width:1; stroke-opacity:1; fill:none\" points=\"\n",
       "  313.751,88.9611 313.751,81.625 \n",
       "  \"/>\n",
       "<polyline clip-path=\"url(#clip9902)\" style=\"stroke:#009af9; stroke-width:1; stroke-opacity:1; fill:none\" points=\"\n",
       "  439.667,86.7258 439.667,79.4636 \n",
       "  \"/>\n",
       "<polyline clip-path=\"url(#clip9902)\" style=\"stroke:#009af9; stroke-width:1; stroke-opacity:1; fill:none\" points=\"\n",
       "  565.583,85.8738 565.583,78.5964 \n",
       "  \"/>\n",
       "<line clip-path=\"url(#clip9902)\" x1=\"79.5109\" y1=\"291.286\" x2=\"69.5109\" y2=\"291.286\" style=\"stroke:#000000; stroke-opacity:1\"/>\n",
       "<line clip-path=\"url(#clip9902)\" x1=\"79.5109\" y1=\"269.971\" x2=\"69.5109\" y2=\"269.971\" style=\"stroke:#000000; stroke-opacity:1\"/>\n",
       "<line clip-path=\"url(#clip9902)\" x1=\"92.1025\" y1=\"188.997\" x2=\"82.1025\" y2=\"188.997\" style=\"stroke:#000000; stroke-opacity:1\"/>\n",
       "<line clip-path=\"url(#clip9902)\" x1=\"92.1025\" y1=\"176.73\" x2=\"82.1025\" y2=\"176.73\" style=\"stroke:#000000; stroke-opacity:1\"/>\n",
       "<line clip-path=\"url(#clip9902)\" x1=\"117.286\" y1=\"137.378\" x2=\"107.286\" y2=\"137.378\" style=\"stroke:#000000; stroke-opacity:1\"/>\n",
       "<line clip-path=\"url(#clip9902)\" x1=\"117.286\" y1=\"129.129\" x2=\"107.286\" y2=\"129.129\" style=\"stroke:#000000; stroke-opacity:1\"/>\n",
       "<line clip-path=\"url(#clip9902)\" x1=\"192.835\" y1=\"106.406\" x2=\"182.835\" y2=\"106.406\" style=\"stroke:#000000; stroke-opacity:1\"/>\n",
       "<line clip-path=\"url(#clip9902)\" x1=\"192.835\" y1=\"99.1262\" x2=\"182.835\" y2=\"99.1262\" style=\"stroke:#000000; stroke-opacity:1\"/>\n",
       "<line clip-path=\"url(#clip9902)\" x1=\"318.751\" y1=\"88.9611\" x2=\"308.751\" y2=\"88.9611\" style=\"stroke:#000000; stroke-opacity:1\"/>\n",
       "<line clip-path=\"url(#clip9902)\" x1=\"318.751\" y1=\"81.625\" x2=\"308.751\" y2=\"81.625\" style=\"stroke:#000000; stroke-opacity:1\"/>\n",
       "<line clip-path=\"url(#clip9902)\" x1=\"444.667\" y1=\"86.7258\" x2=\"434.667\" y2=\"86.7258\" style=\"stroke:#000000; stroke-opacity:1\"/>\n",
       "<line clip-path=\"url(#clip9902)\" x1=\"444.667\" y1=\"79.4636\" x2=\"434.667\" y2=\"79.4636\" style=\"stroke:#000000; stroke-opacity:1\"/>\n",
       "<line clip-path=\"url(#clip9902)\" x1=\"570.583\" y1=\"85.8738\" x2=\"560.583\" y2=\"85.8738\" style=\"stroke:#000000; stroke-opacity:1\"/>\n",
       "<line clip-path=\"url(#clip9902)\" x1=\"570.583\" y1=\"78.5964\" x2=\"560.583\" y2=\"78.5964\" style=\"stroke:#000000; stroke-opacity:1\"/>\n",
       "<polyline clip-path=\"url(#clip9902)\" style=\"stroke:#e26f46; stroke-width:1; stroke-opacity:1; fill:none\" points=\"\n",
       "  74.5109,338.141 87.1025,243.579 112.286,207.984 187.835,151.528 313.751,121.693 439.667,110.949 565.583,97.4953 \n",
       "  \"/>\n",
       "<polyline clip-path=\"url(#clip9902)\" style=\"stroke:#e26f46; stroke-width:1; stroke-opacity:1; fill:none\" points=\"\n",
       "  74.5109,350.82 74.5109,325.462 \n",
       "  \"/>\n",
       "<polyline clip-path=\"url(#clip9902)\" style=\"stroke:#e26f46; stroke-width:1; stroke-opacity:1; fill:none\" points=\"\n",
       "  87.1025,251.515 87.1025,235.643 \n",
       "  \"/>\n",
       "<polyline clip-path=\"url(#clip9902)\" style=\"stroke:#e26f46; stroke-width:1; stroke-opacity:1; fill:none\" points=\"\n",
       "  112.286,215.191 112.286,200.777 \n",
       "  \"/>\n",
       "<polyline clip-path=\"url(#clip9902)\" style=\"stroke:#e26f46; stroke-width:1; stroke-opacity:1; fill:none\" points=\"\n",
       "  187.835,156.314 187.835,146.742 \n",
       "  \"/>\n",
       "<polyline clip-path=\"url(#clip9902)\" style=\"stroke:#e26f46; stroke-width:1; stroke-opacity:1; fill:none\" points=\"\n",
       "  313.751,125.124 313.751,118.263 \n",
       "  \"/>\n",
       "<polyline clip-path=\"url(#clip9902)\" style=\"stroke:#e26f46; stroke-width:1; stroke-opacity:1; fill:none\" points=\"\n",
       "  439.667,114.507 439.667,107.39 \n",
       "  \"/>\n",
       "<polyline clip-path=\"url(#clip9902)\" style=\"stroke:#e26f46; stroke-width:1; stroke-opacity:1; fill:none\" points=\"\n",
       "  565.583,100.852 565.583,94.139 \n",
       "  \"/>\n",
       "<line clip-path=\"url(#clip9902)\" x1=\"79.5109\" y1=\"350.82\" x2=\"69.5109\" y2=\"350.82\" style=\"stroke:#000000; stroke-opacity:1\"/>\n",
       "<line clip-path=\"url(#clip9902)\" x1=\"79.5109\" y1=\"325.462\" x2=\"69.5109\" y2=\"325.462\" style=\"stroke:#000000; stroke-opacity:1\"/>\n",
       "<line clip-path=\"url(#clip9902)\" x1=\"92.1025\" y1=\"251.515\" x2=\"82.1025\" y2=\"251.515\" style=\"stroke:#000000; stroke-opacity:1\"/>\n",
       "<line clip-path=\"url(#clip9902)\" x1=\"92.1025\" y1=\"235.643\" x2=\"82.1025\" y2=\"235.643\" style=\"stroke:#000000; stroke-opacity:1\"/>\n",
       "<line clip-path=\"url(#clip9902)\" x1=\"117.286\" y1=\"215.191\" x2=\"107.286\" y2=\"215.191\" style=\"stroke:#000000; stroke-opacity:1\"/>\n",
       "<line clip-path=\"url(#clip9902)\" x1=\"117.286\" y1=\"200.777\" x2=\"107.286\" y2=\"200.777\" style=\"stroke:#000000; stroke-opacity:1\"/>\n",
       "<line clip-path=\"url(#clip9902)\" x1=\"192.835\" y1=\"156.314\" x2=\"182.835\" y2=\"156.314\" style=\"stroke:#000000; stroke-opacity:1\"/>\n",
       "<line clip-path=\"url(#clip9902)\" x1=\"192.835\" y1=\"146.742\" x2=\"182.835\" y2=\"146.742\" style=\"stroke:#000000; stroke-opacity:1\"/>\n",
       "<line clip-path=\"url(#clip9902)\" x1=\"318.751\" y1=\"125.124\" x2=\"308.751\" y2=\"125.124\" style=\"stroke:#000000; stroke-opacity:1\"/>\n",
       "<line clip-path=\"url(#clip9902)\" x1=\"318.751\" y1=\"118.263\" x2=\"308.751\" y2=\"118.263\" style=\"stroke:#000000; stroke-opacity:1\"/>\n",
       "<line clip-path=\"url(#clip9902)\" x1=\"444.667\" y1=\"114.507\" x2=\"434.667\" y2=\"114.507\" style=\"stroke:#000000; stroke-opacity:1\"/>\n",
       "<line clip-path=\"url(#clip9902)\" x1=\"444.667\" y1=\"107.39\" x2=\"434.667\" y2=\"107.39\" style=\"stroke:#000000; stroke-opacity:1\"/>\n",
       "<line clip-path=\"url(#clip9902)\" x1=\"570.583\" y1=\"100.852\" x2=\"560.583\" y2=\"100.852\" style=\"stroke:#000000; stroke-opacity:1\"/>\n",
       "<line clip-path=\"url(#clip9902)\" x1=\"570.583\" y1=\"94.139\" x2=\"560.583\" y2=\"94.139\" style=\"stroke:#000000; stroke-opacity:1\"/>\n",
       "<polyline clip-path=\"url(#clip9902)\" style=\"stroke:#3da44d; stroke-width:1; stroke-opacity:1; fill:none\" points=\"\n",
       "  74.5109,271.353 87.1025,224.739 112.286,154.11 187.835,91.5341 313.751,77.4516 439.667,52.3449 565.583,43.0441 \n",
       "  \"/>\n",
       "<polyline clip-path=\"url(#clip9902)\" style=\"stroke:#3da44d; stroke-width:1; stroke-opacity:1; fill:none\" points=\"\n",
       "  74.5109,279.097 74.5109,263.609 \n",
       "  \"/>\n",
       "<polyline clip-path=\"url(#clip9902)\" style=\"stroke:#3da44d; stroke-width:1; stroke-opacity:1; fill:none\" points=\"\n",
       "  87.1025,231.646 87.1025,217.833 \n",
       "  \"/>\n",
       "<polyline clip-path=\"url(#clip9902)\" style=\"stroke:#3da44d; stroke-width:1; stroke-opacity:1; fill:none\" points=\"\n",
       "  112.286,158.909 112.286,149.311 \n",
       "  \"/>\n",
       "<polyline clip-path=\"url(#clip9902)\" style=\"stroke:#3da44d; stroke-width:1; stroke-opacity:1; fill:none\" points=\"\n",
       "  187.835,95.2548 187.835,87.8134 \n",
       "  \"/>\n",
       "<polyline clip-path=\"url(#clip9902)\" style=\"stroke:#3da44d; stroke-width:1; stroke-opacity:1; fill:none\" points=\"\n",
       "  313.751,80.5404 313.751,74.3629 \n",
       "  \"/>\n",
       "<polyline clip-path=\"url(#clip9902)\" style=\"stroke:#3da44d; stroke-width:1; stroke-opacity:1; fill:none\" points=\"\n",
       "  439.667,54.5576 439.667,50.1321 \n",
       "  \"/>\n",
       "<polyline clip-path=\"url(#clip9902)\" style=\"stroke:#3da44d; stroke-width:1; stroke-opacity:1; fill:none\" points=\"\n",
       "  565.583,45.2914 565.583,40.7968 \n",
       "  \"/>\n",
       "<line clip-path=\"url(#clip9902)\" x1=\"79.5109\" y1=\"279.097\" x2=\"69.5109\" y2=\"279.097\" style=\"stroke:#000000; stroke-opacity:1\"/>\n",
       "<line clip-path=\"url(#clip9902)\" x1=\"79.5109\" y1=\"263.609\" x2=\"69.5109\" y2=\"263.609\" style=\"stroke:#000000; stroke-opacity:1\"/>\n",
       "<line clip-path=\"url(#clip9902)\" x1=\"92.1025\" y1=\"231.646\" x2=\"82.1025\" y2=\"231.646\" style=\"stroke:#000000; stroke-opacity:1\"/>\n",
       "<line clip-path=\"url(#clip9902)\" x1=\"92.1025\" y1=\"217.833\" x2=\"82.1025\" y2=\"217.833\" style=\"stroke:#000000; stroke-opacity:1\"/>\n",
       "<line clip-path=\"url(#clip9902)\" x1=\"117.286\" y1=\"158.909\" x2=\"107.286\" y2=\"158.909\" style=\"stroke:#000000; stroke-opacity:1\"/>\n",
       "<line clip-path=\"url(#clip9902)\" x1=\"117.286\" y1=\"149.311\" x2=\"107.286\" y2=\"149.311\" style=\"stroke:#000000; stroke-opacity:1\"/>\n",
       "<line clip-path=\"url(#clip9902)\" x1=\"192.835\" y1=\"95.2548\" x2=\"182.835\" y2=\"95.2548\" style=\"stroke:#000000; stroke-opacity:1\"/>\n",
       "<line clip-path=\"url(#clip9902)\" x1=\"192.835\" y1=\"87.8134\" x2=\"182.835\" y2=\"87.8134\" style=\"stroke:#000000; stroke-opacity:1\"/>\n",
       "<line clip-path=\"url(#clip9902)\" x1=\"318.751\" y1=\"80.5404\" x2=\"308.751\" y2=\"80.5404\" style=\"stroke:#000000; stroke-opacity:1\"/>\n",
       "<line clip-path=\"url(#clip9902)\" x1=\"318.751\" y1=\"74.3629\" x2=\"308.751\" y2=\"74.3629\" style=\"stroke:#000000; stroke-opacity:1\"/>\n",
       "<line clip-path=\"url(#clip9902)\" x1=\"444.667\" y1=\"54.5576\" x2=\"434.667\" y2=\"54.5576\" style=\"stroke:#000000; stroke-opacity:1\"/>\n",
       "<line clip-path=\"url(#clip9902)\" x1=\"444.667\" y1=\"50.1321\" x2=\"434.667\" y2=\"50.1321\" style=\"stroke:#000000; stroke-opacity:1\"/>\n",
       "<line clip-path=\"url(#clip9902)\" x1=\"570.583\" y1=\"45.2914\" x2=\"560.583\" y2=\"45.2914\" style=\"stroke:#000000; stroke-opacity:1\"/>\n",
       "<line clip-path=\"url(#clip9902)\" x1=\"570.583\" y1=\"40.7968\" x2=\"560.583\" y2=\"40.7968\" style=\"stroke:#000000; stroke-opacity:1\"/>\n",
       "<polygon clip-path=\"url(#clip9900)\" points=\"\n",
       "408.033,324.121 562.315,324.121 562.315,263.641 408.033,263.641 \n",
       "  \" fill=\"#ffffff\" fill-opacity=\"1\"/>\n",
       "<polyline clip-path=\"url(#clip9900)\" style=\"stroke:#000000; stroke-width:1; stroke-opacity:1; fill:none\" points=\"\n",
       "  408.033,324.121 562.315,324.121 562.315,263.641 408.033,263.641 408.033,324.121 \n",
       "  \"/>\n",
       "<polyline clip-path=\"url(#clip9900)\" style=\"stroke:#009af9; stroke-width:1; stroke-opacity:1; fill:none\" points=\"\n",
       "  414.033,278.761 450.033,278.761 \n",
       "  \"/>\n",
       "<g clip-path=\"url(#clip9900)\">\n",
       "<text style=\"fill:#000000; fill-opacity:1; font-family:Arial,Helvetica Neue,Helvetica,sans-serif; font-size:12; text-anchor:start;\" transform=\"rotate(0, 456.033, 283.261)\" x=\"456.033\" y=\"283.261\">DPWBandit</text>\n",
       "</g>\n",
       "<polyline clip-path=\"url(#clip9900)\" style=\"stroke:#e26f46; stroke-width:1; stroke-opacity:1; fill:none\" points=\"\n",
       "  414.033,293.881 450.033,293.881 \n",
       "  \"/>\n",
       "<g clip-path=\"url(#clip9900)\">\n",
       "<text style=\"fill:#000000; fill-opacity:1; font-family:Arial,Helvetica Neue,Helvetica,sans-serif; font-size:12; text-anchor:start;\" transform=\"rotate(0, 456.033, 298.381)\" x=\"456.033\" y=\"298.381\">RandomBandit</text>\n",
       "</g>\n",
       "<polyline clip-path=\"url(#clip9900)\" style=\"stroke:#3da44d; stroke-width:1; stroke-opacity:1; fill:none\" points=\"\n",
       "  414.033,309.001 450.033,309.001 \n",
       "  \"/>\n",
       "<g clip-path=\"url(#clip9900)\">\n",
       "<text style=\"fill:#000000; fill-opacity:1; font-family:Arial,Helvetica Neue,Helvetica,sans-serif; font-size:12; text-anchor:start;\" transform=\"rotate(0, 456.033, 313.501)\" x=\"456.033\" y=\"313.501\">CBTSDPWBandit</text>\n",
       "</g>\n",
       "</svg>\n"
      ]
     },
     "execution_count": 11,
     "metadata": {},
     "output_type": "execute_result"
    }
   ],
   "source": [
    "p=plot(result)"
   ]
  },
  {
   "cell_type": "code",
   "execution_count": 12,
   "metadata": {},
   "outputs": [],
   "source": [
    "savefig(p, \"./RvN_lightdark2d.pdf\")"
   ]
  },
  {
   "cell_type": "code",
   "execution_count": null,
   "metadata": {},
   "outputs": [],
   "source": []
  }
 ],
 "metadata": {
  "kernelspec": {
   "display_name": "Julia 0.6.2",
   "language": "julia",
   "name": "julia-0.6"
  },
  "language_info": {
   "file_extension": ".jl",
   "mimetype": "application/julia",
   "name": "julia",
   "version": "0.6.2"
  }
 },
 "nbformat": 4,
 "nbformat_minor": 2
}
