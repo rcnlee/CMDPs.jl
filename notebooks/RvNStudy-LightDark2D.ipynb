{
 "cells": [
  {
   "cell_type": "code",
   "execution_count": 1,
   "metadata": {},
   "outputs": [
    {
     "data": {
      "text/plain": [
       "Plots.GRBackend()"
      ]
     },
     "execution_count": 1,
     "metadata": {},
     "output_type": "execute_result"
    }
   ],
   "source": [
    "#using Revise\n",
    "addprocs(4)\n",
    "using LightDarkPOMDPs, CMDPs\n",
    "using POMDPs, POMDPToolbox, MCTS\n",
    "using DataFrames\n",
    "using Plots; gr()"
   ]
  },
  {
   "cell_type": "code",
   "execution_count": 2,
   "metadata": {},
   "outputs": [],
   "source": [
    "mdp = LightDark2D()\n",
    "b = CBTSDPWBandit(mdp)\n",
    "solver = ModularSolver(mdp, b)\n",
    "policy = solve(solver, mdp);"
   ]
  },
  {
   "cell_type": "raw",
   "metadata": {},
   "source": [
    "#s0 = initial_state(mdp, Base.GLOBAL_RNG)\n",
    "#a, info = action_info(policy, s0)\n",
    "#best_path = info[:best_path]\n",
    "#policy = BPTrackerPolicy(best_path)"
   ]
  },
  {
   "cell_type": "code",
   "execution_count": 3,
   "metadata": {},
   "outputs": [
    {
     "data": {
      "text/plain": [
       "2-element StaticArrays.SArray{Tuple{2},Float64,1,2}:\n",
       " 2.0\n",
       " 2.0"
      ]
     },
     "execution_count": 3,
     "metadata": {},
     "output_type": "execute_result"
    }
   ],
   "source": [
    "s0 = initial_state(mdp, Base.GLOBAL_RNG)"
   ]
  },
  {
   "cell_type": "code",
   "execution_count": 4,
   "metadata": {},
   "outputs": [
    {
     "ename": "LoadError",
     "evalue": "\u001b[91mMethodError: no method matching insert_action_node!(::MCTS.ModularTree{StaticArrays.SArray{Tuple{2},Float64,1,2},StaticArrays.SArray{Tuple{2},Float64,1,2}}, ::Int64, ::Float64, ::Int64, ::Float64, ::Bool)\u001b[0m\nClosest candidates are:\n  insert_action_node!(\u001b[91m::MCTS.DPWTree{S,A}\u001b[39m, ::Int64, ::A, ::Int64, ::Float64, ::Any) where {S, A} at /Users/rlee18/.julia/v0.6/MCTS/src/dpw_types.jl:207\n  insert_action_node!(::MCTS.ModularTree{S,A}, ::Int64, \u001b[91m::A\u001b[39m, ::Int64, ::Float64, ::Any) where {S, A} at /Users/rlee18/.julia/v0.6/MCTS/src/modular_types.jl:182\n  insert_action_node!(\u001b[91m::MCTS.DPWTree{S,A}\u001b[39m, ::Int64, ::A, ::Int64, ::Float64) where {S, A} at /Users/rlee18/.julia/v0.6/MCTS/src/dpw_types.jl:207\n  ...\u001b[39m",
     "output_type": "error",
     "traceback": [
      "\u001b[91mMethodError: no method matching insert_action_node!(::MCTS.ModularTree{StaticArrays.SArray{Tuple{2},Float64,1,2},StaticArrays.SArray{Tuple{2},Float64,1,2}}, ::Int64, ::Float64, ::Int64, ::Float64, ::Bool)\u001b[0m\nClosest candidates are:\n  insert_action_node!(\u001b[91m::MCTS.DPWTree{S,A}\u001b[39m, ::Int64, ::A, ::Int64, ::Float64, ::Any) where {S, A} at /Users/rlee18/.julia/v0.6/MCTS/src/dpw_types.jl:207\n  insert_action_node!(::MCTS.ModularTree{S,A}, ::Int64, \u001b[91m::A\u001b[39m, ::Int64, ::Float64, ::Any) where {S, A} at /Users/rlee18/.julia/v0.6/MCTS/src/modular_types.jl:182\n  insert_action_node!(\u001b[91m::MCTS.DPWTree{S,A}\u001b[39m, ::Int64, ::A, ::Int64, ::Float64) where {S, A} at /Users/rlee18/.julia/v0.6/MCTS/src/dpw_types.jl:207\n  ...\u001b[39m",
      "",
      "Stacktrace:",
      " [1] \u001b[1mbandit_action\u001b[22m\u001b[22m\u001b[1m(\u001b[22m\u001b[22m::MCTS.ModularPlanner{LightDarkPOMDPs.LightDark2D,StaticArrays.SArray{Tuple{2},Float64,1,2},StaticArrays.SArray{Tuple{2},Float64,1,2},MCTS.SolvedRolloutEstimator{LightDarkPOMDPs.RandomGaussianLD2,MersenneTwister},LightDarkPOMDPs.RandomGaussianLD2,MersenneTwister}, ::MCTS.CBTSDPWBandit, ::Int64\u001b[1m)\u001b[22m\u001b[22m at \u001b[1m/Users/rlee18/.julia/v0.6/MCTS/src/modules/CBTSDPWBandit.jl:81\u001b[22m\u001b[22m",
      " [2] \u001b[1msimulate\u001b[22m\u001b[22m\u001b[1m(\u001b[22m\u001b[22m::MCTS.ModularPlanner{LightDarkPOMDPs.LightDark2D,StaticArrays.SArray{Tuple{2},Float64,1,2},StaticArrays.SArray{Tuple{2},Float64,1,2},MCTS.SolvedRolloutEstimator{LightDarkPOMDPs.RandomGaussianLD2,MersenneTwister},LightDarkPOMDPs.RandomGaussianLD2,MersenneTwister}, ::Int64, ::Int64, ::Nullable{MCTS.BestPathTracker}\u001b[1m)\u001b[22m\u001b[22m at \u001b[1m/Users/rlee18/.julia/v0.6/MCTS/src/modular.jl:106\u001b[22m\u001b[22m",
      " [3] \u001b[1m#action_info#30\u001b[22m\u001b[22m\u001b[1m(\u001b[22m\u001b[22m::Bool, ::Function, ::MCTS.ModularPlanner{LightDarkPOMDPs.LightDark2D,StaticArrays.SArray{Tuple{2},Float64,1,2},StaticArrays.SArray{Tuple{2},Float64,1,2},MCTS.SolvedRolloutEstimator{LightDarkPOMDPs.RandomGaussianLD2,MersenneTwister},LightDarkPOMDPs.RandomGaussianLD2,MersenneTwister}, ::StaticArrays.SArray{Tuple{2},Float64,1,2}\u001b[1m)\u001b[22m\u001b[22m at \u001b[1m/Users/rlee18/.julia/v0.6/MCTS/src/modular.jl:58\u001b[22m\u001b[22m",
      " [4] \u001b[1msimulate\u001b[22m\u001b[22m\u001b[1m(\u001b[22m\u001b[22m::POMDPToolbox.HistoryRecorder, ::LightDarkPOMDPs.LightDark2D, ::MCTS.ModularPlanner{LightDarkPOMDPs.LightDark2D,StaticArrays.SArray{Tuple{2},Float64,1,2},StaticArrays.SArray{Tuple{2},Float64,1,2},MCTS.SolvedRolloutEstimator{LightDarkPOMDPs.RandomGaussianLD2,MersenneTwister},LightDarkPOMDPs.RandomGaussianLD2,MersenneTwister}, ::StaticArrays.SArray{Tuple{2},Float64,1,2}\u001b[1m)\u001b[22m\u001b[22m at \u001b[1m/Users/rlee18/.julia/v0.6/POMDPToolbox/src/simulators/history_recorder.jl:216\u001b[22m\u001b[22m"
     ]
    }
   ],
   "source": [
    "hr = HistoryRecorder(; max_steps=10, rng=Base.GLOBAL_RNG)\n",
    "h = simulate(hr, mdp, policy, s0);"
   ]
  },
  {
   "cell_type": "code",
   "execution_count": 5,
   "metadata": {},
   "outputs": [
    {
     "ename": "LoadError",
     "evalue": "\u001b[91mUndefVarError: h not defined\u001b[39m",
     "output_type": "error",
     "traceback": [
      "\u001b[91mUndefVarError: h not defined\u001b[39m",
      ""
     ]
    }
   ],
   "source": [
    "h.state_hist"
   ]
  },
  {
   "cell_type": "code",
   "execution_count": 6,
   "metadata": {},
   "outputs": [
    {
     "ename": "LoadError",
     "evalue": "\u001b[91mUndefVarError: h not defined\u001b[39m",
     "output_type": "error",
     "traceback": [
      "\u001b[91mUndefVarError: h not defined\u001b[39m",
      ""
     ]
    }
   ],
   "source": [
    "h.action_hist"
   ]
  },
  {
   "cell_type": "code",
   "execution_count": 7,
   "metadata": {},
   "outputs": [
    {
     "ename": "LoadError",
     "evalue": "\u001b[91mUndefVarError: h not defined\u001b[39m",
     "output_type": "error",
     "traceback": [
      "\u001b[91mUndefVarError: h not defined\u001b[39m",
      ""
     ]
    }
   ],
   "source": [
    "h.reward_hist"
   ]
  },
  {
   "cell_type": "raw",
   "metadata": {},
   "source": [
    "plot(mdp, h)"
   ]
  },
  {
   "cell_type": "code",
   "execution_count": 8,
   "metadata": {},
   "outputs": [],
   "source": [
    "## Study"
   ]
  },
  {
   "cell_type": "code",
   "execution_count": 9,
   "metadata": {},
   "outputs": [
    {
     "data": {
      "text/plain": [
       "CMDPs.RewardvsN\n",
       "  mdp: LightDarkPOMDPs.LightDark2D\n",
       "  bandits: Array{DataType}((3,))\n",
       "  n_seeds: Int64 200\n",
       "  n_iters: Array{Int64}((7,)) [50, 100, 200, 500, 1000, 1500, 2000]\n",
       "  max_steps: Int64 10\n"
      ]
     },
     "execution_count": 9,
     "metadata": {},
     "output_type": "execute_result"
    }
   ],
   "source": [
    "study = RewardvsN(LightDark2D)"
   ]
  },
  {
   "cell_type": "code",
   "execution_count": 10,
   "metadata": {},
   "outputs": [
    {
     "ename": "LoadError",
     "evalue": "\u001b[91mOn worker 2:\n\u001b[91mMethodError: no method matching insert_action_node!(::MCTS.ModularTree{StaticArrays.SArray{Tuple{2},Float64,1,2},StaticArrays.SArray{Tuple{2},Float64,1,2}}, ::Int64, ::Float64, ::Int64, ::Float64, ::Bool)\u001b[0m\nClosest candidates are:\n  insert_action_node!(\u001b[91m::MCTS.DPWTree{S,A}\u001b[39m, ::Int64, ::A, ::Int64, ::Float64, ::Any) where {S, A} at /Users/rlee18/.julia/v0.6/MCTS/src/dpw_types.jl:207\n  insert_action_node!(::MCTS.ModularTree{S,A}, ::Int64, \u001b[91m::A\u001b[39m, ::Int64, ::Float64, ::Any) where {S, A} at /Users/rlee18/.julia/v0.6/MCTS/src/modular_types.jl:182\n  insert_action_node!(\u001b[91m::MCTS.DPWTree{S,A}\u001b[39m, ::Int64, ::A, ::Int64, ::Float64) where {S, A} at /Users/rlee18/.julia/v0.6/MCTS/src/dpw_types.jl:207\n  ...\u001b[39m\nbandit_action at /Users/rlee18/.julia/v0.6/MCTS/src/modules/CBTSDPWBandit.jl:81\nsimulate at /Users/rlee18/.julia/v0.6/MCTS/src/modular.jl:106\n#action_info#30 at /Users/rlee18/.julia/v0.6/MCTS/src/modular.jl:58\nsimulate at /Users/rlee18/.julia/v0.6/POMDPToolbox/src/simulators/history_recorder.jl:216\nsimulate at /Users/rlee18/.julia/v0.6/CMDPs/src/studies.jl:21\n#106 at ./distributed/process_messages.jl:268 [inlined]\nrun_work_thunk at ./distributed/process_messages.jl:56\nmacro expansion at ./distributed/process_messages.jl:268 [inlined]\n#105 at ./event.jl:73\u001b[39m",
     "output_type": "error",
     "traceback": [
      "\u001b[91mOn worker 2:\n\u001b[91mMethodError: no method matching insert_action_node!(::MCTS.ModularTree{StaticArrays.SArray{Tuple{2},Float64,1,2},StaticArrays.SArray{Tuple{2},Float64,1,2}}, ::Int64, ::Float64, ::Int64, ::Float64, ::Bool)\u001b[0m\nClosest candidates are:\n  insert_action_node!(\u001b[91m::MCTS.DPWTree{S,A}\u001b[39m, ::Int64, ::A, ::Int64, ::Float64, ::Any) where {S, A} at /Users/rlee18/.julia/v0.6/MCTS/src/dpw_types.jl:207\n  insert_action_node!(::MCTS.ModularTree{S,A}, ::Int64, \u001b[91m::A\u001b[39m, ::Int64, ::Float64, ::Any) where {S, A} at /Users/rlee18/.julia/v0.6/MCTS/src/modular_types.jl:182\n  insert_action_node!(\u001b[91m::MCTS.DPWTree{S,A}\u001b[39m, ::Int64, ::A, ::Int64, ::Float64) where {S, A} at /Users/rlee18/.julia/v0.6/MCTS/src/dpw_types.jl:207\n  ...\u001b[39m\nbandit_action at /Users/rlee18/.julia/v0.6/MCTS/src/modules/CBTSDPWBandit.jl:81\nsimulate at /Users/rlee18/.julia/v0.6/MCTS/src/modular.jl:106\n#action_info#30 at /Users/rlee18/.julia/v0.6/MCTS/src/modular.jl:58\nsimulate at /Users/rlee18/.julia/v0.6/POMDPToolbox/src/simulators/history_recorder.jl:216\nsimulate at /Users/rlee18/.julia/v0.6/CMDPs/src/studies.jl:21\n#106 at ./distributed/process_messages.jl:268 [inlined]\nrun_work_thunk at ./distributed/process_messages.jl:56\nmacro expansion at ./distributed/process_messages.jl:268 [inlined]\n#105 at ./event.jl:73\u001b[39m",
      "",
      "Stacktrace:",
      " [1] \u001b[1m#571\u001b[22m\u001b[22m at \u001b[1m./asyncmap.jl:178\u001b[22m\u001b[22m [inlined]",
      " [2] \u001b[1mforeach\u001b[22m\u001b[22m\u001b[1m(\u001b[22m\u001b[22m::Base.##571#573, ::Array{Any,1}\u001b[1m)\u001b[22m\u001b[22m at \u001b[1m./abstractarray.jl:1733\u001b[22m\u001b[22m",
      " [3] \u001b[1mmaptwice\u001b[22m\u001b[22m\u001b[1m(\u001b[22m\u001b[22m::Function, ::Channel{Any}, ::Array{Any,1}, ::Array{Any,1}, ::Vararg{Array{Any,1},N} where N\u001b[1m)\u001b[22m\u001b[22m at \u001b[1m./asyncmap.jl:178\u001b[22m\u001b[22m",
      " [4] \u001b[1mwrap_n_exec_twice\u001b[22m\u001b[22m\u001b[1m(\u001b[22m\u001b[22m::Channel{Any}, ::Array{Any,1}, ::Base.Distributed.##204#207{WorkerPool}, ::Function, ::Array{Any,1}, ::Vararg{Array{Any,1},N} where N\u001b[1m)\u001b[22m\u001b[22m at \u001b[1m./asyncmap.jl:154\u001b[22m\u001b[22m",
      " [5] \u001b[1m#async_usemap#556\u001b[22m\u001b[22m\u001b[1m(\u001b[22m\u001b[22m::Function, ::Void, ::Function, ::Base.Distributed.##188#190, ::Array{Any,1}, ::Vararg{Array{Any,1},N} where N\u001b[1m)\u001b[22m\u001b[22m at \u001b[1m./asyncmap.jl:103\u001b[22m\u001b[22m",
      " [6] \u001b[1m(::Base.#kw##async_usemap)\u001b[22m\u001b[22m\u001b[1m(\u001b[22m\u001b[22m::Array{Any,1}, ::Base.#async_usemap, ::Function, ::Array{Any,1}, ::Vararg{Array{Any,1},N} where N\u001b[1m)\u001b[22m\u001b[22m at \u001b[1m./<missing>:0\u001b[22m\u001b[22m",
      " [7] \u001b[1m(::Base.#kw##asyncmap)\u001b[22m\u001b[22m\u001b[1m(\u001b[22m\u001b[22m::Array{Any,1}, ::Base.#asyncmap, ::Function, ::Array{Any,1}\u001b[1m)\u001b[22m\u001b[22m at \u001b[1m./<missing>:0\u001b[22m\u001b[22m",
      " [8] \u001b[1m#pmap#203\u001b[22m\u001b[22m\u001b[1m(\u001b[22m\u001b[22m::Bool, ::Int64, ::Void, ::Array{Any,1}, ::Void, ::Function, ::WorkerPool, ::Function, ::Array{Any,1}\u001b[1m)\u001b[22m\u001b[22m at \u001b[1m./distributed/pmap.jl:126\u001b[22m\u001b[22m",
      " [9] \u001b[1mpmap\u001b[22m\u001b[22m\u001b[1m(\u001b[22m\u001b[22m::WorkerPool, ::Function, ::Array{Any,1}\u001b[1m)\u001b[22m\u001b[22m at \u001b[1m./distributed/pmap.jl:101\u001b[22m\u001b[22m",
      " [10] \u001b[1m#pmap#213\u001b[22m\u001b[22m\u001b[1m(\u001b[22m\u001b[22m::Array{Any,1}, ::Function, ::Function, ::Array{Any,1}\u001b[1m)\u001b[22m\u001b[22m at \u001b[1m./distributed/pmap.jl:156\u001b[22m\u001b[22m",
      " [11] \u001b[1mrun_study\u001b[22m\u001b[22m\u001b[1m(\u001b[22m\u001b[22m::CMDPs.RewardvsN\u001b[1m)\u001b[22m\u001b[22m at \u001b[1m/Users/rlee18/.julia/v0.6/CMDPs/src/studies.jl:57\u001b[22m\u001b[22m"
     ]
    }
   ],
   "source": [
    "result = run_study(study)"
   ]
  },
  {
   "cell_type": "code",
   "execution_count": 11,
   "metadata": {},
   "outputs": [
    {
     "ename": "LoadError",
     "evalue": "\u001b[91mUndefVarError: result not defined\u001b[39m",
     "output_type": "error",
     "traceback": [
      "\u001b[91mUndefVarError: result not defined\u001b[39m",
      ""
     ]
    }
   ],
   "source": [
    "p=plot(result)"
   ]
  },
  {
   "cell_type": "code",
   "execution_count": 12,
   "metadata": {},
   "outputs": [
    {
     "ename": "LoadError",
     "evalue": "\u001b[91mUndefVarError: p not defined\u001b[39m",
     "output_type": "error",
     "traceback": [
      "\u001b[91mUndefVarError: p not defined\u001b[39m",
      ""
     ]
    }
   ],
   "source": [
    "savefig(p, \"./RvN_lightdark2d.pdf\")"
   ]
  },
  {
   "cell_type": "code",
   "execution_count": null,
   "metadata": {},
   "outputs": [],
   "source": []
  }
 ],
 "metadata": {
  "kernelspec": {
   "display_name": "Julia 0.6.2",
   "language": "julia",
   "name": "julia-0.6"
  },
  "language_info": {
   "file_extension": ".jl",
   "mimetype": "application/julia",
   "name": "julia",
   "version": "0.6.2"
  }
 },
 "nbformat": 4,
 "nbformat_minor": 2
}
