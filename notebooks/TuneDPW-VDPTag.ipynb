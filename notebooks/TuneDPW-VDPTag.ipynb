{
 "cells": [
  {
   "cell_type": "code",
   "execution_count": 1,
   "metadata": {},
   "outputs": [
    {
     "data": {
      "text/plain": [
       "Plots.GRBackend()"
      ]
     },
     "execution_count": 1,
     "metadata": {},
     "output_type": "execute_result"
    }
   ],
   "source": [
    "#using Revise\n",
    "addprocs(10)\n",
    "using CMDPs\n",
    "using POMDPs, POMDPToolbox, VDPTag2, MCTS\n",
    "using DataFrames\n",
    "using Plots; gr()"
   ]
  },
  {
   "cell_type": "code",
   "execution_count": 2,
   "metadata": {},
   "outputs": [],
   "source": [
    "## Study"
   ]
  },
  {
   "cell_type": "code",
   "execution_count": 3,
   "metadata": {},
   "outputs": [
    {
     "data": {
      "text/plain": [
       "CMDPs.TuneDPW\n",
       "  mdp: VDPTag2.VDPTagMDP{Void}\n",
       "  n_seeds: Int64 10\n",
       "  n_iters: Array{Int64}((1,)) [500]\n",
       "  max_steps: Int64 10\n",
       "  k_actions: Array{Float64}((6,)) [0.1, 0.5, 1.0, 2.0, 5.0, 10.0]\n",
       "  alpha_actions: Array{Float64}((5,)) [0.1, 0.25, 0.5, 0.75, 0.9]\n",
       "  ecs: Array{Float64}((4,)) [0.25, 0.5, 0.75, 1.0]\n",
       "  k_states: Array{Float64}((6,)) [0.1, 0.5, 1.0, 2.0, 5.0, 10.0]\n",
       "  alpha_states: Array{Float64}((5,)) [0.1, 0.25, 0.5, 0.75, 0.9]\n"
      ]
     },
     "execution_count": 3,
     "metadata": {},
     "output_type": "execute_result"
    }
   ],
   "source": [
    "study = TuneDPW(VDPTagMDP)"
   ]
  },
  {
   "cell_type": "code",
   "execution_count": 4,
   "metadata": {},
   "outputs": [
    {
     "data": {
      "text/plain": [
       "CMDPs.TuneDPWResult(\"VDPTag\", 36000×10 DataFrames.DataFrame. Omitted printing of 4 columns\n",
       "│ Row   │ alg       │ seed │ n_iters │ max_steps │ k_action │ alpha_action │\n",
       "├───────┼───────────┼──────┼─────────┼───────────┼──────────┼──────────────┤\n",
       "│ 1     │ DPWBandit │ 1    │ 500     │ 10        │ 0.1      │ 0.1          │\n",
       "│ 2     │ DPWBandit │ 1    │ 500     │ 10        │ 0.1      │ 0.1          │\n",
       "│ 3     │ DPWBandit │ 1    │ 500     │ 10        │ 0.1      │ 0.1          │\n",
       "│ 4     │ DPWBandit │ 1    │ 500     │ 10        │ 0.1      │ 0.1          │\n",
       "│ 5     │ DPWBandit │ 1    │ 500     │ 10        │ 0.1      │ 0.1          │\n",
       "│ 6     │ DPWBandit │ 1    │ 500     │ 10        │ 0.1      │ 0.1          │\n",
       "│ 7     │ DPWBandit │ 1    │ 500     │ 10        │ 0.1      │ 0.1          │\n",
       "│ 8     │ DPWBandit │ 1    │ 500     │ 10        │ 0.1      │ 0.1          │\n",
       "│ 9     │ DPWBandit │ 1    │ 500     │ 10        │ 0.1      │ 0.1          │\n",
       "│ 10    │ DPWBandit │ 1    │ 500     │ 10        │ 0.1      │ 0.1          │\n",
       "│ 11    │ DPWBandit │ 1    │ 500     │ 10        │ 0.1      │ 0.1          │\n",
       "⋮\n",
       "│ 35989 │ DPWBandit │ 10   │ 500     │ 10        │ 10.0     │ 0.9          │\n",
       "│ 35990 │ DPWBandit │ 10   │ 500     │ 10        │ 10.0     │ 0.9          │\n",
       "│ 35991 │ DPWBandit │ 10   │ 500     │ 10        │ 10.0     │ 0.9          │\n",
       "│ 35992 │ DPWBandit │ 10   │ 500     │ 10        │ 10.0     │ 0.9          │\n",
       "│ 35993 │ DPWBandit │ 10   │ 500     │ 10        │ 10.0     │ 0.9          │\n",
       "│ 35994 │ DPWBandit │ 10   │ 500     │ 10        │ 10.0     │ 0.9          │\n",
       "│ 35995 │ DPWBandit │ 10   │ 500     │ 10        │ 10.0     │ 0.9          │\n",
       "│ 35996 │ DPWBandit │ 10   │ 500     │ 10        │ 10.0     │ 0.9          │\n",
       "│ 35997 │ DPWBandit │ 10   │ 500     │ 10        │ 10.0     │ 0.9          │\n",
       "│ 35998 │ DPWBandit │ 10   │ 500     │ 10        │ 10.0     │ 0.9          │\n",
       "│ 35999 │ DPWBandit │ 10   │ 500     │ 10        │ 10.0     │ 0.9          │\n",
       "│ 36000 │ DPWBandit │ 10   │ 500     │ 10        │ 10.0     │ 0.9          │)"
      ]
     },
     "execution_count": 4,
     "metadata": {},
     "output_type": "execute_result"
    }
   ],
   "source": [
    "result = run_study(study)"
   ]
  },
  {
   "cell_type": "code",
   "execution_count": 5,
   "metadata": {},
   "outputs": [
    {
     "data": {
      "text/html": [
       "<table class=\"data-frame\"><thead><tr><th></th><th>alg</th><th>k_action</th><th>alpha_action</th><th>ec</th><th>k_state</th><th>alpha_state</th><th>r_total_mean</th><th>r_total_std</th></tr></thead><tbody><tr><th>1</th><td>DPWBandit</td><td>1.0</td><td>0.75</td><td>0.75</td><td>0.5</td><td>0.5</td><td>95.0</td><td>1.41421</td></tr><tr><th>2</th><td>DPWBandit</td><td>5.0</td><td>0.5</td><td>0.5</td><td>0.5</td><td>0.5</td><td>94.6</td><td>1.95505</td></tr><tr><th>3</th><td>DPWBandit</td><td>1.0</td><td>0.9</td><td>0.5</td><td>1.0</td><td>0.25</td><td>94.3</td><td>1.76698</td></tr><tr><th>4</th><td>DPWBandit</td><td>10.0</td><td>0.5</td><td>0.75</td><td>0.5</td><td>0.25</td><td>94.3</td><td>1.63639</td></tr><tr><th>5</th><td>DPWBandit</td><td>0.5</td><td>0.9</td><td>1.0</td><td>2.0</td><td>0.25</td><td>94.2</td><td>1.31656</td></tr><tr><th>6</th><td>DPWBandit</td><td>1.0</td><td>0.5</td><td>0.75</td><td>1.0</td><td>0.1</td><td>93.9</td><td>1.52388</td></tr><tr><th>7</th><td>DPWBandit</td><td>5.0</td><td>0.5</td><td>1.0</td><td>10.0</td><td>0.1</td><td>93.9</td><td>1.96921</td></tr><tr><th>8</th><td>DPWBandit</td><td>0.5</td><td>0.75</td><td>0.5</td><td>1.0</td><td>0.5</td><td>93.8</td><td>2.09762</td></tr><tr><th>9</th><td>DPWBandit</td><td>5.0</td><td>0.5</td><td>0.75</td><td>2.0</td><td>0.25</td><td>93.8</td><td>1.39841</td></tr><tr><th>10</th><td>DPWBandit</td><td>10.0</td><td>0.25</td><td>1.0</td><td>1.0</td><td>0.9</td><td>93.7</td><td>1.63639</td></tr><tr><th>11</th><td>DPWBandit</td><td>2.0</td><td>0.5</td><td>0.75</td><td>0.5</td><td>0.25</td><td>93.5</td><td>1.58114</td></tr><tr><th>12</th><td>DPWBandit</td><td>2.0</td><td>0.75</td><td>0.5</td><td>5.0</td><td>0.5</td><td>93.5</td><td>1.77951</td></tr><tr><th>13</th><td>DPWBandit</td><td>1.0</td><td>0.75</td><td>0.5</td><td>2.0</td><td>0.25</td><td>93.2</td><td>1.68655</td></tr><tr><th>14</th><td>DPWBandit</td><td>10.0</td><td>0.5</td><td>1.0</td><td>2.0</td><td>0.5</td><td>92.8</td><td>1.68655</td></tr><tr><th>15</th><td>DPWBandit</td><td>0.5</td><td>0.9</td><td>0.75</td><td>10.0</td><td>0.1</td><td>84.6</td><td>33.2539</td></tr><tr><th>16</th><td>DPWBandit</td><td>2.0</td><td>0.75</td><td>0.25</td><td>2.0</td><td>0.75</td><td>84.4</td><td>33.2037</td></tr><tr><th>17</th><td>DPWBandit</td><td>2.0</td><td>0.5</td><td>1.0</td><td>2.0</td><td>0.25</td><td>84.2</td><td>33.1455</td></tr><tr><th>18</th><td>DPWBandit</td><td>2.0</td><td>0.75</td><td>0.75</td><td>0.5</td><td>0.5</td><td>84.2</td><td>33.1321</td></tr><tr><th>19</th><td>DPWBandit</td><td>1.0</td><td>0.75</td><td>0.75</td><td>5.0</td><td>0.25</td><td>84.1</td><td>33.1007</td></tr><tr><th>20</th><td>DPWBandit</td><td>0.5</td><td>0.75</td><td>0.5</td><td>1.0</td><td>0.25</td><td>84.0</td><td>33.0421</td></tr><tr><th>21</th><td>DPWBandit</td><td>0.5</td><td>0.9</td><td>0.5</td><td>5.0</td><td>0.1</td><td>84.0</td><td>33.0656</td></tr><tr><th>22</th><td>DPWBandit</td><td>2.0</td><td>0.75</td><td>0.5</td><td>1.0</td><td>0.75</td><td>84.0</td><td>33.0656</td></tr><tr><th>23</th><td>DPWBandit</td><td>5.0</td><td>0.5</td><td>0.25</td><td>2.0</td><td>0.9</td><td>84.0</td><td>33.0589</td></tr><tr><th>24</th><td>DPWBandit</td><td>5.0</td><td>0.5</td><td>0.25</td><td>5.0</td><td>0.75</td><td>84.0</td><td>33.0589</td></tr><tr><th>25</th><td>DPWBandit</td><td>5.0</td><td>0.5</td><td>0.25</td><td>5.0</td><td>0.9</td><td>84.0</td><td>33.0589</td></tr><tr><th>26</th><td>DPWBandit</td><td>5.0</td><td>0.5</td><td>0.25</td><td>10.0</td><td>0.75</td><td>84.0</td><td>33.0589</td></tr><tr><th>27</th><td>DPWBandit</td><td>5.0</td><td>0.5</td><td>0.25</td><td>10.0</td><td>0.9</td><td>84.0</td><td>33.0589</td></tr><tr><th>28</th><td>DPWBandit</td><td>10.0</td><td>0.5</td><td>0.75</td><td>0.5</td><td>0.5</td><td>84.0</td><td>33.0891</td></tr><tr><th>29</th><td>DPWBandit</td><td>10.0</td><td>0.5</td><td>0.75</td><td>5.0</td><td>0.5</td><td>84.0</td><td>33.0555</td></tr><tr><th>30</th><td>DPWBandit</td><td>1.0</td><td>0.9</td><td>0.75</td><td>10.0</td><td>0.25</td><td>83.9</td><td>33.0671</td></tr><tr><th>&vellip;</th><td>&vellip;</td><td>&vellip;</td><td>&vellip;</td><td>&vellip;</td><td>&vellip;</td><td>&vellip;</td><td>&vellip;</td><td>&vellip;</td></tr></tbody></table>"
      ],
      "text/plain": [
       "3600×8 DataFrames.DataFrame. Omitted printing of 2 columns\n",
       "│ Row  │ alg       │ k_action │ alpha_action │ ec   │ k_state │ alpha_state │\n",
       "├──────┼───────────┼──────────┼──────────────┼──────┼─────────┼─────────────┤\n",
       "│ 1    │ DPWBandit │ 1.0      │ 0.75         │ 0.75 │ 0.5     │ 0.5         │\n",
       "│ 2    │ DPWBandit │ 5.0      │ 0.5          │ 0.5  │ 0.5     │ 0.5         │\n",
       "│ 3    │ DPWBandit │ 1.0      │ 0.9          │ 0.5  │ 1.0     │ 0.25        │\n",
       "│ 4    │ DPWBandit │ 10.0     │ 0.5          │ 0.75 │ 0.5     │ 0.25        │\n",
       "│ 5    │ DPWBandit │ 0.5      │ 0.9          │ 1.0  │ 2.0     │ 0.25        │\n",
       "│ 6    │ DPWBandit │ 1.0      │ 0.5          │ 0.75 │ 1.0     │ 0.1         │\n",
       "│ 7    │ DPWBandit │ 5.0      │ 0.5          │ 1.0  │ 10.0    │ 0.1         │\n",
       "│ 8    │ DPWBandit │ 0.5      │ 0.75         │ 0.5  │ 1.0     │ 0.5         │\n",
       "│ 9    │ DPWBandit │ 5.0      │ 0.5          │ 0.75 │ 2.0     │ 0.25        │\n",
       "│ 10   │ DPWBandit │ 10.0     │ 0.25         │ 1.0  │ 1.0     │ 0.9         │\n",
       "│ 11   │ DPWBandit │ 2.0      │ 0.5          │ 0.75 │ 0.5     │ 0.25        │\n",
       "⋮\n",
       "│ 3589 │ DPWBandit │ 2.0      │ 0.1          │ 1.0  │ 10.0    │ 0.1         │\n",
       "│ 3590 │ DPWBandit │ 2.0      │ 0.1          │ 1.0  │ 10.0    │ 0.25        │\n",
       "│ 3591 │ DPWBandit │ 2.0      │ 0.25         │ 0.25 │ 0.5     │ 0.25        │\n",
       "│ 3592 │ DPWBandit │ 2.0      │ 0.25         │ 0.25 │ 5.0     │ 0.25        │\n",
       "│ 3593 │ DPWBandit │ 2.0      │ 0.25         │ 0.25 │ 10.0    │ 0.5         │\n",
       "│ 3594 │ DPWBandit │ 2.0      │ 0.25         │ 0.5  │ 0.1     │ 0.5         │\n",
       "│ 3595 │ DPWBandit │ 2.0      │ 0.25         │ 0.5  │ 1.0     │ 0.9         │\n",
       "│ 3596 │ DPWBandit │ 2.0      │ 0.25         │ 0.5  │ 10.0    │ 0.1         │\n",
       "│ 3597 │ DPWBandit │ 2.0      │ 0.25         │ 0.75 │ 1.0     │ 0.1         │\n",
       "│ 3598 │ DPWBandit │ 5.0      │ 0.1          │ 0.25 │ 0.5     │ 0.5         │\n",
       "│ 3599 │ DPWBandit │ 5.0      │ 0.1          │ 1.0  │ 0.1     │ 0.5         │\n",
       "│ 3600 │ DPWBandit │ 5.0      │ 0.25         │ 0.5  │ 0.1     │ 0.5         │"
      ]
     },
     "execution_count": 5,
     "metadata": {},
     "output_type": "execute_result"
    }
   ],
   "source": [
    "report(result)"
   ]
  },
  {
   "cell_type": "code",
   "execution_count": 6,
   "metadata": {},
   "outputs": [],
   "source": [
    "using BSON\n",
    "bson(\"tunedpw-vdptag.bson\", study=study,result=result)"
   ]
  },
  {
   "cell_type": "code",
   "execution_count": null,
   "metadata": {},
   "outputs": [],
   "source": []
  }
 ],
 "metadata": {
  "kernelspec": {
   "display_name": "Julia 0.6.2",
   "language": "julia",
   "name": "julia-0.6"
  },
  "language_info": {
   "file_extension": ".jl",
   "mimetype": "application/julia",
   "name": "julia",
   "version": "0.6.2"
  }
 },
 "nbformat": 4,
 "nbformat_minor": 2
}
