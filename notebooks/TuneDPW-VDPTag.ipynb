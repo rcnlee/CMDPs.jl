{
 "cells": [
  {
   "cell_type": "code",
   "execution_count": 1,
   "metadata": {},
   "outputs": [
    {
     "data": {
      "text/plain": [
       "Plots.GRBackend()"
      ]
     },
     "execution_count": 1,
     "metadata": {},
     "output_type": "execute_result"
    }
   ],
   "source": [
    "#using Revise\n",
    "addprocs(15)\n",
    "using CMDPs\n",
    "using POMDPs, POMDPToolbox, VDPTag2, MCTS\n",
    "using DataFrames\n",
    "using Plots; gr()"
   ]
  },
  {
   "cell_type": "code",
   "execution_count": 2,
   "metadata": {},
   "outputs": [],
   "source": [
    "## Study"
   ]
  },
  {
   "cell_type": "code",
   "execution_count": 3,
   "metadata": {},
   "outputs": [
    {
     "data": {
      "text/plain": [
       "CMDPs.TuneDPW\n",
       "  mdp: VDPTag2.VDPTagMDP{Void}\n",
       "  n_seeds: Int64 500\n",
       "  n_iters: Array{Int64}((1,)) [500]\n",
       "  max_steps: Int64 10\n",
       "  k_actions: Array{Float64}((6,)) [0.1, 0.5, 1.0, 2.0, 5.0, 10.0]\n",
       "  alpha_actions: Array{Float64}((5,)) [0.1, 0.25, 0.5, 0.75, 0.9]\n",
       "  ecs: Array{Float64}((4,)) [0.25, 0.5, 0.75, 1.0]\n",
       "  k_states: Array{Float64}((6,)) [0.1, 0.5, 1.0, 2.0, 5.0, 10.0]\n",
       "  alpha_states: Array{Float64}((5,)) [0.1, 0.25, 0.5, 0.75, 0.9]\n"
      ]
     },
     "execution_count": 3,
     "metadata": {},
     "output_type": "execute_result"
    }
   ],
   "source": [
    "study = TuneDPW(VDPTagMDP)"
   ]
  },
  {
   "cell_type": "code",
   "execution_count": 4,
   "metadata": {},
   "outputs": [
    {
     "data": {
      "text/plain": [
       "CMDPs.TuneDPWResult(\"VDPTag\", 1800000×10 DataFrames.DataFrame. Omitted printing of 4 columns\n",
       "│ Row     │ alg       │ seed │ n_iters │ max_steps │ k_action │ alpha_action │\n",
       "├─────────┼───────────┼──────┼─────────┼───────────┼──────────┼──────────────┤\n",
       "│ 1       │ DPWBandit │ 1    │ 500     │ 10        │ 0.1      │ 0.1          │\n",
       "│ 2       │ DPWBandit │ 1    │ 500     │ 10        │ 0.1      │ 0.1          │\n",
       "│ 3       │ DPWBandit │ 1    │ 500     │ 10        │ 0.1      │ 0.1          │\n",
       "│ 4       │ DPWBandit │ 1    │ 500     │ 10        │ 0.1      │ 0.1          │\n",
       "│ 5       │ DPWBandit │ 1    │ 500     │ 10        │ 0.1      │ 0.1          │\n",
       "│ 6       │ DPWBandit │ 1    │ 500     │ 10        │ 0.1      │ 0.1          │\n",
       "│ 7       │ DPWBandit │ 1    │ 500     │ 10        │ 0.1      │ 0.1          │\n",
       "│ 8       │ DPWBandit │ 1    │ 500     │ 10        │ 0.1      │ 0.1          │\n",
       "│ 9       │ DPWBandit │ 1    │ 500     │ 10        │ 0.1      │ 0.1          │\n",
       "│ 10      │ DPWBandit │ 1    │ 500     │ 10        │ 0.1      │ 0.1          │\n",
       "│ 11      │ DPWBandit │ 1    │ 500     │ 10        │ 0.1      │ 0.1          │\n",
       "⋮\n",
       "│ 1799989 │ DPWBandit │ 500  │ 500     │ 10        │ 10.0     │ 0.9          │\n",
       "│ 1799990 │ DPWBandit │ 500  │ 500     │ 10        │ 10.0     │ 0.9          │\n",
       "│ 1799991 │ DPWBandit │ 500  │ 500     │ 10        │ 10.0     │ 0.9          │\n",
       "│ 1799992 │ DPWBandit │ 500  │ 500     │ 10        │ 10.0     │ 0.9          │\n",
       "│ 1799993 │ DPWBandit │ 500  │ 500     │ 10        │ 10.0     │ 0.9          │\n",
       "│ 1799994 │ DPWBandit │ 500  │ 500     │ 10        │ 10.0     │ 0.9          │\n",
       "│ 1799995 │ DPWBandit │ 500  │ 500     │ 10        │ 10.0     │ 0.9          │\n",
       "│ 1799996 │ DPWBandit │ 500  │ 500     │ 10        │ 10.0     │ 0.9          │\n",
       "│ 1799997 │ DPWBandit │ 500  │ 500     │ 10        │ 10.0     │ 0.9          │\n",
       "│ 1799998 │ DPWBandit │ 500  │ 500     │ 10        │ 10.0     │ 0.9          │\n",
       "│ 1799999 │ DPWBandit │ 500  │ 500     │ 10        │ 10.0     │ 0.9          │\n",
       "│ 1800000 │ DPWBandit │ 500  │ 500     │ 10        │ 10.0     │ 0.9          │)"
      ]
     },
     "execution_count": 4,
     "metadata": {},
     "output_type": "execute_result"
    }
   ],
   "source": [
    "result = run_study(study)"
   ]
  },
  {
   "cell_type": "code",
   "execution_count": 5,
   "metadata": {},
   "outputs": [
    {
     "data": {
      "text/html": [
       "<table class=\"data-frame\"><thead><tr><th></th><th>alg</th><th>k_action</th><th>alpha_action</th><th>ec</th><th>k_state</th><th>alpha_state</th><th>r_total_mean</th><th>r_total_std</th></tr></thead><tbody><tr><th>1</th><td>DPWBandit</td><td>10.0</td><td>0.5</td><td>0.75</td><td>2.0</td><td>0.9</td><td>71.81</td><td>43.017</td></tr><tr><th>2</th><td>DPWBandit</td><td>10.0</td><td>0.5</td><td>0.75</td><td>5.0</td><td>0.75</td><td>71.81</td><td>43.017</td></tr><tr><th>3</th><td>DPWBandit</td><td>10.0</td><td>0.5</td><td>0.75</td><td>5.0</td><td>0.9</td><td>71.81</td><td>43.017</td></tr><tr><th>4</th><td>DPWBandit</td><td>10.0</td><td>0.5</td><td>0.75</td><td>10.0</td><td>0.75</td><td>71.81</td><td>43.017</td></tr><tr><th>5</th><td>DPWBandit</td><td>10.0</td><td>0.5</td><td>0.75</td><td>10.0</td><td>0.9</td><td>71.81</td><td>43.017</td></tr><tr><th>6</th><td>DPWBandit</td><td>2.0</td><td>0.75</td><td>0.5</td><td>2.0</td><td>0.9</td><td>70.56</td><td>43.8527</td></tr><tr><th>7</th><td>DPWBandit</td><td>2.0</td><td>0.75</td><td>0.5</td><td>5.0</td><td>0.75</td><td>70.56</td><td>43.8527</td></tr><tr><th>8</th><td>DPWBandit</td><td>2.0</td><td>0.75</td><td>0.5</td><td>5.0</td><td>0.9</td><td>70.56</td><td>43.8527</td></tr><tr><th>9</th><td>DPWBandit</td><td>2.0</td><td>0.75</td><td>0.5</td><td>10.0</td><td>0.75</td><td>70.56</td><td>43.8527</td></tr><tr><th>10</th><td>DPWBandit</td><td>2.0</td><td>0.75</td><td>0.5</td><td>10.0</td><td>0.9</td><td>70.56</td><td>43.8527</td></tr><tr><th>11</th><td>DPWBandit</td><td>10.0</td><td>0.5</td><td>0.25</td><td>10.0</td><td>0.1</td><td>68.4</td><td>45.0971</td></tr><tr><th>12</th><td>DPWBandit</td><td>5.0</td><td>0.5</td><td>0.75</td><td>2.0</td><td>0.75</td><td>68.328</td><td>45.2936</td></tr><tr><th>13</th><td>DPWBandit</td><td>0.5</td><td>0.9</td><td>0.5</td><td>2.0</td><td>0.75</td><td>68.23</td><td>45.2422</td></tr><tr><th>14</th><td>DPWBandit</td><td>10.0</td><td>0.5</td><td>0.75</td><td>10.0</td><td>0.5</td><td>68.144</td><td>45.4307</td></tr><tr><th>15</th><td>DPWBandit</td><td>5.0</td><td>0.5</td><td>0.75</td><td>1.0</td><td>0.75</td><td>67.858</td><td>45.5045</td></tr><tr><th>16</th><td>DPWBandit</td><td>10.0</td><td>0.5</td><td>0.5</td><td>2.0</td><td>0.75</td><td>67.646</td><td>45.62</td></tr><tr><th>17</th><td>DPWBandit</td><td>2.0</td><td>0.75</td><td>0.75</td><td>10.0</td><td>0.5</td><td>67.51</td><td>45.5394</td></tr><tr><th>18</th><td>DPWBandit</td><td>10.0</td><td>0.5</td><td>0.75</td><td>1.0</td><td>0.9</td><td>67.48</td><td>45.7612</td></tr><tr><th>19</th><td>DPWBandit</td><td>2.0</td><td>0.75</td><td>0.25</td><td>5.0</td><td>0.1</td><td>67.478</td><td>45.5212</td></tr><tr><th>20</th><td>DPWBandit</td><td>10.0</td><td>0.5</td><td>1.0</td><td>2.0</td><td>0.75</td><td>67.452</td><td>45.745</td></tr><tr><th>21</th><td>DPWBandit</td><td>10.0</td><td>0.5</td><td>0.5</td><td>10.0</td><td>0.5</td><td>67.368</td><td>45.6967</td></tr><tr><th>22</th><td>DPWBandit</td><td>2.0</td><td>0.75</td><td>1.0</td><td>2.0</td><td>0.75</td><td>67.336</td><td>45.6813</td></tr><tr><th>23</th><td>DPWBandit</td><td>10.0</td><td>0.5</td><td>0.25</td><td>10.0</td><td>0.5</td><td>67.324</td><td>45.6701</td></tr><tr><th>24</th><td>DPWBandit</td><td>10.0</td><td>0.5</td><td>0.5</td><td>1.0</td><td>0.25</td><td>66.964</td><td>45.9331</td></tr><tr><th>25</th><td>DPWBandit</td><td>0.5</td><td>0.9</td><td>0.5</td><td>10.0</td><td>0.5</td><td>66.792</td><td>46.0658</td></tr><tr><th>26</th><td>DPWBandit</td><td>2.0</td><td>0.75</td><td>0.25</td><td>2.0</td><td>0.9</td><td>66.778</td><td>46.0551</td></tr><tr><th>27</th><td>DPWBandit</td><td>2.0</td><td>0.75</td><td>0.25</td><td>5.0</td><td>0.75</td><td>66.778</td><td>46.0551</td></tr><tr><th>28</th><td>DPWBandit</td><td>2.0</td><td>0.75</td><td>0.25</td><td>5.0</td><td>0.9</td><td>66.778</td><td>46.0551</td></tr><tr><th>29</th><td>DPWBandit</td><td>2.0</td><td>0.75</td><td>0.25</td><td>10.0</td><td>0.75</td><td>66.778</td><td>46.0551</td></tr><tr><th>30</th><td>DPWBandit</td><td>2.0</td><td>0.75</td><td>0.25</td><td>10.0</td><td>0.9</td><td>66.778</td><td>46.0551</td></tr><tr><th>&vellip;</th><td>&vellip;</td><td>&vellip;</td><td>&vellip;</td><td>&vellip;</td><td>&vellip;</td><td>&vellip;</td><td>&vellip;</td><td>&vellip;</td></tr></tbody></table>"
      ],
      "text/plain": [
       "3600×8 DataFrames.DataFrame. Omitted printing of 2 columns\n",
       "│ Row  │ alg       │ k_action │ alpha_action │ ec   │ k_state │ alpha_state │\n",
       "├──────┼───────────┼──────────┼──────────────┼──────┼─────────┼─────────────┤\n",
       "│ 1    │ DPWBandit │ 10.0     │ 0.5          │ 0.75 │ 2.0     │ 0.9         │\n",
       "│ 2    │ DPWBandit │ 10.0     │ 0.5          │ 0.75 │ 5.0     │ 0.75        │\n",
       "│ 3    │ DPWBandit │ 10.0     │ 0.5          │ 0.75 │ 5.0     │ 0.9         │\n",
       "│ 4    │ DPWBandit │ 10.0     │ 0.5          │ 0.75 │ 10.0    │ 0.75        │\n",
       "│ 5    │ DPWBandit │ 10.0     │ 0.5          │ 0.75 │ 10.0    │ 0.9         │\n",
       "│ 6    │ DPWBandit │ 2.0      │ 0.75         │ 0.5  │ 2.0     │ 0.9         │\n",
       "│ 7    │ DPWBandit │ 2.0      │ 0.75         │ 0.5  │ 5.0     │ 0.75        │\n",
       "│ 8    │ DPWBandit │ 2.0      │ 0.75         │ 0.5  │ 5.0     │ 0.9         │\n",
       "│ 9    │ DPWBandit │ 2.0      │ 0.75         │ 0.5  │ 10.0    │ 0.75        │\n",
       "│ 10   │ DPWBandit │ 2.0      │ 0.75         │ 0.5  │ 10.0    │ 0.9         │\n",
       "│ 11   │ DPWBandit │ 10.0     │ 0.5          │ 0.25 │ 10.0    │ 0.1         │\n",
       "⋮\n",
       "│ 3589 │ DPWBandit │ 0.5      │ 0.1          │ 0.5  │ 10.0    │ 0.75        │\n",
       "│ 3590 │ DPWBandit │ 0.5      │ 0.1          │ 0.5  │ 10.0    │ 0.9         │\n",
       "│ 3591 │ DPWBandit │ 0.5      │ 0.1          │ 0.75 │ 2.0     │ 0.9         │\n",
       "│ 3592 │ DPWBandit │ 0.5      │ 0.1          │ 0.75 │ 5.0     │ 0.75        │\n",
       "│ 3593 │ DPWBandit │ 0.5      │ 0.1          │ 0.75 │ 5.0     │ 0.9         │\n",
       "│ 3594 │ DPWBandit │ 0.5      │ 0.1          │ 0.75 │ 10.0    │ 0.75        │\n",
       "│ 3595 │ DPWBandit │ 0.5      │ 0.1          │ 0.75 │ 10.0    │ 0.9         │\n",
       "│ 3596 │ DPWBandit │ 0.5      │ 0.1          │ 1.0  │ 2.0     │ 0.9         │\n",
       "│ 3597 │ DPWBandit │ 0.5      │ 0.1          │ 1.0  │ 5.0     │ 0.75        │\n",
       "│ 3598 │ DPWBandit │ 0.5      │ 0.1          │ 1.0  │ 5.0     │ 0.9         │\n",
       "│ 3599 │ DPWBandit │ 0.5      │ 0.1          │ 1.0  │ 10.0    │ 0.75        │\n",
       "│ 3600 │ DPWBandit │ 0.5      │ 0.1          │ 1.0  │ 10.0    │ 0.9         │"
      ]
     },
     "execution_count": 5,
     "metadata": {},
     "output_type": "execute_result"
    }
   ],
   "source": [
    "report(result)"
   ]
  },
  {
   "cell_type": "code",
   "execution_count": 6,
   "metadata": {},
   "outputs": [],
   "source": [
    "using BSON\n",
    "bson(\"tunedpw-vdptag.bson\", study=study,result=result)"
   ]
  },
  {
   "cell_type": "code",
   "execution_count": null,
   "metadata": {},
   "outputs": [],
   "source": []
  }
 ],
 "metadata": {
  "kernelspec": {
   "display_name": "Julia 0.6.2",
   "language": "julia",
   "name": "julia-0.6"
  },
  "language_info": {
   "file_extension": ".jl",
   "mimetype": "application/julia",
   "name": "julia",
   "version": "0.6.2"
  }
 },
 "nbformat": 4,
 "nbformat_minor": 2
}
