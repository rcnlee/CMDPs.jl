{
 "cells": [
  {
   "cell_type": "code",
   "execution_count": 1,
   "metadata": {},
   "outputs": [
    {
     "data": {
      "text/plain": [
       "Plots.GRBackend()"
      ]
     },
     "execution_count": 1,
     "metadata": {},
     "output_type": "execute_result"
    }
   ],
   "source": [
    "#using Revise\n",
    "addprocs(4)\n",
    "using CMDPs\n",
    "using POMDPs, POMDPToolbox, Walk1DMDP, MCTS\n",
    "using DataFrames\n",
    "using Plots; gr()"
   ]
  },
  {
   "cell_type": "code",
   "execution_count": 2,
   "metadata": {},
   "outputs": [],
   "source": [
    "## Study"
   ]
  },
  {
   "cell_type": "code",
   "execution_count": 3,
   "metadata": {},
   "outputs": [
    {
     "data": {
      "text/plain": [
       "CMDPs.TuneDPW\n",
       "  mdp: Walk1DMDP.Walk1D\n",
       "  n_seeds: Int64 100\n",
       "  n_iters: Array{Int64}((1,)) [300]\n",
       "  max_steps: Int64 20\n",
       "  k_actions: Array{Float64}((6,)) [0.1, 0.5, 1.0, 2.0, 5.0, 10.0]\n",
       "  alpha_actions: Array{Float64}((5,)) [0.1, 0.25, 0.5, 0.75, 0.9]\n",
       "  ecs: Array{Float64}((4,)) [0.25, 0.5, 0.75, 1.0]\n",
       "  k_states: Array{Float64}((6,)) [0.1, 0.5, 1.0, 2.0, 5.0, 10.0]\n",
       "  alpha_states: Array{Float64}((6,)) [0.0, 0.1, 0.25, 0.5, 0.75, 0.9]\n"
      ]
     },
     "execution_count": 3,
     "metadata": {},
     "output_type": "execute_result"
    }
   ],
   "source": [
    "study = TuneDPW(Walk1D)"
   ]
  },
  {
   "cell_type": "code",
   "execution_count": null,
   "metadata": {},
   "outputs": [],
   "source": [
    "result = run_study(study)"
   ]
  },
  {
   "cell_type": "code",
   "execution_count": null,
   "metadata": {},
   "outputs": [],
   "source": [
    "report(result)"
   ]
  },
  {
   "cell_type": "code",
   "execution_count": null,
   "metadata": {},
   "outputs": [],
   "source": [
    "using BSON\n",
    "bson(\"tunedpw-walk1d.bson\", study=study,result=result)"
   ]
  },
  {
   "cell_type": "code",
   "execution_count": null,
   "metadata": {},
   "outputs": [],
   "source": []
  }
 ],
 "metadata": {
  "kernelspec": {
   "display_name": "Julia 0.6.2",
   "language": "julia",
   "name": "julia-0.6"
  },
  "language_info": {
   "file_extension": ".jl",
   "mimetype": "application/julia",
   "name": "julia",
   "version": "0.6.2"
  }
 },
 "nbformat": 4,
 "nbformat_minor": 2
}
