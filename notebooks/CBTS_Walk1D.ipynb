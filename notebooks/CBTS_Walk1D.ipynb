{
 "cells": [
  {
   "cell_type": "code",
   "execution_count": 1,
   "metadata": {},
   "outputs": [
    {
     "data": {
      "text/plain": [
       "Plots.GRBackend()"
      ]
     },
     "execution_count": 1,
     "metadata": {},
     "output_type": "execute_result"
    }
   ],
   "source": [
    "using Revise\n",
    "#addprocs(4)\n",
    "using Walk1DMDP, CMDPs\n",
    "using POMDPs, POMDPToolbox, MCTS\n",
    "using DataFrames\n",
    "using Plots; gr()"
   ]
  },
  {
   "cell_type": "code",
   "execution_count": 2,
   "metadata": {},
   "outputs": [],
   "source": [
    "mdp = Walk1D()\n",
    "b = CBTSBandit(mdp; A_max=20, n_proposes=100, fit_qs=true)\n",
    "solver = ModularSolver(mdp, b; n_iterations=200)\n",
    "policy = solve(solver, mdp);"
   ]
  },
  {
   "cell_type": "raw",
   "metadata": {},
   "source": [
    "#s0 = initial_state(mdp, Base.GLOBAL_RNG)\n",
    "#a, info = action_info(policy, s0)\n",
    "#best_path = info[:best_path]\n",
    "#policy = BPTrackerPolicy(best_path)"
   ]
  },
  {
   "cell_type": "code",
   "execution_count": 3,
   "metadata": {},
   "outputs": [
    {
     "data": {
      "text/plain": [
       "Walk1DMDP.Walk1DState(0, 1.0)"
      ]
     },
     "execution_count": 3,
     "metadata": {},
     "output_type": "execute_result"
    }
   ],
   "source": [
    "s0 = initial_state(mdp, Base.GLOBAL_RNG)"
   ]
  },
  {
   "cell_type": "code",
   "execution_count": 4,
   "metadata": {},
   "outputs": [],
   "source": [
    "hr = HistoryRecorder(; rng=Base.GLOBAL_RNG)\n",
    "h = simulate(hr, mdp, policy, s0);"
   ]
  },
  {
   "cell_type": "code",
   "execution_count": 5,
   "metadata": {},
   "outputs": [
    {
     "data": {
      "image/svg+xml": [
       "<?xml version=\"1.0\" encoding=\"utf-8\"?>\n",
       "<svg xmlns=\"http://www.w3.org/2000/svg\" xmlns:xlink=\"http://www.w3.org/1999/xlink\" width=\"600\" height=\"400\" viewBox=\"0 0 600 400\">\n",
       "<defs>\n",
       "  <clipPath id=\"clip5500\">\n",
       "    <rect x=\"0\" y=\"0\" width=\"600\" height=\"400\"/>\n",
       "  </clipPath>\n",
       "</defs>\n",
       "<polygon clip-path=\"url(#clip5500)\" points=\"\n",
       "0,400 600,400 600,0 0,0 \n",
       "  \" fill=\"#ffffff\" fill-opacity=\"1\"/>\n",
       "<defs>\n",
       "  <clipPath id=\"clip5501\">\n",
       "    <rect x=\"120\" y=\"0\" width=\"421\" height=\"400\"/>\n",
       "  </clipPath>\n",
       "</defs>\n",
       "<polygon clip-path=\"url(#clip5500)\" points=\"\n",
       "44.0307,375.869 580.315,375.869 580.315,11.811 44.0307,11.811 \n",
       "  \" fill=\"#ffffff\" fill-opacity=\"1\"/>\n",
       "<defs>\n",
       "  <clipPath id=\"clip5502\">\n",
       "    <rect x=\"44\" y=\"11\" width=\"537\" height=\"365\"/>\n",
       "  </clipPath>\n",
       "</defs>\n",
       "<polyline clip-path=\"url(#clip5502)\" style=\"stroke:#000000; stroke-width:0.5; stroke-opacity:0.1; fill:none\" points=\"\n",
       "  69.5681,375.869 69.5681,11.811 \n",
       "  \"/>\n",
       "<polyline clip-path=\"url(#clip5502)\" style=\"stroke:#000000; stroke-width:0.5; stroke-opacity:0.1; fill:none\" points=\"\n",
       "  197.255,375.869 197.255,11.811 \n",
       "  \"/>\n",
       "<polyline clip-path=\"url(#clip5502)\" style=\"stroke:#000000; stroke-width:0.5; stroke-opacity:0.1; fill:none\" points=\"\n",
       "  324.942,375.869 324.942,11.811 \n",
       "  \"/>\n",
       "<polyline clip-path=\"url(#clip5502)\" style=\"stroke:#000000; stroke-width:0.5; stroke-opacity:0.1; fill:none\" points=\"\n",
       "  452.628,375.869 452.628,11.811 \n",
       "  \"/>\n",
       "<polyline clip-path=\"url(#clip5502)\" style=\"stroke:#000000; stroke-width:0.5; stroke-opacity:0.1; fill:none\" points=\"\n",
       "  580.315,375.869 580.315,11.811 \n",
       "  \"/>\n",
       "<polyline clip-path=\"url(#clip5502)\" style=\"stroke:#000000; stroke-width:0.5; stroke-opacity:0.1; fill:none\" points=\"\n",
       "  44.0307,359.321 580.315,359.321 \n",
       "  \"/>\n",
       "<polyline clip-path=\"url(#clip5502)\" style=\"stroke:#000000; stroke-width:0.5; stroke-opacity:0.1; fill:none\" points=\"\n",
       "  44.0307,276.58 580.315,276.58 \n",
       "  \"/>\n",
       "<polyline clip-path=\"url(#clip5502)\" style=\"stroke:#000000; stroke-width:0.5; stroke-opacity:0.1; fill:none\" points=\"\n",
       "  44.0307,193.84 580.315,193.84 \n",
       "  \"/>\n",
       "<polyline clip-path=\"url(#clip5502)\" style=\"stroke:#000000; stroke-width:0.5; stroke-opacity:0.1; fill:none\" points=\"\n",
       "  44.0307,111.099 580.315,111.099 \n",
       "  \"/>\n",
       "<polyline clip-path=\"url(#clip5502)\" style=\"stroke:#000000; stroke-width:0.5; stroke-opacity:0.1; fill:none\" points=\"\n",
       "  44.0307,28.3591 580.315,28.3591 \n",
       "  \"/>\n",
       "<polyline clip-path=\"url(#clip5500)\" style=\"stroke:#000000; stroke-width:1; stroke-opacity:1; fill:none\" points=\"\n",
       "  44.0307,375.869 580.315,375.869 \n",
       "  \"/>\n",
       "<polyline clip-path=\"url(#clip5500)\" style=\"stroke:#000000; stroke-width:1; stroke-opacity:1; fill:none\" points=\"\n",
       "  44.0307,375.869 44.0307,11.811 \n",
       "  \"/>\n",
       "<polyline clip-path=\"url(#clip5500)\" style=\"stroke:#000000; stroke-width:1; stroke-opacity:1; fill:none\" points=\"\n",
       "  69.5681,375.869 69.5681,370.408 \n",
       "  \"/>\n",
       "<polyline clip-path=\"url(#clip5500)\" style=\"stroke:#000000; stroke-width:1; stroke-opacity:1; fill:none\" points=\"\n",
       "  197.255,375.869 197.255,370.408 \n",
       "  \"/>\n",
       "<polyline clip-path=\"url(#clip5500)\" style=\"stroke:#000000; stroke-width:1; stroke-opacity:1; fill:none\" points=\"\n",
       "  324.942,375.869 324.942,370.408 \n",
       "  \"/>\n",
       "<polyline clip-path=\"url(#clip5500)\" style=\"stroke:#000000; stroke-width:1; stroke-opacity:1; fill:none\" points=\"\n",
       "  452.628,375.869 452.628,370.408 \n",
       "  \"/>\n",
       "<polyline clip-path=\"url(#clip5500)\" style=\"stroke:#000000; stroke-width:1; stroke-opacity:1; fill:none\" points=\"\n",
       "  580.315,375.869 580.315,370.408 \n",
       "  \"/>\n",
       "<polyline clip-path=\"url(#clip5500)\" style=\"stroke:#000000; stroke-width:1; stroke-opacity:1; fill:none\" points=\"\n",
       "  44.0307,359.321 52.075,359.321 \n",
       "  \"/>\n",
       "<polyline clip-path=\"url(#clip5500)\" style=\"stroke:#000000; stroke-width:1; stroke-opacity:1; fill:none\" points=\"\n",
       "  44.0307,276.58 52.075,276.58 \n",
       "  \"/>\n",
       "<polyline clip-path=\"url(#clip5500)\" style=\"stroke:#000000; stroke-width:1; stroke-opacity:1; fill:none\" points=\"\n",
       "  44.0307,193.84 52.075,193.84 \n",
       "  \"/>\n",
       "<polyline clip-path=\"url(#clip5500)\" style=\"stroke:#000000; stroke-width:1; stroke-opacity:1; fill:none\" points=\"\n",
       "  44.0307,111.099 52.075,111.099 \n",
       "  \"/>\n",
       "<polyline clip-path=\"url(#clip5500)\" style=\"stroke:#000000; stroke-width:1; stroke-opacity:1; fill:none\" points=\"\n",
       "  44.0307,28.3591 52.075,28.3591 \n",
       "  \"/>\n",
       "<g clip-path=\"url(#clip5500)\">\n",
       "<text style=\"fill:#000000; fill-opacity:1; font-family:Arial,Helvetica Neue,Helvetica,sans-serif; font-size:12; text-anchor:middle;\" transform=\"rotate(0, 69.5681, 389.669)\" x=\"69.5681\" y=\"389.669\">0</text>\n",
       "</g>\n",
       "<g clip-path=\"url(#clip5500)\">\n",
       "<text style=\"fill:#000000; fill-opacity:1; font-family:Arial,Helvetica Neue,Helvetica,sans-serif; font-size:12; text-anchor:middle;\" transform=\"rotate(0, 197.255, 389.669)\" x=\"197.255\" y=\"389.669\">5</text>\n",
       "</g>\n",
       "<g clip-path=\"url(#clip5500)\">\n",
       "<text style=\"fill:#000000; fill-opacity:1; font-family:Arial,Helvetica Neue,Helvetica,sans-serif; font-size:12; text-anchor:middle;\" transform=\"rotate(0, 324.942, 389.669)\" x=\"324.942\" y=\"389.669\">10</text>\n",
       "</g>\n",
       "<g clip-path=\"url(#clip5500)\">\n",
       "<text style=\"fill:#000000; fill-opacity:1; font-family:Arial,Helvetica Neue,Helvetica,sans-serif; font-size:12; text-anchor:middle;\" transform=\"rotate(0, 452.628, 389.669)\" x=\"452.628\" y=\"389.669\">15</text>\n",
       "</g>\n",
       "<g clip-path=\"url(#clip5500)\">\n",
       "<text style=\"fill:#000000; fill-opacity:1; font-family:Arial,Helvetica Neue,Helvetica,sans-serif; font-size:12; text-anchor:middle;\" transform=\"rotate(0, 580.315, 389.669)\" x=\"580.315\" y=\"389.669\">20</text>\n",
       "</g>\n",
       "<g clip-path=\"url(#clip5500)\">\n",
       "<text style=\"fill:#000000; fill-opacity:1; font-family:Arial,Helvetica Neue,Helvetica,sans-serif; font-size:12; text-anchor:end;\" transform=\"rotate(0, 38.0307, 363.821)\" x=\"38.0307\" y=\"363.821\">-10</text>\n",
       "</g>\n",
       "<g clip-path=\"url(#clip5500)\">\n",
       "<text style=\"fill:#000000; fill-opacity:1; font-family:Arial,Helvetica Neue,Helvetica,sans-serif; font-size:12; text-anchor:end;\" transform=\"rotate(0, 38.0307, 281.08)\" x=\"38.0307\" y=\"281.08\">-5</text>\n",
       "</g>\n",
       "<g clip-path=\"url(#clip5500)\">\n",
       "<text style=\"fill:#000000; fill-opacity:1; font-family:Arial,Helvetica Neue,Helvetica,sans-serif; font-size:12; text-anchor:end;\" transform=\"rotate(0, 38.0307, 198.34)\" x=\"38.0307\" y=\"198.34\">0</text>\n",
       "</g>\n",
       "<g clip-path=\"url(#clip5500)\">\n",
       "<text style=\"fill:#000000; fill-opacity:1; font-family:Arial,Helvetica Neue,Helvetica,sans-serif; font-size:12; text-anchor:end;\" transform=\"rotate(0, 38.0307, 115.599)\" x=\"38.0307\" y=\"115.599\">5</text>\n",
       "</g>\n",
       "<g clip-path=\"url(#clip5500)\">\n",
       "<text style=\"fill:#000000; fill-opacity:1; font-family:Arial,Helvetica Neue,Helvetica,sans-serif; font-size:12; text-anchor:end;\" transform=\"rotate(0, 38.0307, 32.8591)\" x=\"38.0307\" y=\"32.8591\">10</text>\n",
       "</g>\n",
       "<polyline clip-path=\"url(#clip5502)\" style=\"stroke:#000000; stroke-width:1; stroke-opacity:1; fill:none\" points=\"\n",
       "  69.5681,28.3591 580.315,28.3591 \n",
       "  \"/>\n",
       "<polyline clip-path=\"url(#clip5502)\" style=\"stroke:#000000; stroke-width:1; stroke-opacity:1; fill:none\" points=\"\n",
       "  69.5681,359.321 580.315,359.321 \n",
       "  \"/>\n",
       "<polyline clip-path=\"url(#clip5502)\" style=\"stroke:#0000ff; stroke-width:1; stroke-opacity:1; fill:none\" points=\"\n",
       "  69.5681,177.292 95.1054,183.512 120.643,164.656 146.18,127.297 171.717,77.4643 \n",
       "  \"/>\n",
       "<circle clip-path=\"url(#clip5502)\" style=\"fill:#000000; stroke:none; fill-opacity:1\" cx=\"171.717\" cy=\"77.4643\" r=\"4\"/>\n",
       "<circle clip-path=\"url(#clip5502)\" style=\"fill:#0000ff; stroke:none; fill-opacity:1\" cx=\"171.717\" cy=\"77.4643\" r=\"3\"/>\n",
       "<polygon clip-path=\"url(#clip5500)\" points=\"\n",
       "420.054,108.291 562.315,108.291 562.315,32.691 420.054,32.691 \n",
       "  \" fill=\"#ffffff\" fill-opacity=\"1\"/>\n",
       "<polyline clip-path=\"url(#clip5500)\" style=\"stroke:#000000; stroke-width:1; stroke-opacity:1; fill:none\" points=\"\n",
       "  420.054,108.291 562.315,108.291 562.315,32.691 420.054,32.691 420.054,108.291 \n",
       "  \"/>\n",
       "<polyline clip-path=\"url(#clip5500)\" style=\"stroke:#000000; stroke-width:1; stroke-opacity:1; fill:none\" points=\"\n",
       "  426.054,47.811 462.054,47.811 \n",
       "  \"/>\n",
       "<g clip-path=\"url(#clip5500)\">\n",
       "<text style=\"fill:#000000; fill-opacity:1; font-family:Arial,Helvetica Neue,Helvetica,sans-serif; font-size:12; text-anchor:start;\" transform=\"rotate(0, 468.054, 52.311)\" x=\"468.054\" y=\"52.311\">thresh+</text>\n",
       "</g>\n",
       "<polyline clip-path=\"url(#clip5500)\" style=\"stroke:#000000; stroke-width:1; stroke-opacity:1; fill:none\" points=\"\n",
       "  426.054,62.931 462.054,62.931 \n",
       "  \"/>\n",
       "<g clip-path=\"url(#clip5500)\">\n",
       "<text style=\"fill:#000000; fill-opacity:1; font-family:Arial,Helvetica Neue,Helvetica,sans-serif; font-size:12; text-anchor:start;\" transform=\"rotate(0, 468.054, 67.431)\" x=\"468.054\" y=\"67.431\">thresh-</text>\n",
       "</g>\n",
       "<polyline clip-path=\"url(#clip5500)\" style=\"stroke:#0000ff; stroke-width:1; stroke-opacity:1; fill:none\" points=\"\n",
       "  426.054,78.051 462.054,78.051 \n",
       "  \"/>\n",
       "<g clip-path=\"url(#clip5500)\">\n",
       "<text style=\"fill:#000000; fill-opacity:1; font-family:Arial,Helvetica Neue,Helvetica,sans-serif; font-size:12; text-anchor:start;\" transform=\"rotate(0, 468.054, 82.551)\" x=\"468.054\" y=\"82.551\">path</text>\n",
       "</g>\n",
       "<circle clip-path=\"url(#clip5500)\" style=\"fill:#000000; stroke:none; fill-opacity:1\" cx=\"447.054\" cy=\"93.171\" r=\"6\"/>\n",
       "<circle clip-path=\"url(#clip5500)\" style=\"fill:#0000ff; stroke:none; fill-opacity:1\" cx=\"447.054\" cy=\"93.171\" r=\"5\"/>\n",
       "<g clip-path=\"url(#clip5500)\">\n",
       "<text style=\"fill:#000000; fill-opacity:1; font-family:Arial,Helvetica Neue,Helvetica,sans-serif; font-size:12; text-anchor:start;\" transform=\"rotate(0, 468.054, 97.671)\" x=\"468.054\" y=\"97.671\">current position</text>\n",
       "</g>\n",
       "</svg>\n"
      ]
     },
     "execution_count": 5,
     "metadata": {},
     "output_type": "execute_result"
    }
   ],
   "source": [
    "plot(mdp, h)"
   ]
  },
  {
   "cell_type": "markdown",
   "metadata": {},
   "source": [
    "## CBTSObserver"
   ]
  },
  {
   "cell_type": "code",
   "execution_count": 6,
   "metadata": {},
   "outputs": [],
   "source": [
    "mdp = Walk1D()\n",
    "observer = AQObserver(1)\n",
    "b = CBTSBandit(mdp; A_max=20, n_proposes=100, fit_qs=true, observer=observer)\n",
    "solver = ModularSolver(mdp, b; n_iterations=500)\n",
    "policy = solve(solver, mdp);"
   ]
  },
  {
   "cell_type": "code",
   "execution_count": 7,
   "metadata": {},
   "outputs": [
    {
     "data": {
      "text/plain": [
       "(-0.3758966682122749, Dict{Symbol,Any}(Pair{Symbol,Any}(:tree_queries, 500),Pair{Symbol,Any}(:search_time_us, 0x00000000000fcfd2),Pair{Symbol,Any}(:best_path, MCTS.BestPathTracker(Any[Walk1DMDP.Walk1DState(6, 9.12954)], Any[0.0020522], -0.918941, Any[], Any[], 0.0, 1.0, 1.0))))"
      ]
     },
     "execution_count": 7,
     "metadata": {},
     "output_type": "execute_result"
    }
   ],
   "source": [
    "s0 = initial_state(mdp, Base.GLOBAL_RNG)\n",
    "a, info = action_info(policy, s0)"
   ]
  },
  {
   "cell_type": "code",
   "execution_count": 8,
   "metadata": {},
   "outputs": [
    {
     "data": {
      "image/svg+xml": [
       "<?xml version=\"1.0\" encoding=\"utf-8\"?>\n",
       "<svg xmlns=\"http://www.w3.org/2000/svg\" xmlns:xlink=\"http://www.w3.org/1999/xlink\" width=\"600\" height=\"400\" viewBox=\"0 0 600 400\">\n",
       "<defs>\n",
       "  <clipPath id=\"clip5700\">\n",
       "    <rect x=\"0\" y=\"0\" width=\"600\" height=\"400\"/>\n",
       "  </clipPath>\n",
       "</defs>\n",
       "<polygon clip-path=\"url(#clip5700)\" points=\"\n",
       "0,400 600,400 600,0 0,0 \n",
       "  \" fill=\"#ffffff\" fill-opacity=\"1\"/>\n",
       "<defs>\n",
       "  <clipPath id=\"clip5701\">\n",
       "    <rect x=\"120\" y=\"0\" width=\"421\" height=\"400\"/>\n",
       "  </clipPath>\n",
       "</defs>\n",
       "<polygon clip-path=\"url(#clip5700)\" points=\"\n",
       "59.7788,360.121 580.315,360.121 580.315,31.4961 59.7788,31.4961 \n",
       "  \" fill=\"#ffffff\" fill-opacity=\"1\"/>\n",
       "<defs>\n",
       "  <clipPath id=\"clip5702\">\n",
       "    <rect x=\"59\" y=\"31\" width=\"522\" height=\"330\"/>\n",
       "  </clipPath>\n",
       "</defs>\n",
       "<polyline clip-path=\"url(#clip5702)\" style=\"stroke:#000000; stroke-width:0.5; stroke-opacity:0.1; fill:none\" points=\"\n",
       "  117.924,360.121 117.924,31.4961 \n",
       "  \"/>\n",
       "<polyline clip-path=\"url(#clip5702)\" style=\"stroke:#000000; stroke-width:0.5; stroke-opacity:0.1; fill:none\" points=\"\n",
       "  187.911,360.121 187.911,31.4961 \n",
       "  \"/>\n",
       "<polyline clip-path=\"url(#clip5702)\" style=\"stroke:#000000; stroke-width:0.5; stroke-opacity:0.1; fill:none\" points=\"\n",
       "  257.897,360.121 257.897,31.4961 \n",
       "  \"/>\n",
       "<polyline clip-path=\"url(#clip5702)\" style=\"stroke:#000000; stroke-width:0.5; stroke-opacity:0.1; fill:none\" points=\"\n",
       "  327.884,360.121 327.884,31.4961 \n",
       "  \"/>\n",
       "<polyline clip-path=\"url(#clip5702)\" style=\"stroke:#000000; stroke-width:0.5; stroke-opacity:0.1; fill:none\" points=\"\n",
       "  397.871,360.121 397.871,31.4961 \n",
       "  \"/>\n",
       "<polyline clip-path=\"url(#clip5702)\" style=\"stroke:#000000; stroke-width:0.5; stroke-opacity:0.1; fill:none\" points=\"\n",
       "  467.857,360.121 467.857,31.4961 \n",
       "  \"/>\n",
       "<polyline clip-path=\"url(#clip5702)\" style=\"stroke:#000000; stroke-width:0.5; stroke-opacity:0.1; fill:none\" points=\"\n",
       "  537.844,360.121 537.844,31.4961 \n",
       "  \"/>\n",
       "<polyline clip-path=\"url(#clip5702)\" style=\"stroke:#000000; stroke-width:0.5; stroke-opacity:0.1; fill:none\" points=\"\n",
       "  59.7788,349.52 580.315,349.52 \n",
       "  \"/>\n",
       "<polyline clip-path=\"url(#clip5702)\" style=\"stroke:#000000; stroke-width:0.5; stroke-opacity:0.1; fill:none\" points=\"\n",
       "  59.7788,243.512 580.315,243.512 \n",
       "  \"/>\n",
       "<polyline clip-path=\"url(#clip5702)\" style=\"stroke:#000000; stroke-width:0.5; stroke-opacity:0.1; fill:none\" points=\"\n",
       "  59.7788,137.504 580.315,137.504 \n",
       "  \"/>\n",
       "<polyline clip-path=\"url(#clip5702)\" style=\"stroke:#000000; stroke-width:0.5; stroke-opacity:0.1; fill:none\" points=\"\n",
       "  59.7788,31.4961 580.315,31.4961 \n",
       "  \"/>\n",
       "<polyline clip-path=\"url(#clip5700)\" style=\"stroke:#000000; stroke-width:1; stroke-opacity:1; fill:none\" points=\"\n",
       "  59.7788,360.121 580.315,360.121 \n",
       "  \"/>\n",
       "<polyline clip-path=\"url(#clip5700)\" style=\"stroke:#000000; stroke-width:1; stroke-opacity:1; fill:none\" points=\"\n",
       "  59.7788,360.121 59.7788,31.4961 \n",
       "  \"/>\n",
       "<polyline clip-path=\"url(#clip5700)\" style=\"stroke:#000000; stroke-width:1; stroke-opacity:1; fill:none\" points=\"\n",
       "  117.924,360.121 117.924,355.191 \n",
       "  \"/>\n",
       "<polyline clip-path=\"url(#clip5700)\" style=\"stroke:#000000; stroke-width:1; stroke-opacity:1; fill:none\" points=\"\n",
       "  187.911,360.121 187.911,355.191 \n",
       "  \"/>\n",
       "<polyline clip-path=\"url(#clip5700)\" style=\"stroke:#000000; stroke-width:1; stroke-opacity:1; fill:none\" points=\"\n",
       "  257.897,360.121 257.897,355.191 \n",
       "  \"/>\n",
       "<polyline clip-path=\"url(#clip5700)\" style=\"stroke:#000000; stroke-width:1; stroke-opacity:1; fill:none\" points=\"\n",
       "  327.884,360.121 327.884,355.191 \n",
       "  \"/>\n",
       "<polyline clip-path=\"url(#clip5700)\" style=\"stroke:#000000; stroke-width:1; stroke-opacity:1; fill:none\" points=\"\n",
       "  397.871,360.121 397.871,355.191 \n",
       "  \"/>\n",
       "<polyline clip-path=\"url(#clip5700)\" style=\"stroke:#000000; stroke-width:1; stroke-opacity:1; fill:none\" points=\"\n",
       "  467.857,360.121 467.857,355.191 \n",
       "  \"/>\n",
       "<polyline clip-path=\"url(#clip5700)\" style=\"stroke:#000000; stroke-width:1; stroke-opacity:1; fill:none\" points=\"\n",
       "  537.844,360.121 537.844,355.191 \n",
       "  \"/>\n",
       "<polyline clip-path=\"url(#clip5700)\" style=\"stroke:#000000; stroke-width:1; stroke-opacity:1; fill:none\" points=\"\n",
       "  59.7788,349.52 67.5868,349.52 \n",
       "  \"/>\n",
       "<polyline clip-path=\"url(#clip5700)\" style=\"stroke:#000000; stroke-width:1; stroke-opacity:1; fill:none\" points=\"\n",
       "  59.7788,243.512 67.5868,243.512 \n",
       "  \"/>\n",
       "<polyline clip-path=\"url(#clip5700)\" style=\"stroke:#000000; stroke-width:1; stroke-opacity:1; fill:none\" points=\"\n",
       "  59.7788,137.504 67.5868,137.504 \n",
       "  \"/>\n",
       "<polyline clip-path=\"url(#clip5700)\" style=\"stroke:#000000; stroke-width:1; stroke-opacity:1; fill:none\" points=\"\n",
       "  59.7788,31.4961 67.5868,31.4961 \n",
       "  \"/>\n",
       "<g clip-path=\"url(#clip5700)\">\n",
       "<text style=\"fill:#000000; fill-opacity:1; font-family:Arial,Helvetica Neue,Helvetica,sans-serif; font-size:12; text-anchor:middle;\" transform=\"rotate(0, 117.924, 373.921)\" x=\"117.924\" y=\"373.921\">-3</text>\n",
       "</g>\n",
       "<g clip-path=\"url(#clip5700)\">\n",
       "<text style=\"fill:#000000; fill-opacity:1; font-family:Arial,Helvetica Neue,Helvetica,sans-serif; font-size:12; text-anchor:middle;\" transform=\"rotate(0, 187.911, 373.921)\" x=\"187.911\" y=\"373.921\">-2</text>\n",
       "</g>\n",
       "<g clip-path=\"url(#clip5700)\">\n",
       "<text style=\"fill:#000000; fill-opacity:1; font-family:Arial,Helvetica Neue,Helvetica,sans-serif; font-size:12; text-anchor:middle;\" transform=\"rotate(0, 257.897, 373.921)\" x=\"257.897\" y=\"373.921\">-1</text>\n",
       "</g>\n",
       "<g clip-path=\"url(#clip5700)\">\n",
       "<text style=\"fill:#000000; fill-opacity:1; font-family:Arial,Helvetica Neue,Helvetica,sans-serif; font-size:12; text-anchor:middle;\" transform=\"rotate(0, 327.884, 373.921)\" x=\"327.884\" y=\"373.921\">0</text>\n",
       "</g>\n",
       "<g clip-path=\"url(#clip5700)\">\n",
       "<text style=\"fill:#000000; fill-opacity:1; font-family:Arial,Helvetica Neue,Helvetica,sans-serif; font-size:12; text-anchor:middle;\" transform=\"rotate(0, 397.871, 373.921)\" x=\"397.871\" y=\"373.921\">1</text>\n",
       "</g>\n",
       "<g clip-path=\"url(#clip5700)\">\n",
       "<text style=\"fill:#000000; fill-opacity:1; font-family:Arial,Helvetica Neue,Helvetica,sans-serif; font-size:12; text-anchor:middle;\" transform=\"rotate(0, 467.857, 373.921)\" x=\"467.857\" y=\"373.921\">2</text>\n",
       "</g>\n",
       "<g clip-path=\"url(#clip5700)\">\n",
       "<text style=\"fill:#000000; fill-opacity:1; font-family:Arial,Helvetica Neue,Helvetica,sans-serif; font-size:12; text-anchor:middle;\" transform=\"rotate(0, 537.844, 373.921)\" x=\"537.844\" y=\"373.921\">3</text>\n",
       "</g>\n",
       "<g clip-path=\"url(#clip5700)\">\n",
       "<text style=\"fill:#000000; fill-opacity:1; font-family:Arial,Helvetica Neue,Helvetica,sans-serif; font-size:12; text-anchor:end;\" transform=\"rotate(0, 53.7788, 354.02)\" x=\"53.7788\" y=\"354.02\">-40</text>\n",
       "</g>\n",
       "<g clip-path=\"url(#clip5700)\">\n",
       "<text style=\"fill:#000000; fill-opacity:1; font-family:Arial,Helvetica Neue,Helvetica,sans-serif; font-size:12; text-anchor:end;\" transform=\"rotate(0, 53.7788, 248.012)\" x=\"53.7788\" y=\"248.012\">-30</text>\n",
       "</g>\n",
       "<g clip-path=\"url(#clip5700)\">\n",
       "<text style=\"fill:#000000; fill-opacity:1; font-family:Arial,Helvetica Neue,Helvetica,sans-serif; font-size:12; text-anchor:end;\" transform=\"rotate(0, 53.7788, 142.004)\" x=\"53.7788\" y=\"142.004\">-20</text>\n",
       "</g>\n",
       "<g clip-path=\"url(#clip5700)\">\n",
       "<text style=\"fill:#000000; fill-opacity:1; font-family:Arial,Helvetica Neue,Helvetica,sans-serif; font-size:12; text-anchor:end;\" transform=\"rotate(0, 53.7788, 35.9961)\" x=\"53.7788\" y=\"35.9961\">-10</text>\n",
       "</g>\n",
       "<g clip-path=\"url(#clip5700)\">\n",
       "<text style=\"fill:#000000; fill-opacity:1; font-family:Arial,Helvetica Neue,Helvetica,sans-serif; font-size:21; text-anchor:middle;\" transform=\"rotate(0, 320.047, 18)\" x=\"320.047\" y=\"18\">n=50</text>\n",
       "</g>\n",
       "<g clip-path=\"url(#clip5700)\">\n",
       "<text style=\"fill:#000000; fill-opacity:1; font-family:Arial,Helvetica Neue,Helvetica,sans-serif; font-size:16; text-anchor:middle;\" transform=\"rotate(0, 320.047, 397.6)\" x=\"320.047\" y=\"397.6\">action</text>\n",
       "</g>\n",
       "<g clip-path=\"url(#clip5700)\">\n",
       "<text style=\"fill:#000000; fill-opacity:1; font-family:Arial,Helvetica Neue,Helvetica,sans-serif; font-size:16; text-anchor:middle;\" transform=\"rotate(-90, 14.4, 195.808)\" x=\"14.4\" y=\"195.808\">q</text>\n",
       "</g>\n",
       "<circle clip-path=\"url(#clip5702)\" style=\"fill:#000000; stroke:none; fill-opacity:1\" cx=\"375.413\" cy=\"318.421\" r=\"4\"/>\n",
       "<circle clip-path=\"url(#clip5702)\" style=\"fill:#009af9; stroke:none; fill-opacity:1\" cx=\"375.413\" cy=\"318.421\" r=\"3\"/>\n",
       "<circle clip-path=\"url(#clip5702)\" style=\"fill:#000000; stroke:none; fill-opacity:1\" cx=\"85.2145\" cy=\"319.509\" r=\"4\"/>\n",
       "<circle clip-path=\"url(#clip5702)\" style=\"fill:#009af9; stroke:none; fill-opacity:1\" cx=\"85.2145\" cy=\"319.509\" r=\"3\"/>\n",
       "<circle clip-path=\"url(#clip5702)\" style=\"fill:#000000; stroke:none; fill-opacity:1\" cx=\"565.583\" cy=\"328.968\" r=\"4\"/>\n",
       "<circle clip-path=\"url(#clip5702)\" style=\"fill:#009af9; stroke:none; fill-opacity:1\" cx=\"565.583\" cy=\"328.968\" r=\"3\"/>\n",
       "<circle clip-path=\"url(#clip5702)\" style=\"fill:#000000; stroke:none; fill-opacity:1\" cx=\"228.691\" cy=\"322.186\" r=\"4\"/>\n",
       "<circle clip-path=\"url(#clip5702)\" style=\"fill:#009af9; stroke:none; fill-opacity:1\" cx=\"228.691\" cy=\"322.186\" r=\"3\"/>\n",
       "<circle clip-path=\"url(#clip5702)\" style=\"fill:#000000; stroke:none; fill-opacity:1\" cx=\"459.05\" cy=\"303.825\" r=\"4\"/>\n",
       "<circle clip-path=\"url(#clip5702)\" style=\"fill:#009af9; stroke:none; fill-opacity:1\" cx=\"459.05\" cy=\"303.825\" r=\"3\"/>\n",
       "<circle clip-path=\"url(#clip5702)\" style=\"fill:#000000; stroke:none; fill-opacity:1\" cx=\"301.576\" cy=\"296.108\" r=\"4\"/>\n",
       "<circle clip-path=\"url(#clip5702)\" style=\"fill:#009af9; stroke:none; fill-opacity:1\" cx=\"301.576\" cy=\"296.108\" r=\"3\"/>\n",
       "<circle clip-path=\"url(#clip5702)\" style=\"fill:#000000; stroke:none; fill-opacity:1\" cx=\"466.099\" cy=\"352.961\" r=\"4\"/>\n",
       "<circle clip-path=\"url(#clip5702)\" style=\"fill:#009af9; stroke:none; fill-opacity:1\" cx=\"466.099\" cy=\"352.961\" r=\"3\"/>\n",
       "<circle clip-path=\"url(#clip5702)\" style=\"fill:#000000; stroke:none; fill-opacity:1\" cx=\"300.89\" cy=\"296.891\" r=\"4\"/>\n",
       "<circle clip-path=\"url(#clip5702)\" style=\"fill:#009af9; stroke:none; fill-opacity:1\" cx=\"300.89\" cy=\"296.891\" r=\"3\"/>\n",
       "<circle clip-path=\"url(#clip5702)\" style=\"fill:#000000; stroke:none; fill-opacity:1\" cx=\"299.745\" cy=\"298.74\" r=\"4\"/>\n",
       "<circle clip-path=\"url(#clip5702)\" style=\"fill:#009af9; stroke:none; fill-opacity:1\" cx=\"299.745\" cy=\"298.74\" r=\"3\"/>\n",
       "<circle clip-path=\"url(#clip5702)\" style=\"fill:#000000; stroke:none; fill-opacity:1\" cx=\"301.786\" cy=\"301.94\" r=\"4\"/>\n",
       "<circle clip-path=\"url(#clip5702)\" style=\"fill:#009af9; stroke:none; fill-opacity:1\" cx=\"301.786\" cy=\"301.94\" r=\"3\"/>\n",
       "<circle clip-path=\"url(#clip5702)\" style=\"fill:#000000; stroke:none; fill-opacity:1\" cx=\"299.172\" cy=\"331.45\" r=\"4\"/>\n",
       "<circle clip-path=\"url(#clip5702)\" style=\"fill:#009af9; stroke:none; fill-opacity:1\" cx=\"299.172\" cy=\"331.45\" r=\"3\"/>\n",
       "<circle clip-path=\"url(#clip5702)\" style=\"fill:#000000; stroke:none; fill-opacity:1\" cx=\"303.967\" cy=\"343.219\" r=\"4\"/>\n",
       "<circle clip-path=\"url(#clip5702)\" style=\"fill:#009af9; stroke:none; fill-opacity:1\" cx=\"303.967\" cy=\"343.219\" r=\"3\"/>\n",
       "<circle clip-path=\"url(#clip5702)\" style=\"fill:#000000; stroke:none; fill-opacity:1\" cx=\"404.995\" cy=\"344.915\" r=\"4\"/>\n",
       "<circle clip-path=\"url(#clip5702)\" style=\"fill:#009af9; stroke:none; fill-opacity:1\" cx=\"404.995\" cy=\"344.915\" r=\"3\"/>\n",
       "<circle clip-path=\"url(#clip5702)\" style=\"fill:#000000; stroke:none; fill-opacity:1\" cx=\"282.319\" cy=\"292.747\" r=\"4\"/>\n",
       "<circle clip-path=\"url(#clip5702)\" style=\"fill:#009af9; stroke:none; fill-opacity:1\" cx=\"282.319\" cy=\"292.747\" r=\"3\"/>\n",
       "<circle clip-path=\"url(#clip5702)\" style=\"fill:#000000; stroke:none; fill-opacity:1\" cx=\"274.76\" cy=\"309.79\" r=\"4\"/>\n",
       "<circle clip-path=\"url(#clip5702)\" style=\"fill:#009af9; stroke:none; fill-opacity:1\" cx=\"274.76\" cy=\"309.79\" r=\"3\"/>\n",
       "<circle clip-path=\"url(#clip5702)\" style=\"fill:#000000; stroke:none; fill-opacity:1\" cx=\"281.843\" cy=\"309.967\" r=\"4\"/>\n",
       "<circle clip-path=\"url(#clip5702)\" style=\"fill:#009af9; stroke:none; fill-opacity:1\" cx=\"281.843\" cy=\"309.967\" r=\"3\"/>\n",
       "<circle clip-path=\"url(#clip5702)\" style=\"fill:#000000; stroke:none; fill-opacity:1\" cx=\"287.816\" cy=\"308.351\" r=\"4\"/>\n",
       "<circle clip-path=\"url(#clip5702)\" style=\"fill:#009af9; stroke:none; fill-opacity:1\" cx=\"287.816\" cy=\"308.351\" r=\"3\"/>\n",
       "<circle clip-path=\"url(#clip5702)\" style=\"fill:#000000; stroke:none; fill-opacity:1\" cx=\"74.5109\" cy=\"320.624\" r=\"4\"/>\n",
       "<circle clip-path=\"url(#clip5702)\" style=\"fill:#009af9; stroke:none; fill-opacity:1\" cx=\"74.5109\" cy=\"320.624\" r=\"3\"/>\n",
       "<circle clip-path=\"url(#clip5702)\" style=\"fill:#000000; stroke:none; fill-opacity:1\" cx=\"293.009\" cy=\"299.263\" r=\"4\"/>\n",
       "<circle clip-path=\"url(#clip5702)\" style=\"fill:#009af9; stroke:none; fill-opacity:1\" cx=\"293.009\" cy=\"299.263\" r=\"3\"/>\n",
       "<polygon clip-path=\"url(#clip5700)\" points=\"\n",
       "489.608,82.6161 562.315,82.6161 562.315,52.3761 489.608,52.3761 \n",
       "  \" fill=\"#ffffff\" fill-opacity=\"1\"/>\n",
       "<polyline clip-path=\"url(#clip5700)\" style=\"stroke:#000000; stroke-width:1; stroke-opacity:1; fill:none\" points=\"\n",
       "  489.608,82.6161 562.315,82.6161 562.315,52.3761 489.608,52.3761 489.608,82.6161 \n",
       "  \"/>\n",
       "<circle clip-path=\"url(#clip5700)\" style=\"fill:#000000; stroke:none; fill-opacity:1\" cx=\"516.608\" cy=\"67.4961\" r=\"6\"/>\n",
       "<circle clip-path=\"url(#clip5700)\" style=\"fill:#009af9; stroke:none; fill-opacity:1\" cx=\"516.608\" cy=\"67.4961\" r=\"5\"/>\n",
       "<g clip-path=\"url(#clip5700)\">\n",
       "<text style=\"fill:#000000; fill-opacity:1; font-family:Arial,Helvetica Neue,Helvetica,sans-serif; font-size:12; text-anchor:start;\" transform=\"rotate(0, 537.608, 71.9961)\" x=\"537.608\" y=\"71.9961\">y1</text>\n",
       "</g>\n",
       "</svg>\n"
      ]
     },
     "execution_count": 8,
     "metadata": {},
     "output_type": "execute_result"
    }
   ],
   "source": [
    "plot(observer, 50; ylim=(-41.0,-10.0))"
   ]
  },
  {
   "cell_type": "code",
   "execution_count": 9,
   "metadata": {},
   "outputs": [
    {
     "name": "stderr",
     "output_type": "stream",
     "text": [
      "\u001b[1m\u001b[36mINFO: \u001b[39m\u001b[22m\u001b[36mSaved animation to /Users/rlee18/.julia/v0.6/CMDPs/notebooks/aqobserver.gif\n",
      "\u001b[39m"
     ]
    },
    {
     "data": {
      "text/html": [
       "<img src=\"aqobserver.gif?0.06169837855513838>\" />"
      ],
      "text/plain": [
       "Plots.AnimatedGif(\"/Users/rlee18/.julia/v0.6/CMDPs/notebooks/aqobserver.gif\")"
      ]
     },
     "execution_count": 9,
     "metadata": {},
     "output_type": "execute_result"
    }
   ],
   "source": [
    "animate(observer; fps=4, ylim=(-42.0,-10.0))"
   ]
  },
  {
   "cell_type": "code",
   "execution_count": 10,
   "metadata": {},
   "outputs": [
    {
     "data": {
      "text/plain": [
       "5-element Array{Float64,1}:\n",
       " -37.0664\n",
       " -37.169 \n",
       " -38.0613\n",
       " -37.4216\n",
       " -33.4795"
      ]
     },
     "execution_count": 10,
     "metadata": {},
     "output_type": "execute_result"
    }
   ],
   "source": [
    "observer.ys[5]"
   ]
  },
  {
   "cell_type": "code",
   "execution_count": null,
   "metadata": {},
   "outputs": [],
   "source": []
  },
  {
   "cell_type": "code",
   "execution_count": null,
   "metadata": {},
   "outputs": [],
   "source": []
  }
 ],
 "metadata": {
  "kernelspec": {
   "display_name": "Julia 0.6.2",
   "language": "julia",
   "name": "julia-0.6"
  },
  "language_info": {
   "file_extension": ".jl",
   "mimetype": "application/julia",
   "name": "julia",
   "version": "0.6.2"
  }
 },
 "nbformat": 4,
 "nbformat_minor": 2
}
