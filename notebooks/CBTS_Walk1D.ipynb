{
 "cells": [
  {
   "cell_type": "code",
   "execution_count": 1,
   "metadata": {},
   "outputs": [
    {
     "data": {
      "text/plain": [
       "Plots.GRBackend()"
      ]
     },
     "execution_count": 1,
     "metadata": {},
     "output_type": "execute_result"
    }
   ],
   "source": [
    "using Revise\n",
    "#addprocs(4)\n",
    "using Walk1DMDP, CMDPs\n",
    "using POMDPs, POMDPToolbox, MCTS\n",
    "using DataFrames\n",
    "using Plots; gr()"
   ]
  },
  {
   "cell_type": "code",
   "execution_count": 2,
   "metadata": {},
   "outputs": [],
   "source": [
    "mdp = Walk1D()\n",
    "b = CBTSBandit(mdp)\n",
    "solver = ModularSolver(mdp, b)\n",
    "policy = solve(solver, mdp);"
   ]
  },
  {
   "cell_type": "raw",
   "metadata": {},
   "source": [
    "#s0 = initial_state(mdp, Base.GLOBAL_RNG)\n",
    "#a, info = action_info(policy, s0)\n",
    "#best_path = info[:best_path]\n",
    "#policy = BPTrackerPolicy(best_path)"
   ]
  },
  {
   "cell_type": "code",
   "execution_count": 3,
   "metadata": {},
   "outputs": [
    {
     "data": {
      "text/plain": [
       "Walk1DMDP.Walk1DState(0, 1.0)"
      ]
     },
     "execution_count": 3,
     "metadata": {},
     "output_type": "execute_result"
    }
   ],
   "source": [
    "s0 = initial_state(mdp, Base.GLOBAL_RNG)"
   ]
  },
  {
   "cell_type": "code",
   "execution_count": 4,
   "metadata": {},
   "outputs": [],
   "source": [
    "hr = HistoryRecorder(; rng=Base.GLOBAL_RNG)\n",
    "h = simulate(hr, mdp, policy, s0);"
   ]
  },
  {
   "cell_type": "code",
   "execution_count": 5,
   "metadata": {},
   "outputs": [
    {
     "data": {
      "image/svg+xml": [
       "<?xml version=\"1.0\" encoding=\"utf-8\"?>\n",
       "<svg xmlns=\"http://www.w3.org/2000/svg\" xmlns:xlink=\"http://www.w3.org/1999/xlink\" width=\"600\" height=\"400\" viewBox=\"0 0 600 400\">\n",
       "<defs>\n",
       "  <clipPath id=\"clip1100\">\n",
       "    <rect x=\"0\" y=\"0\" width=\"600\" height=\"400\"/>\n",
       "  </clipPath>\n",
       "</defs>\n",
       "<polygon clip-path=\"url(#clip1100)\" points=\"\n",
       "0,400 600,400 600,0 0,0 \n",
       "  \" fill=\"#ffffff\" fill-opacity=\"1\"/>\n",
       "<defs>\n",
       "  <clipPath id=\"clip1101\">\n",
       "    <rect x=\"120\" y=\"0\" width=\"421\" height=\"400\"/>\n",
       "  </clipPath>\n",
       "</defs>\n",
       "<polygon clip-path=\"url(#clip1100)\" points=\"\n",
       "44.0307,375.869 580.315,375.869 580.315,11.811 44.0307,11.811 \n",
       "  \" fill=\"#ffffff\" fill-opacity=\"1\"/>\n",
       "<defs>\n",
       "  <clipPath id=\"clip1102\">\n",
       "    <rect x=\"44\" y=\"11\" width=\"537\" height=\"365\"/>\n",
       "  </clipPath>\n",
       "</defs>\n",
       "<polyline clip-path=\"url(#clip1102)\" style=\"stroke:#000000; stroke-width:0.5; stroke-opacity:0.1; fill:none\" points=\"\n",
       "  69.5681,375.869 69.5681,11.811 \n",
       "  \"/>\n",
       "<polyline clip-path=\"url(#clip1102)\" style=\"stroke:#000000; stroke-width:0.5; stroke-opacity:0.1; fill:none\" points=\"\n",
       "  197.255,375.869 197.255,11.811 \n",
       "  \"/>\n",
       "<polyline clip-path=\"url(#clip1102)\" style=\"stroke:#000000; stroke-width:0.5; stroke-opacity:0.1; fill:none\" points=\"\n",
       "  324.942,375.869 324.942,11.811 \n",
       "  \"/>\n",
       "<polyline clip-path=\"url(#clip1102)\" style=\"stroke:#000000; stroke-width:0.5; stroke-opacity:0.1; fill:none\" points=\"\n",
       "  452.628,375.869 452.628,11.811 \n",
       "  \"/>\n",
       "<polyline clip-path=\"url(#clip1102)\" style=\"stroke:#000000; stroke-width:0.5; stroke-opacity:0.1; fill:none\" points=\"\n",
       "  580.315,375.869 580.315,11.811 \n",
       "  \"/>\n",
       "<polyline clip-path=\"url(#clip1102)\" style=\"stroke:#000000; stroke-width:0.5; stroke-opacity:0.1; fill:none\" points=\"\n",
       "  44.0307,359.321 580.315,359.321 \n",
       "  \"/>\n",
       "<polyline clip-path=\"url(#clip1102)\" style=\"stroke:#000000; stroke-width:0.5; stroke-opacity:0.1; fill:none\" points=\"\n",
       "  44.0307,276.58 580.315,276.58 \n",
       "  \"/>\n",
       "<polyline clip-path=\"url(#clip1102)\" style=\"stroke:#000000; stroke-width:0.5; stroke-opacity:0.1; fill:none\" points=\"\n",
       "  44.0307,193.84 580.315,193.84 \n",
       "  \"/>\n",
       "<polyline clip-path=\"url(#clip1102)\" style=\"stroke:#000000; stroke-width:0.5; stroke-opacity:0.1; fill:none\" points=\"\n",
       "  44.0307,111.099 580.315,111.099 \n",
       "  \"/>\n",
       "<polyline clip-path=\"url(#clip1102)\" style=\"stroke:#000000; stroke-width:0.5; stroke-opacity:0.1; fill:none\" points=\"\n",
       "  44.0307,28.3591 580.315,28.3591 \n",
       "  \"/>\n",
       "<polyline clip-path=\"url(#clip1100)\" style=\"stroke:#000000; stroke-width:1; stroke-opacity:1; fill:none\" points=\"\n",
       "  44.0307,375.869 580.315,375.869 \n",
       "  \"/>\n",
       "<polyline clip-path=\"url(#clip1100)\" style=\"stroke:#000000; stroke-width:1; stroke-opacity:1; fill:none\" points=\"\n",
       "  44.0307,375.869 44.0307,11.811 \n",
       "  \"/>\n",
       "<polyline clip-path=\"url(#clip1100)\" style=\"stroke:#000000; stroke-width:1; stroke-opacity:1; fill:none\" points=\"\n",
       "  69.5681,375.869 69.5681,370.408 \n",
       "  \"/>\n",
       "<polyline clip-path=\"url(#clip1100)\" style=\"stroke:#000000; stroke-width:1; stroke-opacity:1; fill:none\" points=\"\n",
       "  197.255,375.869 197.255,370.408 \n",
       "  \"/>\n",
       "<polyline clip-path=\"url(#clip1100)\" style=\"stroke:#000000; stroke-width:1; stroke-opacity:1; fill:none\" points=\"\n",
       "  324.942,375.869 324.942,370.408 \n",
       "  \"/>\n",
       "<polyline clip-path=\"url(#clip1100)\" style=\"stroke:#000000; stroke-width:1; stroke-opacity:1; fill:none\" points=\"\n",
       "  452.628,375.869 452.628,370.408 \n",
       "  \"/>\n",
       "<polyline clip-path=\"url(#clip1100)\" style=\"stroke:#000000; stroke-width:1; stroke-opacity:1; fill:none\" points=\"\n",
       "  580.315,375.869 580.315,370.408 \n",
       "  \"/>\n",
       "<polyline clip-path=\"url(#clip1100)\" style=\"stroke:#000000; stroke-width:1; stroke-opacity:1; fill:none\" points=\"\n",
       "  44.0307,359.321 52.075,359.321 \n",
       "  \"/>\n",
       "<polyline clip-path=\"url(#clip1100)\" style=\"stroke:#000000; stroke-width:1; stroke-opacity:1; fill:none\" points=\"\n",
       "  44.0307,276.58 52.075,276.58 \n",
       "  \"/>\n",
       "<polyline clip-path=\"url(#clip1100)\" style=\"stroke:#000000; stroke-width:1; stroke-opacity:1; fill:none\" points=\"\n",
       "  44.0307,193.84 52.075,193.84 \n",
       "  \"/>\n",
       "<polyline clip-path=\"url(#clip1100)\" style=\"stroke:#000000; stroke-width:1; stroke-opacity:1; fill:none\" points=\"\n",
       "  44.0307,111.099 52.075,111.099 \n",
       "  \"/>\n",
       "<polyline clip-path=\"url(#clip1100)\" style=\"stroke:#000000; stroke-width:1; stroke-opacity:1; fill:none\" points=\"\n",
       "  44.0307,28.3591 52.075,28.3591 \n",
       "  \"/>\n",
       "<g clip-path=\"url(#clip1100)\">\n",
       "<text style=\"fill:#000000; fill-opacity:1; font-family:Arial,Helvetica Neue,Helvetica,sans-serif; font-size:12; text-anchor:middle;\" transform=\"rotate(0, 69.5681, 389.669)\" x=\"69.5681\" y=\"389.669\">0</text>\n",
       "</g>\n",
       "<g clip-path=\"url(#clip1100)\">\n",
       "<text style=\"fill:#000000; fill-opacity:1; font-family:Arial,Helvetica Neue,Helvetica,sans-serif; font-size:12; text-anchor:middle;\" transform=\"rotate(0, 197.255, 389.669)\" x=\"197.255\" y=\"389.669\">5</text>\n",
       "</g>\n",
       "<g clip-path=\"url(#clip1100)\">\n",
       "<text style=\"fill:#000000; fill-opacity:1; font-family:Arial,Helvetica Neue,Helvetica,sans-serif; font-size:12; text-anchor:middle;\" transform=\"rotate(0, 324.942, 389.669)\" x=\"324.942\" y=\"389.669\">10</text>\n",
       "</g>\n",
       "<g clip-path=\"url(#clip1100)\">\n",
       "<text style=\"fill:#000000; fill-opacity:1; font-family:Arial,Helvetica Neue,Helvetica,sans-serif; font-size:12; text-anchor:middle;\" transform=\"rotate(0, 452.628, 389.669)\" x=\"452.628\" y=\"389.669\">15</text>\n",
       "</g>\n",
       "<g clip-path=\"url(#clip1100)\">\n",
       "<text style=\"fill:#000000; fill-opacity:1; font-family:Arial,Helvetica Neue,Helvetica,sans-serif; font-size:12; text-anchor:middle;\" transform=\"rotate(0, 580.315, 389.669)\" x=\"580.315\" y=\"389.669\">20</text>\n",
       "</g>\n",
       "<g clip-path=\"url(#clip1100)\">\n",
       "<text style=\"fill:#000000; fill-opacity:1; font-family:Arial,Helvetica Neue,Helvetica,sans-serif; font-size:12; text-anchor:end;\" transform=\"rotate(0, 38.0307, 363.821)\" x=\"38.0307\" y=\"363.821\">-10</text>\n",
       "</g>\n",
       "<g clip-path=\"url(#clip1100)\">\n",
       "<text style=\"fill:#000000; fill-opacity:1; font-family:Arial,Helvetica Neue,Helvetica,sans-serif; font-size:12; text-anchor:end;\" transform=\"rotate(0, 38.0307, 281.08)\" x=\"38.0307\" y=\"281.08\">-5</text>\n",
       "</g>\n",
       "<g clip-path=\"url(#clip1100)\">\n",
       "<text style=\"fill:#000000; fill-opacity:1; font-family:Arial,Helvetica Neue,Helvetica,sans-serif; font-size:12; text-anchor:end;\" transform=\"rotate(0, 38.0307, 198.34)\" x=\"38.0307\" y=\"198.34\">0</text>\n",
       "</g>\n",
       "<g clip-path=\"url(#clip1100)\">\n",
       "<text style=\"fill:#000000; fill-opacity:1; font-family:Arial,Helvetica Neue,Helvetica,sans-serif; font-size:12; text-anchor:end;\" transform=\"rotate(0, 38.0307, 115.599)\" x=\"38.0307\" y=\"115.599\">5</text>\n",
       "</g>\n",
       "<g clip-path=\"url(#clip1100)\">\n",
       "<text style=\"fill:#000000; fill-opacity:1; font-family:Arial,Helvetica Neue,Helvetica,sans-serif; font-size:12; text-anchor:end;\" transform=\"rotate(0, 38.0307, 32.8591)\" x=\"38.0307\" y=\"32.8591\">10</text>\n",
       "</g>\n",
       "<polyline clip-path=\"url(#clip1102)\" style=\"stroke:#000000; stroke-width:1; stroke-opacity:1; fill:none\" points=\"\n",
       "  69.5681,28.3591 580.315,28.3591 \n",
       "  \"/>\n",
       "<polyline clip-path=\"url(#clip1102)\" style=\"stroke:#000000; stroke-width:1; stroke-opacity:1; fill:none\" points=\"\n",
       "  69.5681,359.321 580.315,359.321 \n",
       "  \"/>\n",
       "<polyline clip-path=\"url(#clip1102)\" style=\"stroke:#0000ff; stroke-width:1; stroke-opacity:1; fill:none\" points=\"\n",
       "  69.5681,177.292 95.1054,155.884 120.643,167.769 146.18,159.251 171.717,130.874 197.255,131.357 222.792,79.3384 \n",
       "  \"/>\n",
       "<circle clip-path=\"url(#clip1102)\" style=\"fill:#000000; stroke:none; fill-opacity:1\" cx=\"222.792\" cy=\"79.3384\" r=\"4\"/>\n",
       "<circle clip-path=\"url(#clip1102)\" style=\"fill:#0000ff; stroke:none; fill-opacity:1\" cx=\"222.792\" cy=\"79.3384\" r=\"3\"/>\n",
       "<polygon clip-path=\"url(#clip1100)\" points=\"\n",
       "420.054,108.291 562.315,108.291 562.315,32.691 420.054,32.691 \n",
       "  \" fill=\"#ffffff\" fill-opacity=\"1\"/>\n",
       "<polyline clip-path=\"url(#clip1100)\" style=\"stroke:#000000; stroke-width:1; stroke-opacity:1; fill:none\" points=\"\n",
       "  420.054,108.291 562.315,108.291 562.315,32.691 420.054,32.691 420.054,108.291 \n",
       "  \"/>\n",
       "<polyline clip-path=\"url(#clip1100)\" style=\"stroke:#000000; stroke-width:1; stroke-opacity:1; fill:none\" points=\"\n",
       "  426.054,47.811 462.054,47.811 \n",
       "  \"/>\n",
       "<g clip-path=\"url(#clip1100)\">\n",
       "<text style=\"fill:#000000; fill-opacity:1; font-family:Arial,Helvetica Neue,Helvetica,sans-serif; font-size:12; text-anchor:start;\" transform=\"rotate(0, 468.054, 52.311)\" x=\"468.054\" y=\"52.311\">thresh+</text>\n",
       "</g>\n",
       "<polyline clip-path=\"url(#clip1100)\" style=\"stroke:#000000; stroke-width:1; stroke-opacity:1; fill:none\" points=\"\n",
       "  426.054,62.931 462.054,62.931 \n",
       "  \"/>\n",
       "<g clip-path=\"url(#clip1100)\">\n",
       "<text style=\"fill:#000000; fill-opacity:1; font-family:Arial,Helvetica Neue,Helvetica,sans-serif; font-size:12; text-anchor:start;\" transform=\"rotate(0, 468.054, 67.431)\" x=\"468.054\" y=\"67.431\">thresh-</text>\n",
       "</g>\n",
       "<polyline clip-path=\"url(#clip1100)\" style=\"stroke:#0000ff; stroke-width:1; stroke-opacity:1; fill:none\" points=\"\n",
       "  426.054,78.051 462.054,78.051 \n",
       "  \"/>\n",
       "<g clip-path=\"url(#clip1100)\">\n",
       "<text style=\"fill:#000000; fill-opacity:1; font-family:Arial,Helvetica Neue,Helvetica,sans-serif; font-size:12; text-anchor:start;\" transform=\"rotate(0, 468.054, 82.551)\" x=\"468.054\" y=\"82.551\">path</text>\n",
       "</g>\n",
       "<circle clip-path=\"url(#clip1100)\" style=\"fill:#000000; stroke:none; fill-opacity:1\" cx=\"447.054\" cy=\"93.171\" r=\"6\"/>\n",
       "<circle clip-path=\"url(#clip1100)\" style=\"fill:#0000ff; stroke:none; fill-opacity:1\" cx=\"447.054\" cy=\"93.171\" r=\"5\"/>\n",
       "<g clip-path=\"url(#clip1100)\">\n",
       "<text style=\"fill:#000000; fill-opacity:1; font-family:Arial,Helvetica Neue,Helvetica,sans-serif; font-size:12; text-anchor:start;\" transform=\"rotate(0, 468.054, 97.671)\" x=\"468.054\" y=\"97.671\">current position</text>\n",
       "</g>\n",
       "</svg>\n"
      ]
     },
     "execution_count": 5,
     "metadata": {},
     "output_type": "execute_result"
    }
   ],
   "source": [
    "plot(mdp, h)"
   ]
  },
  {
   "cell_type": "code",
   "execution_count": null,
   "metadata": {},
   "outputs": [],
   "source": []
  },
  {
   "cell_type": "code",
   "execution_count": null,
   "metadata": {},
   "outputs": [],
   "source": []
  }
 ],
 "metadata": {
  "kernelspec": {
   "display_name": "Julia 0.6.2",
   "language": "julia",
   "name": "julia-0.6"
  },
  "language_info": {
   "file_extension": ".jl",
   "mimetype": "application/julia",
   "name": "julia",
   "version": "0.6.2"
  }
 },
 "nbformat": 4,
 "nbformat_minor": 2
}
