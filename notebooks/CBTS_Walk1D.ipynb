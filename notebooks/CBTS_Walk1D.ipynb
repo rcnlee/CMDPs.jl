{
 "cells": [
  {
   "cell_type": "code",
   "execution_count": 1,
   "metadata": {},
   "outputs": [
    {
     "data": {
      "text/plain": [
       "Plots.GRBackend()"
      ]
     },
     "execution_count": 1,
     "metadata": {},
     "output_type": "execute_result"
    }
   ],
   "source": [
    "using Revise\n",
    "#addprocs(4)\n",
    "using Walk1DMDP, CMDPs\n",
    "using POMDPs, POMDPToolbox, MCTS\n",
    "using DataFrames\n",
    "using Plots; gr()"
   ]
  },
  {
   "cell_type": "raw",
   "metadata": {},
   "source": [
    "mdp = Walk1D()\n",
    "b = CBTSBandit(mdp; A_max=20, n_proposes=100, fit_qs=true)\n",
    "solver = ModularSolver(mdp, b; n_iterations=200)\n",
    "policy = solve(solver, mdp);"
   ]
  },
  {
   "cell_type": "raw",
   "metadata": {},
   "source": [
    "#s0 = initial_state(mdp, Base.GLOBAL_RNG)\n",
    "#a, info = action_info(policy, s0)\n",
    "#best_path = info[:best_path]\n",
    "#policy = BPTrackerPolicy(best_path)"
   ]
  },
  {
   "cell_type": "raw",
   "metadata": {},
   "source": [
    "s0 = initial_state(mdp, Base.GLOBAL_RNG)"
   ]
  },
  {
   "cell_type": "raw",
   "metadata": {},
   "source": [
    "hr = HistoryRecorder(; rng=Base.GLOBAL_RNG)\n",
    "h = simulate(hr, mdp, policy, s0);"
   ]
  },
  {
   "cell_type": "raw",
   "metadata": {},
   "source": [
    "plot(mdp, h)"
   ]
  },
  {
   "cell_type": "markdown",
   "metadata": {},
   "source": [
    "## CBTSObserver"
   ]
  },
  {
   "cell_type": "code",
   "execution_count": 7,
   "metadata": {},
   "outputs": [
    {
     "name": "stderr",
     "output_type": "stream",
     "text": [
      "WARNING: Method definition notify_observer!(Observers.Observer, Any) in module Observers at /Users/rlee18/.julia/v0.6/Observers/src/Observers.jl:8 overwritten at /Users/rlee18/.julia/v0.6/Observers/src/Observers.jl:8.\n"
     ]
    }
   ],
   "source": [
    "mdp = Walk1D()\n",
    "observer = AQObserver(1)\n",
    "b = CBTSBandit(mdp; A_max=20, n_proposes=100, fit_qs=true, observer=observer)\n",
    "solver = ModularSolver(mdp, b; n_iterations=50)\n",
    "policy = solve(solver, mdp);"
   ]
  },
  {
   "cell_type": "code",
   "execution_count": 8,
   "metadata": {},
   "outputs": [
    {
     "data": {
      "text/plain": [
       "(-0.6510531064599159, Dict{Symbol,Any}(Pair{Symbol,Any}(:tree_queries, 50),Pair{Symbol,Any}(:search_time_us, 0x000000000022583a),Pair{Symbol,Any}(:best_path, MCTS.BestPathTracker(Any[Walk1DMDP.Walk1DState(1, 0.614294)], Any[-0.0913206], -0.923108, Any[], Any[], 0.0, 1.0, 1.0))))"
      ]
     },
     "execution_count": 8,
     "metadata": {},
     "output_type": "execute_result"
    }
   ],
   "source": [
    "s0 = initial_state(mdp, Base.GLOBAL_RNG)\n",
    "a, info = action_info(policy, s0)"
   ]
  },
  {
   "cell_type": "code",
   "execution_count": 12,
   "metadata": {},
   "outputs": [
    {
     "data": {
      "image/svg+xml": [
       "<?xml version=\"1.0\" encoding=\"utf-8\"?>\n",
       "<svg xmlns=\"http://www.w3.org/2000/svg\" xmlns:xlink=\"http://www.w3.org/1999/xlink\" width=\"600\" height=\"400\" viewBox=\"0 0 600 400\">\n",
       "<defs>\n",
       "  <clipPath id=\"clip4400\">\n",
       "    <rect x=\"0\" y=\"0\" width=\"600\" height=\"400\"/>\n",
       "  </clipPath>\n",
       "</defs>\n",
       "<polygon clip-path=\"url(#clip4400)\" points=\"\n",
       "0,400 600,400 600,0 0,0 \n",
       "  \" fill=\"#ffffff\" fill-opacity=\"1\"/>\n",
       "<defs>\n",
       "  <clipPath id=\"clip4401\">\n",
       "    <rect x=\"120\" y=\"0\" width=\"421\" height=\"400\"/>\n",
       "  </clipPath>\n",
       "</defs>\n",
       "<polygon clip-path=\"url(#clip4400)\" points=\"\n",
       "59.7788,360.121 580.315,360.121 580.315,31.4961 59.7788,31.4961 \n",
       "  \" fill=\"#ffffff\" fill-opacity=\"1\"/>\n",
       "<defs>\n",
       "  <clipPath id=\"clip4402\">\n",
       "    <rect x=\"59\" y=\"31\" width=\"522\" height=\"330\"/>\n",
       "  </clipPath>\n",
       "</defs>\n",
       "<polyline clip-path=\"url(#clip4402)\" style=\"stroke:#000000; stroke-width:0.5; stroke-opacity:0.1; fill:none\" points=\"\n",
       "  117.924,360.121 117.924,31.4961 \n",
       "  \"/>\n",
       "<polyline clip-path=\"url(#clip4402)\" style=\"stroke:#000000; stroke-width:0.5; stroke-opacity:0.1; fill:none\" points=\"\n",
       "  187.911,360.121 187.911,31.4961 \n",
       "  \"/>\n",
       "<polyline clip-path=\"url(#clip4402)\" style=\"stroke:#000000; stroke-width:0.5; stroke-opacity:0.1; fill:none\" points=\"\n",
       "  257.897,360.121 257.897,31.4961 \n",
       "  \"/>\n",
       "<polyline clip-path=\"url(#clip4402)\" style=\"stroke:#000000; stroke-width:0.5; stroke-opacity:0.1; fill:none\" points=\"\n",
       "  327.884,360.121 327.884,31.4961 \n",
       "  \"/>\n",
       "<polyline clip-path=\"url(#clip4402)\" style=\"stroke:#000000; stroke-width:0.5; stroke-opacity:0.1; fill:none\" points=\"\n",
       "  397.871,360.121 397.871,31.4961 \n",
       "  \"/>\n",
       "<polyline clip-path=\"url(#clip4402)\" style=\"stroke:#000000; stroke-width:0.5; stroke-opacity:0.1; fill:none\" points=\"\n",
       "  467.857,360.121 467.857,31.4961 \n",
       "  \"/>\n",
       "<polyline clip-path=\"url(#clip4402)\" style=\"stroke:#000000; stroke-width:0.5; stroke-opacity:0.1; fill:none\" points=\"\n",
       "  537.844,360.121 537.844,31.4961 \n",
       "  \"/>\n",
       "<polyline clip-path=\"url(#clip4402)\" style=\"stroke:#000000; stroke-width:0.5; stroke-opacity:0.1; fill:none\" points=\"\n",
       "  59.7788,344.679 580.315,344.679 \n",
       "  \"/>\n",
       "<polyline clip-path=\"url(#clip4402)\" style=\"stroke:#000000; stroke-width:0.5; stroke-opacity:0.1; fill:none\" points=\"\n",
       "  59.7788,296.866 580.315,296.866 \n",
       "  \"/>\n",
       "<polyline clip-path=\"url(#clip4402)\" style=\"stroke:#000000; stroke-width:0.5; stroke-opacity:0.1; fill:none\" points=\"\n",
       "  59.7788,249.052 580.315,249.052 \n",
       "  \"/>\n",
       "<polyline clip-path=\"url(#clip4402)\" style=\"stroke:#000000; stroke-width:0.5; stroke-opacity:0.1; fill:none\" points=\"\n",
       "  59.7788,201.238 580.315,201.238 \n",
       "  \"/>\n",
       "<polyline clip-path=\"url(#clip4402)\" style=\"stroke:#000000; stroke-width:0.5; stroke-opacity:0.1; fill:none\" points=\"\n",
       "  59.7788,153.424 580.315,153.424 \n",
       "  \"/>\n",
       "<polyline clip-path=\"url(#clip4402)\" style=\"stroke:#000000; stroke-width:0.5; stroke-opacity:0.1; fill:none\" points=\"\n",
       "  59.7788,105.611 580.315,105.611 \n",
       "  \"/>\n",
       "<polyline clip-path=\"url(#clip4402)\" style=\"stroke:#000000; stroke-width:0.5; stroke-opacity:0.1; fill:none\" points=\"\n",
       "  59.7788,57.7968 580.315,57.7968 \n",
       "  \"/>\n",
       "<polyline clip-path=\"url(#clip4400)\" style=\"stroke:#000000; stroke-width:1; stroke-opacity:1; fill:none\" points=\"\n",
       "  59.7788,360.121 580.315,360.121 \n",
       "  \"/>\n",
       "<polyline clip-path=\"url(#clip4400)\" style=\"stroke:#000000; stroke-width:1; stroke-opacity:1; fill:none\" points=\"\n",
       "  59.7788,360.121 59.7788,31.4961 \n",
       "  \"/>\n",
       "<polyline clip-path=\"url(#clip4400)\" style=\"stroke:#000000; stroke-width:1; stroke-opacity:1; fill:none\" points=\"\n",
       "  117.924,360.121 117.924,355.191 \n",
       "  \"/>\n",
       "<polyline clip-path=\"url(#clip4400)\" style=\"stroke:#000000; stroke-width:1; stroke-opacity:1; fill:none\" points=\"\n",
       "  187.911,360.121 187.911,355.191 \n",
       "  \"/>\n",
       "<polyline clip-path=\"url(#clip4400)\" style=\"stroke:#000000; stroke-width:1; stroke-opacity:1; fill:none\" points=\"\n",
       "  257.897,360.121 257.897,355.191 \n",
       "  \"/>\n",
       "<polyline clip-path=\"url(#clip4400)\" style=\"stroke:#000000; stroke-width:1; stroke-opacity:1; fill:none\" points=\"\n",
       "  327.884,360.121 327.884,355.191 \n",
       "  \"/>\n",
       "<polyline clip-path=\"url(#clip4400)\" style=\"stroke:#000000; stroke-width:1; stroke-opacity:1; fill:none\" points=\"\n",
       "  397.871,360.121 397.871,355.191 \n",
       "  \"/>\n",
       "<polyline clip-path=\"url(#clip4400)\" style=\"stroke:#000000; stroke-width:1; stroke-opacity:1; fill:none\" points=\"\n",
       "  467.857,360.121 467.857,355.191 \n",
       "  \"/>\n",
       "<polyline clip-path=\"url(#clip4400)\" style=\"stroke:#000000; stroke-width:1; stroke-opacity:1; fill:none\" points=\"\n",
       "  537.844,360.121 537.844,355.191 \n",
       "  \"/>\n",
       "<polyline clip-path=\"url(#clip4400)\" style=\"stroke:#000000; stroke-width:1; stroke-opacity:1; fill:none\" points=\"\n",
       "  59.7788,344.679 67.5868,344.679 \n",
       "  \"/>\n",
       "<polyline clip-path=\"url(#clip4400)\" style=\"stroke:#000000; stroke-width:1; stroke-opacity:1; fill:none\" points=\"\n",
       "  59.7788,296.866 67.5868,296.866 \n",
       "  \"/>\n",
       "<polyline clip-path=\"url(#clip4400)\" style=\"stroke:#000000; stroke-width:1; stroke-opacity:1; fill:none\" points=\"\n",
       "  59.7788,249.052 67.5868,249.052 \n",
       "  \"/>\n",
       "<polyline clip-path=\"url(#clip4400)\" style=\"stroke:#000000; stroke-width:1; stroke-opacity:1; fill:none\" points=\"\n",
       "  59.7788,201.238 67.5868,201.238 \n",
       "  \"/>\n",
       "<polyline clip-path=\"url(#clip4400)\" style=\"stroke:#000000; stroke-width:1; stroke-opacity:1; fill:none\" points=\"\n",
       "  59.7788,153.424 67.5868,153.424 \n",
       "  \"/>\n",
       "<polyline clip-path=\"url(#clip4400)\" style=\"stroke:#000000; stroke-width:1; stroke-opacity:1; fill:none\" points=\"\n",
       "  59.7788,105.611 67.5868,105.611 \n",
       "  \"/>\n",
       "<polyline clip-path=\"url(#clip4400)\" style=\"stroke:#000000; stroke-width:1; stroke-opacity:1; fill:none\" points=\"\n",
       "  59.7788,57.7968 67.5868,57.7968 \n",
       "  \"/>\n",
       "<g clip-path=\"url(#clip4400)\">\n",
       "<text style=\"fill:#000000; fill-opacity:1; font-family:Arial,Helvetica Neue,Helvetica,sans-serif; font-size:12; text-anchor:middle;\" transform=\"rotate(0, 117.924, 373.921)\" x=\"117.924\" y=\"373.921\">-3</text>\n",
       "</g>\n",
       "<g clip-path=\"url(#clip4400)\">\n",
       "<text style=\"fill:#000000; fill-opacity:1; font-family:Arial,Helvetica Neue,Helvetica,sans-serif; font-size:12; text-anchor:middle;\" transform=\"rotate(0, 187.911, 373.921)\" x=\"187.911\" y=\"373.921\">-2</text>\n",
       "</g>\n",
       "<g clip-path=\"url(#clip4400)\">\n",
       "<text style=\"fill:#000000; fill-opacity:1; font-family:Arial,Helvetica Neue,Helvetica,sans-serif; font-size:12; text-anchor:middle;\" transform=\"rotate(0, 257.897, 373.921)\" x=\"257.897\" y=\"373.921\">-1</text>\n",
       "</g>\n",
       "<g clip-path=\"url(#clip4400)\">\n",
       "<text style=\"fill:#000000; fill-opacity:1; font-family:Arial,Helvetica Neue,Helvetica,sans-serif; font-size:12; text-anchor:middle;\" transform=\"rotate(0, 327.884, 373.921)\" x=\"327.884\" y=\"373.921\">0</text>\n",
       "</g>\n",
       "<g clip-path=\"url(#clip4400)\">\n",
       "<text style=\"fill:#000000; fill-opacity:1; font-family:Arial,Helvetica Neue,Helvetica,sans-serif; font-size:12; text-anchor:middle;\" transform=\"rotate(0, 397.871, 373.921)\" x=\"397.871\" y=\"373.921\">1</text>\n",
       "</g>\n",
       "<g clip-path=\"url(#clip4400)\">\n",
       "<text style=\"fill:#000000; fill-opacity:1; font-family:Arial,Helvetica Neue,Helvetica,sans-serif; font-size:12; text-anchor:middle;\" transform=\"rotate(0, 467.857, 373.921)\" x=\"467.857\" y=\"373.921\">2</text>\n",
       "</g>\n",
       "<g clip-path=\"url(#clip4400)\">\n",
       "<text style=\"fill:#000000; fill-opacity:1; font-family:Arial,Helvetica Neue,Helvetica,sans-serif; font-size:12; text-anchor:middle;\" transform=\"rotate(0, 537.844, 373.921)\" x=\"537.844\" y=\"373.921\">3</text>\n",
       "</g>\n",
       "<g clip-path=\"url(#clip4400)\">\n",
       "<text style=\"fill:#000000; fill-opacity:1; font-family:Arial,Helvetica Neue,Helvetica,sans-serif; font-size:12; text-anchor:end;\" transform=\"rotate(0, 53.7788, 349.179)\" x=\"53.7788\" y=\"349.179\">-41</text>\n",
       "</g>\n",
       "<g clip-path=\"url(#clip4400)\">\n",
       "<text style=\"fill:#000000; fill-opacity:1; font-family:Arial,Helvetica Neue,Helvetica,sans-serif; font-size:12; text-anchor:end;\" transform=\"rotate(0, 53.7788, 301.366)\" x=\"53.7788\" y=\"301.366\">-40</text>\n",
       "</g>\n",
       "<g clip-path=\"url(#clip4400)\">\n",
       "<text style=\"fill:#000000; fill-opacity:1; font-family:Arial,Helvetica Neue,Helvetica,sans-serif; font-size:12; text-anchor:end;\" transform=\"rotate(0, 53.7788, 253.552)\" x=\"53.7788\" y=\"253.552\">-39</text>\n",
       "</g>\n",
       "<g clip-path=\"url(#clip4400)\">\n",
       "<text style=\"fill:#000000; fill-opacity:1; font-family:Arial,Helvetica Neue,Helvetica,sans-serif; font-size:12; text-anchor:end;\" transform=\"rotate(0, 53.7788, 205.738)\" x=\"53.7788\" y=\"205.738\">-38</text>\n",
       "</g>\n",
       "<g clip-path=\"url(#clip4400)\">\n",
       "<text style=\"fill:#000000; fill-opacity:1; font-family:Arial,Helvetica Neue,Helvetica,sans-serif; font-size:12; text-anchor:end;\" transform=\"rotate(0, 53.7788, 157.924)\" x=\"53.7788\" y=\"157.924\">-37</text>\n",
       "</g>\n",
       "<g clip-path=\"url(#clip4400)\">\n",
       "<text style=\"fill:#000000; fill-opacity:1; font-family:Arial,Helvetica Neue,Helvetica,sans-serif; font-size:12; text-anchor:end;\" transform=\"rotate(0, 53.7788, 110.111)\" x=\"53.7788\" y=\"110.111\">-36</text>\n",
       "</g>\n",
       "<g clip-path=\"url(#clip4400)\">\n",
       "<text style=\"fill:#000000; fill-opacity:1; font-family:Arial,Helvetica Neue,Helvetica,sans-serif; font-size:12; text-anchor:end;\" transform=\"rotate(0, 53.7788, 62.2968)\" x=\"53.7788\" y=\"62.2968\">-35</text>\n",
       "</g>\n",
       "<g clip-path=\"url(#clip4400)\">\n",
       "<text style=\"fill:#000000; fill-opacity:1; font-family:Arial,Helvetica Neue,Helvetica,sans-serif; font-size:21; text-anchor:middle;\" transform=\"rotate(0, 320.047, 18)\" x=\"320.047\" y=\"18\">n=50</text>\n",
       "</g>\n",
       "<g clip-path=\"url(#clip4400)\">\n",
       "<text style=\"fill:#000000; fill-opacity:1; font-family:Arial,Helvetica Neue,Helvetica,sans-serif; font-size:16; text-anchor:middle;\" transform=\"rotate(0, 320.047, 397.6)\" x=\"320.047\" y=\"397.6\">action</text>\n",
       "</g>\n",
       "<g clip-path=\"url(#clip4400)\">\n",
       "<text style=\"fill:#000000; fill-opacity:1; font-family:Arial,Helvetica Neue,Helvetica,sans-serif; font-size:16; text-anchor:middle;\" transform=\"rotate(-90, 14.4, 195.808)\" x=\"14.4\" y=\"195.808\">q</text>\n",
       "</g>\n",
       "<circle clip-path=\"url(#clip4402)\" style=\"fill:#000000; stroke:none; fill-opacity:1\" cx=\"375.413\" cy=\"156.599\" r=\"4\"/>\n",
       "<circle clip-path=\"url(#clip4402)\" style=\"fill:#009af9; stroke:none; fill-opacity:1\" cx=\"375.413\" cy=\"156.599\" r=\"3\"/>\n",
       "<circle clip-path=\"url(#clip4402)\" style=\"fill:#000000; stroke:none; fill-opacity:1\" cx=\"85.2145\" cy=\"161.504\" r=\"4\"/>\n",
       "<circle clip-path=\"url(#clip4402)\" style=\"fill:#009af9; stroke:none; fill-opacity:1\" cx=\"85.2145\" cy=\"161.504\" r=\"3\"/>\n",
       "<circle clip-path=\"url(#clip4402)\" style=\"fill:#000000; stroke:none; fill-opacity:1\" cx=\"565.583\" cy=\"204.169\" r=\"4\"/>\n",
       "<circle clip-path=\"url(#clip4402)\" style=\"fill:#009af9; stroke:none; fill-opacity:1\" cx=\"565.583\" cy=\"204.169\" r=\"3\"/>\n",
       "<circle clip-path=\"url(#clip4402)\" style=\"fill:#000000; stroke:none; fill-opacity:1\" cx=\"228.691\" cy=\"173.581\" r=\"4\"/>\n",
       "<circle clip-path=\"url(#clip4402)\" style=\"fill:#009af9; stroke:none; fill-opacity:1\" cx=\"228.691\" cy=\"173.581\" r=\"3\"/>\n",
       "<circle clip-path=\"url(#clip4402)\" style=\"fill:#000000; stroke:none; fill-opacity:1\" cx=\"459.05\" cy=\"90.7659\" r=\"4\"/>\n",
       "<circle clip-path=\"url(#clip4402)\" style=\"fill:#009af9; stroke:none; fill-opacity:1\" cx=\"459.05\" cy=\"90.7659\" r=\"3\"/>\n",
       "<circle clip-path=\"url(#clip4402)\" style=\"fill:#000000; stroke:none; fill-opacity:1\" cx=\"301.576\" cy=\"55.9586\" r=\"4\"/>\n",
       "<circle clip-path=\"url(#clip4402)\" style=\"fill:#009af9; stroke:none; fill-opacity:1\" cx=\"301.576\" cy=\"55.9586\" r=\"3\"/>\n",
       "<circle clip-path=\"url(#clip4402)\" style=\"fill:#000000; stroke:none; fill-opacity:1\" cx=\"466.099\" cy=\"312.386\" r=\"4\"/>\n",
       "<circle clip-path=\"url(#clip4402)\" style=\"fill:#009af9; stroke:none; fill-opacity:1\" cx=\"466.099\" cy=\"312.386\" r=\"3\"/>\n",
       "<circle clip-path=\"url(#clip4402)\" style=\"fill:#000000; stroke:none; fill-opacity:1\" cx=\"177.987\" cy=\"350.82\" r=\"4\"/>\n",
       "<circle clip-path=\"url(#clip4402)\" style=\"fill:#009af9; stroke:none; fill-opacity:1\" cx=\"177.987\" cy=\"350.82\" r=\"3\"/>\n",
       "<circle clip-path=\"url(#clip4402)\" style=\"fill:#000000; stroke:none; fill-opacity:1\" cx=\"300.89\" cy=\"59.4909\" r=\"4\"/>\n",
       "<circle clip-path=\"url(#clip4402)\" style=\"fill:#009af9; stroke:none; fill-opacity:1\" cx=\"300.89\" cy=\"59.4909\" r=\"3\"/>\n",
       "<circle clip-path=\"url(#clip4402)\" style=\"fill:#000000; stroke:none; fill-opacity:1\" cx=\"299.745\" cy=\"67.8292\" r=\"4\"/>\n",
       "<circle clip-path=\"url(#clip4402)\" style=\"fill:#009af9; stroke:none; fill-opacity:1\" cx=\"299.745\" cy=\"67.8292\" r=\"3\"/>\n",
       "<circle clip-path=\"url(#clip4402)\" style=\"fill:#000000; stroke:none; fill-opacity:1\" cx=\"301.786\" cy=\"82.2612\" r=\"4\"/>\n",
       "<circle clip-path=\"url(#clip4402)\" style=\"fill:#009af9; stroke:none; fill-opacity:1\" cx=\"301.786\" cy=\"82.2612\" r=\"3\"/>\n",
       "<circle clip-path=\"url(#clip4402)\" style=\"fill:#000000; stroke:none; fill-opacity:1\" cx=\"299.172\" cy=\"215.365\" r=\"4\"/>\n",
       "<circle clip-path=\"url(#clip4402)\" style=\"fill:#009af9; stroke:none; fill-opacity:1\" cx=\"299.172\" cy=\"215.365\" r=\"3\"/>\n",
       "<circle clip-path=\"url(#clip4402)\" style=\"fill:#000000; stroke:none; fill-opacity:1\" cx=\"303.967\" cy=\"268.447\" r=\"4\"/>\n",
       "<circle clip-path=\"url(#clip4402)\" style=\"fill:#009af9; stroke:none; fill-opacity:1\" cx=\"303.967\" cy=\"268.447\" r=\"3\"/>\n",
       "<circle clip-path=\"url(#clip4402)\" style=\"fill:#000000; stroke:none; fill-opacity:1\" cx=\"404.995\" cy=\"276.095\" r=\"4\"/>\n",
       "<circle clip-path=\"url(#clip4402)\" style=\"fill:#009af9; stroke:none; fill-opacity:1\" cx=\"404.995\" cy=\"276.095\" r=\"3\"/>\n",
       "<circle clip-path=\"url(#clip4402)\" style=\"fill:#000000; stroke:none; fill-opacity:1\" cx=\"282.319\" cy=\"40.7968\" r=\"4\"/>\n",
       "<circle clip-path=\"url(#clip4402)\" style=\"fill:#009af9; stroke:none; fill-opacity:1\" cx=\"282.319\" cy=\"40.7968\" r=\"3\"/>\n",
       "<circle clip-path=\"url(#clip4402)\" style=\"fill:#000000; stroke:none; fill-opacity:1\" cx=\"274.76\" cy=\"117.666\" r=\"4\"/>\n",
       "<circle clip-path=\"url(#clip4402)\" style=\"fill:#009af9; stroke:none; fill-opacity:1\" cx=\"274.76\" cy=\"117.666\" r=\"3\"/>\n",
       "<circle clip-path=\"url(#clip4402)\" style=\"fill:#000000; stroke:none; fill-opacity:1\" cx=\"281.843\" cy=\"118.466\" r=\"4\"/>\n",
       "<circle clip-path=\"url(#clip4402)\" style=\"fill:#009af9; stroke:none; fill-opacity:1\" cx=\"281.843\" cy=\"118.466\" r=\"3\"/>\n",
       "<circle clip-path=\"url(#clip4402)\" style=\"fill:#000000; stroke:none; fill-opacity:1\" cx=\"287.816\" cy=\"111.179\" r=\"4\"/>\n",
       "<circle clip-path=\"url(#clip4402)\" style=\"fill:#009af9; stroke:none; fill-opacity:1\" cx=\"287.816\" cy=\"111.179\" r=\"3\"/>\n",
       "<circle clip-path=\"url(#clip4402)\" style=\"fill:#000000; stroke:none; fill-opacity:1\" cx=\"74.5109\" cy=\"166.533\" r=\"4\"/>\n",
       "<circle clip-path=\"url(#clip4402)\" style=\"fill:#009af9; stroke:none; fill-opacity:1\" cx=\"74.5109\" cy=\"166.533\" r=\"3\"/>\n",
       "<circle clip-path=\"url(#clip4402)\" style=\"fill:#000000; stroke:none; fill-opacity:1\" cx=\"293.009\" cy=\"70.1882\" r=\"4\"/>\n",
       "<circle clip-path=\"url(#clip4402)\" style=\"fill:#009af9; stroke:none; fill-opacity:1\" cx=\"293.009\" cy=\"70.1882\" r=\"3\"/>\n",
       "<polygon clip-path=\"url(#clip4400)\" points=\"\n",
       "489.608,82.6161 562.315,82.6161 562.315,52.3761 489.608,52.3761 \n",
       "  \" fill=\"#ffffff\" fill-opacity=\"1\"/>\n",
       "<polyline clip-path=\"url(#clip4400)\" style=\"stroke:#000000; stroke-width:1; stroke-opacity:1; fill:none\" points=\"\n",
       "  489.608,82.6161 562.315,82.6161 562.315,52.3761 489.608,52.3761 489.608,82.6161 \n",
       "  \"/>\n",
       "<circle clip-path=\"url(#clip4400)\" style=\"fill:#000000; stroke:none; fill-opacity:1\" cx=\"516.608\" cy=\"67.4961\" r=\"6\"/>\n",
       "<circle clip-path=\"url(#clip4400)\" style=\"fill:#009af9; stroke:none; fill-opacity:1\" cx=\"516.608\" cy=\"67.4961\" r=\"5\"/>\n",
       "<g clip-path=\"url(#clip4400)\">\n",
       "<text style=\"fill:#000000; fill-opacity:1; font-family:Arial,Helvetica Neue,Helvetica,sans-serif; font-size:12; text-anchor:start;\" transform=\"rotate(0, 537.608, 71.9961)\" x=\"537.608\" y=\"71.9961\">y1</text>\n",
       "</g>\n",
       "</svg>\n"
      ]
     },
     "execution_count": 12,
     "metadata": {},
     "output_type": "execute_result"
    }
   ],
   "source": [
    "plot(observer, 50)"
   ]
  },
  {
   "cell_type": "code",
   "execution_count": 10,
   "metadata": {},
   "outputs": [
    {
     "name": "stderr",
     "output_type": "stream",
     "text": [
      "\u001b[1m\u001b[36mINFO: \u001b[39m\u001b[22m\u001b[36mSaved animation to /Users/rlee18/.julia/v0.6/CMDPs/notebooks/aqobserver.gif\n",
      "\u001b[39m"
     ]
    },
    {
     "data": {
      "text/html": [
       "<img src=\"aqobserver.gif?0.9516535598090288>\" />"
      ],
      "text/plain": [
       "Plots.AnimatedGif(\"/Users/rlee18/.julia/v0.6/CMDPs/notebooks/aqobserver.gif\")"
      ]
     },
     "execution_count": 10,
     "metadata": {},
     "output_type": "execute_result"
    }
   ],
   "source": [
    "animate(observer; fps=4)"
   ]
  },
  {
   "cell_type": "code",
   "execution_count": 11,
   "metadata": {},
   "outputs": [
    {
     "data": {
      "text/plain": [
       "5-element Array{Float64,1}:\n",
       " -37.0664\n",
       " -37.169 \n",
       " -38.0613\n",
       " -37.4216\n",
       " -33.4795"
      ]
     },
     "execution_count": 11,
     "metadata": {},
     "output_type": "execute_result"
    }
   ],
   "source": [
    "observer.ys[5]"
   ]
  },
  {
   "cell_type": "code",
   "execution_count": null,
   "metadata": {},
   "outputs": [],
   "source": []
  },
  {
   "cell_type": "code",
   "execution_count": null,
   "metadata": {},
   "outputs": [],
   "source": []
  }
 ],
 "metadata": {
  "kernelspec": {
   "display_name": "Julia 0.6.2",
   "language": "julia",
   "name": "julia-0.6"
  },
  "language_info": {
   "file_extension": ".jl",
   "mimetype": "application/julia",
   "name": "julia",
   "version": "0.6.2"
  }
 },
 "nbformat": 4,
 "nbformat_minor": 2
}
