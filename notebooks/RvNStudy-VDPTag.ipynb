{
 "cells": [
  {
   "cell_type": "code",
   "execution_count": 1,
   "metadata": {},
   "outputs": [
    {
     "data": {
      "text/plain": [
       "Plots.GRBackend()"
      ]
     },
     "execution_count": 1,
     "metadata": {},
     "output_type": "execute_result"
    }
   ],
   "source": [
    "#using Revise\n",
    "addprocs(4)\n",
    "using VDPTag2, CMDPs\n",
    "using POMDPs, POMDPToolbox, MCTS\n",
    "using DataFrames\n",
    "using Plots; gr()"
   ]
  },
  {
   "cell_type": "code",
   "execution_count": 2,
   "metadata": {},
   "outputs": [],
   "source": [
    "mdp = VDPTagMDP()\n",
    "b = DPWBandit(mdp)\n",
    "solver = ModularSolver(mdp, b)\n",
    "policy = solve(solver, mdp);"
   ]
  },
  {
   "cell_type": "raw",
   "metadata": {},
   "source": [
    "#s0 = initial_state(mdp, Base.GLOBAL_RNG)\n",
    "#a, info = action_info(policy, s0)\n",
    "#best_path = info[:best_path]\n",
    "#policy = BPTrackerPolicy(best_path)"
   ]
  },
  {
   "cell_type": "raw",
   "metadata": {},
   "source": [
    "s0 = initial_state(mdp, Base.GLOBAL_RNG)"
   ]
  },
  {
   "cell_type": "raw",
   "metadata": {},
   "source": [
    "hr = HistoryRecorder(; max_steps=30, rng=Base.GLOBAL_RNG)\n",
    "h = simulate(hr, mdp, policy, s0);"
   ]
  },
  {
   "cell_type": "raw",
   "metadata": {},
   "source": [
    "plot(mdp, h)"
   ]
  },
  {
   "cell_type": "raw",
   "metadata": {},
   "source": [
    "anim = @animate for i in 1:n_steps(h)\n",
    "    plot(mdp, view(h, 1:i))\n",
    "end\n",
    "gif(anim, \"./vdptag2.gif\"; fps=5)"
   ]
  },
  {
   "cell_type": "code",
   "execution_count": 3,
   "metadata": {},
   "outputs": [],
   "source": [
    "## Study"
   ]
  },
  {
   "cell_type": "code",
   "execution_count": 4,
   "metadata": {},
   "outputs": [
    {
     "data": {
      "text/plain": [
       "CMDPs.RewardvsN\n",
       "  mdp: VDPTag2.VDPTagMDP{Void}\n",
       "  bandits: Array{DataType}((1,))\n",
       "  n_seeds: Int64 500\n",
       "  n_iters: Array{Int64}((8,)) [10, 50, 100, 200, 500, 1000, 1500, 2000]\n",
       "  max_steps: Int64 10\n"
      ]
     },
     "execution_count": 4,
     "metadata": {},
     "output_type": "execute_result"
    }
   ],
   "source": [
    "study = RewardvsN(VDPTagMDP)"
   ]
  },
  {
   "cell_type": "code",
   "execution_count": 5,
   "metadata": {},
   "outputs": [
    {
     "data": {
      "text/plain": [
       "CMDPs.RewardvsNResult(\"VDPTag\", 4000×4 DataFrames.DataFrame\n",
       "│ Row  │ alg            │ seed │ n_iters │ r_total │\n",
       "├──────┼────────────────┼──────┼─────────┼─────────┤\n",
       "│ 1    │ MCTS.DPWBandit │ 1    │ 10      │ -10.0   │\n",
       "│ 2    │ MCTS.DPWBandit │ 2    │ 10      │ -10.0   │\n",
       "│ 3    │ MCTS.DPWBandit │ 3    │ 10      │ -10.0   │\n",
       "│ 4    │ MCTS.DPWBandit │ 4    │ 10      │ -10.0   │\n",
       "│ 5    │ MCTS.DPWBandit │ 5    │ 10      │ -10.0   │\n",
       "│ 6    │ MCTS.DPWBandit │ 6    │ 10      │ -10.0   │\n",
       "│ 7    │ MCTS.DPWBandit │ 7    │ 10      │ -10.0   │\n",
       "│ 8    │ MCTS.DPWBandit │ 8    │ 10      │ -10.0   │\n",
       "│ 9    │ MCTS.DPWBandit │ 9    │ 10      │ -10.0   │\n",
       "│ 10   │ MCTS.DPWBandit │ 10   │ 10      │ -10.0   │\n",
       "│ 11   │ MCTS.DPWBandit │ 11   │ 10      │ -10.0   │\n",
       "⋮\n",
       "│ 3989 │ MCTS.DPWBandit │ 489  │ 2000    │ 97.0    │\n",
       "│ 3990 │ MCTS.DPWBandit │ 490  │ 2000    │ 96.0    │\n",
       "│ 3991 │ MCTS.DPWBandit │ 491  │ 2000    │ 95.0    │\n",
       "│ 3992 │ MCTS.DPWBandit │ 492  │ 2000    │ 96.0    │\n",
       "│ 3993 │ MCTS.DPWBandit │ 493  │ 2000    │ 95.0    │\n",
       "│ 3994 │ MCTS.DPWBandit │ 494  │ 2000    │ 96.0    │\n",
       "│ 3995 │ MCTS.DPWBandit │ 495  │ 2000    │ 95.0    │\n",
       "│ 3996 │ MCTS.DPWBandit │ 496  │ 2000    │ -10.0   │\n",
       "│ 3997 │ MCTS.DPWBandit │ 497  │ 2000    │ 95.0    │\n",
       "│ 3998 │ MCTS.DPWBandit │ 498  │ 2000    │ 96.0    │\n",
       "│ 3999 │ MCTS.DPWBandit │ 499  │ 2000    │ 94.0    │\n",
       "│ 4000 │ MCTS.DPWBandit │ 500  │ 2000    │ 97.0    │)"
      ]
     },
     "execution_count": 5,
     "metadata": {},
     "output_type": "execute_result"
    }
   ],
   "source": [
    "result = run_study(study)"
   ]
  },
  {
   "cell_type": "code",
   "execution_count": 6,
   "metadata": {},
   "outputs": [
    {
     "data": {
      "image/svg+xml": [
       "<?xml version=\"1.0\" encoding=\"utf-8\"?>\n",
       "<svg xmlns=\"http://www.w3.org/2000/svg\" xmlns:xlink=\"http://www.w3.org/1999/xlink\" width=\"600\" height=\"400\" viewBox=\"0 0 600 400\">\n",
       "<defs>\n",
       "  <clipPath id=\"clip7200\">\n",
       "    <rect x=\"0\" y=\"0\" width=\"600\" height=\"400\"/>\n",
       "  </clipPath>\n",
       "</defs>\n",
       "<polygon clip-path=\"url(#clip7200)\" points=\"\n",
       "0,400 600,400 600,0 0,0 \n",
       "  \" fill=\"#ffffff\" fill-opacity=\"1\"/>\n",
       "<defs>\n",
       "  <clipPath id=\"clip7201\">\n",
       "    <rect x=\"120\" y=\"0\" width=\"421\" height=\"400\"/>\n",
       "  </clipPath>\n",
       "</defs>\n",
       "<polygon clip-path=\"url(#clip7200)\" points=\"\n",
       "52.7512,360.121 580.315,360.121 580.315,31.4961 52.7512,31.4961 \n",
       "  \" fill=\"#ffffff\" fill-opacity=\"1\"/>\n",
       "<defs>\n",
       "  <clipPath id=\"clip7202\">\n",
       "    <rect x=\"52\" y=\"31\" width=\"529\" height=\"330\"/>\n",
       "  </clipPath>\n",
       "</defs>\n",
       "<polyline clip-path=\"url(#clip7202)\" style=\"stroke:#000000; stroke-width:0.5; stroke-opacity:0.1; fill:none\" points=\"\n",
       "  65.1813,360.121 65.1813,31.4961 \n",
       "  \"/>\n",
       "<polyline clip-path=\"url(#clip7202)\" style=\"stroke:#000000; stroke-width:0.5; stroke-opacity:0.1; fill:none\" points=\"\n",
       "  190.232,360.121 190.232,31.4961 \n",
       "  \"/>\n",
       "<polyline clip-path=\"url(#clip7202)\" style=\"stroke:#000000; stroke-width:0.5; stroke-opacity:0.1; fill:none\" points=\"\n",
       "  315.283,360.121 315.283,31.4961 \n",
       "  \"/>\n",
       "<polyline clip-path=\"url(#clip7202)\" style=\"stroke:#000000; stroke-width:0.5; stroke-opacity:0.1; fill:none\" points=\"\n",
       "  440.333,360.121 440.333,31.4961 \n",
       "  \"/>\n",
       "<polyline clip-path=\"url(#clip7202)\" style=\"stroke:#000000; stroke-width:0.5; stroke-opacity:0.1; fill:none\" points=\"\n",
       "  565.384,360.121 565.384,31.4961 \n",
       "  \"/>\n",
       "<polyline clip-path=\"url(#clip7202)\" style=\"stroke:#000000; stroke-width:0.5; stroke-opacity:0.1; fill:none\" points=\"\n",
       "  52.7512,321.734 580.315,321.734 \n",
       "  \"/>\n",
       "<polyline clip-path=\"url(#clip7202)\" style=\"stroke:#000000; stroke-width:0.5; stroke-opacity:0.1; fill:none\" points=\"\n",
       "  52.7512,250.972 580.315,250.972 \n",
       "  \"/>\n",
       "<polyline clip-path=\"url(#clip7202)\" style=\"stroke:#000000; stroke-width:0.5; stroke-opacity:0.1; fill:none\" points=\"\n",
       "  52.7512,180.211 580.315,180.211 \n",
       "  \"/>\n",
       "<polyline clip-path=\"url(#clip7202)\" style=\"stroke:#000000; stroke-width:0.5; stroke-opacity:0.1; fill:none\" points=\"\n",
       "  52.7512,109.449 580.315,109.449 \n",
       "  \"/>\n",
       "<polyline clip-path=\"url(#clip7202)\" style=\"stroke:#000000; stroke-width:0.5; stroke-opacity:0.1; fill:none\" points=\"\n",
       "  52.7512,38.6876 580.315,38.6876 \n",
       "  \"/>\n",
       "<polyline clip-path=\"url(#clip7200)\" style=\"stroke:#000000; stroke-width:1; stroke-opacity:1; fill:none\" points=\"\n",
       "  52.7512,360.121 580.315,360.121 \n",
       "  \"/>\n",
       "<polyline clip-path=\"url(#clip7200)\" style=\"stroke:#000000; stroke-width:1; stroke-opacity:1; fill:none\" points=\"\n",
       "  52.7512,360.121 52.7512,31.4961 \n",
       "  \"/>\n",
       "<polyline clip-path=\"url(#clip7200)\" style=\"stroke:#000000; stroke-width:1; stroke-opacity:1; fill:none\" points=\"\n",
       "  65.1813,360.121 65.1813,355.191 \n",
       "  \"/>\n",
       "<polyline clip-path=\"url(#clip7200)\" style=\"stroke:#000000; stroke-width:1; stroke-opacity:1; fill:none\" points=\"\n",
       "  190.232,360.121 190.232,355.191 \n",
       "  \"/>\n",
       "<polyline clip-path=\"url(#clip7200)\" style=\"stroke:#000000; stroke-width:1; stroke-opacity:1; fill:none\" points=\"\n",
       "  315.283,360.121 315.283,355.191 \n",
       "  \"/>\n",
       "<polyline clip-path=\"url(#clip7200)\" style=\"stroke:#000000; stroke-width:1; stroke-opacity:1; fill:none\" points=\"\n",
       "  440.333,360.121 440.333,355.191 \n",
       "  \"/>\n",
       "<polyline clip-path=\"url(#clip7200)\" style=\"stroke:#000000; stroke-width:1; stroke-opacity:1; fill:none\" points=\"\n",
       "  565.384,360.121 565.384,355.191 \n",
       "  \"/>\n",
       "<polyline clip-path=\"url(#clip7200)\" style=\"stroke:#000000; stroke-width:1; stroke-opacity:1; fill:none\" points=\"\n",
       "  52.7512,321.734 60.6647,321.734 \n",
       "  \"/>\n",
       "<polyline clip-path=\"url(#clip7200)\" style=\"stroke:#000000; stroke-width:1; stroke-opacity:1; fill:none\" points=\"\n",
       "  52.7512,250.972 60.6647,250.972 \n",
       "  \"/>\n",
       "<polyline clip-path=\"url(#clip7200)\" style=\"stroke:#000000; stroke-width:1; stroke-opacity:1; fill:none\" points=\"\n",
       "  52.7512,180.211 60.6647,180.211 \n",
       "  \"/>\n",
       "<polyline clip-path=\"url(#clip7200)\" style=\"stroke:#000000; stroke-width:1; stroke-opacity:1; fill:none\" points=\"\n",
       "  52.7512,109.449 60.6647,109.449 \n",
       "  \"/>\n",
       "<polyline clip-path=\"url(#clip7200)\" style=\"stroke:#000000; stroke-width:1; stroke-opacity:1; fill:none\" points=\"\n",
       "  52.7512,38.6876 60.6647,38.6876 \n",
       "  \"/>\n",
       "<g clip-path=\"url(#clip7200)\">\n",
       "<text style=\"fill:#000000; fill-opacity:1; font-family:Arial,Helvetica Neue,Helvetica,sans-serif; font-size:12; text-anchor:middle;\" transform=\"rotate(0, 65.1813, 373.921)\" x=\"65.1813\" y=\"373.921\">0</text>\n",
       "</g>\n",
       "<g clip-path=\"url(#clip7200)\">\n",
       "<text style=\"fill:#000000; fill-opacity:1; font-family:Arial,Helvetica Neue,Helvetica,sans-serif; font-size:12; text-anchor:middle;\" transform=\"rotate(0, 190.232, 373.921)\" x=\"190.232\" y=\"373.921\">500</text>\n",
       "</g>\n",
       "<g clip-path=\"url(#clip7200)\">\n",
       "<text style=\"fill:#000000; fill-opacity:1; font-family:Arial,Helvetica Neue,Helvetica,sans-serif; font-size:12; text-anchor:middle;\" transform=\"rotate(0, 315.283, 373.921)\" x=\"315.283\" y=\"373.921\">1000</text>\n",
       "</g>\n",
       "<g clip-path=\"url(#clip7200)\">\n",
       "<text style=\"fill:#000000; fill-opacity:1; font-family:Arial,Helvetica Neue,Helvetica,sans-serif; font-size:12; text-anchor:middle;\" transform=\"rotate(0, 440.333, 373.921)\" x=\"440.333\" y=\"373.921\">1500</text>\n",
       "</g>\n",
       "<g clip-path=\"url(#clip7200)\">\n",
       "<text style=\"fill:#000000; fill-opacity:1; font-family:Arial,Helvetica Neue,Helvetica,sans-serif; font-size:12; text-anchor:middle;\" transform=\"rotate(0, 565.384, 373.921)\" x=\"565.384\" y=\"373.921\">2000</text>\n",
       "</g>\n",
       "<g clip-path=\"url(#clip7200)\">\n",
       "<text style=\"fill:#000000; fill-opacity:1; font-family:Arial,Helvetica Neue,Helvetica,sans-serif; font-size:12; text-anchor:end;\" transform=\"rotate(0, 46.7512, 326.234)\" x=\"46.7512\" y=\"326.234\">0</text>\n",
       "</g>\n",
       "<g clip-path=\"url(#clip7200)\">\n",
       "<text style=\"fill:#000000; fill-opacity:1; font-family:Arial,Helvetica Neue,Helvetica,sans-serif; font-size:12; text-anchor:end;\" transform=\"rotate(0, 46.7512, 255.472)\" x=\"46.7512\" y=\"255.472\">20</text>\n",
       "</g>\n",
       "<g clip-path=\"url(#clip7200)\">\n",
       "<text style=\"fill:#000000; fill-opacity:1; font-family:Arial,Helvetica Neue,Helvetica,sans-serif; font-size:12; text-anchor:end;\" transform=\"rotate(0, 46.7512, 184.711)\" x=\"46.7512\" y=\"184.711\">40</text>\n",
       "</g>\n",
       "<g clip-path=\"url(#clip7200)\">\n",
       "<text style=\"fill:#000000; fill-opacity:1; font-family:Arial,Helvetica Neue,Helvetica,sans-serif; font-size:12; text-anchor:end;\" transform=\"rotate(0, 46.7512, 113.949)\" x=\"46.7512\" y=\"113.949\">60</text>\n",
       "</g>\n",
       "<g clip-path=\"url(#clip7200)\">\n",
       "<text style=\"fill:#000000; fill-opacity:1; font-family:Arial,Helvetica Neue,Helvetica,sans-serif; font-size:12; text-anchor:end;\" transform=\"rotate(0, 46.7512, 43.1876)\" x=\"46.7512\" y=\"43.1876\">80</text>\n",
       "</g>\n",
       "<g clip-path=\"url(#clip7200)\">\n",
       "<text style=\"fill:#000000; fill-opacity:1; font-family:Arial,Helvetica Neue,Helvetica,sans-serif; font-size:21; text-anchor:middle;\" transform=\"rotate(0, 316.533, 18)\" x=\"316.533\" y=\"18\">VDPTag</text>\n",
       "</g>\n",
       "<g clip-path=\"url(#clip7200)\">\n",
       "<text style=\"fill:#000000; fill-opacity:1; font-family:Arial,Helvetica Neue,Helvetica,sans-serif; font-size:16; text-anchor:middle;\" transform=\"rotate(0, 316.533, 397.6)\" x=\"316.533\" y=\"397.6\">number of iterations</text>\n",
       "</g>\n",
       "<g clip-path=\"url(#clip7200)\">\n",
       "<text style=\"fill:#000000; fill-opacity:1; font-family:Arial,Helvetica Neue,Helvetica,sans-serif; font-size:16; text-anchor:middle;\" transform=\"rotate(-90, 14.4, 195.808)\" x=\"14.4\" y=\"195.808\">reward</text>\n",
       "</g>\n",
       "<polyline clip-path=\"url(#clip7202)\" style=\"stroke:#009af9; stroke-width:1; stroke-opacity:1; fill:none\" points=\"\n",
       "  67.6823,348.304 77.6863,304.531 90.1914,260.419 115.202,190.301 190.232,89.1264 315.283,73.9551 440.333,51.6935 565.384,46.995 \n",
       "  \"/>\n",
       "<polyline clip-path=\"url(#clip7202)\" style=\"stroke:#009af9; stroke-width:1; stroke-opacity:1; fill:none\" points=\"\n",
       "  67.6823,350.82 67.6823,345.789 \n",
       "  \"/>\n",
       "<polyline clip-path=\"url(#clip7202)\" style=\"stroke:#009af9; stroke-width:1; stroke-opacity:1; fill:none\" points=\"\n",
       "  77.6863,310.272 77.6863,298.791 \n",
       "  \"/>\n",
       "<polyline clip-path=\"url(#clip7202)\" style=\"stroke:#009af9; stroke-width:1; stroke-opacity:1; fill:none\" points=\"\n",
       "  90.1914,267.648 90.1914,253.19 \n",
       "  \"/>\n",
       "<polyline clip-path=\"url(#clip7202)\" style=\"stroke:#009af9; stroke-width:1; stroke-opacity:1; fill:none\" points=\"\n",
       "  115.202,198.493 115.202,182.109 \n",
       "  \"/>\n",
       "<polyline clip-path=\"url(#clip7202)\" style=\"stroke:#009af9; stroke-width:1; stroke-opacity:1; fill:none\" points=\"\n",
       "  190.232,96.5005 190.232,81.7522 \n",
       "  \"/>\n",
       "<polyline clip-path=\"url(#clip7202)\" style=\"stroke:#009af9; stroke-width:1; stroke-opacity:1; fill:none\" points=\"\n",
       "  315.283,80.9658 315.283,66.9444 \n",
       "  \"/>\n",
       "<polyline clip-path=\"url(#clip7202)\" style=\"stroke:#009af9; stroke-width:1; stroke-opacity:1; fill:none\" points=\"\n",
       "  440.333,58.0608 440.333,45.3262 \n",
       "  \"/>\n",
       "<polyline clip-path=\"url(#clip7202)\" style=\"stroke:#009af9; stroke-width:1; stroke-opacity:1; fill:none\" points=\"\n",
       "  565.384,53.1932 565.384,40.7968 \n",
       "  \"/>\n",
       "<line clip-path=\"url(#clip7202)\" x1=\"72.6823\" y1=\"350.82\" x2=\"62.6823\" y2=\"350.82\" style=\"stroke:#000000; stroke-opacity:1\"/>\n",
       "<line clip-path=\"url(#clip7202)\" x1=\"72.6823\" y1=\"345.789\" x2=\"62.6823\" y2=\"345.789\" style=\"stroke:#000000; stroke-opacity:1\"/>\n",
       "<line clip-path=\"url(#clip7202)\" x1=\"82.6863\" y1=\"310.272\" x2=\"72.6863\" y2=\"310.272\" style=\"stroke:#000000; stroke-opacity:1\"/>\n",
       "<line clip-path=\"url(#clip7202)\" x1=\"82.6863\" y1=\"298.791\" x2=\"72.6863\" y2=\"298.791\" style=\"stroke:#000000; stroke-opacity:1\"/>\n",
       "<line clip-path=\"url(#clip7202)\" x1=\"95.1914\" y1=\"267.648\" x2=\"85.1914\" y2=\"267.648\" style=\"stroke:#000000; stroke-opacity:1\"/>\n",
       "<line clip-path=\"url(#clip7202)\" x1=\"95.1914\" y1=\"253.19\" x2=\"85.1914\" y2=\"253.19\" style=\"stroke:#000000; stroke-opacity:1\"/>\n",
       "<line clip-path=\"url(#clip7202)\" x1=\"120.202\" y1=\"198.493\" x2=\"110.202\" y2=\"198.493\" style=\"stroke:#000000; stroke-opacity:1\"/>\n",
       "<line clip-path=\"url(#clip7202)\" x1=\"120.202\" y1=\"182.109\" x2=\"110.202\" y2=\"182.109\" style=\"stroke:#000000; stroke-opacity:1\"/>\n",
       "<line clip-path=\"url(#clip7202)\" x1=\"195.232\" y1=\"96.5005\" x2=\"185.232\" y2=\"96.5005\" style=\"stroke:#000000; stroke-opacity:1\"/>\n",
       "<line clip-path=\"url(#clip7202)\" x1=\"195.232\" y1=\"81.7522\" x2=\"185.232\" y2=\"81.7522\" style=\"stroke:#000000; stroke-opacity:1\"/>\n",
       "<line clip-path=\"url(#clip7202)\" x1=\"320.283\" y1=\"80.9658\" x2=\"310.283\" y2=\"80.9658\" style=\"stroke:#000000; stroke-opacity:1\"/>\n",
       "<line clip-path=\"url(#clip7202)\" x1=\"320.283\" y1=\"66.9444\" x2=\"310.283\" y2=\"66.9444\" style=\"stroke:#000000; stroke-opacity:1\"/>\n",
       "<line clip-path=\"url(#clip7202)\" x1=\"445.333\" y1=\"58.0608\" x2=\"435.333\" y2=\"58.0608\" style=\"stroke:#000000; stroke-opacity:1\"/>\n",
       "<line clip-path=\"url(#clip7202)\" x1=\"445.333\" y1=\"45.3262\" x2=\"435.333\" y2=\"45.3262\" style=\"stroke:#000000; stroke-opacity:1\"/>\n",
       "<line clip-path=\"url(#clip7202)\" x1=\"570.384\" y1=\"53.1932\" x2=\"560.384\" y2=\"53.1932\" style=\"stroke:#000000; stroke-opacity:1\"/>\n",
       "<line clip-path=\"url(#clip7202)\" x1=\"570.384\" y1=\"40.7968\" x2=\"560.384\" y2=\"40.7968\" style=\"stroke:#000000; stroke-opacity:1\"/>\n",
       "<polygon clip-path=\"url(#clip7200)\" points=\"\n",
       "440.126,324.121 562.315,324.121 562.315,293.881 440.126,293.881 \n",
       "  \" fill=\"#ffffff\" fill-opacity=\"1\"/>\n",
       "<polyline clip-path=\"url(#clip7200)\" style=\"stroke:#000000; stroke-width:1; stroke-opacity:1; fill:none\" points=\"\n",
       "  440.126,324.121 562.315,324.121 562.315,293.881 440.126,293.881 440.126,324.121 \n",
       "  \"/>\n",
       "<polyline clip-path=\"url(#clip7200)\" style=\"stroke:#009af9; stroke-width:1; stroke-opacity:1; fill:none\" points=\"\n",
       "  446.126,309.001 482.126,309.001 \n",
       "  \"/>\n",
       "<g clip-path=\"url(#clip7200)\">\n",
       "<text style=\"fill:#000000; fill-opacity:1; font-family:Arial,Helvetica Neue,Helvetica,sans-serif; font-size:12; text-anchor:start;\" transform=\"rotate(0, 488.126, 313.501)\" x=\"488.126\" y=\"313.501\">DPWBandit</text>\n",
       "</g>\n",
       "</svg>\n"
      ]
     },
     "execution_count": 6,
     "metadata": {},
     "output_type": "execute_result"
    }
   ],
   "source": [
    "plot(result)"
   ]
  },
  {
   "cell_type": "code",
   "execution_count": null,
   "metadata": {},
   "outputs": [],
   "source": []
  }
 ],
 "metadata": {
  "kernelspec": {
   "display_name": "Julia 0.6.2",
   "language": "julia",
   "name": "julia-0.6"
  },
  "language_info": {
   "file_extension": ".jl",
   "mimetype": "application/julia",
   "name": "julia",
   "version": "0.6.2"
  }
 },
 "nbformat": 4,
 "nbformat_minor": 2
}
